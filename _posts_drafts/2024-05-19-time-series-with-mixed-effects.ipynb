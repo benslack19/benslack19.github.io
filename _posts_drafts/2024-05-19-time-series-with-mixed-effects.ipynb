{
 "cells": [
  {
   "cell_type": "markdown",
   "metadata": {},
   "source": [
    "\n",
    "---\n",
    "title: \"Time series with mixed effects model\"\n",
    "mathjax: true\n",
    "toc: true\n",
    "toc_sticky: true\n",
    "categories: [data science, statistics]\n",
    "---\n",
    "\n",
    "I've done time-series data with time-to-event models. I'm into mixed effects models. Let's see how we can use correlated data."
   ]
  },
  {
   "cell_type": "code",
   "execution_count": 1,
   "metadata": {},
   "outputs": [
    {
     "ename": "KeyboardInterrupt",
     "evalue": "",
     "output_type": "error",
     "traceback": [
      "\u001b[0;31m---------------------------------------------------------------------------\u001b[0m",
      "\u001b[0;31mNoSectionError\u001b[0m                            Traceback (most recent call last)",
      "File \u001b[0;32m~/opt/anaconda3/envs/pymc_env_2402/lib/python3.11/site-packages/pytensor/configparser.py:202\u001b[0m, in \u001b[0;36mPyTensorConfigParser.fetch_val_for_key\u001b[0;34m(self, key, delete_key)\u001b[0m\n\u001b[1;32m    201\u001b[0m \u001b[38;5;28;01mtry\u001b[39;00m:\n\u001b[0;32m--> 202\u001b[0m     \u001b[38;5;28;01mreturn\u001b[39;00m \u001b[38;5;28;43mself\u001b[39;49m\u001b[38;5;241;43m.\u001b[39;49m\u001b[43m_pytensor_cfg\u001b[49m\u001b[38;5;241;43m.\u001b[39;49m\u001b[43mget\u001b[49m\u001b[43m(\u001b[49m\u001b[43msection\u001b[49m\u001b[43m,\u001b[49m\u001b[43m \u001b[49m\u001b[43moption\u001b[49m\u001b[43m)\u001b[49m\n\u001b[1;32m    203\u001b[0m \u001b[38;5;28;01mexcept\u001b[39;00m InterpolationError:\n",
      "File \u001b[0;32m~/opt/anaconda3/envs/pymc_env_2402/lib/python3.11/configparser.py:797\u001b[0m, in \u001b[0;36mRawConfigParser.get\u001b[0;34m(self, section, option, raw, vars, fallback)\u001b[0m\n\u001b[1;32m    796\u001b[0m \u001b[38;5;28;01mtry\u001b[39;00m:\n\u001b[0;32m--> 797\u001b[0m     d \u001b[38;5;241m=\u001b[39m \u001b[38;5;28;43mself\u001b[39;49m\u001b[38;5;241;43m.\u001b[39;49m\u001b[43m_unify_values\u001b[49m\u001b[43m(\u001b[49m\u001b[43msection\u001b[49m\u001b[43m,\u001b[49m\u001b[43m \u001b[49m\u001b[38;5;28;43mvars\u001b[39;49m\u001b[43m)\u001b[49m\n\u001b[1;32m    798\u001b[0m \u001b[38;5;28;01mexcept\u001b[39;00m NoSectionError:\n",
      "File \u001b[0;32m~/opt/anaconda3/envs/pymc_env_2402/lib/python3.11/configparser.py:1168\u001b[0m, in \u001b[0;36mRawConfigParser._unify_values\u001b[0;34m(self, section, vars)\u001b[0m\n\u001b[1;32m   1167\u001b[0m     \u001b[38;5;28;01mif\u001b[39;00m section \u001b[38;5;241m!=\u001b[39m \u001b[38;5;28mself\u001b[39m\u001b[38;5;241m.\u001b[39mdefault_section:\n\u001b[0;32m-> 1168\u001b[0m         \u001b[38;5;28;01mraise\u001b[39;00m NoSectionError(section) \u001b[38;5;28;01mfrom\u001b[39;00m \u001b[38;5;28;01mNone\u001b[39;00m\n\u001b[1;32m   1169\u001b[0m \u001b[38;5;66;03m# Update with the entry specific variables\u001b[39;00m\n",
      "\u001b[0;31mNoSectionError\u001b[0m: No section: 'blas'",
      "\nDuring handling of the above exception, another exception occurred:\n",
      "\u001b[0;31mKeyError\u001b[0m                                  Traceback (most recent call last)",
      "File \u001b[0;32m~/opt/anaconda3/envs/pymc_env_2402/lib/python3.11/site-packages/pytensor/configparser.py:318\u001b[0m, in \u001b[0;36mConfigParam.__get__\u001b[0;34m(self, cls, type_, delete_key)\u001b[0m\n\u001b[1;32m    317\u001b[0m \u001b[38;5;28;01mtry\u001b[39;00m:\n\u001b[0;32m--> 318\u001b[0m     val_str \u001b[38;5;241m=\u001b[39m \u001b[38;5;28;43mcls\u001b[39;49m\u001b[38;5;241;43m.\u001b[39;49m\u001b[43mfetch_val_for_key\u001b[49m\u001b[43m(\u001b[49m\u001b[38;5;28;43mself\u001b[39;49m\u001b[38;5;241;43m.\u001b[39;49m\u001b[43mname\u001b[49m\u001b[43m,\u001b[49m\u001b[43m \u001b[49m\u001b[43mdelete_key\u001b[49m\u001b[38;5;241;43m=\u001b[39;49m\u001b[43mdelete_key\u001b[49m\u001b[43m)\u001b[49m\n\u001b[1;32m    319\u001b[0m     \u001b[38;5;28mself\u001b[39m\u001b[38;5;241m.\u001b[39mis_default \u001b[38;5;241m=\u001b[39m \u001b[38;5;28;01mFalse\u001b[39;00m\n",
      "File \u001b[0;32m~/opt/anaconda3/envs/pymc_env_2402/lib/python3.11/site-packages/pytensor/configparser.py:206\u001b[0m, in \u001b[0;36mPyTensorConfigParser.fetch_val_for_key\u001b[0;34m(self, key, delete_key)\u001b[0m\n\u001b[1;32m    205\u001b[0m \u001b[38;5;28;01mexcept\u001b[39;00m (NoOptionError, NoSectionError):\n\u001b[0;32m--> 206\u001b[0m     \u001b[38;5;28;01mraise\u001b[39;00m \u001b[38;5;167;01mKeyError\u001b[39;00m(key)\n",
      "\u001b[0;31mKeyError\u001b[0m: 'blas__ldflags'",
      "\nDuring handling of the above exception, another exception occurred:\n",
      "\u001b[0;31mKeyboardInterrupt\u001b[0m                         Traceback (most recent call last)",
      "Cell \u001b[0;32mIn[1], line 6\u001b[0m\n\u001b[1;32m      4\u001b[0m \u001b[38;5;28;01mimport\u001b[39;00m \u001b[38;5;21;01mnumpy\u001b[39;00m \u001b[38;5;28;01mas\u001b[39;00m \u001b[38;5;21;01mnp\u001b[39;00m\n\u001b[1;32m      5\u001b[0m \u001b[38;5;28;01mimport\u001b[39;00m \u001b[38;5;21;01mpandas\u001b[39;00m \u001b[38;5;28;01mas\u001b[39;00m \u001b[38;5;21;01mpd\u001b[39;00m\n\u001b[0;32m----> 6\u001b[0m \u001b[38;5;28;01mimport\u001b[39;00m \u001b[38;5;21;01mpymc\u001b[39;00m \u001b[38;5;28;01mas\u001b[39;00m \u001b[38;5;21;01mpm\u001b[39;00m\n\u001b[1;32m      7\u001b[0m \u001b[38;5;28;01mfrom\u001b[39;00m \u001b[38;5;21;01mscipy\u001b[39;00m \u001b[38;5;28;01mimport\u001b[39;00m stats\n\u001b[1;32m      8\u001b[0m \u001b[38;5;28;01mimport\u001b[39;00m \u001b[38;5;21;01mseaborn\u001b[39;00m \u001b[38;5;28;01mas\u001b[39;00m \u001b[38;5;21;01msns\u001b[39;00m\n",
      "File \u001b[0;32m~/opt/anaconda3/envs/pymc_env_2402/lib/python3.11/site-packages/pymc/__init__.py:47\u001b[0m\n\u001b[1;32m     42\u001b[0m     augmented \u001b[38;5;241m=\u001b[39m \u001b[38;5;124mf\u001b[39m\u001b[38;5;124m\"\u001b[39m\u001b[38;5;132;01m{\u001b[39;00maugmented\u001b[38;5;132;01m}\u001b[39;00m\u001b[38;5;124m -fno-unwind-tables -fno-asynchronous-unwind-tables\u001b[39m\u001b[38;5;124m\"\u001b[39m\n\u001b[1;32m     44\u001b[0m     pytensor\u001b[38;5;241m.\u001b[39mconfig\u001b[38;5;241m.\u001b[39mgcc__cxxflags \u001b[38;5;241m=\u001b[39m augmented\n\u001b[0;32m---> 47\u001b[0m \u001b[43m__set_compiler_flags\u001b[49m\u001b[43m(\u001b[49m\u001b[43m)\u001b[49m\n\u001b[1;32m     49\u001b[0m \u001b[38;5;28;01mfrom\u001b[39;00m \u001b[38;5;21;01mpymc\u001b[39;00m \u001b[38;5;28;01mimport\u001b[39;00m _version, gp, ode, sampling\n\u001b[1;32m     50\u001b[0m \u001b[38;5;28;01mfrom\u001b[39;00m \u001b[38;5;21;01mpymc\u001b[39;00m\u001b[38;5;21;01m.\u001b[39;00m\u001b[38;5;21;01mbackends\u001b[39;00m \u001b[38;5;28;01mimport\u001b[39;00m \u001b[38;5;241m*\u001b[39m\n",
      "File \u001b[0;32m~/opt/anaconda3/envs/pymc_env_2402/lib/python3.11/site-packages/pymc/__init__.py:30\u001b[0m, in \u001b[0;36m__set_compiler_flags\u001b[0;34m()\u001b[0m\n\u001b[1;32m     28\u001b[0m \u001b[38;5;28;01mdef\u001b[39;00m \u001b[38;5;21m__set_compiler_flags\u001b[39m():\n\u001b[1;32m     29\u001b[0m     \u001b[38;5;66;03m# Workarounds for PyTensor compiler problems on various platforms\u001b[39;00m\n\u001b[0;32m---> 30\u001b[0m     \u001b[38;5;28;01mimport\u001b[39;00m \u001b[38;5;21;01mpytensor\u001b[39;00m\n\u001b[1;32m     32\u001b[0m     current \u001b[38;5;241m=\u001b[39m pytensor\u001b[38;5;241m.\u001b[39mconfig\u001b[38;5;241m.\u001b[39mgcc__cxxflags\n\u001b[1;32m     33\u001b[0m     augmented \u001b[38;5;241m=\u001b[39m \u001b[38;5;124mf\u001b[39m\u001b[38;5;124m\"\u001b[39m\u001b[38;5;132;01m{\u001b[39;00mcurrent\u001b[38;5;132;01m}\u001b[39;00m\u001b[38;5;124m -Wno-c++11-narrowing\u001b[39m\u001b[38;5;124m\"\u001b[39m\n",
      "File \u001b[0;32m~/opt/anaconda3/envs/pymc_env_2402/lib/python3.11/site-packages/pytensor/__init__.py:119\u001b[0m\n\u001b[1;32m    115\u001b[0m     \u001b[38;5;28;01mreturn\u001b[39;00m as_tensor_variable(x, \u001b[38;5;241m*\u001b[39m\u001b[38;5;241m*\u001b[39mkwargs)\n\u001b[1;32m    118\u001b[0m \u001b[38;5;66;03m# isort: off\u001b[39;00m\n\u001b[0;32m--> 119\u001b[0m \u001b[38;5;28;01mfrom\u001b[39;00m \u001b[38;5;21;01mpytensor\u001b[39;00m \u001b[38;5;28;01mimport\u001b[39;00m scalar, tensor\n\u001b[1;32m    120\u001b[0m \u001b[38;5;28;01mfrom\u001b[39;00m \u001b[38;5;21;01mpytensor\u001b[39;00m\u001b[38;5;21;01m.\u001b[39;00m\u001b[38;5;21;01mcompile\u001b[39;00m \u001b[38;5;28;01mimport\u001b[39;00m (\n\u001b[1;32m    121\u001b[0m     In,\n\u001b[1;32m    122\u001b[0m     Mode,\n\u001b[0;32m   (...)\u001b[0m\n\u001b[1;32m    128\u001b[0m     shared,\n\u001b[1;32m    129\u001b[0m )\n\u001b[1;32m    130\u001b[0m \u001b[38;5;28;01mfrom\u001b[39;00m \u001b[38;5;21;01mpytensor\u001b[39;00m\u001b[38;5;21;01m.\u001b[39;00m\u001b[38;5;21;01mcompile\u001b[39;00m\u001b[38;5;21;01m.\u001b[39;00m\u001b[38;5;21;01mfunction\u001b[39;00m \u001b[38;5;28;01mimport\u001b[39;00m function, function_dump\n",
      "File \u001b[0;32m~/opt/anaconda3/envs/pymc_env_2402/lib/python3.11/site-packages/pytensor/tensor/__init__.py:107\u001b[0m\n\u001b[1;32m    105\u001b[0m \u001b[38;5;66;03m# adds shared-variable constructors\u001b[39;00m\n\u001b[1;32m    106\u001b[0m \u001b[38;5;28;01mfrom\u001b[39;00m \u001b[38;5;21;01mpytensor\u001b[39;00m\u001b[38;5;21;01m.\u001b[39;00m\u001b[38;5;21;01mtensor\u001b[39;00m \u001b[38;5;28;01mimport\u001b[39;00m sharedvar  \u001b[38;5;66;03m# noqa\u001b[39;00m\n\u001b[0;32m--> 107\u001b[0m \u001b[38;5;28;01mfrom\u001b[39;00m \u001b[38;5;21;01mpytensor\u001b[39;00m\u001b[38;5;21;01m.\u001b[39;00m\u001b[38;5;21;01mtensor\u001b[39;00m \u001b[38;5;28;01mimport\u001b[39;00m (  \u001b[38;5;66;03m# noqa\u001b[39;00m\n\u001b[1;32m    108\u001b[0m     blas,\n\u001b[1;32m    109\u001b[0m     blas_c,\n\u001b[1;32m    110\u001b[0m     blas_scipy,\n\u001b[1;32m    111\u001b[0m     xlogx,\n\u001b[1;32m    112\u001b[0m )\n\u001b[1;32m    113\u001b[0m \u001b[38;5;28;01mimport\u001b[39;00m \u001b[38;5;21;01mpytensor\u001b[39;00m\u001b[38;5;21;01m.\u001b[39;00m\u001b[38;5;21;01mtensor\u001b[39;00m\u001b[38;5;21;01m.\u001b[39;00m\u001b[38;5;21;01mrewriting\u001b[39;00m\n\u001b[1;32m    116\u001b[0m \u001b[38;5;66;03m# isort: off\u001b[39;00m\n",
      "File \u001b[0;32m~/opt/anaconda3/envs/pymc_env_2402/lib/python3.11/site-packages/pytensor/tensor/blas.py:102\u001b[0m\n\u001b[1;32m    100\u001b[0m \u001b[38;5;28;01mfrom\u001b[39;00m \u001b[38;5;21;01mpytensor\u001b[39;00m\u001b[38;5;21;01m.\u001b[39;00m\u001b[38;5;21;01mtensor\u001b[39;00m \u001b[38;5;28;01mimport\u001b[39;00m basic \u001b[38;5;28;01mas\u001b[39;00m ptb\n\u001b[1;32m    101\u001b[0m \u001b[38;5;28;01mfrom\u001b[39;00m \u001b[38;5;21;01mpytensor\u001b[39;00m\u001b[38;5;21;01m.\u001b[39;00m\u001b[38;5;21;01mtensor\u001b[39;00m\u001b[38;5;21;01m.\u001b[39;00m\u001b[38;5;21;01mbasic\u001b[39;00m \u001b[38;5;28;01mimport\u001b[39;00m expand_dims\n\u001b[0;32m--> 102\u001b[0m \u001b[38;5;28;01mfrom\u001b[39;00m \u001b[38;5;21;01mpytensor\u001b[39;00m\u001b[38;5;21;01m.\u001b[39;00m\u001b[38;5;21;01mtensor\u001b[39;00m\u001b[38;5;21;01m.\u001b[39;00m\u001b[38;5;21;01mblas_headers\u001b[39;00m \u001b[38;5;28;01mimport\u001b[39;00m blas_header_text, blas_header_version\n\u001b[1;32m    103\u001b[0m \u001b[38;5;28;01mfrom\u001b[39;00m \u001b[38;5;21;01mpytensor\u001b[39;00m\u001b[38;5;21;01m.\u001b[39;00m\u001b[38;5;21;01mtensor\u001b[39;00m\u001b[38;5;21;01m.\u001b[39;00m\u001b[38;5;21;01melemwise\u001b[39;00m \u001b[38;5;28;01mimport\u001b[39;00m DimShuffle\n\u001b[1;32m    104\u001b[0m \u001b[38;5;28;01mfrom\u001b[39;00m \u001b[38;5;21;01mpytensor\u001b[39;00m\u001b[38;5;21;01m.\u001b[39;00m\u001b[38;5;21;01mtensor\u001b[39;00m\u001b[38;5;21;01m.\u001b[39;00m\u001b[38;5;21;01mmath\u001b[39;00m \u001b[38;5;28;01mimport\u001b[39;00m add, mul, neg, sub\n",
      "File \u001b[0;32m~/opt/anaconda3/envs/pymc_env_2402/lib/python3.11/site-packages/pytensor/tensor/blas_headers.py:1015\u001b[0m\n\u001b[1;32m    997\u001b[0m             header \u001b[38;5;241m+\u001b[39m\u001b[38;5;241m=\u001b[39m textwrap\u001b[38;5;241m.\u001b[39mdedent(\n\u001b[1;32m    998\u001b[0m \u001b[38;5;250m                \u001b[39m\u001b[38;5;124;03m\"\"\"\\\u001b[39;00m\n\u001b[1;32m    999\u001b[0m \u001b[38;5;124;03m                    static float sdot_(int* Nx, float* x, int* Sx, float* y, int* Sy)\u001b[39;00m\n\u001b[0;32m   (...)\u001b[0m\n\u001b[1;32m   1009\u001b[0m \u001b[38;5;124;03m                    \"\"\"\u001b[39;00m\n\u001b[1;32m   1010\u001b[0m             )\n\u001b[1;32m   1012\u001b[0m     \u001b[38;5;28;01mreturn\u001b[39;00m header \u001b[38;5;241m+\u001b[39m blas_code\n\u001b[0;32m-> 1015\u001b[0m \u001b[38;5;28;01mif\u001b[39;00m \u001b[38;5;129;01mnot\u001b[39;00m \u001b[43mconfig\u001b[49m\u001b[38;5;241;43m.\u001b[39;49m\u001b[43mblas__ldflags\u001b[49m:\n\u001b[1;32m   1016\u001b[0m     _logger\u001b[38;5;241m.\u001b[39mwarning(\u001b[38;5;124m\"\u001b[39m\u001b[38;5;124mUsing NumPy C-API based implementation for BLAS functions.\u001b[39m\u001b[38;5;124m\"\u001b[39m)\n\u001b[1;32m   1019\u001b[0m \u001b[38;5;28;01mdef\u001b[39;00m \u001b[38;5;21mmkl_threads_text\u001b[39m():\n",
      "File \u001b[0;32m~/opt/anaconda3/envs/pymc_env_2402/lib/python3.11/site-packages/pytensor/configparser.py:322\u001b[0m, in \u001b[0;36mConfigParam.__get__\u001b[0;34m(self, cls, type_, delete_key)\u001b[0m\n\u001b[1;32m    320\u001b[0m \u001b[38;5;28;01mexcept\u001b[39;00m \u001b[38;5;167;01mKeyError\u001b[39;00m:\n\u001b[1;32m    321\u001b[0m     \u001b[38;5;28;01mif\u001b[39;00m \u001b[38;5;28mcallable\u001b[39m(\u001b[38;5;28mself\u001b[39m\u001b[38;5;241m.\u001b[39mdefault):\n\u001b[0;32m--> 322\u001b[0m         val_str \u001b[38;5;241m=\u001b[39m \u001b[38;5;28;43mself\u001b[39;49m\u001b[38;5;241;43m.\u001b[39;49m\u001b[43mdefault\u001b[49m\u001b[43m(\u001b[49m\u001b[43m)\u001b[49m\n\u001b[1;32m    323\u001b[0m     \u001b[38;5;28;01melse\u001b[39;00m:\n\u001b[1;32m    324\u001b[0m         val_str \u001b[38;5;241m=\u001b[39m \u001b[38;5;28mself\u001b[39m\u001b[38;5;241m.\u001b[39mdefault\n",
      "File \u001b[0;32m~/opt/anaconda3/envs/pymc_env_2402/lib/python3.11/site-packages/pytensor/link/c/cmodule.py:2861\u001b[0m, in \u001b[0;36mdefault_blas_ldflags\u001b[0;34m()\u001b[0m\n\u001b[1;32m   2859\u001b[0m     _logger\u001b[38;5;241m.\u001b[39mdebug(\u001b[38;5;124m\"\u001b[39m\u001b[38;5;124mChecking Lapack + blas\u001b[39m\u001b[38;5;124m\"\u001b[39m)\n\u001b[1;32m   2860\u001b[0m     \u001b[38;5;66;03m# 3. Try to use LAPACK + BLAS\u001b[39;00m\n\u001b[0;32m-> 2861\u001b[0m     \u001b[38;5;28;01mreturn\u001b[39;00m \u001b[43mcheck_libs\u001b[49m\u001b[43m(\u001b[49m\n\u001b[1;32m   2862\u001b[0m \u001b[43m        \u001b[49m\u001b[43mall_libs\u001b[49m\u001b[43m,\u001b[49m\n\u001b[1;32m   2863\u001b[0m \u001b[43m        \u001b[49m\u001b[43mrequired_libs\u001b[49m\u001b[38;5;241;43m=\u001b[39;49m\u001b[43m[\u001b[49m\u001b[38;5;124;43m\"\u001b[39;49m\u001b[38;5;124;43mlapack\u001b[39;49m\u001b[38;5;124;43m\"\u001b[39;49m\u001b[43m,\u001b[49m\u001b[43m \u001b[49m\u001b[38;5;124;43m\"\u001b[39;49m\u001b[38;5;124;43mblas\u001b[39;49m\u001b[38;5;124;43m\"\u001b[39;49m\u001b[43m,\u001b[49m\u001b[43m \u001b[49m\u001b[38;5;124;43m\"\u001b[39;49m\u001b[38;5;124;43mcblas\u001b[39;49m\u001b[38;5;124;43m\"\u001b[39;49m\u001b[43m,\u001b[49m\u001b[43m \u001b[49m\u001b[38;5;124;43m\"\u001b[39;49m\u001b[38;5;124;43mm\u001b[39;49m\u001b[38;5;124;43m\"\u001b[39;49m\u001b[43m]\u001b[49m\u001b[43m,\u001b[49m\n\u001b[1;32m   2864\u001b[0m \u001b[43m        \u001b[49m\u001b[43mextra_compile_flags\u001b[49m\u001b[38;5;241;43m=\u001b[39;49m\u001b[43m[\u001b[49m\u001b[38;5;124;43mf\u001b[39;49m\u001b[38;5;124;43m\"\u001b[39;49m\u001b[38;5;124;43m-Wl,-rpath,\u001b[39;49m\u001b[38;5;132;43;01m{\u001b[39;49;00m\u001b[43mrpath\u001b[49m\u001b[38;5;132;43;01m}\u001b[39;49;00m\u001b[38;5;124;43m\"\u001b[39;49m\u001b[43m]\u001b[49m\u001b[43m \u001b[49m\u001b[38;5;28;43;01mif\u001b[39;49;00m\u001b[43m \u001b[49m\u001b[43mrpath\u001b[49m\u001b[43m \u001b[49m\u001b[38;5;129;43;01mis\u001b[39;49;00m\u001b[43m \u001b[49m\u001b[38;5;129;43;01mnot\u001b[39;49;00m\u001b[43m \u001b[49m\u001b[38;5;28;43;01mNone\u001b[39;49;00m\u001b[43m \u001b[49m\u001b[38;5;28;43;01melse\u001b[39;49;00m\u001b[43m \u001b[49m\u001b[43m[\u001b[49m\u001b[43m]\u001b[49m\u001b[43m,\u001b[49m\n\u001b[1;32m   2865\u001b[0m \u001b[43m        \u001b[49m\u001b[43mcxx_library_dirs\u001b[49m\u001b[38;5;241;43m=\u001b[39;49m\u001b[43mcxx_library_dirs\u001b[49m\u001b[43m,\u001b[49m\n\u001b[1;32m   2866\u001b[0m \u001b[43m    \u001b[49m\u001b[43m)\u001b[49m\n\u001b[1;32m   2867\u001b[0m \u001b[38;5;28;01mexcept\u001b[39;00m \u001b[38;5;167;01mException\u001b[39;00m \u001b[38;5;28;01mas\u001b[39;00m e:\n\u001b[1;32m   2868\u001b[0m     _logger\u001b[38;5;241m.\u001b[39mdebug(e)\n",
      "File \u001b[0;32m~/opt/anaconda3/envs/pymc_env_2402/lib/python3.11/site-packages/pytensor/link/c/cmodule.py:2780\u001b[0m, in \u001b[0;36mdefault_blas_ldflags.<locals>.check_libs\u001b[0;34m(all_libs, required_libs, extra_compile_flags, cxx_library_dirs)\u001b[0m\n\u001b[1;32m   2765\u001b[0m libdir_ldflags \u001b[38;5;241m=\u001b[39m \u001b[38;5;28mlist\u001b[39m(\n\u001b[1;32m   2766\u001b[0m     \u001b[38;5;28mdict\u001b[39m\u001b[38;5;241m.\u001b[39mfromkeys(\n\u001b[1;32m   2767\u001b[0m         [\n\u001b[0;32m   (...)\u001b[0m\n\u001b[1;32m   2772\u001b[0m     )\n\u001b[1;32m   2773\u001b[0m )\n\u001b[1;32m   2775\u001b[0m flags \u001b[38;5;241m=\u001b[39m (\n\u001b[1;32m   2776\u001b[0m     libdir_ldflags\n\u001b[1;32m   2777\u001b[0m     \u001b[38;5;241m+\u001b[39m [\u001b[38;5;124mf\u001b[39m\u001b[38;5;124m\"\u001b[39m\u001b[38;5;124m-l\u001b[39m\u001b[38;5;132;01m{\u001b[39;00mlib_name\u001b[38;5;132;01m}\u001b[39;00m\u001b[38;5;124m\"\u001b[39m \u001b[38;5;28;01mfor\u001b[39;00m _, lib_name \u001b[38;5;129;01min\u001b[39;00m found_libs]\n\u001b[1;32m   2778\u001b[0m     \u001b[38;5;241m+\u001b[39m extra_compile_flags\n\u001b[1;32m   2779\u001b[0m )\n\u001b[0;32m-> 2780\u001b[0m res \u001b[38;5;241m=\u001b[39m \u001b[43mtry_blas_flag\u001b[49m\u001b[43m(\u001b[49m\u001b[43mflags\u001b[49m\u001b[43m)\u001b[49m\n\u001b[1;32m   2781\u001b[0m \u001b[38;5;28;01mif\u001b[39;00m res:\n\u001b[1;32m   2782\u001b[0m     \u001b[38;5;28;01mif\u001b[39;00m \u001b[38;5;28many\u001b[39m(\u001b[38;5;124m\"\u001b[39m\u001b[38;5;124mmkl\u001b[39m\u001b[38;5;124m\"\u001b[39m \u001b[38;5;129;01min\u001b[39;00m flag \u001b[38;5;28;01mfor\u001b[39;00m flag \u001b[38;5;129;01min\u001b[39;00m flags):\n",
      "File \u001b[0;32m~/opt/anaconda3/envs/pymc_env_2402/lib/python3.11/site-packages/pytensor/link/c/cmodule.py:1997\u001b[0m, in \u001b[0;36mtry_blas_flag\u001b[0;34m(flags)\u001b[0m\n\u001b[1;32m   1994\u001b[0m path_wrapper \u001b[38;5;241m=\u001b[39m \u001b[38;5;124m'\u001b[39m\u001b[38;5;124m\"\u001b[39m\u001b[38;5;124m'\u001b[39m \u001b[38;5;28;01mif\u001b[39;00m os\u001b[38;5;241m.\u001b[39mname \u001b[38;5;241m==\u001b[39m \u001b[38;5;124m\"\u001b[39m\u001b[38;5;124mnt\u001b[39m\u001b[38;5;124m\"\u001b[39m \u001b[38;5;28;01melse\u001b[39;00m \u001b[38;5;124m\"\u001b[39m\u001b[38;5;124m\"\u001b[39m\n\u001b[1;32m   1995\u001b[0m cflags\u001b[38;5;241m.\u001b[39mextend([\u001b[38;5;124mf\u001b[39m\u001b[38;5;124m\"\u001b[39m\u001b[38;5;124m-L\u001b[39m\u001b[38;5;132;01m{\u001b[39;00mpath_wrapper\u001b[38;5;132;01m}\u001b[39;00m\u001b[38;5;132;01m{\u001b[39;00md\u001b[38;5;132;01m}\u001b[39;00m\u001b[38;5;132;01m{\u001b[39;00mpath_wrapper\u001b[38;5;132;01m}\u001b[39;00m\u001b[38;5;124m\"\u001b[39m \u001b[38;5;28;01mfor\u001b[39;00m d \u001b[38;5;129;01min\u001b[39;00m std_lib_dirs()])\n\u001b[0;32m-> 1997\u001b[0m res \u001b[38;5;241m=\u001b[39m \u001b[43mGCC_compiler\u001b[49m\u001b[38;5;241;43m.\u001b[39;49m\u001b[43mtry_compile_tmp\u001b[49m\u001b[43m(\u001b[49m\n\u001b[1;32m   1998\u001b[0m \u001b[43m    \u001b[49m\u001b[43mtest_code\u001b[49m\u001b[43m,\u001b[49m\u001b[43m \u001b[49m\u001b[43mtmp_prefix\u001b[49m\u001b[38;5;241;43m=\u001b[39;49m\u001b[38;5;124;43m\"\u001b[39;49m\u001b[38;5;124;43mtry_blas_\u001b[39;49m\u001b[38;5;124;43m\"\u001b[39;49m\u001b[43m,\u001b[49m\u001b[43m \u001b[49m\u001b[43mflags\u001b[49m\u001b[38;5;241;43m=\u001b[39;49m\u001b[43mcflags\u001b[49m\u001b[43m,\u001b[49m\u001b[43m \u001b[49m\u001b[43mtry_run\u001b[49m\u001b[38;5;241;43m=\u001b[39;49m\u001b[38;5;28;43;01mTrue\u001b[39;49;00m\n\u001b[1;32m   1999\u001b[0m \u001b[43m\u001b[49m\u001b[43m)\u001b[49m\n\u001b[1;32m   2000\u001b[0m \u001b[38;5;66;03m# res[0]: shows successful compilation\u001b[39;00m\n\u001b[1;32m   2001\u001b[0m \u001b[38;5;66;03m# res[1]: shows successful execution\u001b[39;00m\n\u001b[1;32m   2002\u001b[0m \u001b[38;5;28;01mif\u001b[39;00m res \u001b[38;5;129;01mand\u001b[39;00m res[\u001b[38;5;241m0\u001b[39m] \u001b[38;5;129;01mand\u001b[39;00m res[\u001b[38;5;241m1\u001b[39m]:\n",
      "File \u001b[0;32m~/opt/anaconda3/envs/pymc_env_2402/lib/python3.11/site-packages/pytensor/link/c/cmodule.py:2393\u001b[0m, in \u001b[0;36mGCC_compiler.try_compile_tmp\u001b[0;34m(cls, src_code, tmp_prefix, flags, try_run, output, comp_args)\u001b[0m\n\u001b[1;32m   2383\u001b[0m \u001b[38;5;129m@classmethod\u001b[39m\n\u001b[1;32m   2384\u001b[0m \u001b[38;5;28;01mdef\u001b[39;00m \u001b[38;5;21mtry_compile_tmp\u001b[39m(\n\u001b[1;32m   2385\u001b[0m     \u001b[38;5;28mcls\u001b[39m,\n\u001b[0;32m   (...)\u001b[0m\n\u001b[1;32m   2391\u001b[0m     comp_args\u001b[38;5;241m=\u001b[39m\u001b[38;5;28;01mTrue\u001b[39;00m,\n\u001b[1;32m   2392\u001b[0m ):\n\u001b[0;32m-> 2393\u001b[0m     \u001b[38;5;28;01mreturn\u001b[39;00m \u001b[38;5;28;43mcls\u001b[39;49m\u001b[38;5;241;43m.\u001b[39;49m\u001b[43m_try_compile_tmp\u001b[49m\u001b[43m(\u001b[49m\n\u001b[1;32m   2394\u001b[0m \u001b[43m        \u001b[49m\u001b[43msrc_code\u001b[49m\u001b[43m,\u001b[49m\n\u001b[1;32m   2395\u001b[0m \u001b[43m        \u001b[49m\u001b[43mtmp_prefix\u001b[49m\u001b[43m,\u001b[49m\n\u001b[1;32m   2396\u001b[0m \u001b[43m        \u001b[49m\u001b[38;5;28;43mcls\u001b[39;49m\u001b[38;5;241;43m.\u001b[39;49m\u001b[43mpatch_ldflags\u001b[49m\u001b[43m(\u001b[49m\u001b[43mflags\u001b[49m\u001b[43m)\u001b[49m\u001b[43m,\u001b[49m\n\u001b[1;32m   2397\u001b[0m \u001b[43m        \u001b[49m\u001b[43mtry_run\u001b[49m\u001b[43m,\u001b[49m\n\u001b[1;32m   2398\u001b[0m \u001b[43m        \u001b[49m\u001b[43moutput\u001b[49m\u001b[43m,\u001b[49m\n\u001b[1;32m   2399\u001b[0m \u001b[43m        \u001b[49m\u001b[43mconfig\u001b[49m\u001b[38;5;241;43m.\u001b[39;49m\u001b[43mcxx\u001b[49m\u001b[43m,\u001b[49m\n\u001b[1;32m   2400\u001b[0m \u001b[43m        \u001b[49m\u001b[43mcomp_args\u001b[49m\u001b[43m,\u001b[49m\n\u001b[1;32m   2401\u001b[0m \u001b[43m    \u001b[49m\u001b[43m)\u001b[49m\n",
      "File \u001b[0;32m~/opt/anaconda3/envs/pymc_env_2402/lib/python3.11/site-packages/pytensor/link/c/cmodule.py:1872\u001b[0m, in \u001b[0;36mCompiler._try_compile_tmp\u001b[0;34m(cls, src_code, tmp_prefix, flags, try_run, output, compiler, comp_args)\u001b[0m\n\u001b[1;32m   1870\u001b[0m \u001b[38;5;66;03m# Get compile arguments from compiler method if required\u001b[39;00m\n\u001b[1;32m   1871\u001b[0m \u001b[38;5;28;01mif\u001b[39;00m comp_args:\n\u001b[0;32m-> 1872\u001b[0m     args \u001b[38;5;241m=\u001b[39m \u001b[38;5;28;43mcls\u001b[39;49m\u001b[38;5;241;43m.\u001b[39;49m\u001b[43mcompile_args\u001b[49m\u001b[43m(\u001b[49m\u001b[43m)\u001b[49m\n\u001b[1;32m   1873\u001b[0m \u001b[38;5;28;01melse\u001b[39;00m:\n\u001b[1;32m   1874\u001b[0m     args \u001b[38;5;241m=\u001b[39m []\n",
      "File \u001b[0;32m~/opt/anaconda3/envs/pymc_env_2402/lib/python3.11/site-packages/pytensor/link/c/cmodule.py:2277\u001b[0m, in \u001b[0;36mGCC_compiler.compile_args\u001b[0;34m(march_flags)\u001b[0m\n\u001b[1;32m   2266\u001b[0m         _logger\u001b[38;5;241m.\u001b[39minfo(\n\u001b[1;32m   2267\u001b[0m             \u001b[38;5;124mf\u001b[39m\u001b[38;5;124m\"\u001b[39m\u001b[38;5;124mg++ -march=native equivalent flags: \u001b[39m\u001b[38;5;132;01m{\u001b[39;00mGCC_compiler\u001b[38;5;241m.\u001b[39mmarch_flags\u001b[38;5;132;01m}\u001b[39;00m\u001b[38;5;124m\"\u001b[39m\n\u001b[1;32m   2268\u001b[0m         )\n\u001b[1;32m   2270\u001b[0m \u001b[38;5;66;03m# Find working march flag:\u001b[39;00m\n\u001b[1;32m   2271\u001b[0m \u001b[38;5;66;03m#   -- if current GCC_compiler.march_flags works, we're done.\u001b[39;00m\n\u001b[1;32m   2272\u001b[0m \u001b[38;5;66;03m#   -- else replace -march and -mtune with ['core-i7-avx', 'core-i7', 'core2']\u001b[39;00m\n\u001b[1;32m   2273\u001b[0m \u001b[38;5;66;03m#      and retry with all other flags and arguments intact.\u001b[39;00m\n\u001b[1;32m   2274\u001b[0m \u001b[38;5;66;03m#   -- else remove all other flags and only try with -march = default + flags_to_try.\u001b[39;00m\n\u001b[1;32m   2275\u001b[0m \u001b[38;5;66;03m#   -- if none of that worked, set GCC_compiler.march_flags = [] (for x86).\u001b[39;00m\n\u001b[0;32m-> 2277\u001b[0m default_compilation_result, default_execution_result \u001b[38;5;241m=\u001b[39m \u001b[43mtry_march_flag\u001b[49m\u001b[43m(\u001b[49m\n\u001b[1;32m   2278\u001b[0m \u001b[43m    \u001b[49m\u001b[43mGCC_compiler\u001b[49m\u001b[38;5;241;43m.\u001b[39;49m\u001b[43mmarch_flags\u001b[49m\n\u001b[1;32m   2279\u001b[0m \u001b[43m\u001b[49m\u001b[43m)\u001b[49m\n\u001b[1;32m   2280\u001b[0m \u001b[38;5;28;01mif\u001b[39;00m \u001b[38;5;129;01mnot\u001b[39;00m default_compilation_result \u001b[38;5;129;01mor\u001b[39;00m \u001b[38;5;129;01mnot\u001b[39;00m default_execution_result:\n\u001b[1;32m   2281\u001b[0m     march_success \u001b[38;5;241m=\u001b[39m \u001b[38;5;28;01mFalse\u001b[39;00m\n",
      "File \u001b[0;32m~/opt/anaconda3/envs/pymc_env_2402/lib/python3.11/site-packages/pytensor/link/c/cmodule.py:2032\u001b[0m, in \u001b[0;36mtry_march_flag\u001b[0;34m(flags)\u001b[0m\n\u001b[1;32m   2013\u001b[0m test_code \u001b[38;5;241m=\u001b[39m textwrap\u001b[38;5;241m.\u001b[39mdedent(\n\u001b[1;32m   2014\u001b[0m \u001b[38;5;250m    \u001b[39m\u001b[38;5;124;03m\"\"\"\\\u001b[39;00m\n\u001b[1;32m   2015\u001b[0m \u001b[38;5;124;03m        #include <cmath>\u001b[39;00m\n\u001b[0;32m   (...)\u001b[0m\n\u001b[1;32m   2028\u001b[0m \u001b[38;5;124;03m        \"\"\"\u001b[39;00m\n\u001b[1;32m   2029\u001b[0m )\n\u001b[1;32m   2031\u001b[0m cflags \u001b[38;5;241m=\u001b[39m flags \u001b[38;5;241m+\u001b[39m [\u001b[38;5;124m\"\u001b[39m\u001b[38;5;124m-L\u001b[39m\u001b[38;5;124m\"\u001b[39m \u001b[38;5;241m+\u001b[39m d \u001b[38;5;28;01mfor\u001b[39;00m d \u001b[38;5;129;01min\u001b[39;00m std_lib_dirs()]\n\u001b[0;32m-> 2032\u001b[0m compilation_result, execution_result \u001b[38;5;241m=\u001b[39m \u001b[43mGCC_compiler\u001b[49m\u001b[38;5;241;43m.\u001b[39;49m\u001b[43mtry_compile_tmp\u001b[49m\u001b[43m(\u001b[49m\n\u001b[1;32m   2033\u001b[0m \u001b[43m    \u001b[49m\u001b[43mtest_code\u001b[49m\u001b[43m,\u001b[49m\u001b[43m \u001b[49m\u001b[43mtmp_prefix\u001b[49m\u001b[38;5;241;43m=\u001b[39;49m\u001b[38;5;124;43m\"\u001b[39;49m\u001b[38;5;124;43mtry_march_\u001b[39;49m\u001b[38;5;124;43m\"\u001b[39;49m\u001b[43m,\u001b[49m\u001b[43m \u001b[49m\u001b[43mflags\u001b[49m\u001b[38;5;241;43m=\u001b[39;49m\u001b[43mcflags\u001b[49m\u001b[43m,\u001b[49m\u001b[43m \u001b[49m\u001b[43mtry_run\u001b[49m\u001b[38;5;241;43m=\u001b[39;49m\u001b[38;5;28;43;01mTrue\u001b[39;49;00m\n\u001b[1;32m   2034\u001b[0m \u001b[43m\u001b[49m\u001b[43m)\u001b[49m\n\u001b[1;32m   2035\u001b[0m \u001b[38;5;28;01mreturn\u001b[39;00m compilation_result, execution_result\n",
      "File \u001b[0;32m~/opt/anaconda3/envs/pymc_env_2402/lib/python3.11/site-packages/pytensor/link/c/cmodule.py:2393\u001b[0m, in \u001b[0;36mGCC_compiler.try_compile_tmp\u001b[0;34m(cls, src_code, tmp_prefix, flags, try_run, output, comp_args)\u001b[0m\n\u001b[1;32m   2383\u001b[0m \u001b[38;5;129m@classmethod\u001b[39m\n\u001b[1;32m   2384\u001b[0m \u001b[38;5;28;01mdef\u001b[39;00m \u001b[38;5;21mtry_compile_tmp\u001b[39m(\n\u001b[1;32m   2385\u001b[0m     \u001b[38;5;28mcls\u001b[39m,\n\u001b[0;32m   (...)\u001b[0m\n\u001b[1;32m   2391\u001b[0m     comp_args\u001b[38;5;241m=\u001b[39m\u001b[38;5;28;01mTrue\u001b[39;00m,\n\u001b[1;32m   2392\u001b[0m ):\n\u001b[0;32m-> 2393\u001b[0m     \u001b[38;5;28;01mreturn\u001b[39;00m \u001b[38;5;28;43mcls\u001b[39;49m\u001b[38;5;241;43m.\u001b[39;49m\u001b[43m_try_compile_tmp\u001b[49m\u001b[43m(\u001b[49m\n\u001b[1;32m   2394\u001b[0m \u001b[43m        \u001b[49m\u001b[43msrc_code\u001b[49m\u001b[43m,\u001b[49m\n\u001b[1;32m   2395\u001b[0m \u001b[43m        \u001b[49m\u001b[43mtmp_prefix\u001b[49m\u001b[43m,\u001b[49m\n\u001b[1;32m   2396\u001b[0m \u001b[43m        \u001b[49m\u001b[38;5;28;43mcls\u001b[39;49m\u001b[38;5;241;43m.\u001b[39;49m\u001b[43mpatch_ldflags\u001b[49m\u001b[43m(\u001b[49m\u001b[43mflags\u001b[49m\u001b[43m)\u001b[49m\u001b[43m,\u001b[49m\n\u001b[1;32m   2397\u001b[0m \u001b[43m        \u001b[49m\u001b[43mtry_run\u001b[49m\u001b[43m,\u001b[49m\n\u001b[1;32m   2398\u001b[0m \u001b[43m        \u001b[49m\u001b[43moutput\u001b[49m\u001b[43m,\u001b[49m\n\u001b[1;32m   2399\u001b[0m \u001b[43m        \u001b[49m\u001b[43mconfig\u001b[49m\u001b[38;5;241;43m.\u001b[39;49m\u001b[43mcxx\u001b[49m\u001b[43m,\u001b[49m\n\u001b[1;32m   2400\u001b[0m \u001b[43m        \u001b[49m\u001b[43mcomp_args\u001b[49m\u001b[43m,\u001b[49m\n\u001b[1;32m   2401\u001b[0m \u001b[43m    \u001b[49m\u001b[43m)\u001b[49m\n",
      "File \u001b[0;32m~/opt/anaconda3/envs/pymc_env_2402/lib/python3.11/site-packages/pytensor/link/c/cmodule.py:1898\u001b[0m, in \u001b[0;36mCompiler._try_compile_tmp\u001b[0;34m(cls, src_code, tmp_prefix, flags, try_run, output, compiler, comp_args)\u001b[0m\n\u001b[1;32m   1896\u001b[0m         compilation_ok \u001b[38;5;241m=\u001b[39m \u001b[38;5;28;01mFalse\u001b[39;00m\n\u001b[1;32m   1897\u001b[0m     \u001b[38;5;28;01melif\u001b[39;00m try_run:\n\u001b[0;32m-> 1898\u001b[0m         out, err, p_ret \u001b[38;5;241m=\u001b[39m \u001b[43moutput_subprocess_Popen\u001b[49m\u001b[43m(\u001b[49m\u001b[43m[\u001b[49m\u001b[43mexe_path\u001b[49m\u001b[43m]\u001b[49m\u001b[43m)\u001b[49m\n\u001b[1;32m   1899\u001b[0m         run_ok \u001b[38;5;241m=\u001b[39m p_ret \u001b[38;5;241m==\u001b[39m \u001b[38;5;241m0\u001b[39m\n\u001b[1;32m   1900\u001b[0m \u001b[38;5;28;01mfinally\u001b[39;00m:\n",
      "File \u001b[0;32m~/opt/anaconda3/envs/pymc_env_2402/lib/python3.11/site-packages/pytensor/utils.py:212\u001b[0m, in \u001b[0;36moutput_subprocess_Popen\u001b[0;34m(command, **params)\u001b[0m\n\u001b[1;32m    209\u001b[0m p \u001b[38;5;241m=\u001b[39m subprocess_Popen(command, \u001b[38;5;241m*\u001b[39m\u001b[38;5;241m*\u001b[39mparams)\n\u001b[1;32m    210\u001b[0m \u001b[38;5;66;03m# we need to use communicate to make sure we don't deadlock around\u001b[39;00m\n\u001b[1;32m    211\u001b[0m \u001b[38;5;66;03m# the stdout/stderr pipe.\u001b[39;00m\n\u001b[0;32m--> 212\u001b[0m out \u001b[38;5;241m=\u001b[39m \u001b[43mp\u001b[49m\u001b[38;5;241;43m.\u001b[39;49m\u001b[43mcommunicate\u001b[49m\u001b[43m(\u001b[49m\u001b[43m)\u001b[49m\n\u001b[1;32m    213\u001b[0m \u001b[38;5;28;01mreturn\u001b[39;00m out \u001b[38;5;241m+\u001b[39m (p\u001b[38;5;241m.\u001b[39mreturncode,)\n",
      "File \u001b[0;32m~/opt/anaconda3/envs/pymc_env_2402/lib/python3.11/subprocess.py:1209\u001b[0m, in \u001b[0;36mPopen.communicate\u001b[0;34m(self, input, timeout)\u001b[0m\n\u001b[1;32m   1206\u001b[0m     endtime \u001b[38;5;241m=\u001b[39m \u001b[38;5;28;01mNone\u001b[39;00m\n\u001b[1;32m   1208\u001b[0m \u001b[38;5;28;01mtry\u001b[39;00m:\n\u001b[0;32m-> 1209\u001b[0m     stdout, stderr \u001b[38;5;241m=\u001b[39m \u001b[38;5;28;43mself\u001b[39;49m\u001b[38;5;241;43m.\u001b[39;49m\u001b[43m_communicate\u001b[49m\u001b[43m(\u001b[49m\u001b[38;5;28;43minput\u001b[39;49m\u001b[43m,\u001b[49m\u001b[43m \u001b[49m\u001b[43mendtime\u001b[49m\u001b[43m,\u001b[49m\u001b[43m \u001b[49m\u001b[43mtimeout\u001b[49m\u001b[43m)\u001b[49m\n\u001b[1;32m   1210\u001b[0m \u001b[38;5;28;01mexcept\u001b[39;00m \u001b[38;5;167;01mKeyboardInterrupt\u001b[39;00m:\n\u001b[1;32m   1211\u001b[0m     \u001b[38;5;66;03m# https://bugs.python.org/issue25942\u001b[39;00m\n\u001b[1;32m   1212\u001b[0m     \u001b[38;5;66;03m# See the detailed comment in .wait().\u001b[39;00m\n\u001b[1;32m   1213\u001b[0m     \u001b[38;5;28;01mif\u001b[39;00m timeout \u001b[38;5;129;01mis\u001b[39;00m \u001b[38;5;129;01mnot\u001b[39;00m \u001b[38;5;28;01mNone\u001b[39;00m:\n",
      "File \u001b[0;32m~/opt/anaconda3/envs/pymc_env_2402/lib/python3.11/subprocess.py:2108\u001b[0m, in \u001b[0;36mPopen._communicate\u001b[0;34m(self, input, endtime, orig_timeout)\u001b[0m\n\u001b[1;32m   2101\u001b[0m     \u001b[38;5;28mself\u001b[39m\u001b[38;5;241m.\u001b[39m_check_timeout(endtime, orig_timeout,\n\u001b[1;32m   2102\u001b[0m                         stdout, stderr,\n\u001b[1;32m   2103\u001b[0m                         skip_check_and_raise\u001b[38;5;241m=\u001b[39m\u001b[38;5;28;01mTrue\u001b[39;00m)\n\u001b[1;32m   2104\u001b[0m     \u001b[38;5;28;01mraise\u001b[39;00m \u001b[38;5;167;01mRuntimeError\u001b[39;00m(  \u001b[38;5;66;03m# Impossible :)\u001b[39;00m\n\u001b[1;32m   2105\u001b[0m         \u001b[38;5;124m'\u001b[39m\u001b[38;5;124m_check_timeout(..., skip_check_and_raise=True) \u001b[39m\u001b[38;5;124m'\u001b[39m\n\u001b[1;32m   2106\u001b[0m         \u001b[38;5;124m'\u001b[39m\u001b[38;5;124mfailed to raise TimeoutExpired.\u001b[39m\u001b[38;5;124m'\u001b[39m)\n\u001b[0;32m-> 2108\u001b[0m ready \u001b[38;5;241m=\u001b[39m \u001b[43mselector\u001b[49m\u001b[38;5;241;43m.\u001b[39;49m\u001b[43mselect\u001b[49m\u001b[43m(\u001b[49m\u001b[43mtimeout\u001b[49m\u001b[43m)\u001b[49m\n\u001b[1;32m   2109\u001b[0m \u001b[38;5;28mself\u001b[39m\u001b[38;5;241m.\u001b[39m_check_timeout(endtime, orig_timeout, stdout, stderr)\n\u001b[1;32m   2111\u001b[0m \u001b[38;5;66;03m# XXX Rewrite these to use non-blocking I/O on the file\u001b[39;00m\n\u001b[1;32m   2112\u001b[0m \u001b[38;5;66;03m# objects; they are no longer using C stdio!\u001b[39;00m\n",
      "File \u001b[0;32m~/opt/anaconda3/envs/pymc_env_2402/lib/python3.11/selectors.py:415\u001b[0m, in \u001b[0;36m_PollLikeSelector.select\u001b[0;34m(self, timeout)\u001b[0m\n\u001b[1;32m    413\u001b[0m ready \u001b[38;5;241m=\u001b[39m []\n\u001b[1;32m    414\u001b[0m \u001b[38;5;28;01mtry\u001b[39;00m:\n\u001b[0;32m--> 415\u001b[0m     fd_event_list \u001b[38;5;241m=\u001b[39m \u001b[38;5;28mself\u001b[39m\u001b[38;5;241m.\u001b[39m_selector\u001b[38;5;241m.\u001b[39mpoll(timeout)\n\u001b[1;32m    416\u001b[0m \u001b[38;5;28;01mexcept\u001b[39;00m \u001b[38;5;167;01mInterruptedError\u001b[39;00m:\n\u001b[1;32m    417\u001b[0m     \u001b[38;5;28;01mreturn\u001b[39;00m ready\n",
      "\u001b[0;31mKeyboardInterrupt\u001b[0m: "
     ]
    }
   ],
   "source": [
    "import arviz as az\n",
    "import graphviz as gr\n",
    "import matplotlib.pyplot as plt\n",
    "import numpy as np\n",
    "import pandas as pd\n",
    "import pymc as pm\n",
    "from scipy import stats\n",
    "import seaborn as sns\n",
    "import statsmodels.api as sm\n",
    "import statsmodels.formula.api as smf"
   ]
  },
  {
   "cell_type": "code",
   "execution_count": null,
   "metadata": {},
   "outputs": [],
   "source": [
    "def draw_causal_graph(\n",
    "    edge_list, node_props=None, edge_props=None, graph_direction=\"UD\"\n",
    "):\n",
    "    \"\"\"Utility to draw a causal (directed) graph\n",
    "    Taken from: https://github.com/dustinstansbury/statistical-rethinking-2023/blob/a0f4f2d15a06b33355cf3065597dcb43ef829991/utils.py#L52-L66\n",
    "\n",
    "    \"\"\"\n",
    "    g = gr.Digraph(graph_attr={\"rankdir\": graph_direction})\n",
    "\n",
    "    edge_props = {} if edge_props is None else edge_props\n",
    "    for e in edge_list:\n",
    "        props = edge_props[e] if e in edge_props else {}\n",
    "        g.edge(e[0], e[1], **props)\n",
    "\n",
    "    if node_props is not None:\n",
    "        for name, props in node_props.items():\n",
    "            g.node(name=name, **props)\n",
    "    return g"
   ]
  },
  {
   "cell_type": "code",
   "execution_count": 4,
   "metadata": {},
   "outputs": [
    {
     "data": {
      "text/html": [
       "<div>\n",
       "<style scoped>\n",
       "    .dataframe tbody tr th:only-of-type {\n",
       "        vertical-align: middle;\n",
       "    }\n",
       "\n",
       "    .dataframe tbody tr th {\n",
       "        vertical-align: top;\n",
       "    }\n",
       "\n",
       "    .dataframe thead th {\n",
       "        text-align: right;\n",
       "    }\n",
       "</style>\n",
       "<table border=\"1\" class=\"dataframe\">\n",
       "  <thead>\n",
       "    <tr style=\"text-align: right;\">\n",
       "      <th></th>\n",
       "      <th>patient_id</th>\n",
       "      <th>time</th>\n",
       "      <th>tumor_size</th>\n",
       "      <th>age</th>\n",
       "      <th>treatment</th>\n",
       "    </tr>\n",
       "  </thead>\n",
       "  <tbody>\n",
       "    <tr>\n",
       "      <th>0</th>\n",
       "      <td>0</td>\n",
       "      <td>0</td>\n",
       "      <td>51.739768</td>\n",
       "      <td>50</td>\n",
       "      <td>1</td>\n",
       "    </tr>\n",
       "    <tr>\n",
       "      <th>1</th>\n",
       "      <td>0</td>\n",
       "      <td>1</td>\n",
       "      <td>50.960318</td>\n",
       "      <td>50</td>\n",
       "      <td>1</td>\n",
       "    </tr>\n",
       "    <tr>\n",
       "      <th>2</th>\n",
       "      <td>0</td>\n",
       "      <td>2</td>\n",
       "      <td>49.224207</td>\n",
       "      <td>50</td>\n",
       "      <td>1</td>\n",
       "    </tr>\n",
       "    <tr>\n",
       "      <th>3</th>\n",
       "      <td>0</td>\n",
       "      <td>3</td>\n",
       "      <td>50.508084</td>\n",
       "      <td>50</td>\n",
       "      <td>1</td>\n",
       "    </tr>\n",
       "    <tr>\n",
       "      <th>4</th>\n",
       "      <td>0</td>\n",
       "      <td>4</td>\n",
       "      <td>48.743841</td>\n",
       "      <td>50</td>\n",
       "      <td>1</td>\n",
       "    </tr>\n",
       "  </tbody>\n",
       "</table>\n",
       "</div>"
      ],
      "text/plain": [
       "   patient_id  time  tumor_size  age  treatment\n",
       "0           0     0   51.739768   50          1\n",
       "1           0     1   50.960318   50          1\n",
       "2           0     2   49.224207   50          1\n",
       "3           0     3   50.508084   50          1\n",
       "4           0     4   48.743841   50          1"
      ]
     },
     "execution_count": 4,
     "metadata": {},
     "output_type": "execute_result"
    }
   ],
   "source": [
    "# Generate synthetic data (used ChatGPT)\n",
    "n_patients = 100\n",
    "n_timepoints = 5\n",
    "\n",
    "# Create patient IDs\n",
    "patient_ids = np.repeat(np.arange(n_patients), n_timepoints)\n",
    "\n",
    "# Create time points\n",
    "time = np.tile(np.arange(n_timepoints), n_patients)\n",
    "\n",
    "# Create patient-specific attributes (age and treatment)\n",
    "age = np.random.randint(40, 70, n_patients)\n",
    "treatment = np.random.binomial(1, 0.5, n_patients)\n",
    "\n",
    "# Repeat age and treatment to match the longitudinal measurements\n",
    "age_repeated = np.repeat(age, n_timepoints)\n",
    "treatment_repeated = np.repeat(treatment, n_timepoints)\n",
    "\n",
    "# Create tumor size with some randomness\n",
    "tumor_size = (\n",
    "    50\n",
    "    + 0.5 * time\n",
    "    + np.random.normal(0, 2, n_patients * n_timepoints)\n",
    "    - 0.3 * treatment_repeated\n",
    ")\n",
    "\n",
    "# Combine into a DataFrame\n",
    "df_data = pd.DataFrame(\n",
    "    {\n",
    "        \"patient_id\": patient_ids,\n",
    "        \"time\": time,\n",
    "        \"tumor_size\": tumor_size,\n",
    "        \"age\": age_repeated,\n",
    "        \"treatment\": treatment_repeated,\n",
    "    }\n",
    ")\n",
    "\n",
    "df_data.head()"
   ]
  },
  {
   "cell_type": "code",
   "execution_count": 5,
   "metadata": {},
   "outputs": [
    {
     "ename": "NameError",
     "evalue": "name 'draw_causal_graph' is not defined",
     "output_type": "error",
     "traceback": [
      "\u001b[0;31m---------------------------------------------------------------------------\u001b[0m",
      "\u001b[0;31mNameError\u001b[0m                                 Traceback (most recent call last)",
      "Cell \u001b[0;32mIn[5], line 2\u001b[0m\n\u001b[1;32m      1\u001b[0m \u001b[38;5;66;03m# how to represent patient_specific random effect?\u001b[39;00m\n\u001b[0;32m----> 2\u001b[0m \u001b[43mdraw_causal_graph\u001b[49m(\n\u001b[1;32m      3\u001b[0m     edge_list\u001b[38;5;241m=\u001b[39m[(\u001b[38;5;124m\"\u001b[39m\u001b[38;5;124mage\u001b[39m\u001b[38;5;124m\"\u001b[39m, \u001b[38;5;124m\"\u001b[39m\u001b[38;5;124mtumor\u001b[39m\u001b[38;5;124m\"\u001b[39m), (\u001b[38;5;124m\"\u001b[39m\u001b[38;5;124mtreatment\u001b[39m\u001b[38;5;124m\"\u001b[39m, \u001b[38;5;124m\"\u001b[39m\u001b[38;5;124mtumor\u001b[39m\u001b[38;5;124m\"\u001b[39m), (\u001b[38;5;124m\"\u001b[39m\u001b[38;5;124mtime\u001b[39m\u001b[38;5;124m\"\u001b[39m, \u001b[38;5;124m\"\u001b[39m\u001b[38;5;124mtumor\u001b[39m\u001b[38;5;124m\"\u001b[39m)],\n\u001b[1;32m      4\u001b[0m     graph_direction\u001b[38;5;241m=\u001b[39m\u001b[38;5;124m\"\u001b[39m\u001b[38;5;124mLR\u001b[39m\u001b[38;5;124m\"\u001b[39m,\n\u001b[1;32m      5\u001b[0m )\n",
      "\u001b[0;31mNameError\u001b[0m: name 'draw_causal_graph' is not defined"
     ]
    }
   ],
   "source": [
    "# how to represent patient_specific random effect?\n",
    "draw_causal_graph(\n",
    "    edge_list=[(\"age\", \"tumor\"), (\"treatment\", \"tumor\"), (\"time\", \"tumor\")],\n",
    "    graph_direction=\"LR\",\n",
    ")"
   ]
  },
  {
   "cell_type": "code",
   "execution_count": 6,
   "metadata": {},
   "outputs": [
    {
     "name": "stdout",
     "output_type": "stream",
     "text": [
      "<class 'pandas.core.frame.DataFrame'>\n",
      "RangeIndex: 500 entries, 0 to 499\n",
      "Data columns (total 5 columns):\n",
      " #   Column      Non-Null Count  Dtype  \n",
      "---  ------      --------------  -----  \n",
      " 0   patient_id  500 non-null    int64  \n",
      " 1   time        500 non-null    int64  \n",
      " 2   tumor_size  500 non-null    float64\n",
      " 3   age         500 non-null    int64  \n",
      " 4   treatment   500 non-null    int64  \n",
      "dtypes: float64(1), int64(4)\n",
      "memory usage: 19.7 KB\n"
     ]
    }
   ],
   "source": [
    "df_data.info()"
   ]
  },
  {
   "cell_type": "code",
   "execution_count": 7,
   "metadata": {},
   "outputs": [
    {
     "name": "stdout",
     "output_type": "stream",
     "text": [
      "No. of patients: 100\n"
     ]
    }
   ],
   "source": [
    "print(f\"No. of patients: {df_data['patient_id'].nunique()}\")"
   ]
  },
  {
   "cell_type": "code",
   "execution_count": 8,
   "metadata": {},
   "outputs": [
    {
     "data": {
      "text/plain": [
       "<seaborn.axisgrid.FacetGrid at 0x17d975490>"
      ]
     },
     "execution_count": 8,
     "metadata": {},
     "output_type": "execute_result"
    },
    {
     "data": {
      "image/png": "[encoded data removed]",
      "text/plain": [
       "<Figure size 1500x500 with 3 Axes>"
      ]
     },
     "metadata": {},
     "output_type": "display_data"
    }
   ],
   "source": [
    "sns.relplot(\n",
    "    data=df_data.query(\"patient_id in [0, 1, 2]\"),\n",
    "    x=\"time\",\n",
    "    y=\"tumor_size\",\n",
    "    col=\"patient_id\",\n",
    "    kind=\"line\",\n",
    ")"
   ]
  },
  {
   "cell_type": "markdown",
   "metadata": {},
   "source": [
    "# Using statsmodels"
   ]
  },
  {
   "cell_type": "code",
   "execution_count": 9,
   "metadata": {},
   "outputs": [
    {
     "name": "stderr",
     "output_type": "stream",
     "text": [
      "/Users/benlacar/opt/anaconda3/envs/pymc_env_2402/lib/python3.11/site-packages/statsmodels/base/model.py:607: ConvergenceWarning: Maximum Likelihood optimization failed to converge. Check mle_retvals\n",
      "  warnings.warn(\"Maximum Likelihood optimization failed to \"\n",
      "/Users/benlacar/opt/anaconda3/envs/pymc_env_2402/lib/python3.11/site-packages/statsmodels/regression/mixed_linear_model.py:2201: ConvergenceWarning: Retrying MixedLM optimization with lbfgs\n",
      "  warnings.warn(\n",
      "/Users/benlacar/opt/anaconda3/envs/pymc_env_2402/lib/python3.11/site-packages/statsmodels/regression/mixed_linear_model.py:2238: ConvergenceWarning: The MLE may be on the boundary of the parameter space.\n",
      "  warnings.warn(msg, ConvergenceWarning)\n"
     ]
    },
    {
     "data": {
      "text/html": [
       "<table class=\"simpletable\">\n",
       "<tr>\n",
       "       <td>Model:</td>       <td>MixedLM</td> <td>Dependent Variable:</td> <td>tumor_size</td>\n",
       "</tr>\n",
       "<tr>\n",
       "  <td>No. Observations:</td>   <td>500</td>         <td>Method:</td>          <td>REML</td>   \n",
       "</tr>\n",
       "<tr>\n",
       "     <td>No. Groups:</td>      <td>100</td>         <td>Scale:</td>          <td>3.8983</td>  \n",
       "</tr>\n",
       "<tr>\n",
       "  <td>Min. group size:</td>     <td>5</td>      <td>Log-Likelihood:</td>   <td>-1065.3997</td>\n",
       "</tr>\n",
       "<tr>\n",
       "  <td>Max. group size:</td>     <td>5</td>        <td>Converged:</td>          <td>Yes</td>   \n",
       "</tr>\n",
       "<tr>\n",
       "  <td>Mean group size:</td>    <td>5.0</td>            <td></td>                <td></td>     \n",
       "</tr>\n",
       "</table>\n",
       "<table class=\"simpletable\">\n",
       "<tr>\n",
       "          <td></td>          <th>Coef.</th> <th>Std.Err.</th>    <th>z</th>   <th>P>|z|</th> <th>[0.025</th> <th>0.975]</th>\n",
       "</tr>\n",
       "<tr>\n",
       "  <th>Intercept</th>        <td>51.212</td>   <td>0.706</td>  <td>72.576</td> <td>0.000</td> <td>49.829</td> <td>52.595</td>\n",
       "</tr>\n",
       "<tr>\n",
       "  <th>time</th>              <td>0.291</td>   <td>0.065</td>   <td>4.465</td> <td>0.000</td>  <td>0.163</td>  <td>0.419</td>\n",
       "</tr>\n",
       "<tr>\n",
       "  <th>age</th>              <td>-0.014</td>   <td>0.012</td>  <td>-1.137</td> <td>0.256</td> <td>-0.038</td>  <td>0.010</td>\n",
       "</tr>\n",
       "<tr>\n",
       "  <th>treatment</th>        <td>-0.255</td>   <td>0.191</td>  <td>-1.334</td> <td>0.182</td> <td>-0.629</td>  <td>0.120</td>\n",
       "</tr>\n",
       "<tr>\n",
       "  <th>Group Var</th>         <td>0.002</td>   <td>0.211</td>     <td></td>      <td></td>       <td></td>       <td></td>   \n",
       "</tr>\n",
       "<tr>\n",
       "  <th>Group x time Cov</th> <td>-0.008</td>   <td>0.077</td>     <td></td>      <td></td>       <td></td>       <td></td>   \n",
       "</tr>\n",
       "<tr>\n",
       "  <th>time Var</th>          <td>0.035</td>   <td>0.037</td>     <td></td>      <td></td>       <td></td>       <td></td>   \n",
       "</tr>\n",
       "</table><br/>\n"
      ],
      "text/latex": [
       "\\begin{table}\n",
       "\\caption{Mixed Linear Model Regression Results}\n",
       "\\label{}\n",
       "\\begin{center}\n",
       "\\begin{tabular}{llll}\n",
       "\\hline\n",
       "Model:            & MixedLM & Dependent Variable: & tumor\\_size  \\\\\n",
       "No. Observations: & 500     & Method:             & REML         \\\\\n",
       "No. Groups:       & 100     & Scale:              & 3.8983       \\\\\n",
       "Min. group size:  & 5       & Log-Likelihood:     & -1065.3997   \\\\\n",
       "Max. group size:  & 5       & Converged:          & Yes          \\\\\n",
       "Mean group size:  & 5.0     &                     &              \\\\\n",
       "\\hline\n",
       "\\end{tabular}\n",
       "\\end{center}\n",
       "\n",
       "\\begin{center}\n",
       "\\begin{tabular}{lrrrrrr}\n",
       "\\hline\n",
       "                 &  Coef. & Std.Err. &      z & P$> |$z$|$ & [0.025 & 0.975]  \\\\\n",
       "\\hline\n",
       "Intercept        & 51.212 &    0.706 & 72.576 &       0.000 & 49.829 & 52.595  \\\\\n",
       "time             &  0.291 &    0.065 &  4.465 &       0.000 &  0.163 &  0.419  \\\\\n",
       "age              & -0.014 &    0.012 & -1.137 &       0.256 & -0.038 &  0.010  \\\\\n",
       "treatment        & -0.255 &    0.191 & -1.334 &       0.182 & -0.629 &  0.120  \\\\\n",
       "Group Var        &  0.002 &    0.211 &        &             &        &         \\\\\n",
       "Group x time Cov & -0.008 &    0.077 &        &             &        &         \\\\\n",
       "time Var         &  0.035 &    0.037 &        &             &        &         \\\\\n",
       "\\hline\n",
       "\\end{tabular}\n",
       "\\end{center}\n",
       "\\end{table}\n",
       "\\bigskip\n"
      ],
      "text/plain": [
       "<class 'statsmodels.iolib.summary2.Summary'>\n",
       "\"\"\"\n",
       "           Mixed Linear Model Regression Results\n",
       "===========================================================\n",
       "Model:             MixedLM  Dependent Variable:  tumor_size\n",
       "No. Observations:  500      Method:              REML      \n",
       "No. Groups:        100      Scale:               3.8983    \n",
       "Min. group size:   5        Log-Likelihood:      -1065.3997\n",
       "Max. group size:   5        Converged:           Yes       \n",
       "Mean group size:   5.0                                     \n",
       "-----------------------------------------------------------\n",
       "                 Coef.  Std.Err.   z    P>|z| [0.025 0.975]\n",
       "-----------------------------------------------------------\n",
       "Intercept        51.212    0.706 72.576 0.000 49.829 52.595\n",
       "time              0.291    0.065  4.465 0.000  0.163  0.419\n",
       "age              -0.014    0.012 -1.137 0.256 -0.038  0.010\n",
       "treatment        -0.255    0.191 -1.334 0.182 -0.629  0.120\n",
       "Group Var         0.002    0.211                           \n",
       "Group x time Cov -0.008    0.077                           \n",
       "time Var          0.035    0.037                           \n",
       "===========================================================\n",
       "\n",
       "\"\"\""
      ]
     },
     "execution_count": 9,
     "metadata": {},
     "output_type": "execute_result"
    }
   ],
   "source": [
    "# Define the mixed-effects model formula\n",
    "model = smf.mixedlm(\n",
    "    \"tumor_size ~ time + age + treatment\",\n",
    "    df_data,\n",
    "    groups=df_data[\"patient_id\"],\n",
    "    re_formula=\"~time\",\n",
    ")\n",
    "\n",
    "# Fit the model\n",
    "result = model.fit()\n",
    "\n",
    "# Print the summary of the model\n",
    "result.summary()"
   ]
  },
  {
   "cell_type": "markdown",
   "metadata": {},
   "source": [
    "# Using pymc\n",
    "\n",
    "Let's define the equation. We're going to assume the tumor size is Gaussian distributed.\n",
    "\n",
    "It will be a linear combination of independent variables for time, age, and treatment. How will we represent the `patient_id`? \n",
    "\n",
    "There will be a term for average tumor size and the patient-specific tumor size will be the \"random effect\".\n",
    "\n",
    "s = tumor size\n",
    "\n",
    "t = time\n",
    "\n",
    "a = age\n",
    "\n",
    "r = treatment\n",
    "\n",
    "Use random intercepts.\n",
    "\n",
    "$$ s_i \\sim \\text{Normal}(\\mu_i, \\sigma) $$\n",
    "\n",
    "$$ \\mu_i = \\alpha_{\\text{pt[i]}} + \\beta_T T_i + \\beta_A A_i + \\beta_R R_i  $$\n",
    "\n",
    "$$ \\alpha_j \\sim \\text{Normal}(\\bar{\\alpha}, \n",
    "\\sigma) $$\n",
    "\n",
    "$$ \\bar{\\alpha} \\sim \\text{Normal}(0, 1) $$\n",
    "\n",
    "$$ \\sigma \\sim \\text{Exponential}(1) $$\n",
    "\n",
    "\n",
    "make alpha_i use alpha_bar as a regularizing prior\n"
   ]
  },
  {
   "cell_type": "code",
   "execution_count": null,
   "metadata": {},
   "outputs": [],
   "source": [
    "# multilevel model\n",
    "with pm.Model() as mme:\n",
    "\n",
    "    # prior for average patient\n",
    "    a_bar = pm.Normal(\"a_bar\", 0.0, 1.5)\n",
    "    # prior for SD of districts\n",
    "    sigma = pm.Exponential(\"sigma\", 1.0)\n",
    "\n",
    "    # alpha priors for each district\n",
    "    a = pm.Normal(\"a\", a_bar, sigma, shape=len(df_bangladesh[\"district_code\"].unique()))\n",
    "\n",
    "    # link function\n",
    "    p = pm.math.invlogit(a[df_bangladesh[\"district_code\"]])\n",
    "\n",
    "    # likelihood, n=1 since each represents an individual woman\n",
    "    c = pm.Binomial(\"c\", n=1, p=p, observed=df_bangladesh[\"use.contraception\"])\n",
    "\n",
    "    trace_mme = pm.sample(draws=1000, random_seed=19, return_inferencedata=True, progressbar=False)"
   ]
  },
  {
   "cell_type": "code",
   "execution_count": null,
   "metadata": {},
   "outputs": [],
   "source": []
  },
  {
   "cell_type": "code",
   "execution_count": 24,
   "metadata": {},
   "outputs": [
    {
     "data": {
      "text/html": [
       "<div>\n",
       "<style scoped>\n",
       "    .dataframe tbody tr th:only-of-type {\n",
       "        vertical-align: middle;\n",
       "    }\n",
       "\n",
       "    .dataframe tbody tr th {\n",
       "        vertical-align: top;\n",
       "    }\n",
       "\n",
       "    .dataframe thead th {\n",
       "        text-align: right;\n",
       "    }\n",
       "</style>\n",
       "<table border=\"1\" class=\"dataframe\">\n",
       "  <thead>\n",
       "    <tr style=\"text-align: right;\">\n",
       "      <th></th>\n",
       "      <th>patient_id</th>\n",
       "      <th>time</th>\n",
       "      <th>tumor_size</th>\n",
       "      <th>age</th>\n",
       "      <th>treatment</th>\n",
       "    </tr>\n",
       "  </thead>\n",
       "  <tbody>\n",
       "    <tr>\n",
       "      <th>0</th>\n",
       "      <td>0</td>\n",
       "      <td>0</td>\n",
       "      <td>48.454536</td>\n",
       "      <td>65</td>\n",
       "      <td>1</td>\n",
       "    </tr>\n",
       "    <tr>\n",
       "      <th>1</th>\n",
       "      <td>0</td>\n",
       "      <td>1</td>\n",
       "      <td>48.954903</td>\n",
       "      <td>65</td>\n",
       "      <td>1</td>\n",
       "    </tr>\n",
       "    <tr>\n",
       "      <th>2</th>\n",
       "      <td>0</td>\n",
       "      <td>2</td>\n",
       "      <td>50.271513</td>\n",
       "      <td>65</td>\n",
       "      <td>1</td>\n",
       "    </tr>\n",
       "    <tr>\n",
       "      <th>3</th>\n",
       "      <td>0</td>\n",
       "      <td>3</td>\n",
       "      <td>49.385182</td>\n",
       "      <td>65</td>\n",
       "      <td>1</td>\n",
       "    </tr>\n",
       "    <tr>\n",
       "      <th>4</th>\n",
       "      <td>0</td>\n",
       "      <td>4</td>\n",
       "      <td>51.785040</td>\n",
       "      <td>65</td>\n",
       "      <td>1</td>\n",
       "    </tr>\n",
       "  </tbody>\n",
       "</table>\n",
       "</div>"
      ],
      "text/plain": [
       "   patient_id  time  tumor_size  age  treatment\n",
       "0           0     0   48.454536   65          1\n",
       "1           0     1   48.954903   65          1\n",
       "2           0     2   50.271513   65          1\n",
       "3           0     3   49.385182   65          1\n",
       "4           0     4   51.785040   65          1"
      ]
     },
     "execution_count": 24,
     "metadata": {},
     "output_type": "execute_result"
    }
   ],
   "source": [
    "df_data.head()"
   ]
  },
  {
   "cell_type": "code",
   "execution_count": null,
   "metadata": {},
   "outputs": [],
   "source": []
  },
  {
   "cell_type": "code",
   "execution_count": null,
   "metadata": {},
   "outputs": [],
   "source": []
  },
  {
   "cell_type": "code",
   "execution_count": null,
   "metadata": {},
   "outputs": [],
   "source": []
  },
  {
   "cell_type": "code",
   "execution_count": null,
   "metadata": {},
   "outputs": [],
   "source": []
  },
  {
   "cell_type": "markdown",
   "metadata": {},
   "source": [
    "# OLD BELOW"
   ]
  },
  {
   "cell_type": "code",
   "execution_count": null,
   "metadata": {},
   "outputs": [],
   "source": []
  },
  {
   "cell_type": "markdown",
   "metadata": {},
   "source": [
    "# Introduction of cause and effect\n",
    "- Causal inference matters because it helps distinguish variables that are associations from those that can be causal. It's very common to misunderstand data causality unfortunately.\n",
    "- Experiments are the gold standard because it can be used to control confounding. But experiments can be unethical or impractical in many cases. For example, researchers can't simply force smoking on groups of people. Establishing a link between smoking and lung cancer was done with survey data.- Survey data is often self-reported so it's ripe with biases. American Community Survey is one example of survey data. When using survey data, it's recommended to:\n",
    "    - use probability sampling when possible\n",
    "    - correct biases with weights\n",
    "    - apply techniques for missing data\n",
    "    - ensure survey's topical relevance\n",
    "    - invest time in understanding survey data complexity\n",
    "\n",
    "# Observables vs. unobservable causes\n",
    "- Variables can be observed in the data but some variables are unboserved, due to lack of measurement or the ability to measure. Personal motivation is something hard to measure for example. But unobserved variables can bias results so they're crucial in causal inference.\n",
    "- Endogeneity: occurs when an explanatory variable is correlated with the error term in a model. It can happen when a variable is left out of a regression model. Thinking about unobserved variables can guide researchers to using better causal techniques.\n",
    "- DAGs help one can better understand causal flow of models. We have to be careful about the presence of backdoor paths between the predictor of interest and the outcome variable.\n"
   ]
  },
  {
   "cell_type": "markdown",
   "metadata": {},
   "source": [
    "- Not controlling for the backdoor path will lead to bias between X1 and Y\n",
    "- X2 often called a confounder"
   ]
  },
  {
   "cell_type": "code",
   "execution_count": 9,
   "metadata": {},
   "outputs": [],
   "source": [
    "# create a dataframe that holds the number and probability for each group\n",
    "n_obs = 200\n",
    "x2 = stats.norm.rvs(loc=0, scale=1, size=200)\n",
    "x1 = stats.norm.rvs(loc=0, scale=1, size=200) + x2\n",
    "y = x1 + x2\n",
    "\n",
    "model0 = sm.OLS(y, x1)\n",
    "model1 = sm.OLS(y, x1 + x2)\n",
    "\n",
    "results0 = model0.fit()\n",
    "results1 = model1.fit()"
   ]
  },
  {
   "cell_type": "code",
   "execution_count": 19,
   "metadata": {},
   "outputs": [
    {
     "data": {
      "text/plain": [
       "array([1.46420051])"
      ]
     },
     "execution_count": 19,
     "metadata": {},
     "output_type": "execute_result"
    }
   ],
   "source": [
    "# with x1 only gives a biased estimate\n",
    "results0.params"
   ]
  },
  {
   "cell_type": "code",
   "execution_count": 23,
   "metadata": {},
   "outputs": [
    {
     "data": {
      "text/plain": [
       "array([1.])"
      ]
     },
     "execution_count": 23,
     "metadata": {},
     "output_type": "execute_result"
    }
   ],
   "source": [
    "# including x2 recovers the right parameter given the data generating process\n",
    "results1.params"
   ]
  },
  {
   "cell_type": "markdown",
   "metadata": {},
   "source": [
    "But what if x2 is unobserved? Unfortunately the backdoor path cannot be closed. This is where basic regression analysis fails us. But this is where more advanced methods can help us in the case of unobserved confounds.\n",
    "\n",
    "<p style=\"text-align: center;font-weight:bold;\">DAGs and Methods</p>\n",
    "\n",
    "| Methodology | Controls for Unobserved Confounds | \n",
    "| ----- | ------- |\n",
    "| Regression analysis | No (controls for observed confounds only) | \n",
    "| Propensity score matching | No (controls for observed confounds only) | \n",
    "| Instrumental variables | Yes (if a valid instrument is used) | \n",
    "| Regression discontinuity designs | Partially (near the cutoff point) |\n",
    "| Regression with time effects  | Partially (for time-varying confounders) |\n",
    "| Fixed effects regression  | Yes (for time-invariant confounders within entities) |\n",
    "| Difference-in-Differences Models | Yes (if trends are parallel without  treatment) |\n",
    "| Synthetic control methods | Partially (for observed and unobserved pre-treatment confounders) |\n"
   ]
  },
  {
   "cell_type": "markdown",
   "metadata": {},
   "source": [
    "# What are treatment effects?\n",
    "\n",
    "- The causal literature has acronyms like ATE, ATT, LATE, CATE, etc.\n",
    "- They're called potential outcome notation\n",
    "- It can define the methodological approach and narrative of results\n",
    "- Essentially this is defining counterfactuals (parallel universes): a comparison between two states of the world.\n",
    "    - For example, imagine someone takes a pill and the outcome is measured. In a parallel world, they don't take it and the outcome is measured. The difference in outcomes is the treatment effect (the causal effect of the pill).\n",
    "- Of course, we can't have both states. But we can have different states of causality. This results in different kinds of treatment effects."
   ]
  },
  {
   "cell_type": "markdown",
   "metadata": {},
   "source": [
    "**Average Treatment Effect (ATE)**\n",
    "\n",
    "The average effect of the treatment across the entire population.\n",
    "$$ATE = E[Y^1_i - Y^0_i]$$\n",
    "where $Y^1$ is the outcome when treatment is given, $Y^0$ is the outcome when treatment is not given, $i$ is for individual, and $E$ is the expected, which means the effect is averaged out over all individuals.\n",
    "\n",
    "*Interpretation*: If you impose a treatment on everyone, then this is the change the average individual will see. But it literally means everyone and so if a drug is sex-specific, using the ATE wouldn't make sense."
   ]
  },
  {
   "cell_type": "markdown",
   "metadata": {},
   "source": [
    "**Average Treatment Effect on the Treated (ATT)**\n",
    "\n",
    "The average effect of the treatment for those treated.\n",
    "$$ ATT = E[Y^1_i - Y^0_i | \\text{Treated}=1 ] $$\n",
    "\n",
    "*Interpretation*: Shows effect of intervention only on those that received the intervention (treatment). ATT is usually different from ATE due to selection. (Unsure about $Y^0$ since by definition it shouldn't exist here?)\n",
    "\n",
    "Non-random treatment will likely lead to ATT and not ATE since people often self-select expecting benefits."
   ]
  },
  {
   "cell_type": "markdown",
   "metadata": {},
   "source": [
    "**Average Treatment Effect on the Untreated (ATU)**\n",
    "\n",
    "The average effect of the treatment for those in the control group.\n",
    "$$ ATU = E[Y^1_i - Y^0_i | \\text{Treated}=0 ] $$\n",
    "\n",
    "But this can't be estimated. It's still useful to think about what would have happened to those who were not reached by an intervention."
   ]
  },
  {
   "cell_type": "markdown",
   "metadata": {},
   "source": [
    "**Local Average Treatment Effect (LATE)**\n",
    "\n",
    "The average effect of the treatment for those who complied\n",
    "$$ LATE = E[Y^1_i - Y^0_i | \\text{Compliers}=1 ] $$\n",
    "Treatment conditions only received under certain conditons; conditions influenced by another \"instrumental variable\".\n",
    "Example: Study the impact of receiving a scholarship. The instrumental variable might be living in a particular region, LATE would measure the effect of the scholarship on just those students who received it due to their location. Many compliers means LATE approaches ATE. But few compliers limits external validity."
   ]
  },
  {
   "cell_type": "markdown",
   "metadata": {},
   "source": [
    "Conclusion\n",
    "- Understanding true effects in non-randomized settings (experiments approach ATE and ATT).\n",
    "- Advanced methods lead to different effects\n",
    "- Model selection matters!"
   ]
  },
  {
   "cell_type": "markdown",
   "metadata": {},
   "source": [
    "# An applied example: The Lalonde debate\n",
    "\n",
    "How different are nonexperimental methods compared to experimental methods? Focus of seminal study from Robert Lalonde in 1986.\n",
    "\n",
    "- National supported work program was temporary job training program in the mid-1970s.\n",
    "- It was designed to help people with temporary work experience.\n",
    "- But there was a randomized component! 50/50 chance of getting help or no help.\n",
    "\n",
    "Lalonde compared the randomzied experiment data with CPS and PSID surveys. The experimental data recovered the ATE. When looking at experimental data, there was a net positive in income suggesting the program worked. He got similar values using causal inference methods. However, survey data varied wildly. Depending on which one you choose can lead to very different policies.\n",
    "\n",
    "Conclusion\n",
    "- A wake-up call for economists!\n",
    "- Methods matter, and careful design must be given to causal studies.\n",
    "- This led to significant advances in methods and how to use surveys.\n",
    "\n"
   ]
  },
  {
   "cell_type": "code",
   "execution_count": 7,
   "metadata": {},
   "outputs": [
    {
     "name": "stdout",
     "output_type": "stream",
     "text": [
      "The watermark extension is already loaded. To reload it, use:\n",
      "  %reload_ext watermark\n",
      "Last updated: Thu May 09 2024\n",
      "\n",
      "Python implementation: CPython\n",
      "Python version       : 3.11.7\n",
      "IPython version      : 8.21.0\n",
      "\n",
      "seaborn    : 0.13.2\n",
      "statsmodels: 0.14.1\n",
      "scipy      : 1.12.0\n",
      "matplotlib : 3.8.2\n",
      "pandas     : 2.2.0\n",
      "numpy      : 1.25.2\n",
      "\n",
      "Watermark: 2.4.3\n",
      "\n"
     ]
    }
   ],
   "source": [
    "%load_ext watermark\n",
    "%watermark -n -u -v -iv -w"
   ]
  }
 ],
 "metadata": {
  "kernelspec": {
   "display_name": "Python 3 (ipykernel)",
   "language": "python",
   "name": "python3"
  },
  "language_info": {
   "codemirror_mode": {
    "name": "ipython",
    "version": 3
   },
   "file_extension": ".py",
   "mimetype": "text/x-python",
   "name": "python",
   "nbconvert_exporter": "python",
   "pygments_lexer": "ipython3",
   "version": "3.11.7"
  }
 },
 "nbformat": 4,
 "nbformat_minor": 4
}
