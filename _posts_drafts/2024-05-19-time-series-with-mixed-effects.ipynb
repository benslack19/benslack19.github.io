{
 "cells": [
  {
   "cell_type": "markdown",
   "metadata": {},
   "source": [
    "\n",
    "---\n",
    "title: \"Time series with mixed effects model\"\n",
    "mathjax: true\n",
    "toc: true\n",
    "toc_sticky: true\n",
    "categories: [data science, statistics]\n",
    "---\n",
    "\n",
    "I've done time-series data with time-to-event models. I'm into mixed effects models. Let's see how we can use correlated data.\n",
    "\n",
    "# TO DO:\n",
    "- Have my own visualization theme. Think of colors, colorblind safe, etc.\n",
    "- Apply black to jupyter lab\n",
    "    - https://duckduckgo.com/?q=jupyter+lab+black+formater&t=newext&atb=v359-1&ia=web"
   ]
  },
  {
   "cell_type": "code",
   "execution_count": 1,
   "metadata": {},
   "outputs": [],
   "source": [
    "import arviz as az\n",
    "import graphviz as gr\n",
    "import matplotlib.pyplot as plt\n",
    "import numpy as np\n",
    "import pandas as pd\n",
    "import pymc as pm\n",
    "from scipy import stats\n",
    "import seaborn as sns\n",
    "import statsmodels.api as sm\n",
    "import statsmodels.formula.api as smf"
   ]
  },
  {
   "cell_type": "code",
   "execution_count": 25,
   "metadata": {},
   "outputs": [],
   "source": [
    "def draw_causal_graph(\n",
    "    edge_list, node_props=None, edge_props=None, graph_direction=\"UD\"\n",
    "):\n",
    "    \"\"\"Utility to draw a causal (directed) graph\n",
    "    Taken from: https://github.com/dustinstansbury/statistical-rethinking-2023/blob/a0f4f2d15a06b33355cf3065597dcb43ef829991/utils.py#L52-L66\n",
    "\n",
    "    \"\"\"\n",
    "    g = gr.Digraph(graph_attr={\"rankdir\": graph_direction})\n",
    "\n",
    "    edge_props = {} if edge_props is None else edge_props\n",
    "    for e in edge_list:\n",
    "        props = edge_props[e] if e in edge_props else {}\n",
    "        g.edge(e[0], e[1], **props)\n",
    "\n",
    "    if node_props is not None:\n",
    "        for name, props in node_props.items():\n",
    "            g.node(name=name, **props)\n",
    "    return g\n",
    "\n",
    "def standardize(x):\n",
    "    x = (x - np.mean(x)) / np.std(x)\n",
    "    return x"
   ]
  },
  {
   "cell_type": "code",
   "execution_count": 33,
   "metadata": {},
   "outputs": [
    {
     "data": {
      "text/html": [
       "<div>\n",
       "<style scoped>\n",
       "    .dataframe tbody tr th:only-of-type {\n",
       "        vertical-align: middle;\n",
       "    }\n",
       "\n",
       "    .dataframe tbody tr th {\n",
       "        vertical-align: top;\n",
       "    }\n",
       "\n",
       "    .dataframe thead th {\n",
       "        text-align: right;\n",
       "    }\n",
       "</style>\n",
       "<table border=\"1\" class=\"dataframe\">\n",
       "  <thead>\n",
       "    <tr style=\"text-align: right;\">\n",
       "      <th></th>\n",
       "      <th>patient_id</th>\n",
       "      <th>time</th>\n",
       "      <th>tumor_size</th>\n",
       "      <th>age</th>\n",
       "      <th>treatment</th>\n",
       "    </tr>\n",
       "  </thead>\n",
       "  <tbody>\n",
       "    <tr>\n",
       "      <th>0</th>\n",
       "      <td>0</td>\n",
       "      <td>0</td>\n",
       "      <td>50.514378</td>\n",
       "      <td>44</td>\n",
       "      <td>0</td>\n",
       "    </tr>\n",
       "    <tr>\n",
       "      <th>1</th>\n",
       "      <td>0</td>\n",
       "      <td>1</td>\n",
       "      <td>49.589689</td>\n",
       "      <td>44</td>\n",
       "      <td>0</td>\n",
       "    </tr>\n",
       "    <tr>\n",
       "      <th>2</th>\n",
       "      <td>0</td>\n",
       "      <td>2</td>\n",
       "      <td>50.859369</td>\n",
       "      <td>44</td>\n",
       "      <td>0</td>\n",
       "    </tr>\n",
       "    <tr>\n",
       "      <th>3</th>\n",
       "      <td>0</td>\n",
       "      <td>3</td>\n",
       "      <td>53.404866</td>\n",
       "      <td>44</td>\n",
       "      <td>0</td>\n",
       "    </tr>\n",
       "    <tr>\n",
       "      <th>4</th>\n",
       "      <td>0</td>\n",
       "      <td>4</td>\n",
       "      <td>51.531560</td>\n",
       "      <td>44</td>\n",
       "      <td>0</td>\n",
       "    </tr>\n",
       "  </tbody>\n",
       "</table>\n",
       "</div>"
      ],
      "text/plain": [
       "   patient_id  time  tumor_size  age  treatment\n",
       "0           0     0   50.514378   44          0\n",
       "1           0     1   49.589689   44          0\n",
       "2           0     2   50.859369   44          0\n",
       "3           0     3   53.404866   44          0\n",
       "4           0     4   51.531560   44          0"
      ]
     },
     "execution_count": 33,
     "metadata": {},
     "output_type": "execute_result"
    }
   ],
   "source": [
    "# Generate a small synthetic data (assisted by ChatGPT)\n",
    "n_patients = 20\n",
    "n_timepoints = 5\n",
    "\n",
    "# Create patient IDs\n",
    "patient_ids = np.repeat(np.arange(n_patients), n_timepoints)\n",
    "\n",
    "# Create time points\n",
    "time = np.tile(np.arange(n_timepoints), n_patients)\n",
    "\n",
    "# Create patient-specific attributes (age and treatment)\n",
    "age = np.random.randint(40, 70, n_patients)\n",
    "treatment = np.random.binomial(1, 0.5, n_patients)\n",
    "\n",
    "# Repeat age and treatment to match the longitudinal measurements\n",
    "age_repeated = np.repeat(age, n_timepoints)\n",
    "treatment_repeated = np.repeat(treatment, n_timepoints)\n",
    "\n",
    "# Create tumor size with some randomness\n",
    "tumor_size = (\n",
    "    50\n",
    "    + 0.5 * time\n",
    "    + np.random.normal(0, 2, n_patients * n_timepoints)\n",
    "    - 0.3 * treatment_repeated\n",
    ")\n",
    "\n",
    "# Combine into a DataFrame\n",
    "df_data = pd.DataFrame(\n",
    "    {\n",
    "        \"patient_id\": patient_ids,\n",
    "        \"time\": time,\n",
    "        \"tumor_size\": tumor_size,\n",
    "        \"age\": age_repeated,\n",
    "        \"treatment\": treatment_repeated,\n",
    "    }\n",
    ")\n",
    "\n",
    "df_data.head()"
   ]
  },
  {
   "cell_type": "markdown",
   "metadata": {},
   "source": [
    "# Data transformation\n",
    "\n",
    "Before doing any modeling, we'll transform the data since in theory we shouldn't peek. But we can't pick priors unless we have some idea of what the data is like. An easy thing to do is standardize the data and therefore we can use a 0 mean, 2 SD prior to capture most of the data."
   ]
  },
  {
   "cell_type": "code",
   "execution_count": 41,
   "metadata": {},
   "outputs": [],
   "source": [
    "df_data['tumor_size_std'] = standardize(df_data['tumor_size'])"
   ]
  },
  {
   "cell_type": "code",
   "execution_count": 34,
   "metadata": {},
   "outputs": [
    {
     "data": {
      "image/svg+xml": [
       "<?xml version=\"1.0\" encoding=\"UTF-8\" standalone=\"no\"?>\n",
       "<!DOCTYPE svg PUBLIC \"-//W3C//DTD SVG 1.1//EN\"\n",
       " \"http://www.w3.org/Graphics/SVG/1.1/DTD/svg11.dtd\">\n",
       "<!-- Generated by graphviz version 11.0.0 (0)\n",
       " -->\n",
       "<!-- Pages: 1 -->\n",
       "<svg width=\"203pt\" height=\"152pt\"\n",
       " viewBox=\"0.00 0.00 203.34 152.00\" xmlns=\"http://www.w3.org/2000/svg\" xmlns:xlink=\"http://www.w3.org/1999/xlink\">\n",
       "<g id=\"graph0\" class=\"graph\" transform=\"scale(1 1) rotate(0) translate(4 148)\">\n",
       "<polygon fill=\"white\" stroke=\"none\" points=\"-4,4 -4,-148 199.34,-148 199.34,4 -4,4\"/>\n",
       "<!-- age -->\n",
       "<g id=\"node1\" class=\"node\">\n",
       "<title>age</title>\n",
       "<ellipse fill=\"none\" stroke=\"black\" cx=\"46.23\" cy=\"-126\" rx=\"27\" ry=\"18\"/>\n",
       "<text text-anchor=\"middle\" x=\"46.23\" y=\"-120.95\" font-family=\"Times,serif\" font-size=\"14.00\">age</text>\n",
       "</g>\n",
       "<!-- tumor -->\n",
       "<g id=\"node2\" class=\"node\">\n",
       "<title>tumor</title>\n",
       "<ellipse fill=\"none\" stroke=\"black\" cx=\"161.9\" cy=\"-72\" rx=\"33.44\" ry=\"18\"/>\n",
       "<text text-anchor=\"middle\" x=\"161.9\" y=\"-66.95\" font-family=\"Times,serif\" font-size=\"14.00\">tumor</text>\n",
       "</g>\n",
       "<!-- age&#45;&gt;tumor -->\n",
       "<g id=\"edge1\" class=\"edge\">\n",
       "<title>age&#45;&gt;tumor</title>\n",
       "<path fill=\"none\" stroke=\"black\" d=\"M68.88,-115.72C85,-108.06 107.35,-97.44 125.99,-88.59\"/>\n",
       "<polygon fill=\"black\" stroke=\"black\" points=\"127.28,-91.85 134.81,-84.4 124.27,-85.53 127.28,-91.85\"/>\n",
       "</g>\n",
       "<!-- treatment -->\n",
       "<g id=\"node3\" class=\"node\">\n",
       "<title>treatment</title>\n",
       "<ellipse fill=\"none\" stroke=\"black\" cx=\"46.23\" cy=\"-72\" rx=\"46.23\" ry=\"18\"/>\n",
       "<text text-anchor=\"middle\" x=\"46.23\" y=\"-66.95\" font-family=\"Times,serif\" font-size=\"14.00\">treatment</text>\n",
       "</g>\n",
       "<!-- treatment&#45;&gt;tumor -->\n",
       "<g id=\"edge2\" class=\"edge\">\n",
       "<title>treatment&#45;&gt;tumor</title>\n",
       "<path fill=\"none\" stroke=\"black\" d=\"M92.81,-72C100.78,-72 109.06,-72 116.98,-72\"/>\n",
       "<polygon fill=\"black\" stroke=\"black\" points=\"116.74,-75.5 126.74,-72 116.74,-68.5 116.74,-75.5\"/>\n",
       "</g>\n",
       "<!-- time -->\n",
       "<g id=\"node4\" class=\"node\">\n",
       "<title>time</title>\n",
       "<ellipse fill=\"none\" stroke=\"black\" cx=\"46.23\" cy=\"-18\" rx=\"27.81\" ry=\"18\"/>\n",
       "<text text-anchor=\"middle\" x=\"46.23\" y=\"-12.95\" font-family=\"Times,serif\" font-size=\"14.00\">time</text>\n",
       "</g>\n",
       "<!-- time&#45;&gt;tumor -->\n",
       "<g id=\"edge3\" class=\"edge\">\n",
       "<title>time&#45;&gt;tumor</title>\n",
       "<path fill=\"none\" stroke=\"black\" d=\"M69.42,-28.54C85.41,-36.13 107.31,-46.54 125.67,-55.26\"/>\n",
       "<polygon fill=\"black\" stroke=\"black\" points=\"124.11,-58.39 134.64,-59.52 127.11,-52.07 124.11,-58.39\"/>\n",
       "</g>\n",
       "</g>\n",
       "</svg>\n"
      ],
      "text/plain": [
       "<graphviz.graphs.Digraph at 0x171e2ee10>"
      ]
     },
     "execution_count": 34,
     "metadata": {},
     "output_type": "execute_result"
    }
   ],
   "source": [
    "# how to represent patient_specific random effect?\n",
    "draw_causal_graph(\n",
    "    edge_list=[(\"age\", \"tumor\"), (\"treatment\", \"tumor\"), (\"time\", \"tumor\")],\n",
    "    graph_direction=\"LR\",\n",
    ")"
   ]
  },
  {
   "cell_type": "code",
   "execution_count": 35,
   "metadata": {},
   "outputs": [
    {
     "name": "stdout",
     "output_type": "stream",
     "text": [
      "<class 'pandas.core.frame.DataFrame'>\n",
      "RangeIndex: 100 entries, 0 to 99\n",
      "Data columns (total 5 columns):\n",
      " #   Column      Non-Null Count  Dtype  \n",
      "---  ------      --------------  -----  \n",
      " 0   patient_id  100 non-null    int64  \n",
      " 1   time        100 non-null    int64  \n",
      " 2   tumor_size  100 non-null    float64\n",
      " 3   age         100 non-null    int64  \n",
      " 4   treatment   100 non-null    int64  \n",
      "dtypes: float64(1), int64(4)\n",
      "memory usage: 4.0 KB\n"
     ]
    }
   ],
   "source": [
    "df_data.info()"
   ]
  },
  {
   "cell_type": "code",
   "execution_count": 36,
   "metadata": {},
   "outputs": [
    {
     "name": "stdout",
     "output_type": "stream",
     "text": [
      "No. of patients: 20\n"
     ]
    }
   ],
   "source": [
    "print(f\"No. of patients: {df_data['patient_id'].nunique()}\")"
   ]
  },
  {
   "cell_type": "code",
   "execution_count": 37,
   "metadata": {},
   "outputs": [
    {
     "data": {
      "text/plain": [
       "<seaborn.axisgrid.FacetGrid at 0x1727269f0>"
      ]
     },
     "execution_count": 37,
     "metadata": {},
     "output_type": "execute_result"
    },
    {
     "data": {
      "image/png": "[encoded data removed]",
      "text/plain": [
       "<Figure size 1500x500 with 3 Axes>"
      ]
     },
     "metadata": {},
     "output_type": "display_data"
    }
   ],
   "source": [
    "sns.relplot(\n",
    "    data=df_data.query(\"patient_id in [0, 1, 2]\"),\n",
    "    x=\"time\",\n",
    "    y=\"tumor_size\",\n",
    "    col=\"patient_id\",\n",
    "    kind=\"line\",\n",
    ")"
   ]
  },
  {
   "cell_type": "markdown",
   "metadata": {},
   "source": [
    "# Using statsmodels"
   ]
  },
  {
   "cell_type": "code",
   "execution_count": 38,
   "metadata": {},
   "outputs": [
    {
     "name": "stderr",
     "output_type": "stream",
     "text": [
      "/Users/benlacar/opt/anaconda3/envs/pymc_env_2405/lib/python3.12/site-packages/statsmodels/base/model.py:607: ConvergenceWarning: Maximum Likelihood optimization failed to converge. Check mle_retvals\n",
      "  warnings.warn(\"Maximum Likelihood optimization failed to \"\n",
      "/Users/benlacar/opt/anaconda3/envs/pymc_env_2405/lib/python3.12/site-packages/statsmodels/regression/mixed_linear_model.py:2200: ConvergenceWarning: Retrying MixedLM optimization with lbfgs\n",
      "  warnings.warn(\n",
      "/Users/benlacar/opt/anaconda3/envs/pymc_env_2405/lib/python3.12/site-packages/statsmodels/base/model.py:607: ConvergenceWarning: Maximum Likelihood optimization failed to converge. Check mle_retvals\n",
      "  warnings.warn(\"Maximum Likelihood optimization failed to \"\n",
      "/Users/benlacar/opt/anaconda3/envs/pymc_env_2405/lib/python3.12/site-packages/statsmodels/regression/mixed_linear_model.py:2200: ConvergenceWarning: Retrying MixedLM optimization with cg\n",
      "  warnings.warn(\n",
      "/Users/benlacar/opt/anaconda3/envs/pymc_env_2405/lib/python3.12/site-packages/statsmodels/base/model.py:607: ConvergenceWarning: Maximum Likelihood optimization failed to converge. Check mle_retvals\n",
      "  warnings.warn(\"Maximum Likelihood optimization failed to \"\n",
      "/Users/benlacar/opt/anaconda3/envs/pymc_env_2405/lib/python3.12/site-packages/statsmodels/regression/mixed_linear_model.py:2206: ConvergenceWarning: MixedLM optimization failed, trying a different optimizer may help.\n",
      "  warnings.warn(msg, ConvergenceWarning)\n",
      "/Users/benlacar/opt/anaconda3/envs/pymc_env_2405/lib/python3.12/site-packages/statsmodels/regression/mixed_linear_model.py:2218: ConvergenceWarning: Gradient optimization failed, |grad| = 21.168747\n",
      "  warnings.warn(msg, ConvergenceWarning)\n"
     ]
    },
    {
     "data": {
      "text/html": [
       "<table class=\"simpletable\">\n",
       "<tr>\n",
       "       <td>Model:</td>       <td>MixedLM</td> <td>Dependent Variable:</td> <td>tumor_size</td>\n",
       "</tr>\n",
       "<tr>\n",
       "  <td>No. Observations:</td>   <td>100</td>         <td>Method:</td>          <td>REML</td>   \n",
       "</tr>\n",
       "<tr>\n",
       "     <td>No. Groups:</td>      <td>20</td>          <td>Scale:</td>          <td>3.6421</td>  \n",
       "</tr>\n",
       "<tr>\n",
       "  <td>Min. group size:</td>     <td>5</td>      <td>Log-Likelihood:</td>    <td>-221.1737</td>\n",
       "</tr>\n",
       "<tr>\n",
       "  <td>Max. group size:</td>     <td>5</td>        <td>Converged:</td>          <td>No</td>    \n",
       "</tr>\n",
       "<tr>\n",
       "  <td>Mean group size:</td>    <td>5.0</td>            <td></td>                <td></td>     \n",
       "</tr>\n",
       "</table>\n",
       "<table class=\"simpletable\">\n",
       "<tr>\n",
       "          <td></td>          <th>Coef.</th> <th>Std.Err.</th>    <th>z</th>   <th>P>|z|</th> <th>[0.025</th> <th>0.975]</th>\n",
       "</tr>\n",
       "<tr>\n",
       "  <th>Intercept</th>        <td>51.187</td>   <td>1.596</td>  <td>32.070</td> <td>0.000</td> <td>48.059</td> <td>54.315</td>\n",
       "</tr>\n",
       "<tr>\n",
       "  <th>time</th>              <td>0.682</td>   <td>0.207</td>   <td>3.291</td> <td>0.001</td>  <td>0.276</td>  <td>1.089</td>\n",
       "</tr>\n",
       "<tr>\n",
       "  <th>age</th>              <td>-0.031</td>   <td>0.028</td>  <td>-1.094</td> <td>0.274</td> <td>-0.086</td>  <td>0.024</td>\n",
       "</tr>\n",
       "<tr>\n",
       "  <th>treatment</th>        <td>-0.309</td>   <td>0.498</td>  <td>-0.621</td> <td>0.535</td> <td>-1.284</td>  <td>0.666</td>\n",
       "</tr>\n",
       "<tr>\n",
       "  <th>Group Var</th>         <td>1.997</td>   <td>1.386</td>     <td></td>      <td></td>       <td></td>       <td></td>   \n",
       "</tr>\n",
       "<tr>\n",
       "  <th>Group x time Cov</th> <td>-0.890</td>   <td>0.753</td>     <td></td>      <td></td>       <td></td>       <td></td>   \n",
       "</tr>\n",
       "<tr>\n",
       "  <th>time Var</th>          <td>0.495</td>   <td>0.516</td>     <td></td>      <td></td>       <td></td>       <td></td>   \n",
       "</tr>\n",
       "</table><br/>\n"
      ],
      "text/latex": [
       "\\begin{table}\n",
       "\\caption{Mixed Linear Model Regression Results}\n",
       "\\label{}\n",
       "\\begin{center}\n",
       "\\begin{tabular}{llll}\n",
       "\\hline\n",
       "Model:            & MixedLM & Dependent Variable: & tumor\\_size  \\\\\n",
       "No. Observations: & 100     & Method:             & REML         \\\\\n",
       "No. Groups:       & 20      & Scale:              & 3.6421       \\\\\n",
       "Min. group size:  & 5       & Log-Likelihood:     & -221.1737    \\\\\n",
       "Max. group size:  & 5       & Converged:          & No           \\\\\n",
       "Mean group size:  & 5.0     &                     &              \\\\\n",
       "\\hline\n",
       "\\end{tabular}\n",
       "\\end{center}\n",
       "\n",
       "\\begin{center}\n",
       "\\begin{tabular}{lrrrrrr}\n",
       "\\hline\n",
       "                 &  Coef. & Std.Err. &      z & P$> |$z$|$ & [0.025 & 0.975]  \\\\\n",
       "\\hline\n",
       "Intercept        & 51.187 &    1.596 & 32.070 &       0.000 & 48.059 & 54.315  \\\\\n",
       "time             &  0.682 &    0.207 &  3.291 &       0.001 &  0.276 &  1.089  \\\\\n",
       "age              & -0.031 &    0.028 & -1.094 &       0.274 & -0.086 &  0.024  \\\\\n",
       "treatment        & -0.309 &    0.498 & -0.621 &       0.535 & -1.284 &  0.666  \\\\\n",
       "Group Var        &  1.997 &    1.386 &        &             &        &         \\\\\n",
       "Group x time Cov & -0.890 &    0.753 &        &             &        &         \\\\\n",
       "time Var         &  0.495 &    0.516 &        &             &        &         \\\\\n",
       "\\hline\n",
       "\\end{tabular}\n",
       "\\end{center}\n",
       "\\end{table}\n",
       "\\bigskip\n"
      ],
      "text/plain": [
       "<class 'statsmodels.iolib.summary2.Summary'>\n",
       "\"\"\"\n",
       "           Mixed Linear Model Regression Results\n",
       "===========================================================\n",
       "Model:             MixedLM  Dependent Variable:  tumor_size\n",
       "No. Observations:  100      Method:              REML      \n",
       "No. Groups:        20       Scale:               3.6421    \n",
       "Min. group size:   5        Log-Likelihood:      -221.1737 \n",
       "Max. group size:   5        Converged:           No        \n",
       "Mean group size:   5.0                                     \n",
       "-----------------------------------------------------------\n",
       "                 Coef.  Std.Err.   z    P>|z| [0.025 0.975]\n",
       "-----------------------------------------------------------\n",
       "Intercept        51.187    1.596 32.070 0.000 48.059 54.315\n",
       "time              0.682    0.207  3.291 0.001  0.276  1.089\n",
       "age              -0.031    0.028 -1.094 0.274 -0.086  0.024\n",
       "treatment        -0.309    0.498 -0.621 0.535 -1.284  0.666\n",
       "Group Var         1.997    1.386                           \n",
       "Group x time Cov -0.890    0.753                           \n",
       "time Var          0.495    0.516                           \n",
       "===========================================================\n",
       "\n",
       "\"\"\""
      ]
     },
     "execution_count": 38,
     "metadata": {},
     "output_type": "execute_result"
    }
   ],
   "source": [
    "# Define the mixed-effects model formula\n",
    "model = smf.mixedlm(\n",
    "    \"tumor_size ~ time + age + treatment\",\n",
    "    df_data,\n",
    "    groups=df_data[\"patient_id\"],\n",
    "    re_formula=\"~time\",\n",
    ")\n",
    "\n",
    "# Fit the model\n",
    "result = model.fit()\n",
    "\n",
    "# Print the summary of the model\n",
    "result.summary()"
   ]
  },
  {
   "cell_type": "markdown",
   "metadata": {},
   "source": [
    "# Using pymc\n",
    "\n",
    "Let's define the equation. We're going to assume the tumor size is Gaussian distributed.\n",
    "\n",
    "It will be a linear combination of independent variables for time, age, and treatment. How will we represent the `patient_id`? \n",
    "\n",
    "There will be a term for average tumor size and the patient-specific tumor size will be the \"random effect\".\n",
    "\n",
    "s = tumor size\n",
    "t = time\n",
    "a = age\n",
    "r = treatment\n",
    "\n",
    "After reading McElreath, for now, I will ignore time, age, and treatment and just think of patient as a cluster.\n",
    "\n",
    "$$ \\mu_i = \\alpha_{\\text{pt[i]}} + \\beta_T T_i + \\beta_A A_i + \\beta_R R_i  \\tag{save for later}$$\n",
    "$$ \\beta_T, \\beta_A, \\beta_R \\sim \\text{Normal}(0, 1) \\tag{save for later} $$\n",
    "\n",
    "\n",
    "Let's do this step-by-step and work our way from the most naive, simplest models to more complex and informative.\n",
    "\n",
    "1. **Complete pooling, intercepts only.** Ignore patients as clusters.\n",
    "2. **No pooling, intercepts only**. Keep intercepts separate for each patient. Ignore information across patients.\n",
    "3. **Partial pooling, intercepts only.** Share information across patients."
   ]
  },
  {
   "cell_type": "markdown",
   "metadata": {},
   "source": [
    "# Model 1. Complete pooling.\n",
    "\n",
    "$$ s_i \\sim \\text{Normal}(\\mu_i, \\sigma) $$\n",
    "\n",
    "$$ \\mu_i = \\alpha  $$\n",
    "\n",
    "$$ \\alpha \\sim \\text{Normal}(0, 1) $$\n",
    "\n",
    "$$ \\sigma \\sim \\text{Exponential}(1) $$\n",
    "\n",
    "The `patient_id` variable is completely ignored. A subscript to denote the patient is not relevant here?"
   ]
  },
  {
   "cell_type": "code",
   "execution_count": 27,
   "metadata": {},
   "outputs": [
    {
     "data": {
      "text/html": [
       "<pre style=\"white-space:pre;overflow-x:auto;line-height:normal;font-family:Menlo,'DejaVu Sans Mono',consolas,'Courier New',monospace\">Sampling 4 chains, 0 divergences <span style=\"color: #008000; text-decoration-color: #008000\">━━━━━━━━━━━━━━━━━━━━━━━━━━━━━━━━━━━━━━━━</span> <span style=\"color: #800080; text-decoration-color: #800080\">100%</span> <span style=\"color: #008080; text-decoration-color: #008080\">0:00:00</span> / <span style=\"color: #808000; text-decoration-color: #808000\">0:00:51</span>\n",
       "</pre>\n"
      ],
      "text/plain": [
       "Sampling 4 chains, 0 divergences \u001b[32m━━━━━━━━━━━━━━━━━━━━━━━━━━━━━━━━━━━━━━━━\u001b[0m \u001b[35m100%\u001b[0m \u001b[36m0:00:00\u001b[0m / \u001b[33m0:00:51\u001b[0m\n"
      ]
     },
     "metadata": {},
     "output_type": "display_data"
    },
    {
     "data": {
      "text/html": [
       "<pre style=\"white-space:pre;overflow-x:auto;line-height:normal;font-family:Menlo,'DejaVu Sans Mono',consolas,'Courier New',monospace\"></pre>\n"
      ],
      "text/plain": []
     },
     "metadata": {},
     "output_type": "display_data"
    },
    {
     "data": {
      "text/html": [
       "<pre style=\"white-space:pre;overflow-x:auto;line-height:normal;font-family:Menlo,'DejaVu Sans Mono',consolas,'Courier New',monospace\">\n",
       "</pre>\n"
      ],
      "text/plain": [
       "\n"
      ]
     },
     "metadata": {},
     "output_type": "display_data"
    },
    {
     "name": "stderr",
     "output_type": "stream",
     "text": [
      "Sampling 4 chains for 1_000 tune and 1_000 draw iterations (4_000 + 4_000 draws total) took 91 seconds.\n"
     ]
    }
   ],
   "source": [
    "# complete pooling, intercepts only\n",
    "with pm.Model() as m1:\n",
    "\n",
    "    # priors\n",
    "    a = pm.Normal(\"a_bar\", 0.0, 1)\n",
    "    sigma = pm.Exponential(\"sigma\", 1.0)\n",
    "    \n",
    "    # linear model\n",
    "    mu = a\n",
    " \n",
    "    # likelihood\n",
    "    s = pm.Normal(\"s\", mu=mu, sigma=sigma, observed=df_data[\"tumor_size_std\"])\n",
    "\n",
    "    trace_m1 = pm.sample(\n",
    "        draws=1000, random_seed=19, return_inferencedata=True, progressbar=True\n",
    "    )"
   ]
  },
  {
   "cell_type": "code",
   "execution_count": 28,
   "metadata": {},
   "outputs": [
    {
     "data": {
      "text/html": [
       "<div>\n",
       "<style scoped>\n",
       "    .dataframe tbody tr th:only-of-type {\n",
       "        vertical-align: middle;\n",
       "    }\n",
       "\n",
       "    .dataframe tbody tr th {\n",
       "        vertical-align: top;\n",
       "    }\n",
       "\n",
       "    .dataframe thead th {\n",
       "        text-align: right;\n",
       "    }\n",
       "</style>\n",
       "<table border=\"1\" class=\"dataframe\">\n",
       "  <thead>\n",
       "    <tr style=\"text-align: right;\">\n",
       "      <th></th>\n",
       "      <th>mean</th>\n",
       "      <th>sd</th>\n",
       "      <th>hdi_3%</th>\n",
       "      <th>hdi_97%</th>\n",
       "      <th>mcse_mean</th>\n",
       "      <th>mcse_sd</th>\n",
       "      <th>ess_bulk</th>\n",
       "      <th>ess_tail</th>\n",
       "      <th>r_hat</th>\n",
       "    </tr>\n",
       "  </thead>\n",
       "  <tbody>\n",
       "    <tr>\n",
       "      <th>a_bar</th>\n",
       "      <td>0.001</td>\n",
       "      <td>0.044</td>\n",
       "      <td>-0.085</td>\n",
       "      <td>0.081</td>\n",
       "      <td>0.001</td>\n",
       "      <td>0.001</td>\n",
       "      <td>4108.0</td>\n",
       "      <td>2843.0</td>\n",
       "      <td>1.0</td>\n",
       "    </tr>\n",
       "    <tr>\n",
       "      <th>sigma</th>\n",
       "      <td>1.002</td>\n",
       "      <td>0.033</td>\n",
       "      <td>0.941</td>\n",
       "      <td>1.064</td>\n",
       "      <td>0.001</td>\n",
       "      <td>0.000</td>\n",
       "      <td>4231.0</td>\n",
       "      <td>2744.0</td>\n",
       "      <td>1.0</td>\n",
       "    </tr>\n",
       "  </tbody>\n",
       "</table>\n",
       "</div>"
      ],
      "text/plain": [
       "        mean     sd  hdi_3%  hdi_97%  mcse_mean  mcse_sd  ess_bulk  ess_tail  \\\n",
       "a_bar  0.001  0.044  -0.085    0.081      0.001    0.001    4108.0    2843.0   \n",
       "sigma  1.002  0.033   0.941    1.064      0.001    0.000    4231.0    2744.0   \n",
       "\n",
       "       r_hat  \n",
       "a_bar    1.0  \n",
       "sigma    1.0  "
      ]
     },
     "execution_count": 28,
     "metadata": {},
     "output_type": "execute_result"
    }
   ],
   "source": [
    "az.summary(trace_m1)"
   ]
  },
  {
   "cell_type": "code",
   "execution_count": 29,
   "metadata": {},
   "outputs": [
    {
     "data": {
      "text/plain": [
       "count    5.000000e+02\n",
       "mean     2.183143e-15\n",
       "std      1.001002e+00\n",
       "min     -2.332656e+00\n",
       "25%     -7.146172e-01\n",
       "50%     -6.385169e-04\n",
       "75%      6.553856e-01\n",
       "max      2.740292e+00\n",
       "Name: tumor_size, dtype: float64"
      ]
     },
     "execution_count": 29,
     "metadata": {},
     "output_type": "execute_result"
    }
   ],
   "source": [
    "standardize(df_data[\"tumor_size\"]).describe()"
   ]
  },
  {
   "cell_type": "code",
   "execution_count": 31,
   "metadata": {},
   "outputs": [
    {
     "data": {
      "text/plain": [
       "<Axes: >"
      ]
     },
     "execution_count": 31,
     "metadata": {},
     "output_type": "execute_result"
    },
    {
     "data": {
      "image/png": "[encoded data removed]",
      "text/plain": [
       "<Figure size 1200x500 with 2 Axes>"
      ]
     },
     "metadata": {},
     "output_type": "display_data"
    }
   ],
   "source": [
    "f, (ax0, ax1) = plt.subplots(1, 2, figsize=(12,5))   # do add subplots\n",
    "df_data[\"tumor_size\"].hist(ax=ax0)\n",
    "df_data[\"tumor_size_std\"].hist(ax=ax1)"
   ]
  },
  {
   "cell_type": "markdown",
   "metadata": {},
   "source": [
    "# Model 2. No pooling.\n",
    "Acknowledge that there are patient clusters but do not share any information across them. In other words have a prior but no adaptive regularization.\n",
    "\n",
    "$$ s_i \\sim \\text{Normal}(\\mu_i, \\sigma) $$\n",
    "\n",
    "$$ \\mu_i = \\alpha_{\\text{pt[i]}}  $$\n",
    "\n",
    "$$ \\alpha_j \\sim \\text{Normal}(0, 1) $$\n",
    "\n",
    "$$ \\sigma \\sim \\text{Exponential}(1) $$"
   ]
  },
  {
   "cell_type": "code",
   "execution_count": 42,
   "metadata": {},
   "outputs": [
    {
     "data": {
      "text/html": [
       "<div>\n",
       "<style scoped>\n",
       "    .dataframe tbody tr th:only-of-type {\n",
       "        vertical-align: middle;\n",
       "    }\n",
       "\n",
       "    .dataframe tbody tr th {\n",
       "        vertical-align: top;\n",
       "    }\n",
       "\n",
       "    .dataframe thead th {\n",
       "        text-align: right;\n",
       "    }\n",
       "</style>\n",
       "<table border=\"1\" class=\"dataframe\">\n",
       "  <thead>\n",
       "    <tr style=\"text-align: right;\">\n",
       "      <th></th>\n",
       "      <th>patient_id</th>\n",
       "      <th>time</th>\n",
       "      <th>tumor_size</th>\n",
       "      <th>age</th>\n",
       "      <th>treatment</th>\n",
       "      <th>tumor_size_std</th>\n",
       "    </tr>\n",
       "  </thead>\n",
       "  <tbody>\n",
       "    <tr>\n",
       "      <th>0</th>\n",
       "      <td>0</td>\n",
       "      <td>0</td>\n",
       "      <td>50.514378</td>\n",
       "      <td>44</td>\n",
       "      <td>0</td>\n",
       "      <td>-0.100848</td>\n",
       "    </tr>\n",
       "    <tr>\n",
       "      <th>1</th>\n",
       "      <td>0</td>\n",
       "      <td>1</td>\n",
       "      <td>49.589689</td>\n",
       "      <td>44</td>\n",
       "      <td>0</td>\n",
       "      <td>-0.499350</td>\n",
       "    </tr>\n",
       "    <tr>\n",
       "      <th>2</th>\n",
       "      <td>0</td>\n",
       "      <td>2</td>\n",
       "      <td>50.859369</td>\n",
       "      <td>44</td>\n",
       "      <td>0</td>\n",
       "      <td>0.047828</td>\n",
       "    </tr>\n",
       "    <tr>\n",
       "      <th>3</th>\n",
       "      <td>0</td>\n",
       "      <td>3</td>\n",
       "      <td>53.404866</td>\n",
       "      <td>44</td>\n",
       "      <td>0</td>\n",
       "      <td>1.144829</td>\n",
       "    </tr>\n",
       "    <tr>\n",
       "      <th>4</th>\n",
       "      <td>0</td>\n",
       "      <td>4</td>\n",
       "      <td>51.531560</td>\n",
       "      <td>44</td>\n",
       "      <td>0</td>\n",
       "      <td>0.337514</td>\n",
       "    </tr>\n",
       "  </tbody>\n",
       "</table>\n",
       "</div>"
      ],
      "text/plain": [
       "   patient_id  time  tumor_size  age  treatment  tumor_size_std\n",
       "0           0     0   50.514378   44          0       -0.100848\n",
       "1           0     1   49.589689   44          0       -0.499350\n",
       "2           0     2   50.859369   44          0        0.047828\n",
       "3           0     3   53.404866   44          0        1.144829\n",
       "4           0     4   51.531560   44          0        0.337514"
      ]
     },
     "execution_count": 42,
     "metadata": {},
     "output_type": "execute_result"
    }
   ],
   "source": [
    "df_data.head()"
   ]
  },
  {
   "cell_type": "code",
   "execution_count": 45,
   "metadata": {},
   "outputs": [
    {
     "data": {
      "text/plain": [
       "20"
      ]
     },
     "execution_count": 45,
     "metadata": {},
     "output_type": "execute_result"
    }
   ],
   "source": [
    "df_data['patient_id'].nunique()"
   ]
  },
  {
   "cell_type": "code",
   "execution_count": 49,
   "metadata": {},
   "outputs": [
    {
     "data": {
      "text/html": [
       "<pre style=\"white-space:pre;overflow-x:auto;line-height:normal;font-family:Menlo,'DejaVu Sans Mono',consolas,'Courier New',monospace\">Sampling 4 chains, 0 divergences <span style=\"color: #008000; text-decoration-color: #008000\">━━━━━━━━━━━━━━━━━━━━━━━━━━━━━━━━━━━━━━━━</span> <span style=\"color: #800080; text-decoration-color: #800080\">100%</span> <span style=\"color: #008080; text-decoration-color: #008080\">0:00:00</span> / <span style=\"color: #808000; text-decoration-color: #808000\">0:00:29</span>\n",
       "</pre>\n"
      ],
      "text/plain": [
       "Sampling 4 chains, 0 divergences \u001b[32m━━━━━━━━━━━━━━━━━━━━━━━━━━━━━━━━━━━━━━━━\u001b[0m \u001b[35m100%\u001b[0m \u001b[36m0:00:00\u001b[0m / \u001b[33m0:00:29\u001b[0m\n"
      ]
     },
     "metadata": {},
     "output_type": "display_data"
    },
    {
     "data": {
      "text/html": [
       "<pre style=\"white-space:pre;overflow-x:auto;line-height:normal;font-family:Menlo,'DejaVu Sans Mono',consolas,'Courier New',monospace\"></pre>\n"
      ],
      "text/plain": []
     },
     "metadata": {},
     "output_type": "display_data"
    },
    {
     "data": {
      "text/html": [
       "<pre style=\"white-space:pre;overflow-x:auto;line-height:normal;font-family:Menlo,'DejaVu Sans Mono',consolas,'Courier New',monospace\">\n",
       "</pre>\n"
      ],
      "text/plain": [
       "\n"
      ]
     },
     "metadata": {},
     "output_type": "display_data"
    },
    {
     "name": "stderr",
     "output_type": "stream",
     "text": [
      "Sampling 4 chains for 1_000 tune and 1_000 draw iterations (4_000 + 4_000 draws total) took 68 seconds.\n"
     ]
    }
   ],
   "source": [
    "# no pooling, intercepts only\n",
    "with pm.Model() as m2:\n",
    "\n",
    "    # priors\n",
    "    a = pm.Normal(\"a\", 0.0, 1, shape=df_data['patient_id'].nunique())\n",
    "    sigma = pm.Exponential(\"sigma\", 1.0)\n",
    "    \n",
    "    # linear model... # initialize with pymc data?... represent patient as its own cluster\n",
    "    mu = a[df_data['patient_id']]\n",
    " \n",
    "    # likelihood\n",
    "    s = pm.Normal(\"s\", mu=mu, sigma=sigma, observed=df_data[\"tumor_size_std\"])\n",
    "\n",
    "    trace_m2 = pm.sample(\n",
    "        draws=1000, random_seed=19, return_inferencedata=True, progressbar=True\n",
    "    )"
   ]
  },
  {
   "cell_type": "code",
   "execution_count": 50,
   "metadata": {},
   "outputs": [
    {
     "data": {
      "text/html": [
       "<div>\n",
       "<style scoped>\n",
       "    .dataframe tbody tr th:only-of-type {\n",
       "        vertical-align: middle;\n",
       "    }\n",
       "\n",
       "    .dataframe tbody tr th {\n",
       "        vertical-align: top;\n",
       "    }\n",
       "\n",
       "    .dataframe thead th {\n",
       "        text-align: right;\n",
       "    }\n",
       "</style>\n",
       "<table border=\"1\" class=\"dataframe\">\n",
       "  <thead>\n",
       "    <tr style=\"text-align: right;\">\n",
       "      <th></th>\n",
       "      <th>mean</th>\n",
       "      <th>sd</th>\n",
       "      <th>hdi_3%</th>\n",
       "      <th>hdi_97%</th>\n",
       "      <th>mcse_mean</th>\n",
       "      <th>mcse_sd</th>\n",
       "      <th>ess_bulk</th>\n",
       "      <th>ess_tail</th>\n",
       "      <th>r_hat</th>\n",
       "    </tr>\n",
       "  </thead>\n",
       "  <tbody>\n",
       "    <tr>\n",
       "      <th>a[0]</th>\n",
       "      <td>0.156</td>\n",
       "      <td>0.408</td>\n",
       "      <td>-0.627</td>\n",
       "      <td>0.889</td>\n",
       "      <td>0.004</td>\n",
       "      <td>0.007</td>\n",
       "      <td>9283.0</td>\n",
       "      <td>2878.0</td>\n",
       "      <td>1.0</td>\n",
       "    </tr>\n",
       "    <tr>\n",
       "      <th>a[1]</th>\n",
       "      <td>-0.271</td>\n",
       "      <td>0.405</td>\n",
       "      <td>-1.037</td>\n",
       "      <td>0.482</td>\n",
       "      <td>0.004</td>\n",
       "      <td>0.005</td>\n",
       "      <td>9487.0</td>\n",
       "      <td>2949.0</td>\n",
       "      <td>1.0</td>\n",
       "    </tr>\n",
       "    <tr>\n",
       "      <th>a[2]</th>\n",
       "      <td>0.103</td>\n",
       "      <td>0.406</td>\n",
       "      <td>-0.629</td>\n",
       "      <td>0.909</td>\n",
       "      <td>0.004</td>\n",
       "      <td>0.007</td>\n",
       "      <td>8760.0</td>\n",
       "      <td>3246.0</td>\n",
       "      <td>1.0</td>\n",
       "    </tr>\n",
       "    <tr>\n",
       "      <th>a[3]</th>\n",
       "      <td>0.517</td>\n",
       "      <td>0.402</td>\n",
       "      <td>-0.293</td>\n",
       "      <td>1.219</td>\n",
       "      <td>0.004</td>\n",
       "      <td>0.005</td>\n",
       "      <td>8122.0</td>\n",
       "      <td>2893.0</td>\n",
       "      <td>1.0</td>\n",
       "    </tr>\n",
       "    <tr>\n",
       "      <th>a[4]</th>\n",
       "      <td>0.585</td>\n",
       "      <td>0.415</td>\n",
       "      <td>-0.187</td>\n",
       "      <td>1.380</td>\n",
       "      <td>0.004</td>\n",
       "      <td>0.004</td>\n",
       "      <td>9844.0</td>\n",
       "      <td>2757.0</td>\n",
       "      <td>1.0</td>\n",
       "    </tr>\n",
       "  </tbody>\n",
       "</table>\n",
       "</div>"
      ],
      "text/plain": [
       "       mean     sd  hdi_3%  hdi_97%  mcse_mean  mcse_sd  ess_bulk  ess_tail  \\\n",
       "a[0]  0.156  0.408  -0.627    0.889      0.004    0.007    9283.0    2878.0   \n",
       "a[1] -0.271  0.405  -1.037    0.482      0.004    0.005    9487.0    2949.0   \n",
       "a[2]  0.103  0.406  -0.629    0.909      0.004    0.007    8760.0    3246.0   \n",
       "a[3]  0.517  0.402  -0.293    1.219      0.004    0.005    8122.0    2893.0   \n",
       "a[4]  0.585  0.415  -0.187    1.380      0.004    0.004    9844.0    2757.0   \n",
       "\n",
       "      r_hat  \n",
       "a[0]    1.0  \n",
       "a[1]    1.0  \n",
       "a[2]    1.0  \n",
       "a[3]    1.0  \n",
       "a[4]    1.0  "
      ]
     },
     "execution_count": 50,
     "metadata": {},
     "output_type": "execute_result"
    }
   ],
   "source": [
    "az.summary(trace_m2).head()"
   ]
  },
  {
   "cell_type": "code",
   "execution_count": 56,
   "metadata": {},
   "outputs": [
    {
     "data": {
      "image/png": "[encoded data removed]",
      "text/plain": [
       "<Figure size 640x480 with 1 Axes>"
      ]
     },
     "metadata": {},
     "output_type": "display_data"
    }
   ],
   "source": [
    "f, ax = plt.subplots()\n",
    "ax.scatter(\n",
    "    az.summary(trace_m2, var_names=['a'])['mean'],\n",
    "    standardize(df_data.groupby('patient_id')['tumor_size'].mean())\n",
    ")\n",
    "ax.plot([0, 1], [0, 1], transform=ax.transAxes, linestyle='dashed', color='gray')\n",
    "ax.set(\n",
    "    xlabel='raw data',\n",
    "    ylabel='model parameter of intercepts'\n",
    ");"
   ]
  },
  {
   "cell_type": "markdown",
   "metadata": {},
   "source": [
    "# Model 3. Use random intercepts.\n",
    "\n",
    "$$ s_i \\sim \\text{Normal}(\\mu_i, \\sigma) $$\n",
    "\n",
    "$$ \\mu_i = \\alpha_{\\text{pt[i]}}  $$\n",
    "\n",
    "$$ \\alpha_j \\sim \\text{Normal}(\\bar{\\alpha}, \\sigma_{\\text{pt}}) $$\n",
    "\n",
    "$$ \\bar{\\alpha} \\sim \\text{Normal}(0, 1) $$\n",
    "\n",
    "\n",
    "\n",
    "$$ \\sigma_{\\text{pt}} \\sim \\text{Exponential}(1) $$\n",
    "\n",
    "$$ \\sigma \\sim \\text{Exponential}(1) $$\n",
    "\n",
    "\n",
    "make alpha_i use alpha_bar as a regularizing prior... unsure how to think of SD priors... can sigma parameter be partially pooled?"
   ]
  },
  {
   "cell_type": "code",
   "execution_count": 57,
   "metadata": {},
   "outputs": [
    {
     "data": {
      "text/html": [
       "<pre style=\"white-space:pre;overflow-x:auto;line-height:normal;font-family:Menlo,'DejaVu Sans Mono',consolas,'Courier New',monospace\">Sampling 4 chains, 1,360 divergences <span style=\"color: #1764f4; text-decoration-color: #1764f4\">━━━━━━━━━━━━━━━━━━━━━━━━━━━━━━━━━━━━━━━</span><span style=\"color: #3a3a3a; text-decoration-color: #3a3a3a\">╺</span> <span style=\"color: #800080; text-decoration-color: #800080\"> 98%</span> <span style=\"color: #008080; text-decoration-color: #008080\">0:00:01</span> / <span style=\"color: #808000; text-decoration-color: #808000\">0:00:41</span>\n",
       "</pre>\n"
      ],
      "text/plain": [
       "Sampling 4 chains, 1,360 divergences \u001b[38;2;23;100;244m━━━━━━━━━━━━━━━━━━━━━━━━━━━━━━━━━━━━━━━\u001b[0m\u001b[38;5;237m╺\u001b[0m \u001b[35m 98%\u001b[0m \u001b[36m0:00:01\u001b[0m / \u001b[33m0:00:41\u001b[0m\n"
      ]
     },
     "metadata": {},
     "output_type": "display_data"
    },
    {
     "name": "stderr",
     "output_type": "stream",
     "text": [
      "IOPub message rate exceeded.\n",
      "The Jupyter server will temporarily stop sending output\n",
      "to the client in order to avoid crashing it.\n",
      "To change this limit, set the config variable\n",
      "`--ServerApp.iopub_msg_rate_limit`.\n",
      "\n",
      "Current values:\n",
      "ServerApp.iopub_msg_rate_limit=1000.0 (msgs/sec)\n",
      "ServerApp.rate_limit_window=3.0 (secs)\n",
      "\n"
     ]
    }
   ],
   "source": [
    "# multilevel model, random intercepts\n",
    "with pm.Model() as m3:\n",
    "\n",
    "    # prior for average patient\n",
    "    a_bar = pm.Normal(\"a_bar\", 0.0, 1)\n",
    "    sigma = pm.Exponential(\"sigma\", 1.0)\n",
    "    \n",
    "    # prior for SD of patients\n",
    "    sigma_pt = pm.Exponential(\"sigma_pt\", 1.0)\n",
    "\n",
    "    # alpha priors for each patient\n",
    "    a = pm.Normal(\"a\", a_bar, sigma_pt, shape=len(df_data[\"patient_id\"].unique()))\n",
    "\n",
    "    # linear model\n",
    "    mu = a[df_data['patient_id']]\n",
    " \n",
    "    # likelihood\n",
    "    s = pm.Normal(\"s\", mu=mu, sigma=sigma, observed=df_data[\"tumor_size_std\"])\n",
    "\n",
    "    trace_m3 = pm.sample(\n",
    "        draws=1000, random_seed=19, return_inferencedata=True, progressbar=True\n",
    "    )"
   ]
  },
  {
   "cell_type": "code",
   "execution_count": 61,
   "metadata": {},
   "outputs": [
    {
     "data": {
      "text/html": [
       "<div>\n",
       "<style scoped>\n",
       "    .dataframe tbody tr th:only-of-type {\n",
       "        vertical-align: middle;\n",
       "    }\n",
       "\n",
       "    .dataframe tbody tr th {\n",
       "        vertical-align: top;\n",
       "    }\n",
       "\n",
       "    .dataframe thead th {\n",
       "        text-align: right;\n",
       "    }\n",
       "</style>\n",
       "<table border=\"1\" class=\"dataframe\">\n",
       "  <thead>\n",
       "    <tr style=\"text-align: right;\">\n",
       "      <th></th>\n",
       "      <th>mean</th>\n",
       "      <th>sd</th>\n",
       "      <th>hdi_3%</th>\n",
       "      <th>hdi_97%</th>\n",
       "      <th>mcse_mean</th>\n",
       "      <th>mcse_sd</th>\n",
       "      <th>ess_bulk</th>\n",
       "      <th>ess_tail</th>\n",
       "      <th>r_hat</th>\n",
       "    </tr>\n",
       "  </thead>\n",
       "  <tbody>\n",
       "    <tr>\n",
       "      <th>a[0]</th>\n",
       "      <td>0.052</td>\n",
       "      <td>0.168</td>\n",
       "      <td>-0.286</td>\n",
       "      <td>0.343</td>\n",
       "      <td>0.033</td>\n",
       "      <td>0.024</td>\n",
       "      <td>27.0</td>\n",
       "      <td>233.0</td>\n",
       "      <td>1.11</td>\n",
       "    </tr>\n",
       "    <tr>\n",
       "      <th>a[1]</th>\n",
       "      <td>0.001</td>\n",
       "      <td>0.172</td>\n",
       "      <td>-0.354</td>\n",
       "      <td>0.262</td>\n",
       "      <td>0.043</td>\n",
       "      <td>0.031</td>\n",
       "      <td>18.0</td>\n",
       "      <td>214.0</td>\n",
       "      <td>1.16</td>\n",
       "    </tr>\n",
       "    <tr>\n",
       "      <th>a[2]</th>\n",
       "      <td>0.043</td>\n",
       "      <td>0.177</td>\n",
       "      <td>-0.329</td>\n",
       "      <td>0.303</td>\n",
       "      <td>0.038</td>\n",
       "      <td>0.027</td>\n",
       "      <td>23.0</td>\n",
       "      <td>219.0</td>\n",
       "      <td>1.13</td>\n",
       "    </tr>\n",
       "    <tr>\n",
       "      <th>a[3]</th>\n",
       "      <td>0.083</td>\n",
       "      <td>0.178</td>\n",
       "      <td>-0.246</td>\n",
       "      <td>0.399</td>\n",
       "      <td>0.034</td>\n",
       "      <td>0.024</td>\n",
       "      <td>25.0</td>\n",
       "      <td>229.0</td>\n",
       "      <td>1.16</td>\n",
       "    </tr>\n",
       "    <tr>\n",
       "      <th>a[4]</th>\n",
       "      <td>0.089</td>\n",
       "      <td>0.175</td>\n",
       "      <td>-0.227</td>\n",
       "      <td>0.444</td>\n",
       "      <td>0.018</td>\n",
       "      <td>0.012</td>\n",
       "      <td>71.0</td>\n",
       "      <td>680.0</td>\n",
       "      <td>1.56</td>\n",
       "    </tr>\n",
       "  </tbody>\n",
       "</table>\n",
       "</div>"
      ],
      "text/plain": [
       "       mean     sd  hdi_3%  hdi_97%  mcse_mean  mcse_sd  ess_bulk  ess_tail  \\\n",
       "a[0]  0.052  0.168  -0.286    0.343      0.033    0.024      27.0     233.0   \n",
       "a[1]  0.001  0.172  -0.354    0.262      0.043    0.031      18.0     214.0   \n",
       "a[2]  0.043  0.177  -0.329    0.303      0.038    0.027      23.0     219.0   \n",
       "a[3]  0.083  0.178  -0.246    0.399      0.034    0.024      25.0     229.0   \n",
       "a[4]  0.089  0.175  -0.227    0.444      0.018    0.012      71.0     680.0   \n",
       "\n",
       "      r_hat  \n",
       "a[0]   1.11  \n",
       "a[1]   1.16  \n",
       "a[2]   1.13  \n",
       "a[3]   1.16  \n",
       "a[4]   1.56  "
      ]
     },
     "execution_count": 61,
     "metadata": {},
     "output_type": "execute_result"
    }
   ],
   "source": [
    "az.summary(trace_m3, var_names=['a']).head()"
   ]
  },
  {
   "cell_type": "code",
   "execution_count": null,
   "metadata": {},
   "outputs": [],
   "source": []
  },
  {
   "cell_type": "markdown",
   "metadata": {},
   "source": [
    "# Comparison of estimates of complete pooling, no pooling, partial pooling\n",
    "\n",
    "- do means and SD"
   ]
  },
  {
   "cell_type": "code",
   "execution_count": 77,
   "metadata": {},
   "outputs": [
    {
     "data": {
      "text/plain": [
       "(0.1482, 0.45465)"
      ]
     },
     "execution_count": 77,
     "metadata": {},
     "output_type": "execute_result"
    },
    {
     "data": {
      "image/png": "[encoded data removed]",
      "text/plain": [
       "<Figure size 1200x500 with 2 Axes>"
      ]
     },
     "metadata": {},
     "output_type": "display_data"
    }
   ],
   "source": [
    "f, (ax0, ax1) = plt.subplots(1, 2, figsize=(12, 5))\n",
    "\n",
    "# means\n",
    "ax0.scatter(\n",
    "    az.summary(trace_m2, var_names=['a'])['mean'],\n",
    "    az.summary(trace_m3, var_names=['a'])['mean'],\n",
    "    facecolors='none',\n",
    "    edgecolors='k'\n",
    ")\n",
    "ax0.plot([0, 1], [0, 1], transform=ax0.transAxes, linestyle='dashed', color='gray')\n",
    "ax0.set(\n",
    "    xlabel='model parameter of intercepts (no pooling)',\n",
    "    ylabel='model parameter of intercepts (partial pooling)',\n",
    "    title='mean'\n",
    ");\n",
    "\n",
    "# SD\n",
    "ax1.scatter(\n",
    "    az.summary(trace_m2, var_names=['a'])['sd'],\n",
    "    az.summary(trace_m3, var_names=['a'])['sd'],\n",
    "    facecolors='none',\n",
    "    edgecolors='k'\n",
    ")\n",
    "ax1.plot([0, 1], [0, 1], transform=ax0.transAxes, linestyle='dashed', color='gray')\n",
    "ax1.set(\n",
    "    xlabel='model parameter of intercepts (no pooling)',\n",
    "    ylabel='model parameter of intercepts (partial pooling)',\n",
    "    title='standard deviation'\n",
    ");\n",
    "ax1.plot([0, 1], [0, 1], transform=ax1.transAxes, linestyle='dashed', color='gray')\n",
    "\n",
    "# Calculate the minimum and maximum of both x and y data\n",
    "data_min = min(min(az.summary(trace_m2, var_names=['a'])['sd']), min(az.summary(trace_m3, var_names=['a'])['sd']))\n",
    "data_max = max(max(az.summary(trace_m2, var_names=['a'])['sd']), max(az.summary(trace_m3, var_names=['a'])['sd']))\n",
    "\n",
    "# Set the limits to be the same for both axes\n",
    "ax1.set_xlim(data_min*0.95, data_max*1.05)\n",
    "ax1.set_ylim(data_min*0.95, data_max*1.05)\n",
    "\n"
   ]
  },
  {
   "cell_type": "code",
   "execution_count": null,
   "metadata": {},
   "outputs": [],
   "source": []
  },
  {
   "cell_type": "markdown",
   "metadata": {},
   "source": [
    "# MODEL WITH SLOPES"
   ]
  },
  {
   "cell_type": "code",
   "execution_count": 10,
   "metadata": {},
   "outputs": [
    {
     "name": "stderr",
     "output_type": "stream",
     "text": [
      "Auto-assigning NUTS sampler...\n",
      "Initializing NUTS using jitter+adapt_diag...\n",
      "Multiprocess sampling (4 chains in 4 jobs)\n",
      "NUTS: [a_bar, sigma, sigma_pt, a, bT, bA, bR]\n"
     ]
    },
    {
     "data": {
      "text/html": [
       "<pre style=\"white-space:pre;overflow-x:auto;line-height:normal;font-family:Menlo,'DejaVu Sans Mono',consolas,'Courier New',monospace\">/Users/benlacar/opt/anaconda3/envs/pymc_env_2405/lib/python3.12/site-packages/rich/live.py:231: UserWarning: \n",
       "install \"ipywidgets\" for Jupyter support\n",
       "  warnings.warn('install \"ipywidgets\" for Jupyter support')\n",
       "</pre>\n"
      ],
      "text/plain": [
       "/Users/benlacar/opt/anaconda3/envs/pymc_env_2405/lib/python3.12/site-packages/rich/live.py:231: UserWarning: \n",
       "install \"ipywidgets\" for Jupyter support\n",
       "  warnings.warn('install \"ipywidgets\" for Jupyter support')\n"
      ]
     },
     "metadata": {},
     "output_type": "display_data"
    },
    {
     "data": {
      "text/html": [
       "<pre style=\"white-space:pre;overflow-x:auto;line-height:normal;font-family:Menlo,'DejaVu Sans Mono',consolas,'Courier New',monospace\"></pre>\n"
      ],
      "text/plain": []
     },
     "metadata": {},
     "output_type": "display_data"
    },
    {
     "data": {
      "text/html": [
       "<pre style=\"white-space:pre;overflow-x:auto;line-height:normal;font-family:Menlo,'DejaVu Sans Mono',consolas,'Courier New',monospace\">\n",
       "</pre>\n"
      ],
      "text/plain": [
       "\n"
      ]
     },
     "metadata": {},
     "output_type": "display_data"
    },
    {
     "name": "stderr",
     "output_type": "stream",
     "text": [
      "Sampling 4 chains for 1_000 tune and 1_000 draw iterations (4_000 + 4_000 draws total) took 77 seconds.\n",
      "The rhat statistic is larger than 1.01 for some parameters. This indicates problems during sampling. See https://arxiv.org/abs/1903.08008 for details\n",
      "The effective sample size per chain is smaller than 100 for some parameters.  A higher number is needed for reliable rhat and ess computation. See https://arxiv.org/abs/1903.08008 for details\n"
     ]
    }
   ],
   "source": [
    "# multilevel model\n",
    "with pm.Model() as m3:\n",
    "\n",
    "    # prior for average patient\n",
    "    a_bar = pm.Normal(\"a_bar\", 0.0, 1)\n",
    "    sigma = pm.Exponential(\"sigma\", 1.0)\n",
    "    \n",
    "    # prior for SD of patients\n",
    "    sigma_pt = pm.Exponential(\"sigma_pt\", 1.0)\n",
    "\n",
    "    # alpha priors for each patient\n",
    "    a = pm.Normal(\"a\", a_bar, sigma_pt, shape=len(df_data[\"patient_id\"].unique()))\n",
    "\n",
    "    # priors for betas\n",
    "    bT = pm.Normal(\"bT\", 0, 1)\n",
    "    bA = pm.Normal(\"bA\", 0, 1)\n",
    "    bR = pm.Normal(\"bR\", 0, 1)\n",
    "\n",
    "    # linear model\n",
    "    mu = a[df_data['patient_id']\n",
    " \n",
    "    # likelihood\n",
    "    s = pm.Normal(\"s\", mu=mu, sigma=sigma, observed=df_data[\"tumor_size_std\"])\n",
    "\n",
    "    trace_mme = pm.sample(\n",
    "        draws=1000, random_seed=19, return_inferencedata=True, progressbar=True\n",
    "    )"
   ]
  },
  {
   "cell_type": "code",
   "execution_count": 13,
   "metadata": {},
   "outputs": [
    {
     "data": {
      "text/html": [
       "<div>\n",
       "<style scoped>\n",
       "    .dataframe tbody tr th:only-of-type {\n",
       "        vertical-align: middle;\n",
       "    }\n",
       "\n",
       "    .dataframe tbody tr th {\n",
       "        vertical-align: top;\n",
       "    }\n",
       "\n",
       "    .dataframe thead th {\n",
       "        text-align: right;\n",
       "    }\n",
       "</style>\n",
       "<table border=\"1\" class=\"dataframe\">\n",
       "  <thead>\n",
       "    <tr style=\"text-align: right;\">\n",
       "      <th></th>\n",
       "      <th>mean</th>\n",
       "      <th>sd</th>\n",
       "      <th>hdi_3%</th>\n",
       "      <th>hdi_97%</th>\n",
       "      <th>mcse_mean</th>\n",
       "      <th>mcse_sd</th>\n",
       "      <th>ess_bulk</th>\n",
       "      <th>ess_tail</th>\n",
       "      <th>r_hat</th>\n",
       "    </tr>\n",
       "  </thead>\n",
       "  <tbody>\n",
       "    <tr>\n",
       "      <th>a_bar</th>\n",
       "      <td>2.127</td>\n",
       "      <td>0.934</td>\n",
       "      <td>0.470</td>\n",
       "      <td>3.933</td>\n",
       "      <td>0.069</td>\n",
       "      <td>0.049</td>\n",
       "      <td>180.0</td>\n",
       "      <td>488.0</td>\n",
       "      <td>1.02</td>\n",
       "    </tr>\n",
       "    <tr>\n",
       "      <th>bT</th>\n",
       "      <td>0.544</td>\n",
       "      <td>0.063</td>\n",
       "      <td>0.433</td>\n",
       "      <td>0.666</td>\n",
       "      <td>0.001</td>\n",
       "      <td>0.001</td>\n",
       "      <td>3216.0</td>\n",
       "      <td>2668.0</td>\n",
       "      <td>1.00</td>\n",
       "    </tr>\n",
       "    <tr>\n",
       "      <th>bA</th>\n",
       "      <td>0.851</td>\n",
       "      <td>0.021</td>\n",
       "      <td>0.815</td>\n",
       "      <td>0.891</td>\n",
       "      <td>0.002</td>\n",
       "      <td>0.001</td>\n",
       "      <td>118.0</td>\n",
       "      <td>278.0</td>\n",
       "      <td>1.02</td>\n",
       "    </tr>\n",
       "    <tr>\n",
       "      <th>bR</th>\n",
       "      <td>0.275</td>\n",
       "      <td>0.813</td>\n",
       "      <td>-1.199</td>\n",
       "      <td>1.869</td>\n",
       "      <td>0.042</td>\n",
       "      <td>0.029</td>\n",
       "      <td>382.0</td>\n",
       "      <td>687.0</td>\n",
       "      <td>1.00</td>\n",
       "    </tr>\n",
       "  </tbody>\n",
       "</table>\n",
       "</div>"
      ],
      "text/plain": [
       "        mean     sd  hdi_3%  hdi_97%  mcse_mean  mcse_sd  ess_bulk  ess_tail  \\\n",
       "a_bar  2.127  0.934   0.470    3.933      0.069    0.049     180.0     488.0   \n",
       "bT     0.544  0.063   0.433    0.666      0.001    0.001    3216.0    2668.0   \n",
       "bA     0.851  0.021   0.815    0.891      0.002    0.001     118.0     278.0   \n",
       "bR     0.275  0.813  -1.199    1.869      0.042    0.029     382.0     687.0   \n",
       "\n",
       "       r_hat  \n",
       "a_bar   1.02  \n",
       "bT      1.00  \n",
       "bA      1.02  \n",
       "bR      1.00  "
      ]
     },
     "execution_count": 13,
     "metadata": {},
     "output_type": "execute_result"
    }
   ],
   "source": [
    "az.summary(trace_mme, var_names=['a_bar', 'bT', 'bA', 'bR'])"
   ]
  },
  {
   "cell_type": "code",
   "execution_count": 16,
   "metadata": {},
   "outputs": [
    {
     "data": {
      "text/html": [
       "<div>\n",
       "<style scoped>\n",
       "    .dataframe tbody tr th:only-of-type {\n",
       "        vertical-align: middle;\n",
       "    }\n",
       "\n",
       "    .dataframe tbody tr th {\n",
       "        vertical-align: top;\n",
       "    }\n",
       "\n",
       "    .dataframe thead th {\n",
       "        text-align: right;\n",
       "    }\n",
       "</style>\n",
       "<table border=\"1\" class=\"dataframe\">\n",
       "  <thead>\n",
       "    <tr style=\"text-align: right;\">\n",
       "      <th></th>\n",
       "      <th>mean</th>\n",
       "      <th>sd</th>\n",
       "      <th>hdi_3%</th>\n",
       "      <th>hdi_97%</th>\n",
       "      <th>mcse_mean</th>\n",
       "      <th>mcse_sd</th>\n",
       "      <th>ess_bulk</th>\n",
       "      <th>ess_tail</th>\n",
       "      <th>r_hat</th>\n",
       "    </tr>\n",
       "  </thead>\n",
       "  <tbody>\n",
       "    <tr>\n",
       "      <th>a[0]</th>\n",
       "      <td>4.424</td>\n",
       "      <td>1.398</td>\n",
       "      <td>1.905</td>\n",
       "      <td>6.948</td>\n",
       "      <td>0.102</td>\n",
       "      <td>0.073</td>\n",
       "      <td>187.0</td>\n",
       "      <td>569.0</td>\n",
       "      <td>1.01</td>\n",
       "    </tr>\n",
       "    <tr>\n",
       "      <th>a[1]</th>\n",
       "      <td>-9.324</td>\n",
       "      <td>1.652</td>\n",
       "      <td>-12.376</td>\n",
       "      <td>-6.324</td>\n",
       "      <td>0.128</td>\n",
       "      <td>0.091</td>\n",
       "      <td>167.0</td>\n",
       "      <td>411.0</td>\n",
       "      <td>1.01</td>\n",
       "    </tr>\n",
       "    <tr>\n",
       "      <th>a[2]</th>\n",
       "      <td>-3.166</td>\n",
       "      <td>1.567</td>\n",
       "      <td>-5.975</td>\n",
       "      <td>-0.116</td>\n",
       "      <td>0.121</td>\n",
       "      <td>0.085</td>\n",
       "      <td>169.0</td>\n",
       "      <td>462.0</td>\n",
       "      <td>1.02</td>\n",
       "    </tr>\n",
       "    <tr>\n",
       "      <th>a[3]</th>\n",
       "      <td>-6.716</td>\n",
       "      <td>1.604</td>\n",
       "      <td>-9.723</td>\n",
       "      <td>-3.710</td>\n",
       "      <td>0.127</td>\n",
       "      <td>0.090</td>\n",
       "      <td>160.0</td>\n",
       "      <td>423.0</td>\n",
       "      <td>1.02</td>\n",
       "    </tr>\n",
       "    <tr>\n",
       "      <th>a[4]</th>\n",
       "      <td>-9.756</td>\n",
       "      <td>1.686</td>\n",
       "      <td>-12.962</td>\n",
       "      <td>-6.729</td>\n",
       "      <td>0.132</td>\n",
       "      <td>0.093</td>\n",
       "      <td>163.0</td>\n",
       "      <td>443.0</td>\n",
       "      <td>1.02</td>\n",
       "    </tr>\n",
       "  </tbody>\n",
       "</table>\n",
       "</div>"
      ],
      "text/plain": [
       "       mean     sd  hdi_3%  hdi_97%  mcse_mean  mcse_sd  ess_bulk  ess_tail  \\\n",
       "a[0]  4.424  1.398   1.905    6.948      0.102    0.073     187.0     569.0   \n",
       "a[1] -9.324  1.652 -12.376   -6.324      0.128    0.091     167.0     411.0   \n",
       "a[2] -3.166  1.567  -5.975   -0.116      0.121    0.085     169.0     462.0   \n",
       "a[3] -6.716  1.604  -9.723   -3.710      0.127    0.090     160.0     423.0   \n",
       "a[4] -9.756  1.686 -12.962   -6.729      0.132    0.093     163.0     443.0   \n",
       "\n",
       "      r_hat  \n",
       "a[0]   1.01  \n",
       "a[1]   1.01  \n",
       "a[2]   1.02  \n",
       "a[3]   1.02  \n",
       "a[4]   1.02  "
      ]
     },
     "execution_count": 16,
     "metadata": {},
     "output_type": "execute_result"
    }
   ],
   "source": [
    "az.summary(trace_mme, var_names=['a']).head()"
   ]
  },
  {
   "cell_type": "code",
   "execution_count": 15,
   "metadata": {},
   "outputs": [
    {
     "data": {
      "text/plain": [
       "patient_id\n",
       "0    51.488039\n",
       "1    49.438208\n",
       "2    51.443730\n",
       "3    50.355497\n",
       "4    49.872089\n",
       "Name: tumor_size, dtype: float64"
      ]
     },
     "execution_count": 15,
     "metadata": {},
     "output_type": "execute_result"
    }
   ],
   "source": [
    "df_data.groupby('patient_id')['tumor_size'].mean().head()"
   ]
  },
  {
   "cell_type": "code",
   "execution_count": 17,
   "metadata": {},
   "outputs": [
    {
     "data": {
      "text/plain": [
       "0     52.521422\n",
       "5     48.838559\n",
       "10    54.273947\n",
       "15    50.312740\n",
       "20    46.751843\n",
       "Name: tumor_size, dtype: float64"
      ]
     },
     "execution_count": 17,
     "metadata": {},
     "output_type": "execute_result"
    }
   ],
   "source": [
    "df_data.groupby('patient_id')['tumor_size'].head(1).head()"
   ]
  },
  {
   "cell_type": "code",
   "execution_count": 18,
   "metadata": {},
   "outputs": [
    {
     "data": {
      "text/plain": [
       "<matplotlib.collections.PathCollection at 0x172153650>"
      ]
     },
     "execution_count": 18,
     "metadata": {},
     "output_type": "execute_result"
    },
    {
     "data": {
      "image/png": "[encoded data removed]",
      "text/plain": [
       "<Figure size 640x480 with 1 Axes>"
      ]
     },
     "metadata": {},
     "output_type": "display_data"
    }
   ],
   "source": [
    "f, ax = plt.subplots()\n",
    "ax.scatter(\n",
    "    az.summary(trace_mme, var_names=['a'])['mean'],\n",
    "    df_data.groupby('patient_id')['tumor_size'].head(1)\n",
    ")\n",
    "    "
   ]
  },
  {
   "cell_type": "code",
   "execution_count": 19,
   "metadata": {},
   "outputs": [
    {
     "data": {
      "text/plain": [
       "<matplotlib.collections.PathCollection at 0x17322a840>"
      ]
     },
     "execution_count": 19,
     "metadata": {},
     "output_type": "execute_result"
    },
    {
     "data": {
      "image/png": "[encoded data removed]",
      "text/plain": [
       "<Figure size 640x480 with 1 Axes>"
      ]
     },
     "metadata": {},
     "output_type": "display_data"
    }
   ],
   "source": [
    "f, ax = plt.subplots()\n",
    "ax.scatter(\n",
    "    az.summary(trace_mme, var_names=['a'])['mean'],\n",
    "    df_data.groupby('patient_id')['tumor_size'].mean()\n",
    ")"
   ]
  },
  {
   "cell_type": "code",
   "execution_count": null,
   "metadata": {},
   "outputs": [],
   "source": []
  },
  {
   "cell_type": "code",
   "execution_count": null,
   "metadata": {},
   "outputs": [],
   "source": []
  },
  {
   "cell_type": "code",
   "execution_count": null,
   "metadata": {},
   "outputs": [],
   "source": []
  },
  {
   "cell_type": "markdown",
   "metadata": {},
   "source": [
    "# OLD BELOW"
   ]
  },
  {
   "cell_type": "code",
   "execution_count": null,
   "metadata": {},
   "outputs": [],
   "source": []
  },
  {
   "cell_type": "markdown",
   "metadata": {},
   "source": [
    "# Introduction of cause and effect\n",
    "- Causal inference matters because it helps distinguish variables that are associations from those that can be causal. It's very common to misunderstand data causality unfortunately.\n",
    "- Experiments are the gold standard because it can be used to control confounding. But experiments can be unethical or impractical in many cases. For example, researchers can't simply force smoking on groups of people. Establishing a link between smoking and lung cancer was done with survey data.- Survey data is often self-reported so it's ripe with biases. American Community Survey is one example of survey data. When using survey data, it's recommended to:\n",
    "    - use probability sampling when possible\n",
    "    - correct biases with weights\n",
    "    - apply techniques for missing data\n",
    "    - ensure survey's topical relevance\n",
    "    - invest time in understanding survey data complexity\n",
    "\n",
    "# Observables vs. unobservable causes\n",
    "- Variables can be observed in the data but some variables are unboserved, due to lack of measurement or the ability to measure. Personal motivation is something hard to measure for example. But unobserved variables can bias results so they're crucial in causal inference.\n",
    "- Endogeneity: occurs when an explanatory variable is correlated with the error term in a model. It can happen when a variable is left out of a regression model. Thinking about unobserved variables can guide researchers to using better causal techniques.\n",
    "- DAGs help one can better understand causal flow of models. We have to be careful about the presence of backdoor paths between the predictor of interest and the outcome variable.\n"
   ]
  },
  {
   "cell_type": "markdown",
   "metadata": {},
   "source": [
    "- Not controlling for the backdoor path will lead to bias between X1 and Y\n",
    "- X2 often called a confounder"
   ]
  },
  {
   "cell_type": "code",
   "execution_count": 9,
   "metadata": {},
   "outputs": [],
   "source": [
    "# create a dataframe that holds the number and probability for each group\n",
    "n_obs = 200\n",
    "x2 = stats.norm.rvs(loc=0, scale=1, size=200)\n",
    "x1 = stats.norm.rvs(loc=0, scale=1, size=200) + x2\n",
    "y = x1 + x2\n",
    "\n",
    "model0 = sm.OLS(y, x1)\n",
    "model1 = sm.OLS(y, x1 + x2)\n",
    "\n",
    "results0 = model0.fit()\n",
    "results1 = model1.fit()"
   ]
  },
  {
   "cell_type": "code",
   "execution_count": 19,
   "metadata": {},
   "outputs": [
    {
     "data": {
      "text/plain": [
       "array([1.46420051])"
      ]
     },
     "execution_count": 19,
     "metadata": {},
     "output_type": "execute_result"
    }
   ],
   "source": [
    "# with x1 only gives a biased estimate\n",
    "results0.params"
   ]
  },
  {
   "cell_type": "code",
   "execution_count": 23,
   "metadata": {},
   "outputs": [
    {
     "data": {
      "text/plain": [
       "array([1.])"
      ]
     },
     "execution_count": 23,
     "metadata": {},
     "output_type": "execute_result"
    }
   ],
   "source": [
    "# including x2 recovers the right parameter given the data generating process\n",
    "results1.params"
   ]
  },
  {
   "cell_type": "markdown",
   "metadata": {},
   "source": [
    "But what if x2 is unobserved? Unfortunately the backdoor path cannot be closed. This is where basic regression analysis fails us. But this is where more advanced methods can help us in the case of unobserved confounds.\n",
    "\n",
    "<p style=\"text-align: center;font-weight:bold;\">DAGs and Methods</p>\n",
    "\n",
    "| Methodology | Controls for Unobserved Confounds | \n",
    "| ----- | ------- |\n",
    "| Regression analysis | No (controls for observed confounds only) | \n",
    "| Propensity score matching | No (controls for observed confounds only) | \n",
    "| Instrumental variables | Yes (if a valid instrument is used) | \n",
    "| Regression discontinuity designs | Partially (near the cutoff point) |\n",
    "| Regression with time effects  | Partially (for time-varying confounders) |\n",
    "| Fixed effects regression  | Yes (for time-invariant confounders within entities) |\n",
    "| Difference-in-Differences Models | Yes (if trends are parallel without  treatment) |\n",
    "| Synthetic control methods | Partially (for observed and unobserved pre-treatment confounders) |\n"
   ]
  },
  {
   "cell_type": "markdown",
   "metadata": {},
   "source": [
    "# What are treatment effects?\n",
    "\n",
    "- The causal literature has acronyms like ATE, ATT, LATE, CATE, etc.\n",
    "- They're called potential outcome notation\n",
    "- It can define the methodological approach and narrative of results\n",
    "- Essentially this is defining counterfactuals (parallel universes): a comparison between two states of the world.\n",
    "    - For example, imagine someone takes a pill and the outcome is measured. In a parallel world, they don't take it and the outcome is measured. The difference in outcomes is the treatment effect (the causal effect of the pill).\n",
    "- Of course, we can't have both states. But we can have different states of causality. This results in different kinds of treatment effects."
   ]
  },
  {
   "cell_type": "markdown",
   "metadata": {},
   "source": [
    "**Average Treatment Effect (ATE)**\n",
    "\n",
    "The average effect of the treatment across the entire population.\n",
    "$$ATE = E[Y^1_i - Y^0_i]$$\n",
    "where $Y^1$ is the outcome when treatment is given, $Y^0$ is the outcome when treatment is not given, $i$ is for individual, and $E$ is the expected, which means the effect is averaged out over all individuals.\n",
    "\n",
    "*Interpretation*: If you impose a treatment on everyone, then this is the change the average individual will see. But it literally means everyone and so if a drug is sex-specific, using the ATE wouldn't make sense."
   ]
  },
  {
   "cell_type": "markdown",
   "metadata": {},
   "source": [
    "**Average Treatment Effect on the Treated (ATT)**\n",
    "\n",
    "The average effect of the treatment for those treated.\n",
    "$$ ATT = E[Y^1_i - Y^0_i | \\text{Treated}=1 ] $$\n",
    "\n",
    "*Interpretation*: Shows effect of intervention only on those that received the intervention (treatment). ATT is usually different from ATE due to selection. (Unsure about $Y^0$ since by definition it shouldn't exist here?)\n",
    "\n",
    "Non-random treatment will likely lead to ATT and not ATE since people often self-select expecting benefits."
   ]
  },
  {
   "cell_type": "markdown",
   "metadata": {},
   "source": [
    "**Average Treatment Effect on the Untreated (ATU)**\n",
    "\n",
    "The average effect of the treatment for those in the control group.\n",
    "$$ ATU = E[Y^1_i - Y^0_i | \\text{Treated}=0 ] $$\n",
    "\n",
    "But this can't be estimated. It's still useful to think about what would have happened to those who were not reached by an intervention."
   ]
  },
  {
   "cell_type": "markdown",
   "metadata": {},
   "source": [
    "**Local Average Treatment Effect (LATE)**\n",
    "\n",
    "The average effect of the treatment for those who complied\n",
    "$$ LATE = E[Y^1_i - Y^0_i | \\text{Compliers}=1 ] $$\n",
    "Treatment conditions only received under certain conditons; conditions influenced by another \"instrumental variable\".\n",
    "Example: Study the impact of receiving a scholarship. The instrumental variable might be living in a particular region, LATE would measure the effect of the scholarship on just those students who received it due to their location. Many compliers means LATE approaches ATE. But few compliers limits external validity."
   ]
  },
  {
   "cell_type": "markdown",
   "metadata": {},
   "source": [
    "Conclusion\n",
    "- Understanding true effects in non-randomized settings (experiments approach ATE and ATT).\n",
    "- Advanced methods lead to different effects\n",
    "- Model selection matters!"
   ]
  },
  {
   "cell_type": "markdown",
   "metadata": {},
   "source": [
    "# An applied example: The Lalonde debate\n",
    "\n",
    "How different are nonexperimental methods compared to experimental methods? Focus of seminal study from Robert Lalonde in 1986.\n",
    "\n",
    "- National supported work program was temporary job training program in the mid-1970s.\n",
    "- It was designed to help people with temporary work experience.\n",
    "- But there was a randomized component! 50/50 chance of getting help or no help.\n",
    "\n",
    "Lalonde compared the randomzied experiment data with CPS and PSID surveys. The experimental data recovered the ATE. When looking at experimental data, there was a net positive in income suggesting the program worked. He got similar values using causal inference methods. However, survey data varied wildly. Depending on which one you choose can lead to very different policies.\n",
    "\n",
    "Conclusion\n",
    "- A wake-up call for economists!\n",
    "- Methods matter, and careful design must be given to causal studies.\n",
    "- This led to significant advances in methods and how to use surveys.\n",
    "\n"
   ]
  },
  {
   "cell_type": "code",
   "execution_count": 7,
   "metadata": {},
   "outputs": [
    {
     "name": "stdout",
     "output_type": "stream",
     "text": [
      "The watermark extension is already loaded. To reload it, use:\n",
      "  %reload_ext watermark\n",
      "Last updated: Thu May 09 2024\n",
      "\n",
      "Python implementation: CPython\n",
      "Python version       : 3.11.7\n",
      "IPython version      : 8.21.0\n",
      "\n",
      "seaborn    : 0.13.2\n",
      "statsmodels: 0.14.1\n",
      "scipy      : 1.12.0\n",
      "matplotlib : 3.8.2\n",
      "pandas     : 2.2.0\n",
      "numpy      : 1.25.2\n",
      "\n",
      "Watermark: 2.4.3\n",
      "\n"
     ]
    }
   ],
   "source": [
    "%load_ext watermark\n",
    "%watermark -n -u -v -iv -w"
   ]
  }
 ],
 "metadata": {
  "kernelspec": {
   "display_name": "Python 3 (ipykernel)",
   "language": "python",
   "name": "python3"
  },
  "language_info": {
   "codemirror_mode": {
    "name": "ipython",
    "version": 3
   },
   "file_extension": ".py",
   "mimetype": "text/x-python",
   "name": "python",
   "nbconvert_exporter": "python",
   "pygments_lexer": "ipython3",
   "version": "3.12.3"
  }
 },
 "nbformat": 4,
 "nbformat_minor": 4
}
