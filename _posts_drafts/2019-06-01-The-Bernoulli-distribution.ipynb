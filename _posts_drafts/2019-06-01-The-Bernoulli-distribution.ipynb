{
 "cells": [
  {
   "cell_type": "markdown",
   "metadata": {},
   "source": [
    "---\n",
    "title: The Bernoulli distribution\n",
    "toc: true\n",
    "---\n"
   ]
  },
  {
   "cell_type": "markdown",
   "metadata": {},
   "source": [
    "The [Bernoulli distribution](https://en.wikipedia.org/wiki/Bernoulli_distribution) came up a in couple of different contexts the past week. First, I was trying to get started with Kaggle on the [Titanic set](https://www.kaggle.com/c/titanic) when one of the tutorials used the mean of the survival list (a vector of 0's and 1's, which is actually a binomial distirbution) to calculate survival probability. Calculating the mean wasn't something I immediately thought of but remembered it from Khan Academy lessons. The second reminder of the Bernoulli distribution came up when talking with my manager, who reminded me that the [Bernoulli distribution can be the starting point for deriving other common distributions](https://blog.cloudera.com/blog/2015/12/common-probability-distributions-the-data-scientists-crib-sheet/).\n",
    "\n",
    "In this post, I'll go over the Bernoulli distribution with some coding implementations and examples."
   ]
  },
  {
   "cell_type": "code",
   "execution_count": 7,
   "metadata": {},
   "outputs": [],
   "source": [
    "import pandas as pd\n",
    "import numpy as np\n",
    "from scipy.stats import binom\n",
    "import matplotlib.pyplot as plt\n",
    "\n"
   ]
  },
  {
   "cell_type": "markdown",
   "metadata": {},
   "source": [
    "The Bernoulli distribution is the result of a single coin toss. It is one trial of a binomial distribution. I don't immediately think of a single trial as a \"distribution\" but it is and it consists of only two possible values, which are 0 (tails/false) and 1 (heads/true). In the case of an unbiased coin, the probability that the toss will result in a heads is the same probability that it will be a tails, 0.5. Hence, the height of the bars in the graph below are the same."
   ]
  },
  {
   "cell_type": "code",
   "execution_count": 32,
   "metadata": {},
   "outputs": [
    {
     "data": {
      "image/png": "[encoded data removed]",
      "text/plain": [
       "<Figure size 432x288 with 1 Axes>"
      ]
     },
     "metadata": {},
     "output_type": "display_data"
    }
   ],
   "source": [
    "f, ax1 = plt.subplots(1,1)\n",
    "n = 1   # \n",
    "b = 0.5\n",
    "x = np.arange(0, 2)\n",
    "dist = binom(n, b)\n",
    "ax1.bar(x, dist.pmf(x), color='gray')\n",
    "ax1.set_xticks(ticks=[0,1])\n",
    "ax1.set_xlabel('$X$')\n",
    "ax1.set_ylim(0,1)\n",
    "ax1.set_ylabel(r'$p(x|Bernoulli)$')\n",
    "ax1.set_title('Probability of 0.5');"
   ]
  },
  {
   "cell_type": "markdown",
   "metadata": {},
   "source": [
    "# Finding the mean\n",
    "\n",
    "Seen this way, it is intuitive to understand that its mean or expected value (0.5) is also equal to the probability of being heads. To help us understand when probabilities would *not* be 0.5, we can also see how we'd arrive at this answer when using the formula for average. While the common equation for average involves summing a list of numbers and dividing by the length of those numbers, there's also the approach of using [relative frequencies to determine the mean](https://www.khanacademy.org/math/statistics-probability/random-variables-stats-library/random-variables-discrete/v/expected-value-of-a-discrete-random-variable).\n",
    "\n",
    "In this case, our relative frequencies would be 0.5 for both 1 and 0.\n",
    "\n",
    "E(*X*) = Pr(*X*=1) x 1 + Pr(*X*=0) x 0\n",
    "\n",
    "We know that both Pr(*X*=1) and Pr(*X*=0) is 0.5:\n",
    "<br>\n",
    "E(*X*) = 0.5 x 1 + 0.5 x 0\n",
    "<br>\n",
    "\n",
    "Therefore:\n",
    "<br>\n",
    "E(*X*) = 0.5\n",
    "\n",
    "In the end, we just have the generic formula: E(*X*) = *p*"
   ]
  },
  {
   "cell_type": "markdown",
   "metadata": {},
   "source": [
    "# Finding the variance\n",
    "\n",
    "Determining the variance for Bernoulli seems a little less intuitive, but we can use our basic understanding of variance in other contexts to help explain.\n",
    "\n",
    "If I were asked to calculate variance for a set of values, I would take the squared distance from the mean of each number, then divide by n (the size of that set). We can use the same application of probabilities (relative frequencies) as we did for mean when calculating variance.\n",
    "\n",
    "Var(*X*) = Pr(X=1) x (1 - E(X))^2 + Pr(X=0) x (0 - E(X))^2\n",
    "\n",
    "I like the idea of relating it back to the equation of variance I mentioned a few lines ago, because it reminds me that the probabilities are not being squared. (When calculate variance from a list of numbers, only the terms in the denominator are squared).\n",
    "\n",
    "From our example above, we simply plug in the probabilities and expected values.\n",
    "\n",
    "Var(*X*) = 0.5 x (1 - 0.5)^2 + 0.5 x (0 - 0.5)^2\n",
    "<br>\n",
    "Var(*X*) = 0.5 x (0.5)^2 + 0.5 x (-0.5)^2\n",
    "<br>\n",
    "Var(*X*) = 0.5 x (0.25) + 0.5 x (0.25)\n",
    "<br>\n",
    "Var(*X*) = 0.25\n",
    "\n",
    "While not immediately obvious, this answer also has the generic formula of:\n",
    "\n",
    "Var(*X*) = p x q\n",
    "\n",
    "Where q = 1-p."
   ]
  },
  {
   "cell_type": "markdown",
   "metadata": {},
   "source": [
    "# A case with a biased coin"
   ]
  },
  {
   "cell_type": "markdown",
   "metadata": {},
   "source": [
    "Now let's imagine a case where we have a weighted coin, where heads is more likely to appear 60% of the time."
   ]
  },
  {
   "cell_type": "code",
   "execution_count": 35,
   "metadata": {},
   "outputs": [
    {
     "data": {
      "image/png": "[encoded data removed]",
      "text/plain": [
       "<Figure size 432x288 with 1 Axes>"
      ]
     },
     "metadata": {},
     "output_type": "display_data"
    }
   ],
   "source": [
    "f, ax1 = plt.subplots(1,1)\n",
    "n = 1   # \n",
    "b = 0.60\n",
    "x = np.arange(0, 2)\n",
    "dist = binom(n, b)\n",
    "ax1.bar(x, dist.pmf(x), color='gray')\n",
    "ax1.set_xticks(ticks=[0,1])\n",
    "ax1.set_xlabel('$X$')\n",
    "ax1.set_ylabel(r'$p(x|Bernoulli)$')\n",
    "ax1.set_ylim(0,1)\n",
    "ax1.set_title('Probability of 0.60');"
   ]
  },
  {
   "cell_type": "markdown",
   "metadata": {},
   "source": [
    "One incorrect line of thought is to assume that the mean is in between the heights of the bars. But remember that the y-axis is the probability and the mean is somewhere on the x-axis. And using what we already know about a Bernoulli distribution, the mean or expected value simply takes on the probability *p*, commonly associated with the probability of our coin flip resulting in heads/1/true.\n",
    "\n",
    "E(*X*) = 0.6\n",
    "\n",
    "To determine variance, we can jump straight to our formula:\n",
    "Var(*X*) = p x q\n",
    "Var(*X*) = 0.6 x 0.4 = 0.24\n",
    "\n",
    "But let's pretend we forgot this formula and go back to our approach as we did with the probability being 0.5:\n",
    "\n",
    "\n",
    "Var(*X*) = Pr(X=1) x (1 - E(*X*))^2 + Pr(X=0) x (0 - E(*X*))^2\n",
    "<br>\n",
    "Note how we have to be more thoughtful about what we plug in for our probabilities and E(*X*).\n",
    "\n",
    "Var(*X*) = 0.6 x (1 - 0.6)^2 + 0.4 x (0 - 0.6)^2\n",
    "Var(*X*) = 0.6 x (0.4)^2 + 0.4 x (-0.6)^2\n",
    "Var(*X*) = 0.6 x (0.16) + 0.4 x (0.36)\n",
    "Var(*X*) = 0.24\n",
    "\n",
    "And we arrive at the same answer as our formula.\n"
   ]
  },
  {
   "cell_type": "markdown",
   "metadata": {},
   "source": [
    "# Understanding the relationship between probability and variance\n",
    "\n",
    "You might notice that as we increased our probability from 0.5 to 0.6 between the two examples, the variance dropped a notch from 0.25 to 0.24. This prompts us to understand the relationship between *p* and Var(*X*). Let's create a series from *p*=0 to *p*=1 with 0.1 step intervals and find the variance at each. We'll use the formula Var(X) = *p* x *q*.\n"
   ]
  },
  {
   "cell_type": "code",
   "execution_count": 39,
   "metadata": {},
   "outputs": [
    {
     "data": {
      "text/plain": [
       "array([1. , 0.9, 0.8, 0.7, 0.6, 0.5, 0.4, 0.3, 0.2, 0.1, 0. ])"
      ]
     },
     "execution_count": 39,
     "metadata": {},
     "output_type": "execute_result"
    }
   ],
   "source": [
    "1-np.arange(0,1.1,0.1)"
   ]
  },
  {
   "cell_type": "code",
   "execution_count": 48,
   "metadata": {},
   "outputs": [],
   "source": [
    "df = pd.DataFrame()\n",
    "df['p'] = np.arange(0,1.1,0.1)\n",
    "df['q'] = 1-np.arange(0,1.1,0.1)\n",
    "df['Var'] = df['p']*df['q']"
   ]
  },
  {
   "cell_type": "code",
   "execution_count": 58,
   "metadata": {},
   "outputs": [
    {
     "data": {
      "image/png": "[encoded data removed]",
      "text/plain": [
       "<Figure size 432x288 with 1 Axes>"
      ]
     },
     "metadata": {},
     "output_type": "display_data"
    }
   ],
   "source": [
    "f, ax1 = plt.subplots()\n",
    "ax1.scatter(x=df['p'], y=df['Var']);\n",
    "ax1.set_xlabel('Probability of $X$=1');\n",
    "ax1.set_ylabel('Variance');"
   ]
  },
  {
   "cell_type": "markdown",
   "metadata": {},
   "source": [
    "We observe an interesting relationship where as p moves away from 0.5, the variance gets smaller. If we go back to the coin flip example, this is intuitive. In the most extreme case, when the probability of landing heads is 100%, there obviously wouldn't be any variance since you will always get a 1.\n",
    "\n",
    "An extension of this concept is in determining the amount of bias if it not known *a priori*. The more biased a coin is, the fewer flips it would take to be confident it is biased."
   ]
  }
 ],
 "metadata": {
  "kernelspec": {
   "display_name": "Python 3",
   "language": "python",
   "name": "python3"
  },
  "language_info": {
   "codemirror_mode": {
    "name": "ipython",
    "version": 3
   },
   "file_extension": ".py",
   "mimetype": "text/x-python",
   "name": "python",
   "nbconvert_exporter": "python",
   "pygments_lexer": "ipython3",
   "version": "3.6.9"
  },
  "toc": {
   "base_numbering": 1,
   "nav_menu": {},
   "number_sections": true,
   "sideBar": true,
   "skip_h1_title": false,
   "title_cell": "Table of Contents",
   "title_sidebar": "Contents",
   "toc_cell": false,
   "toc_position": {},
   "toc_section_display": "block",
   "toc_window_display": false
  },
  "varInspector": {
   "cols": {
    "lenName": 16,
    "lenType": 16,
    "lenVar": 40
   },
   "kernels_config": {
    "python": {
     "delete_cmd_postfix": "",
     "delete_cmd_prefix": "del ",
     "library": "var_list.py",
     "varRefreshCmd": "print(var_dic_list())"
    },
    "r": {
     "delete_cmd_postfix": ") ",
     "delete_cmd_prefix": "rm(",
     "library": "var_list.r",
     "varRefreshCmd": "cat(var_dic_list()) "
    }
   },
   "types_to_exclude": [
    "module",
    "function",
    "builtin_function_or_method",
    "instance",
    "_Feature"
   ],
   "window_display": false
  }
 },
 "nbformat": 4,
 "nbformat_minor": 2
}
