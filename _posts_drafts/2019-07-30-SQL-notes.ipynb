{
 "cells": [
  {
   "cell_type": "markdown",
   "metadata": {},
   "source": [
    "---\n",
    "title: SQL notes\n",
    "toc: true\n",
    "---\n",
    "\n",
    "\n",
    "Leveling up in SQL... Classes are good at covering a range of SQL skills but doing some problems help them stick a bit more. Here are some useful things I've learned.\n"
   ]
  },
  {
   "cell_type": "markdown",
   "metadata": {},
   "source": [
    "## IF and CASE\n",
    "\n",
    "\n",
    "IF is good for queries on the SELECT line.\n",
    "https://www.w3schools.com/sql/func_mysql_if.asp\n",
    "\n",
    "`\n",
    "SELECT OrderID, Quantity, IF(Quantity>10, \"MORE\", \"LESS\")\n",
    "FROM OrderDetails;\n",
    "`\n",
    "\n",
    "CASE is useful when combined with WHEN.\n",
    "https://www.w3schools.com/sql/sql_case.asp\n",
    "\n",
    "`\n",
    "SELECT OrderID, Quantity,\n",
    "CASE WHEN Quantity > 30 THEN \"The quantity is greater than 30\"\n",
    "WHEN Quantity = 30 THEN \"The quantity is 30\"\n",
    "ELSE \"The quantity is under 30\"\n",
    "END AS QuantityText\n",
    "FROM OrderDetails;\n",
    "`\n",
    "\n"
   ]
  },
  {
   "cell_type": "code",
   "execution_count": null,
   "metadata": {},
   "outputs": [],
   "source": []
  },
  {
   "cell_type": "markdown",
   "metadata": {},
   "source": [
    "## Choosing how to select queries that start with a letter or set of letters"
   ]
  },
  {
   "cell_type": "markdown",
   "metadata": {},
   "source": [
    "For finding queries that start with the letter \"a\", you can use LIKE coupled with the wildcard character.\n",
    "\n",
    "`SELECT DISTINCT city FROM station\n",
    "WHERE city LIKE 'a%'\n",
    "LIMIT 20;\n",
    "`"
   ]
  },
  {
   "cell_type": "markdown",
   "metadata": {},
   "source": [
    "For finding queries that start with the letter \"a\" or \"n\", you can do something similar to the above and include an OR.\n",
    "\n",
    "`SELECT DISTINCT city FROM station\n",
    "WHERE city LIKE 'a%'\n",
    "OR city LIKE 'n%'\n",
    "LIMIT 20;\n",
    "`\n"
   ]
  },
  {
   "cell_type": "markdown",
   "metadata": {},
   "source": [
    "However, what if you have a longer set of letters? You can write multiple OR statements if there are 3 or 4, but what if it's more like >5? That'd be too much typing!\n"
   ]
  },
  {
   "cell_type": "markdown",
   "metadata": {},
   "source": [
    "Some languages have the option of using REGEXP.\n",
    "\n",
    "`\n",
    "SELECT DISTINCT city FROM station\n",
    "WHERE city REGEXP '[^aeiou]\n",
    "LIMIT 20;\n",
    "`"
   ]
  },
  {
   "cell_type": "markdown",
   "metadata": {},
   "source": [
    "Another approach would be to use LEFT or SUBSET.\n",
    "\n",
    "SELECT DISTINCT city FROM station\n",
    "WHERE LEFT(city, 1) IN ('a', 'e', 'i', 'o', 'u')"
   ]
  },
  {
   "cell_type": "code",
   "execution_count": null,
   "metadata": {},
   "outputs": [],
   "source": [
    "SELECT DISTINCT city FROM station\n",
    "WHERE LEFT(city, 1) NOT IN ('a', 'e', 'i', 'o', 'u')\n",
    "AND RIGHT(city, 1) NOT IN ('a', 'e', 'i', 'o', 'u')"
   ]
  },
  {
   "cell_type": "code",
   "execution_count": null,
   "metadata": {},
   "outputs": [],
   "source": []
  },
  {
   "cell_type": "markdown",
   "metadata": {},
   "source": [
    "This is a simple example but it illustrates some interesting behavior. Note that there's no explicit loop which you could do on the *iterable object* (the tuple). Instead we're outputting each element by making a `next` call on the *iterator object* (`myit`). Each `next` call \"remembers\" where it is in the iterable object. (Interestingly, under the hood, the `for` loop is actually creating an iterator object and using `next` method.)\n",
    "\n",
    "Here's an example using a **list** as the iterable object."
   ]
  },
  {
   "cell_type": "markdown",
   "metadata": {},
   "source": [
    "## Acknowledgements\n",
    "\n",
    "Shout outs to the following:\n",
    "\n",
    "[w3schools](https://www.w3schools.com/python/python_iterators.asp)\n",
    "\n",
    "[RealPython](https://realpython.com/python-itertools/#what-is-itertools-and-why-should-you-use-it)\n"
   ]
  },
  {
   "cell_type": "code",
   "execution_count": null,
   "metadata": {},
   "outputs": [],
   "source": []
  }
 ],
 "metadata": {
  "kernelspec": {
   "display_name": "Python 3",
   "language": "python",
   "name": "python3"
  },
  "language_info": {
   "codemirror_mode": {
    "name": "ipython",
    "version": 3
   },
   "file_extension": ".py",
   "mimetype": "text/x-python",
   "name": "python",
   "nbconvert_exporter": "python",
   "pygments_lexer": "ipython3",
   "version": "3.6.9"
  },
  "toc": {
   "base_numbering": 1,
   "nav_menu": {},
   "number_sections": true,
   "sideBar": true,
   "skip_h1_title": false,
   "title_cell": "Table of Contents",
   "title_sidebar": "Contents",
   "toc_cell": false,
   "toc_position": {},
   "toc_section_display": "block",
   "toc_window_display": false
  },
  "varInspector": {
   "cols": {
    "lenName": 16,
    "lenType": 16,
    "lenVar": 40
   },
   "kernels_config": {
    "python": {
     "delete_cmd_postfix": "",
     "delete_cmd_prefix": "del ",
     "library": "var_list.py",
     "varRefreshCmd": "print(var_dic_list())"
    },
    "r": {
     "delete_cmd_postfix": ") ",
     "delete_cmd_prefix": "rm(",
     "library": "var_list.r",
     "varRefreshCmd": "cat(var_dic_list()) "
    }
   },
   "types_to_exclude": [
    "module",
    "function",
    "builtin_function_or_method",
    "instance",
    "_Feature"
   ],
   "window_display": false
  }
 },
 "nbformat": 4,
 "nbformat_minor": 2
}
