{
 "cells": [
  {
   "cell_type": "markdown",
   "metadata": {},
   "source": [
    "\n",
    "---\n",
    "title: \"Longitudinal Survey Designs\"\n",
    "mathjax: true\n",
    "toc: true\n",
    "toc_sticky: true\n",
    "categories: [data science, statistics]\n",
    "---\n",
    "\n",
    "Notes for Chapter 4of [Causal Inference with Survey Data](https://www.linkedin.com/learning/causal-inference-with-survey-data/surveys-with-longitudinal-data?autoSkip=true&resume=false&u=185169545) on LinkedIn Learning, given by Franz Buscha. I'm using this series of posts to take some notes."
   ]
  },
  {
   "cell_type": "code",
   "execution_count": 1,
   "metadata": {},
   "outputs": [],
   "source": [
    "import graphviz as gr"
   ]
  },
  {
   "cell_type": "code",
   "execution_count": 2,
   "metadata": {},
   "outputs": [],
   "source": [
    "def draw_causal_graph(\n",
    "    edge_list, node_props=None, edge_props=None, graph_direction=\"UD\"\n",
    "):\n",
    "    \"\"\"Utility to draw a causal (directed) graph\n",
    "    Taken from: https://github.com/dustinstansbury/statistical-rethinking-2023/blob/a0f4f2d15a06b33355cf3065597dcb43ef829991/utils.py#L52-L66\n",
    "\n",
    "    \"\"\"\n",
    "    g = gr.Digraph(graph_attr={\"rankdir\": graph_direction})\n",
    "\n",
    "    edge_props = {} if edge_props is None else edge_props\n",
    "    for e in edge_list:\n",
    "        props = edge_props[e] if e in edge_props else {}\n",
    "        g.edge(e[0], e[1], **props)\n",
    "\n",
    "    if node_props is not None:\n",
    "        for name, props in node_props.items():\n",
    "            g.node(name=name, **props)\n",
    "    return g"
   ]
  },
  {
   "cell_type": "markdown",
   "metadata": {},
   "source": [
    "# Surveys with longitudinal data\n",
    "\n",
    "- A series of snapshots.\n",
    "- Captures information from the same subjects across multiple points in time.\n",
    "- Useful in understanding how relationships evolve and spotting trends.\n",
    "\n",
    "**Example: A training program**\n",
    "\n",
    "Cross-sectional\n",
    "- snapshot\n",
    "- static\n",
    "- limited causality\n",
    "- quick and cheap\n",
    "\n",
    "Longitudinal\n",
    "- time series\n",
    "- dynamic (can follow someone's productivity over time)\n",
    "- better causality\n",
    "- slow and expensive\n",
    "\n",
    "**Types of longitudinal data**\n",
    "\n",
    "1. Panel survey\n",
    "- Collect data on individuals, households, or companies over short time periods. Example: studies of demographic dynamics of families.\n",
    "2. Cohort survey\n",
    "- Follow a group of people who share a common characteristic or experience within a defined survey.\n",
    "3. Repeated cross-section\n",
    "- Collect data from different samples over time but from the same population.\n",
    "\n",
    "**Statistical Framework**\n",
    "- Key to working with time is the t subscript\n",
    "\n",
    "$$Y_{it} = \\beta_0 + \\beta_1X1_{it} + ... + \\beta_nXn_{it} + \\epsilon_{it} $$\n",
    "\n",
    "- Time subscripts are manipulated by methods in different ways\n",
    "\n",
    "\n",
    "**Conclusion**\n",
    "- Allow for a deeper level of analysis, especially for cause-and-effect relationships\n",
    "- Remember to consider challenges such as data attrition, time-carrying confounders, and complexity of such data\n",
    "- They often provide a richer and more nuanced view of the world."
   ]
  },
  {
   "cell_type": "markdown",
   "metadata": {},
   "source": [
    "# Regression models with time effects\n",
    "\n",
    "- Adding time to a regression model can significantly improve causal inference\n",
    "- Time flows in one direction\n",
    "- Time trends and lagged values are common ways to include time\n",
    "\n",
    "\n",
    "**OLS with longitudinal data**\n",
    "\n",
    "- Work with time is the t subscript\n",
    "- Static model makes no specific use of time from a methods perspective\n",
    "- Time can be added to this model\n",
    "\n",
    "**Time manipulation: trends**\n",
    "- Time can be included as a variable (linear or otherwise)\n",
    "\n",
    "$$Y_{it} = \\beta_0 + \\beta_1X1_{it} + \\beta_2X2_{it} + \\beta_3X3_{it} + \\beta_4T_{t} + \\epsilon_{it} $$\n",
    "\n",
    "- T is simply the survey time variable\n",
    "- Many processes trend, so it makes sense to add time as a control\n",
    "\n",
    "**Time manipulation: lags**\n",
    "- Lags help explain how past values of X are related to present values of Y\n",
    "- Help trace how past events affect today's outcome\n",
    "- Termed finite distributed lag models of order N\n",
    "\n",
    "- Model of order 2:\n",
    "\n",
    "$$Y_{it} = \\beta_0 + \\beta_1X1_{it} + \\beta_2X2_{it} + \\beta_3X3_{it} + \\beta_4X3_{it-1} + \\beta_5X3_{it-2} + \\epsilon_{it} $$\n",
    "\n",
    "X1 and X2 are measured in the present. X3 is measured at three timepoints (present, lag of 1 and lag of 2.)\n",
    "\n",
    "- $\\beta_3, \\beta_4, \\beta_5$ are independent; they are often summed to estimate a long-run effect of X on Y\n",
    "\n",
    "- Powerful model for estimating cause and effect of a variable\n",
    "\n",
    "**Advantages**\n",
    "- Capture dynamic effects\n",
    "- Temporal causality\n",
    "- Flexibility\n",
    "\n",
    "**Disadvantages**\n",
    "- Require lots of data\n",
    "- Autocorrelation/multi-collinearity\n",
    "- Reverse causality\n",
    "\n",
    "**Conclusion**\n",
    "- Using time in a regression can be a real game changer\n",
    "- You can uncover short- and long-run effects, which cannot be done using static models"
   ]
  },
  {
   "cell_type": "code",
   "execution_count": null,
   "metadata": {},
   "outputs": [],
   "source": []
  },
  {
   "cell_type": "code",
   "execution_count": null,
   "metadata": {},
   "outputs": [],
   "source": []
  },
  {
   "cell_type": "code",
   "execution_count": 6,
   "metadata": {},
   "outputs": [
    {
     "name": "stdout",
     "output_type": "stream",
     "text": [
      "Last updated: Fri May 24 2024\n",
      "\n",
      "Python implementation: CPython\n",
      "Python version       : 3.11.7\n",
      "IPython version      : 8.21.0\n",
      "\n",
      "graphviz: 0.20.1\n",
      "\n",
      "Watermark: 2.4.3\n",
      "\n"
     ]
    }
   ],
   "source": [
    "%load_ext watermark\n",
    "%watermark -n -u -v -iv -w"
   ]
  }
 ],
 "metadata": {
  "kernelspec": {
   "display_name": "Python 3 (ipykernel)",
   "language": "python",
   "name": "python3"
  },
  "language_info": {
   "codemirror_mode": {
    "name": "ipython",
    "version": 3
   },
   "file_extension": ".py",
   "mimetype": "text/x-python",
   "name": "python",
   "nbconvert_exporter": "python",
   "pygments_lexer": "ipython3",
   "version": "3.12.3"
  }
 },
 "nbformat": 4,
 "nbformat_minor": 4
}
