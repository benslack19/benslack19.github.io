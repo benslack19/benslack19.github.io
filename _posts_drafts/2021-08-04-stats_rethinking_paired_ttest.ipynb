{
 "cells": [
  {
   "cell_type": "markdown",
   "id": "thirty-zambia",
   "metadata": {},
   "source": [
    "---\n",
    "title: \"Connecting a paired t-test with a Bayesian multilevel model (DRAFT)\"\n",
    "toc: true\n",
    "toc_sticky: true\n",
    "---"
   ]
  },
  {
   "cell_type": "code",
   "execution_count": 1,
   "id": "neural-bachelor",
   "metadata": {
    "ExecuteTime": {
     "end_time": "2021-08-05T01:25:32.334069Z",
     "start_time": "2021-08-05T01:25:26.924783Z"
    }
   },
   "outputs": [],
   "source": [
    "import arviz as az\n",
    "import matplotlib.pyplot as plt\n",
    "import numpy as np\n",
    "import os\n",
    "import pandas as pd\n",
    "import pymc3 as pm\n",
    "import scipy.stats as stats\n",
    "import seaborn as sns\n",
    "from scipy.special import expit as logistic\n",
    "import daft\n",
    "from causalgraphicalmodels import CausalGraphicalModel\n",
    "\n",
    "from scipy.optimize import curve_fit"
   ]
  },
  {
   "cell_type": "code",
   "execution_count": 2,
   "id": "municipal-casino",
   "metadata": {
    "ExecuteTime": {
     "end_time": "2021-08-05T01:25:32.466906Z",
     "start_time": "2021-08-05T01:25:32.345922Z"
    }
   },
   "outputs": [
    {
     "data": {
      "application/javascript": [
       "\n",
       "            setTimeout(function() {\n",
       "                var nbb_cell_id = 2;\n",
       "                var nbb_unformatted_code = \"%load_ext nb_black\\n%config InlineBackend.figure_format = 'retina'\\n%load_ext watermark\\nRANDOM_SEED = 8927\\nnp.random.seed(RANDOM_SEED)\\naz.style.use(\\\"arviz-darkgrid\\\")\\naz.rcParams[\\\"stats.hdi_prob\\\"] = 0.89  # sets default credible interval used by arviz\";\n",
       "                var nbb_formatted_code = \"%load_ext nb_black\\n%config InlineBackend.figure_format = 'retina'\\n%load_ext watermark\\nRANDOM_SEED = 8927\\nnp.random.seed(RANDOM_SEED)\\naz.style.use(\\\"arviz-darkgrid\\\")\\naz.rcParams[\\\"stats.hdi_prob\\\"] = 0.89  # sets default credible interval used by arviz\";\n",
       "                var nbb_cells = Jupyter.notebook.get_cells();\n",
       "                for (var i = 0; i < nbb_cells.length; ++i) {\n",
       "                    if (nbb_cells[i].input_prompt_number == nbb_cell_id) {\n",
       "                        if (nbb_cells[i].get_text() == nbb_unformatted_code) {\n",
       "                             nbb_cells[i].set_text(nbb_formatted_code);\n",
       "                        }\n",
       "                        break;\n",
       "                    }\n",
       "                }\n",
       "            }, 500);\n",
       "            "
      ],
      "text/plain": [
       "<IPython.core.display.Javascript object>"
      ]
     },
     "metadata": {},
     "output_type": "display_data"
    }
   ],
   "source": [
    "%load_ext nb_black\n",
    "%config InlineBackend.figure_format = 'retina'\n",
    "%load_ext watermark\n",
    "RANDOM_SEED = 8927\n",
    "np.random.seed(RANDOM_SEED)\n",
    "az.style.use(\"arviz-darkgrid\")\n",
    "az.rcParams[\"stats.hdi_prob\"] = 0.89  # sets default credible interval used by arviz"
   ]
  },
  {
   "cell_type": "code",
   "execution_count": 3,
   "id": "martial-effect",
   "metadata": {
    "ExecuteTime": {
     "end_time": "2021-08-05T01:25:32.497806Z",
     "start_time": "2021-08-05T01:25:32.493116Z"
    }
   },
   "outputs": [
    {
     "data": {
      "application/javascript": [
       "\n",
       "            setTimeout(function() {\n",
       "                var nbb_cell_id = 3;\n",
       "                var nbb_unformatted_code = \"sns.set_context(\\\"talk\\\")\";\n",
       "                var nbb_formatted_code = \"sns.set_context(\\\"talk\\\")\";\n",
       "                var nbb_cells = Jupyter.notebook.get_cells();\n",
       "                for (var i = 0; i < nbb_cells.length; ++i) {\n",
       "                    if (nbb_cells[i].input_prompt_number == nbb_cell_id) {\n",
       "                        if (nbb_cells[i].get_text() == nbb_unformatted_code) {\n",
       "                             nbb_cells[i].set_text(nbb_formatted_code);\n",
       "                        }\n",
       "                        break;\n",
       "                    }\n",
       "                }\n",
       "            }, 500);\n",
       "            "
      ],
      "text/plain": [
       "<IPython.core.display.Javascript object>"
      ]
     },
     "metadata": {},
     "output_type": "display_data"
    }
   ],
   "source": [
    "sns.set_context(\"talk\")"
   ]
  },
  {
   "cell_type": "code",
   "execution_count": 4,
   "id": "aa9acb00",
   "metadata": {
    "ExecuteTime": {
     "end_time": "2021-08-05T01:25:32.524481Z",
     "start_time": "2021-08-05T01:25:32.515660Z"
    }
   },
   "outputs": [
    {
     "data": {
      "application/javascript": [
       "\n",
       "            setTimeout(function() {\n",
       "                var nbb_cell_id = 4;\n",
       "                var nbb_unformatted_code = \"def standardize(x):\\n    x = (x - np.mean(x)) / np.std(x)\\n    return x\";\n",
       "                var nbb_formatted_code = \"def standardize(x):\\n    x = (x - np.mean(x)) / np.std(x)\\n    return x\";\n",
       "                var nbb_cells = Jupyter.notebook.get_cells();\n",
       "                for (var i = 0; i < nbb_cells.length; ++i) {\n",
       "                    if (nbb_cells[i].input_prompt_number == nbb_cell_id) {\n",
       "                        if (nbb_cells[i].get_text() == nbb_unformatted_code) {\n",
       "                             nbb_cells[i].set_text(nbb_formatted_code);\n",
       "                        }\n",
       "                        break;\n",
       "                    }\n",
       "                }\n",
       "            }, 500);\n",
       "            "
      ],
      "text/plain": [
       "<IPython.core.display.Javascript object>"
      ]
     },
     "metadata": {},
     "output_type": "display_data"
    }
   ],
   "source": [
    "def standardize(x):\n",
    "    x = (x - np.mean(x)) / np.std(x)\n",
    "    return x"
   ]
  },
  {
   "cell_type": "markdown",
   "id": "c19972c8",
   "metadata": {},
   "source": [
    "# Dataset, extrapolated from Wikipedia\n",
    "\n",
    "Example taken [here](https://en.wikipedia.org/wiki/Student%27s_t-test#Dependent_t-test_for_paired_samples)."
   ]
  },
  {
   "cell_type": "code",
   "execution_count": 6,
   "id": "6eeca65e",
   "metadata": {
    "ExecuteTime": {
     "end_time": "2021-08-05T01:30:56.062358Z",
     "start_time": "2021-08-05T01:30:56.052331Z"
    }
   },
   "outputs": [
    {
     "data": {
      "application/javascript": [
       "\n",
       "            setTimeout(function() {\n",
       "                var nbb_cell_id = 6;\n",
       "                var nbb_unformatted_code = \"df_tests = pd.DataFrame({'Name': ['Mike', 'Melanie', 'Melissa', 'Mitchell'],\\n                         'Test_1': [35, 50, 90, 78],\\n                         'Test_2': [67, 46, 86, 91]})\";\n",
       "                var nbb_formatted_code = \"df_tests = pd.DataFrame(\\n    {\\n        \\\"Name\\\": [\\\"Mike\\\", \\\"Melanie\\\", \\\"Melissa\\\", \\\"Mitchell\\\"],\\n        \\\"Test_1\\\": [35, 50, 90, 78],\\n        \\\"Test_2\\\": [67, 46, 86, 91],\\n    }\\n)\";\n",
       "                var nbb_cells = Jupyter.notebook.get_cells();\n",
       "                for (var i = 0; i < nbb_cells.length; ++i) {\n",
       "                    if (nbb_cells[i].input_prompt_number == nbb_cell_id) {\n",
       "                        if (nbb_cells[i].get_text() == nbb_unformatted_code) {\n",
       "                             nbb_cells[i].set_text(nbb_formatted_code);\n",
       "                        }\n",
       "                        break;\n",
       "                    }\n",
       "                }\n",
       "            }, 500);\n",
       "            "
      ],
      "text/plain": [
       "<IPython.core.display.Javascript object>"
      ]
     },
     "metadata": {},
     "output_type": "display_data"
    }
   ],
   "source": [
    "df_tests = pd.DataFrame(\n",
    "    {\n",
    "        \"Name\": [\"Mike\", \"Melanie\", \"Melissa\", \"Mitchell\"],\n",
    "        \"Test_1\": [35, 50, 90, 78],\n",
    "        \"Test_2\": [67, 46, 86, 91],\n",
    "    }\n",
    ")"
   ]
  },
  {
   "cell_type": "code",
   "execution_count": 88,
   "id": "8a53c997",
   "metadata": {
    "ExecuteTime": {
     "end_time": "2021-08-05T02:26:18.823292Z",
     "start_time": "2021-08-05T02:26:18.815527Z"
    }
   },
   "outputs": [
    {
     "data": {
      "text/html": [
       "<div>\n",
       "<style scoped>\n",
       "    .dataframe tbody tr th:only-of-type {\n",
       "        vertical-align: middle;\n",
       "    }\n",
       "\n",
       "    .dataframe tbody tr th {\n",
       "        vertical-align: top;\n",
       "    }\n",
       "\n",
       "    .dataframe thead th {\n",
       "        text-align: right;\n",
       "    }\n",
       "</style>\n",
       "<table border=\"1\" class=\"dataframe\">\n",
       "  <thead>\n",
       "    <tr style=\"text-align: right;\">\n",
       "      <th></th>\n",
       "      <th>Name</th>\n",
       "      <th>Test_1</th>\n",
       "      <th>Test_2</th>\n",
       "      <th>diff</th>\n",
       "    </tr>\n",
       "  </thead>\n",
       "  <tbody>\n",
       "    <tr>\n",
       "      <th>0</th>\n",
       "      <td>Mike</td>\n",
       "      <td>35</td>\n",
       "      <td>67</td>\n",
       "      <td>-32</td>\n",
       "    </tr>\n",
       "    <tr>\n",
       "      <th>1</th>\n",
       "      <td>Melanie</td>\n",
       "      <td>50</td>\n",
       "      <td>46</td>\n",
       "      <td>4</td>\n",
       "    </tr>\n",
       "    <tr>\n",
       "      <th>2</th>\n",
       "      <td>Melissa</td>\n",
       "      <td>90</td>\n",
       "      <td>86</td>\n",
       "      <td>4</td>\n",
       "    </tr>\n",
       "    <tr>\n",
       "      <th>3</th>\n",
       "      <td>Mitchell</td>\n",
       "      <td>78</td>\n",
       "      <td>91</td>\n",
       "      <td>-13</td>\n",
       "    </tr>\n",
       "  </tbody>\n",
       "</table>\n",
       "</div>"
      ],
      "text/plain": [
       "       Name  Test_1  Test_2  diff\n",
       "0      Mike      35      67   -32\n",
       "1   Melanie      50      46     4\n",
       "2   Melissa      90      86     4\n",
       "3  Mitchell      78      91   -13"
      ]
     },
     "execution_count": 88,
     "metadata": {},
     "output_type": "execute_result"
    },
    {
     "data": {
      "application/javascript": [
       "\n",
       "            setTimeout(function() {\n",
       "                var nbb_cell_id = 88;\n",
       "                var nbb_unformatted_code = \"df_tests\";\n",
       "                var nbb_formatted_code = \"df_tests\";\n",
       "                var nbb_cells = Jupyter.notebook.get_cells();\n",
       "                for (var i = 0; i < nbb_cells.length; ++i) {\n",
       "                    if (nbb_cells[i].input_prompt_number == nbb_cell_id) {\n",
       "                        if (nbb_cells[i].get_text() == nbb_unformatted_code) {\n",
       "                             nbb_cells[i].set_text(nbb_formatted_code);\n",
       "                        }\n",
       "                        break;\n",
       "                    }\n",
       "                }\n",
       "            }, 500);\n",
       "            "
      ],
      "text/plain": [
       "<IPython.core.display.Javascript object>"
      ]
     },
     "metadata": {},
     "output_type": "display_data"
    }
   ],
   "source": [
    "df_tests"
   ]
  },
  {
   "cell_type": "markdown",
   "id": "6689a05f",
   "metadata": {},
   "source": [
    "Interestingly, the table in this example is labeled as an \"example of repeated measures.\" Interestingly, in the Chapter 1 introduction and in Chapter 13, McElreath highlights multi-level models as a way to get \"improved estimates for repeat sampling\"."
   ]
  },
  {
   "cell_type": "markdown",
   "id": "7c91361a",
   "metadata": {},
   "source": [
    "# T-statistic using scipy.stats"
   ]
  },
  {
   "cell_type": "code",
   "execution_count": 11,
   "id": "15888831",
   "metadata": {
    "ExecuteTime": {
     "end_time": "2021-08-05T01:38:30.240070Z",
     "start_time": "2021-08-05T01:38:30.233686Z"
    }
   },
   "outputs": [
    {
     "data": {
      "text/plain": [
       "Ttest_relResult(statistic=-1.0784834690588145, pvalue=0.3598054860063756)"
      ]
     },
     "execution_count": 11,
     "metadata": {},
     "output_type": "execute_result"
    },
    {
     "data": {
      "application/javascript": [
       "\n",
       "            setTimeout(function() {\n",
       "                var nbb_cell_id = 11;\n",
       "                var nbb_unformatted_code = \"stats.ttest_rel(df_tests[\\\"Test_1\\\"], df_tests[\\\"Test_2\\\"])\";\n",
       "                var nbb_formatted_code = \"stats.ttest_rel(df_tests[\\\"Test_1\\\"], df_tests[\\\"Test_2\\\"])\";\n",
       "                var nbb_cells = Jupyter.notebook.get_cells();\n",
       "                for (var i = 0; i < nbb_cells.length; ++i) {\n",
       "                    if (nbb_cells[i].input_prompt_number == nbb_cell_id) {\n",
       "                        if (nbb_cells[i].get_text() == nbb_unformatted_code) {\n",
       "                             nbb_cells[i].set_text(nbb_formatted_code);\n",
       "                        }\n",
       "                        break;\n",
       "                    }\n",
       "                }\n",
       "            }, 500);\n",
       "            "
      ],
      "text/plain": [
       "<IPython.core.display.Javascript object>"
      ]
     },
     "metadata": {},
     "output_type": "display_data"
    }
   ],
   "source": [
    "stats.ttest_rel(df_tests[\"Test_1\"], df_tests[\"Test_2\"])"
   ]
  },
  {
   "cell_type": "markdown",
   "id": "a283c280",
   "metadata": {},
   "source": [
    "# Calculate t-statistic by hand\n",
    "\n",
    "Why? Cause we're weird like that.\n",
    "\n",
    "$$t = \\frac{\\bar{X}_D - \\mu_0}{s_D / \\sqrt{n}}$$\n",
    "\n",
    "where \\(\\bar{X}_D\\) is the average of the differences between all pairs and \\(s_D\\) is the standard deviation of the differences. We can set \\(mu_0\\) to 0 if we want to test whether the average is significantly different. This is straightforward to calculate."
   ]
  },
  {
   "cell_type": "code",
   "execution_count": 12,
   "id": "5a470203",
   "metadata": {
    "ExecuteTime": {
     "end_time": "2021-08-05T01:38:34.260081Z",
     "start_time": "2021-08-05T01:38:34.254054Z"
    }
   },
   "outputs": [
    {
     "data": {
      "application/javascript": [
       "\n",
       "            setTimeout(function() {\n",
       "                var nbb_cell_id = 12;\n",
       "                var nbb_unformatted_code = \"df_tests[\\\"diff\\\"] = df_tests[\\\"Test_1\\\"] - df_tests[\\\"Test_2\\\"]\";\n",
       "                var nbb_formatted_code = \"df_tests[\\\"diff\\\"] = df_tests[\\\"Test_1\\\"] - df_tests[\\\"Test_2\\\"]\";\n",
       "                var nbb_cells = Jupyter.notebook.get_cells();\n",
       "                for (var i = 0; i < nbb_cells.length; ++i) {\n",
       "                    if (nbb_cells[i].input_prompt_number == nbb_cell_id) {\n",
       "                        if (nbb_cells[i].get_text() == nbb_unformatted_code) {\n",
       "                             nbb_cells[i].set_text(nbb_formatted_code);\n",
       "                        }\n",
       "                        break;\n",
       "                    }\n",
       "                }\n",
       "            }, 500);\n",
       "            "
      ],
      "text/plain": [
       "<IPython.core.display.Javascript object>"
      ]
     },
     "metadata": {},
     "output_type": "display_data"
    }
   ],
   "source": [
    "df_tests[\"diff\"] = df_tests[\"Test_1\"] - df_tests[\"Test_2\"]"
   ]
  },
  {
   "cell_type": "code",
   "execution_count": 13,
   "id": "c4b75eda",
   "metadata": {
    "ExecuteTime": {
     "end_time": "2021-08-05T01:38:47.299176Z",
     "start_time": "2021-08-05T01:38:47.290933Z"
    }
   },
   "outputs": [
    {
     "name": "stdout",
     "output_type": "stream",
     "text": [
      "Manual calculated t-statistic:  -1.0784834690588145\n"
     ]
    },
    {
     "data": {
      "application/javascript": [
       "\n",
       "            setTimeout(function() {\n",
       "                var nbb_cell_id = 13;\n",
       "                var nbb_unformatted_code = \"t_stat = df_tests[\\\"diff\\\"].mean() / (df_tests[\\\"diff\\\"].std() / np.sqrt(len(df_tests)))\\nprint(\\\"Manual calculated t-statistic: \\\", t_stat)\";\n",
       "                var nbb_formatted_code = \"t_stat = df_tests[\\\"diff\\\"].mean() / (df_tests[\\\"diff\\\"].std() / np.sqrt(len(df_tests)))\\nprint(\\\"Manual calculated t-statistic: \\\", t_stat)\";\n",
       "                var nbb_cells = Jupyter.notebook.get_cells();\n",
       "                for (var i = 0; i < nbb_cells.length; ++i) {\n",
       "                    if (nbb_cells[i].input_prompt_number == nbb_cell_id) {\n",
       "                        if (nbb_cells[i].get_text() == nbb_unformatted_code) {\n",
       "                             nbb_cells[i].set_text(nbb_formatted_code);\n",
       "                        }\n",
       "                        break;\n",
       "                    }\n",
       "                }\n",
       "            }, 500);\n",
       "            "
      ],
      "text/plain": [
       "<IPython.core.display.Javascript object>"
      ]
     },
     "metadata": {},
     "output_type": "display_data"
    }
   ],
   "source": [
    "t_stat = df_tests[\"diff\"].mean() / (df_tests[\"diff\"].std() / np.sqrt(len(df_tests)))\n",
    "print(\"Manual calculated t-statistic: \", t_stat)"
   ]
  },
  {
   "cell_type": "markdown",
   "id": "4e880fc9",
   "metadata": {},
   "source": [
    "We get exactly the same answer as `scipy.stats` so that is comforting."
   ]
  },
  {
   "cell_type": "markdown",
   "id": "b9e23d3a",
   "metadata": {},
   "source": [
    "# Calculated with a Bayesian approach\n",
    "\n",
    "Now the fun part. We can set this up as a multi-level linear model but let's start with a non multi-level model.\n",
    "\n",
    "I'm going to treat each person as their own \"cluster\". The test is the repeated measure, with time as a categorical variable as indicated [here](https://www.researchgate.net/post/Paired-t-test-or-liner-mixed-model).\n",
    "\n",
    "First, let's do some table reformatting so that we can use it in our model."
   ]
  },
  {
   "cell_type": "code",
   "execution_count": 108,
   "id": "fd15bedd",
   "metadata": {
    "ExecuteTime": {
     "end_time": "2021-08-05T03:25:06.504519Z",
     "start_time": "2021-08-05T03:25:06.478360Z"
    }
   },
   "outputs": [
    {
     "data": {
      "text/html": [
       "<div>\n",
       "<style scoped>\n",
       "    .dataframe tbody tr th:only-of-type {\n",
       "        vertical-align: middle;\n",
       "    }\n",
       "\n",
       "    .dataframe tbody tr th {\n",
       "        vertical-align: top;\n",
       "    }\n",
       "\n",
       "    .dataframe thead th {\n",
       "        text-align: right;\n",
       "    }\n",
       "</style>\n",
       "<table border=\"1\" class=\"dataframe\">\n",
       "  <thead>\n",
       "    <tr style=\"text-align: right;\">\n",
       "      <th></th>\n",
       "      <th>Name</th>\n",
       "      <th>Time</th>\n",
       "      <th>Score</th>\n",
       "      <th>Name_code</th>\n",
       "      <th>Time_code</th>\n",
       "      <th>Score_std</th>\n",
       "    </tr>\n",
       "  </thead>\n",
       "  <tbody>\n",
       "    <tr>\n",
       "      <th>0</th>\n",
       "      <td>Mike</td>\n",
       "      <td>Test_1</td>\n",
       "      <td>35</td>\n",
       "      <td>2</td>\n",
       "      <td>0</td>\n",
       "      <td>-1.610167</td>\n",
       "    </tr>\n",
       "    <tr>\n",
       "      <th>1</th>\n",
       "      <td>Melanie</td>\n",
       "      <td>Test_1</td>\n",
       "      <td>50</td>\n",
       "      <td>0</td>\n",
       "      <td>0</td>\n",
       "      <td>-0.875490</td>\n",
       "    </tr>\n",
       "    <tr>\n",
       "      <th>2</th>\n",
       "      <td>Melissa</td>\n",
       "      <td>Test_1</td>\n",
       "      <td>90</td>\n",
       "      <td>1</td>\n",
       "      <td>0</td>\n",
       "      <td>1.083649</td>\n",
       "    </tr>\n",
       "    <tr>\n",
       "      <th>3</th>\n",
       "      <td>Mitchell</td>\n",
       "      <td>Test_1</td>\n",
       "      <td>78</td>\n",
       "      <td>3</td>\n",
       "      <td>0</td>\n",
       "      <td>0.495907</td>\n",
       "    </tr>\n",
       "    <tr>\n",
       "      <th>4</th>\n",
       "      <td>Mike</td>\n",
       "      <td>Test_2</td>\n",
       "      <td>67</td>\n",
       "      <td>2</td>\n",
       "      <td>1</td>\n",
       "      <td>-0.042856</td>\n",
       "    </tr>\n",
       "    <tr>\n",
       "      <th>5</th>\n",
       "      <td>Melanie</td>\n",
       "      <td>Test_2</td>\n",
       "      <td>46</td>\n",
       "      <td>0</td>\n",
       "      <td>1</td>\n",
       "      <td>-1.071404</td>\n",
       "    </tr>\n",
       "    <tr>\n",
       "      <th>6</th>\n",
       "      <td>Melissa</td>\n",
       "      <td>Test_2</td>\n",
       "      <td>86</td>\n",
       "      <td>1</td>\n",
       "      <td>1</td>\n",
       "      <td>0.887735</td>\n",
       "    </tr>\n",
       "    <tr>\n",
       "      <th>7</th>\n",
       "      <td>Mitchell</td>\n",
       "      <td>Test_2</td>\n",
       "      <td>91</td>\n",
       "      <td>3</td>\n",
       "      <td>1</td>\n",
       "      <td>1.132627</td>\n",
       "    </tr>\n",
       "  </tbody>\n",
       "</table>\n",
       "</div>"
      ],
      "text/plain": [
       "       Name    Time  Score  Name_code  Time_code  Score_std\n",
       "0      Mike  Test_1     35          2          0  -1.610167\n",
       "1   Melanie  Test_1     50          0          0  -0.875490\n",
       "2   Melissa  Test_1     90          1          0   1.083649\n",
       "3  Mitchell  Test_1     78          3          0   0.495907\n",
       "4      Mike  Test_2     67          2          1  -0.042856\n",
       "5   Melanie  Test_2     46          0          1  -1.071404\n",
       "6   Melissa  Test_2     86          1          1   0.887735\n",
       "7  Mitchell  Test_2     91          3          1   1.132627"
      ]
     },
     "execution_count": 108,
     "metadata": {},
     "output_type": "execute_result"
    },
    {
     "data": {
      "application/javascript": [
       "\n",
       "            setTimeout(function() {\n",
       "                var nbb_cell_id = 108;\n",
       "                var nbb_unformatted_code = \"df_tests2 = pd.melt(\\n    df_tests.drop(\\\"diff\\\", axis=1),\\n    id_vars=\\\"Name\\\",\\n)\\ndf_tests2.columns = [\\\"Name\\\", \\\"Time\\\", \\\"Score\\\"]\\ndf_tests2[\\\"Name_code\\\"] = pd.Categorical(df_tests2[\\\"Name\\\"]).codes\\ndf_tests2[\\\"Time_code\\\"] = pd.Categorical(df_tests2[\\\"Time\\\"]).codes\\ndf_tests2[\\\"Score_std\\\"] = standardize(df_tests2[\\\"Score\\\"])\\ndf_tests2\";\n",
       "                var nbb_formatted_code = \"df_tests2 = pd.melt(\\n    df_tests.drop(\\\"diff\\\", axis=1),\\n    id_vars=\\\"Name\\\",\\n)\\ndf_tests2.columns = [\\\"Name\\\", \\\"Time\\\", \\\"Score\\\"]\\ndf_tests2[\\\"Name_code\\\"] = pd.Categorical(df_tests2[\\\"Name\\\"]).codes\\ndf_tests2[\\\"Time_code\\\"] = pd.Categorical(df_tests2[\\\"Time\\\"]).codes\\ndf_tests2[\\\"Score_std\\\"] = standardize(df_tests2[\\\"Score\\\"])\\ndf_tests2\";\n",
       "                var nbb_cells = Jupyter.notebook.get_cells();\n",
       "                for (var i = 0; i < nbb_cells.length; ++i) {\n",
       "                    if (nbb_cells[i].input_prompt_number == nbb_cell_id) {\n",
       "                        if (nbb_cells[i].get_text() == nbb_unformatted_code) {\n",
       "                             nbb_cells[i].set_text(nbb_formatted_code);\n",
       "                        }\n",
       "                        break;\n",
       "                    }\n",
       "                }\n",
       "            }, 500);\n",
       "            "
      ],
      "text/plain": [
       "<IPython.core.display.Javascript object>"
      ]
     },
     "metadata": {},
     "output_type": "display_data"
    }
   ],
   "source": [
    "df_tests2 = pd.melt(\n",
    "    df_tests.drop(\"diff\", axis=1),\n",
    "    id_vars=\"Name\",\n",
    ")\n",
    "df_tests2.columns = [\"Name\", \"Time\", \"Score\"]\n",
    "df_tests2[\"Name_code\"] = pd.Categorical(df_tests2[\"Name\"]).codes\n",
    "df_tests2[\"Time_code\"] = pd.Categorical(df_tests2[\"Time\"]).codes\n",
    "df_tests2[\"Score_std\"] = standardize(df_tests2[\"Score\"])\n",
    "df_tests2"
   ]
  },
  {
   "cell_type": "markdown",
   "id": "c25c806d",
   "metadata": {},
   "source": [
    "## Non-multi-level model"
   ]
  },
  {
   "cell_type": "markdown",
   "id": "14cb7a5b",
   "metadata": {},
   "source": [
    "$$\\text{score}_i \\text{ ~ Normal}(\\mu_i, \\sigma) $$\n",
    "$$\\mu_i = \\alpha_{\\text{SUBJECT}} + \\gamma_{\\text{TIME}} $$\n",
    "$$\\alpha_j \\text{ ∼ Normal}(0, 1.5) \\tag{regularizing prior}$$\n",
    "$$\\gamma_j \\text{ ∼ Normal}(0, 1.5) \\tag{regularizing prior}$$\n",
    "$$\\sigma \\text{ ~ Exp}(1)$$"
   ]
  },
  {
   "cell_type": "code",
   "execution_count": 114,
   "id": "65bc3d8b",
   "metadata": {
    "ExecuteTime": {
     "end_time": "2021-08-05T05:43:32.194859Z",
     "start_time": "2021-08-05T05:43:32.184543Z"
    }
   },
   "outputs": [
    {
     "data": {
      "text/html": [
       "<div>\n",
       "<style scoped>\n",
       "    .dataframe tbody tr th:only-of-type {\n",
       "        vertical-align: middle;\n",
       "    }\n",
       "\n",
       "    .dataframe tbody tr th {\n",
       "        vertical-align: top;\n",
       "    }\n",
       "\n",
       "    .dataframe thead th {\n",
       "        text-align: right;\n",
       "    }\n",
       "</style>\n",
       "<table border=\"1\" class=\"dataframe\">\n",
       "  <thead>\n",
       "    <tr style=\"text-align: right;\">\n",
       "      <th></th>\n",
       "      <th>Name</th>\n",
       "      <th>Time</th>\n",
       "      <th>Score</th>\n",
       "      <th>Name_code</th>\n",
       "      <th>Time_code</th>\n",
       "      <th>Score_std</th>\n",
       "    </tr>\n",
       "  </thead>\n",
       "  <tbody>\n",
       "    <tr>\n",
       "      <th>0</th>\n",
       "      <td>Mike</td>\n",
       "      <td>Test_1</td>\n",
       "      <td>35</td>\n",
       "      <td>2</td>\n",
       "      <td>0</td>\n",
       "      <td>-1.610167</td>\n",
       "    </tr>\n",
       "    <tr>\n",
       "      <th>1</th>\n",
       "      <td>Melanie</td>\n",
       "      <td>Test_1</td>\n",
       "      <td>50</td>\n",
       "      <td>0</td>\n",
       "      <td>0</td>\n",
       "      <td>-0.875490</td>\n",
       "    </tr>\n",
       "    <tr>\n",
       "      <th>2</th>\n",
       "      <td>Melissa</td>\n",
       "      <td>Test_1</td>\n",
       "      <td>90</td>\n",
       "      <td>1</td>\n",
       "      <td>0</td>\n",
       "      <td>1.083649</td>\n",
       "    </tr>\n",
       "    <tr>\n",
       "      <th>3</th>\n",
       "      <td>Mitchell</td>\n",
       "      <td>Test_1</td>\n",
       "      <td>78</td>\n",
       "      <td>3</td>\n",
       "      <td>0</td>\n",
       "      <td>0.495907</td>\n",
       "    </tr>\n",
       "    <tr>\n",
       "      <th>4</th>\n",
       "      <td>Mike</td>\n",
       "      <td>Test_2</td>\n",
       "      <td>67</td>\n",
       "      <td>2</td>\n",
       "      <td>1</td>\n",
       "      <td>-0.042856</td>\n",
       "    </tr>\n",
       "    <tr>\n",
       "      <th>5</th>\n",
       "      <td>Melanie</td>\n",
       "      <td>Test_2</td>\n",
       "      <td>46</td>\n",
       "      <td>0</td>\n",
       "      <td>1</td>\n",
       "      <td>-1.071404</td>\n",
       "    </tr>\n",
       "    <tr>\n",
       "      <th>6</th>\n",
       "      <td>Melissa</td>\n",
       "      <td>Test_2</td>\n",
       "      <td>86</td>\n",
       "      <td>1</td>\n",
       "      <td>1</td>\n",
       "      <td>0.887735</td>\n",
       "    </tr>\n",
       "    <tr>\n",
       "      <th>7</th>\n",
       "      <td>Mitchell</td>\n",
       "      <td>Test_2</td>\n",
       "      <td>91</td>\n",
       "      <td>3</td>\n",
       "      <td>1</td>\n",
       "      <td>1.132627</td>\n",
       "    </tr>\n",
       "  </tbody>\n",
       "</table>\n",
       "</div>"
      ],
      "text/plain": [
       "       Name    Time  Score  Name_code  Time_code  Score_std\n",
       "0      Mike  Test_1     35          2          0  -1.610167\n",
       "1   Melanie  Test_1     50          0          0  -0.875490\n",
       "2   Melissa  Test_1     90          1          0   1.083649\n",
       "3  Mitchell  Test_1     78          3          0   0.495907\n",
       "4      Mike  Test_2     67          2          1  -0.042856\n",
       "5   Melanie  Test_2     46          0          1  -1.071404\n",
       "6   Melissa  Test_2     86          1          1   0.887735\n",
       "7  Mitchell  Test_2     91          3          1   1.132627"
      ]
     },
     "execution_count": 114,
     "metadata": {},
     "output_type": "execute_result"
    },
    {
     "data": {
      "application/javascript": [
       "\n",
       "            setTimeout(function() {\n",
       "                var nbb_cell_id = 114;\n",
       "                var nbb_unformatted_code = \"df_tests2\";\n",
       "                var nbb_formatted_code = \"df_tests2\";\n",
       "                var nbb_cells = Jupyter.notebook.get_cells();\n",
       "                for (var i = 0; i < nbb_cells.length; ++i) {\n",
       "                    if (nbb_cells[i].input_prompt_number == nbb_cell_id) {\n",
       "                        if (nbb_cells[i].get_text() == nbb_unformatted_code) {\n",
       "                             nbb_cells[i].set_text(nbb_formatted_code);\n",
       "                        }\n",
       "                        break;\n",
       "                    }\n",
       "                }\n",
       "            }, 500);\n",
       "            "
      ],
      "text/plain": [
       "<IPython.core.display.Javascript object>"
      ]
     },
     "metadata": {},
     "output_type": "display_data"
    }
   ],
   "source": [
    "df_tests2"
   ]
  },
  {
   "cell_type": "code",
   "execution_count": 132,
   "id": "b2bfd0a1",
   "metadata": {
    "ExecuteTime": {
     "end_time": "2021-08-05T06:05:50.391701Z",
     "start_time": "2021-08-05T06:05:25.082202Z"
    }
   },
   "outputs": [
    {
     "name": "stderr",
     "output_type": "stream",
     "text": [
      "Auto-assigning NUTS sampler...\n",
      "Initializing NUTS using jitter+adapt_diag...\n",
      "Multiprocess sampling (4 chains in 4 jobs)\n",
      "NUTS: [g, a, sigma]\n",
      "Sampling 4 chains for 1_000 tune and 1_000 draw iterations (4_000 + 4_000 draws total) took 22 seconds.\n",
      "There was 1 divergence after tuning. Increase `target_accept` or reparameterize.\n",
      "There were 4 divergences after tuning. Increase `target_accept` or reparameterize.\n",
      "The number of effective samples is smaller than 10% for some parameters.\n"
     ]
    },
    {
     "data": {
      "application/javascript": [
       "\n",
       "            setTimeout(function() {\n",
       "                var nbb_cell_id = 132;\n",
       "                var nbb_unformatted_code = \"with pm.Model() as m1:\\n\\n    # prior for SD of testers\\n    sigma = pm.Exponential(\\\"sigma\\\", 1.0)\\n\\n    # regularizing prior\\n    a = pm.Normal(\\\"a\\\", 0, 1.5, shape=4)  # one for each subject\\n    g = pm.Normal(\\\"g\\\", 0, 1.5, shape=2)  # one for each time point\\n\\n    # mu is deterministic, equivalent to alpha indexed by time\\n    mu = a[df_tests2[\\\"Name_code\\\"]] + g[df_tests2[\\\"Time_code\\\"]]\\n\\n    # likelihood\\n    score = pm.Normal(\\\"score\\\", mu=mu, sd=sigma, observed=df_tests2[\\\"Score_std\\\"])\\n\\n    trace_m1 = pm.sample(draws=1000, random_seed=19, return_inferencedata=True, progressbar=False)\";\n",
       "                var nbb_formatted_code = \"with pm.Model() as m1:\\n\\n    # prior for SD of testers\\n    sigma = pm.Exponential(\\\"sigma\\\", 1.0)\\n\\n    # regularizing prior\\n    a = pm.Normal(\\\"a\\\", 0, 1.5, shape=4)  # one for each subject\\n    g = pm.Normal(\\\"g\\\", 0, 1.5, shape=2)  # one for each time point\\n\\n    # mu is deterministic, equivalent to alpha indexed by time\\n    mu = a[df_tests2[\\\"Name_code\\\"]] + g[df_tests2[\\\"Time_code\\\"]]\\n\\n    # likelihood\\n    score = pm.Normal(\\\"score\\\", mu=mu, sd=sigma, observed=df_tests2[\\\"Score_std\\\"])\\n\\n    trace_m1 = pm.sample(\\n        draws=1000, random_seed=19, return_inferencedata=True, progressbar=False\\n    )\";\n",
       "                var nbb_cells = Jupyter.notebook.get_cells();\n",
       "                for (var i = 0; i < nbb_cells.length; ++i) {\n",
       "                    if (nbb_cells[i].input_prompt_number == nbb_cell_id) {\n",
       "                        if (nbb_cells[i].get_text() == nbb_unformatted_code) {\n",
       "                             nbb_cells[i].set_text(nbb_formatted_code);\n",
       "                        }\n",
       "                        break;\n",
       "                    }\n",
       "                }\n",
       "            }, 500);\n",
       "            "
      ],
      "text/plain": [
       "<IPython.core.display.Javascript object>"
      ]
     },
     "metadata": {},
     "output_type": "display_data"
    }
   ],
   "source": [
    "with pm.Model() as m1:\n",
    "\n",
    "    # prior for SD of testers\n",
    "    sigma = pm.Exponential(\"sigma\", 1.0)\n",
    "\n",
    "    # regularizing prior\n",
    "    a = pm.Normal(\"a\", 0, 1.5, shape=4)  # one for each subject\n",
    "    g = pm.Normal(\"g\", 0, 1.5, shape=2)  # one for each time point\n",
    "\n",
    "    # mu is deterministic, equivalent to alpha indexed by time\n",
    "    mu = a[df_tests2[\"Name_code\"]] + g[df_tests2[\"Time_code\"]]\n",
    "\n",
    "    # likelihood\n",
    "    score = pm.Normal(\"score\", mu=mu, sd=sigma, observed=df_tests2[\"Score_std\"])\n",
    "\n",
    "    trace_m1 = pm.sample(\n",
    "        draws=1000, random_seed=19, return_inferencedata=True, progressbar=False\n",
    "    )"
   ]
  },
  {
   "cell_type": "code",
   "execution_count": 126,
   "id": "4fa96111",
   "metadata": {
    "ExecuteTime": {
     "end_time": "2021-08-05T05:54:11.234530Z",
     "start_time": "2021-08-05T05:54:11.156479Z"
    }
   },
   "outputs": [
    {
     "data": {
      "text/html": [
       "<div>\n",
       "<style scoped>\n",
       "    .dataframe tbody tr th:only-of-type {\n",
       "        vertical-align: middle;\n",
       "    }\n",
       "\n",
       "    .dataframe tbody tr th {\n",
       "        vertical-align: top;\n",
       "    }\n",
       "\n",
       "    .dataframe thead th {\n",
       "        text-align: right;\n",
       "    }\n",
       "</style>\n",
       "<table border=\"1\" class=\"dataframe\">\n",
       "  <thead>\n",
       "    <tr style=\"text-align: right;\">\n",
       "      <th></th>\n",
       "      <th>mean</th>\n",
       "      <th>sd</th>\n",
       "      <th>hdi_5.5%</th>\n",
       "      <th>hdi_94.5%</th>\n",
       "      <th>mcse_mean</th>\n",
       "      <th>mcse_sd</th>\n",
       "      <th>ess_mean</th>\n",
       "      <th>ess_sd</th>\n",
       "      <th>ess_bulk</th>\n",
       "      <th>ess_tail</th>\n",
       "      <th>r_hat</th>\n",
       "    </tr>\n",
       "  </thead>\n",
       "  <tbody>\n",
       "    <tr>\n",
       "      <th>a[0]</th>\n",
       "      <td>-0.918</td>\n",
       "      <td>0.738</td>\n",
       "      <td>-2.022</td>\n",
       "      <td>0.244</td>\n",
       "      <td>0.030</td>\n",
       "      <td>0.021</td>\n",
       "      <td>615.0</td>\n",
       "      <td>615.0</td>\n",
       "      <td>619.0</td>\n",
       "      <td>1418.0</td>\n",
       "      <td>1.01</td>\n",
       "    </tr>\n",
       "    <tr>\n",
       "      <th>a[1]</th>\n",
       "      <td>0.838</td>\n",
       "      <td>0.727</td>\n",
       "      <td>-0.323</td>\n",
       "      <td>1.989</td>\n",
       "      <td>0.029</td>\n",
       "      <td>0.020</td>\n",
       "      <td>649.0</td>\n",
       "      <td>649.0</td>\n",
       "      <td>650.0</td>\n",
       "      <td>1547.0</td>\n",
       "      <td>1.01</td>\n",
       "    </tr>\n",
       "    <tr>\n",
       "      <th>a[2]</th>\n",
       "      <td>-0.782</td>\n",
       "      <td>0.744</td>\n",
       "      <td>-1.950</td>\n",
       "      <td>0.379</td>\n",
       "      <td>0.029</td>\n",
       "      <td>0.021</td>\n",
       "      <td>645.0</td>\n",
       "      <td>645.0</td>\n",
       "      <td>648.0</td>\n",
       "      <td>1662.0</td>\n",
       "      <td>1.01</td>\n",
       "    </tr>\n",
       "    <tr>\n",
       "      <th>a[3]</th>\n",
       "      <td>0.689</td>\n",
       "      <td>0.728</td>\n",
       "      <td>-0.465</td>\n",
       "      <td>1.837</td>\n",
       "      <td>0.028</td>\n",
       "      <td>0.020</td>\n",
       "      <td>688.0</td>\n",
       "      <td>688.0</td>\n",
       "      <td>687.0</td>\n",
       "      <td>1464.0</td>\n",
       "      <td>1.01</td>\n",
       "    </tr>\n",
       "    <tr>\n",
       "      <th>g[0]</th>\n",
       "      <td>-0.165</td>\n",
       "      <td>0.674</td>\n",
       "      <td>-1.175</td>\n",
       "      <td>0.967</td>\n",
       "      <td>0.028</td>\n",
       "      <td>0.020</td>\n",
       "      <td>560.0</td>\n",
       "      <td>560.0</td>\n",
       "      <td>566.0</td>\n",
       "      <td>1216.0</td>\n",
       "      <td>1.01</td>\n",
       "    </tr>\n",
       "    <tr>\n",
       "      <th>g[1]</th>\n",
       "      <td>0.258</td>\n",
       "      <td>0.670</td>\n",
       "      <td>-0.838</td>\n",
       "      <td>1.266</td>\n",
       "      <td>0.029</td>\n",
       "      <td>0.021</td>\n",
       "      <td>532.0</td>\n",
       "      <td>532.0</td>\n",
       "      <td>538.0</td>\n",
       "      <td>1256.0</td>\n",
       "      <td>1.01</td>\n",
       "    </tr>\n",
       "    <tr>\n",
       "      <th>sigma</th>\n",
       "      <td>0.711</td>\n",
       "      <td>0.310</td>\n",
       "      <td>0.288</td>\n",
       "      <td>1.074</td>\n",
       "      <td>0.012</td>\n",
       "      <td>0.008</td>\n",
       "      <td>707.0</td>\n",
       "      <td>707.0</td>\n",
       "      <td>350.0</td>\n",
       "      <td>106.0</td>\n",
       "      <td>1.01</td>\n",
       "    </tr>\n",
       "  </tbody>\n",
       "</table>\n",
       "</div>"
      ],
      "text/plain": [
       "        mean     sd  hdi_5.5%  hdi_94.5%  mcse_mean  mcse_sd  ess_mean  \\\n",
       "a[0]  -0.918  0.738    -2.022      0.244      0.030    0.021     615.0   \n",
       "a[1]   0.838  0.727    -0.323      1.989      0.029    0.020     649.0   \n",
       "a[2]  -0.782  0.744    -1.950      0.379      0.029    0.021     645.0   \n",
       "a[3]   0.689  0.728    -0.465      1.837      0.028    0.020     688.0   \n",
       "g[0]  -0.165  0.674    -1.175      0.967      0.028    0.020     560.0   \n",
       "g[1]   0.258  0.670    -0.838      1.266      0.029    0.021     532.0   \n",
       "sigma  0.711  0.310     0.288      1.074      0.012    0.008     707.0   \n",
       "\n",
       "       ess_sd  ess_bulk  ess_tail  r_hat  \n",
       "a[0]    615.0     619.0    1418.0   1.01  \n",
       "a[1]    649.0     650.0    1547.0   1.01  \n",
       "a[2]    645.0     648.0    1662.0   1.01  \n",
       "a[3]    688.0     687.0    1464.0   1.01  \n",
       "g[0]    560.0     566.0    1216.0   1.01  \n",
       "g[1]    532.0     538.0    1256.0   1.01  \n",
       "sigma   707.0     350.0     106.0   1.01  "
      ]
     },
     "execution_count": 126,
     "metadata": {},
     "output_type": "execute_result"
    },
    {
     "data": {
      "application/javascript": [
       "\n",
       "            setTimeout(function() {\n",
       "                var nbb_cell_id = 126;\n",
       "                var nbb_unformatted_code = \"az.summary(trace_m1)\";\n",
       "                var nbb_formatted_code = \"az.summary(trace_m1)\";\n",
       "                var nbb_cells = Jupyter.notebook.get_cells();\n",
       "                for (var i = 0; i < nbb_cells.length; ++i) {\n",
       "                    if (nbb_cells[i].input_prompt_number == nbb_cell_id) {\n",
       "                        if (nbb_cells[i].get_text() == nbb_unformatted_code) {\n",
       "                             nbb_cells[i].set_text(nbb_formatted_code);\n",
       "                        }\n",
       "                        break;\n",
       "                    }\n",
       "                }\n",
       "            }, 500);\n",
       "            "
      ],
      "text/plain": [
       "<IPython.core.display.Javascript object>"
      ]
     },
     "metadata": {},
     "output_type": "display_data"
    }
   ],
   "source": [
    "az.summary(trace_m1)"
   ]
  },
  {
   "cell_type": "code",
   "execution_count": 127,
   "id": "e00b1159",
   "metadata": {
    "ExecuteTime": {
     "end_time": "2021-08-05T05:54:15.163331Z",
     "start_time": "2021-08-05T05:54:15.072536Z"
    }
   },
   "outputs": [
    {
     "data": {
      "text/html": [
       "<div>\n",
       "<style scoped>\n",
       "    .dataframe tbody tr th:only-of-type {\n",
       "        vertical-align: middle;\n",
       "    }\n",
       "\n",
       "    .dataframe tbody tr th {\n",
       "        vertical-align: top;\n",
       "    }\n",
       "\n",
       "    .dataframe thead th {\n",
       "        text-align: right;\n",
       "    }\n",
       "</style>\n",
       "<table border=\"1\" class=\"dataframe\">\n",
       "  <thead>\n",
       "    <tr style=\"text-align: right;\">\n",
       "      <th></th>\n",
       "      <th>chain</th>\n",
       "      <th>draw</th>\n",
       "      <th>(posterior, a[0], 0)</th>\n",
       "      <th>(posterior, a[1], 1)</th>\n",
       "      <th>(posterior, a[2], 2)</th>\n",
       "      <th>(posterior, a[3], 3)</th>\n",
       "      <th>(posterior, g[0], 0)</th>\n",
       "      <th>(posterior, g[1], 1)</th>\n",
       "      <th>(posterior, sigma)</th>\n",
       "      <th>(log_likelihood, score[0], 0)</th>\n",
       "      <th>...</th>\n",
       "      <th>(sample_stats, mean_tree_accept)</th>\n",
       "      <th>(sample_stats, perf_counter_start)</th>\n",
       "      <th>(sample_stats, energy_error)</th>\n",
       "      <th>(sample_stats, step_size)</th>\n",
       "      <th>(sample_stats, max_energy_error)</th>\n",
       "      <th>(sample_stats, depth)</th>\n",
       "      <th>(sample_stats, tree_size)</th>\n",
       "      <th>(sample_stats, diverging)</th>\n",
       "      <th>(sample_stats, energy)</th>\n",
       "      <th>(sample_stats, process_time_diff)</th>\n",
       "    </tr>\n",
       "  </thead>\n",
       "  <tbody>\n",
       "    <tr>\n",
       "      <th>0</th>\n",
       "      <td>0</td>\n",
       "      <td>0</td>\n",
       "      <td>-1.130323</td>\n",
       "      <td>0.428683</td>\n",
       "      <td>-1.801091</td>\n",
       "      <td>-0.103095</td>\n",
       "      <td>0.236200</td>\n",
       "      <td>0.720884</td>\n",
       "      <td>0.425864</td>\n",
       "      <td>-0.070954</td>\n",
       "      <td>...</td>\n",
       "      <td>0.871617</td>\n",
       "      <td>1169.238632</td>\n",
       "      <td>0.401664</td>\n",
       "      <td>0.397527</td>\n",
       "      <td>0.820186</td>\n",
       "      <td>4</td>\n",
       "      <td>15.0</td>\n",
       "      <td>False</td>\n",
       "      <td>20.229142</td>\n",
       "      <td>0.001596</td>\n",
       "    </tr>\n",
       "    <tr>\n",
       "      <th>1</th>\n",
       "      <td>0</td>\n",
       "      <td>1</td>\n",
       "      <td>-1.664056</td>\n",
       "      <td>0.340213</td>\n",
       "      <td>-0.834904</td>\n",
       "      <td>0.478362</td>\n",
       "      <td>0.340148</td>\n",
       "      <td>0.723387</td>\n",
       "      <td>0.385726</td>\n",
       "      <td>-4.147343</td>\n",
       "      <td>...</td>\n",
       "      <td>0.956333</td>\n",
       "      <td>1169.240341</td>\n",
       "      <td>-0.479124</td>\n",
       "      <td>0.397527</td>\n",
       "      <td>-1.047678</td>\n",
       "      <td>2</td>\n",
       "      <td>3.0</td>\n",
       "      <td>False</td>\n",
       "      <td>17.178882</td>\n",
       "      <td>0.000467</td>\n",
       "    </tr>\n",
       "    <tr>\n",
       "      <th>2</th>\n",
       "      <td>0</td>\n",
       "      <td>2</td>\n",
       "      <td>-2.008341</td>\n",
       "      <td>-0.181530</td>\n",
       "      <td>-0.620523</td>\n",
       "      <td>-0.158988</td>\n",
       "      <td>0.735810</td>\n",
       "      <td>0.925338</td>\n",
       "      <td>0.786464</td>\n",
       "      <td>-3.085416</td>\n",
       "      <td>...</td>\n",
       "      <td>0.495141</td>\n",
       "      <td>1169.240921</td>\n",
       "      <td>0.846038</td>\n",
       "      <td>0.397527</td>\n",
       "      <td>1.266118</td>\n",
       "      <td>4</td>\n",
       "      <td>15.0</td>\n",
       "      <td>False</td>\n",
       "      <td>21.314292</td>\n",
       "      <td>0.001638</td>\n",
       "    </tr>\n",
       "    <tr>\n",
       "      <th>3</th>\n",
       "      <td>0</td>\n",
       "      <td>3</td>\n",
       "      <td>-1.065443</td>\n",
       "      <td>1.599116</td>\n",
       "      <td>-1.334224</td>\n",
       "      <td>0.305367</td>\n",
       "      <td>-0.219125</td>\n",
       "      <td>0.344952</td>\n",
       "      <td>0.559128</td>\n",
       "      <td>-0.342726</td>\n",
       "      <td>...</td>\n",
       "      <td>0.987480</td>\n",
       "      <td>1169.242676</td>\n",
       "      <td>-0.056466</td>\n",
       "      <td>0.397527</td>\n",
       "      <td>-0.426190</td>\n",
       "      <td>4</td>\n",
       "      <td>15.0</td>\n",
       "      <td>False</td>\n",
       "      <td>22.029038</td>\n",
       "      <td>0.001713</td>\n",
       "    </tr>\n",
       "    <tr>\n",
       "      <th>4</th>\n",
       "      <td>0</td>\n",
       "      <td>4</td>\n",
       "      <td>-1.466140</td>\n",
       "      <td>1.068115</td>\n",
       "      <td>-0.920037</td>\n",
       "      <td>0.881574</td>\n",
       "      <td>0.442463</td>\n",
       "      <td>-0.066000</td>\n",
       "      <td>0.654789</td>\n",
       "      <td>-1.991440</td>\n",
       "      <td>...</td>\n",
       "      <td>0.758809</td>\n",
       "      <td>1169.244531</td>\n",
       "      <td>0.272440</td>\n",
       "      <td>0.397527</td>\n",
       "      <td>0.511085</td>\n",
       "      <td>2</td>\n",
       "      <td>3.0</td>\n",
       "      <td>False</td>\n",
       "      <td>21.150677</td>\n",
       "      <td>0.000515</td>\n",
       "    </tr>\n",
       "  </tbody>\n",
       "</table>\n",
       "<p>5 rows × 30 columns</p>\n",
       "</div>"
      ],
      "text/plain": [
       "   chain  draw  (posterior, a[0], 0)  (posterior, a[1], 1)  \\\n",
       "0      0     0             -1.130323              0.428683   \n",
       "1      0     1             -1.664056              0.340213   \n",
       "2      0     2             -2.008341             -0.181530   \n",
       "3      0     3             -1.065443              1.599116   \n",
       "4      0     4             -1.466140              1.068115   \n",
       "\n",
       "   (posterior, a[2], 2)  (posterior, a[3], 3)  (posterior, g[0], 0)  \\\n",
       "0             -1.801091             -0.103095              0.236200   \n",
       "1             -0.834904              0.478362              0.340148   \n",
       "2             -0.620523             -0.158988              0.735810   \n",
       "3             -1.334224              0.305367             -0.219125   \n",
       "4             -0.920037              0.881574              0.442463   \n",
       "\n",
       "   (posterior, g[1], 1)  (posterior, sigma)  (log_likelihood, score[0], 0)  \\\n",
       "0              0.720884            0.425864                      -0.070954   \n",
       "1              0.723387            0.385726                      -4.147343   \n",
       "2              0.925338            0.786464                      -3.085416   \n",
       "3              0.344952            0.559128                      -0.342726   \n",
       "4             -0.066000            0.654789                      -1.991440   \n",
       "\n",
       "   ...  (sample_stats, mean_tree_accept)  (sample_stats, perf_counter_start)  \\\n",
       "0  ...                          0.871617                         1169.238632   \n",
       "1  ...                          0.956333                         1169.240341   \n",
       "2  ...                          0.495141                         1169.240921   \n",
       "3  ...                          0.987480                         1169.242676   \n",
       "4  ...                          0.758809                         1169.244531   \n",
       "\n",
       "   (sample_stats, energy_error)  (sample_stats, step_size)  \\\n",
       "0                      0.401664                   0.397527   \n",
       "1                     -0.479124                   0.397527   \n",
       "2                      0.846038                   0.397527   \n",
       "3                     -0.056466                   0.397527   \n",
       "4                      0.272440                   0.397527   \n",
       "\n",
       "   (sample_stats, max_energy_error)  (sample_stats, depth)  \\\n",
       "0                          0.820186                      4   \n",
       "1                         -1.047678                      2   \n",
       "2                          1.266118                      4   \n",
       "3                         -0.426190                      4   \n",
       "4                          0.511085                      2   \n",
       "\n",
       "   (sample_stats, tree_size)  (sample_stats, diverging)  \\\n",
       "0                       15.0                      False   \n",
       "1                        3.0                      False   \n",
       "2                       15.0                      False   \n",
       "3                       15.0                      False   \n",
       "4                        3.0                      False   \n",
       "\n",
       "   (sample_stats, energy)  (sample_stats, process_time_diff)  \n",
       "0               20.229142                           0.001596  \n",
       "1               17.178882                           0.000467  \n",
       "2               21.314292                           0.001638  \n",
       "3               22.029038                           0.001713  \n",
       "4               21.150677                           0.000515  \n",
       "\n",
       "[5 rows x 30 columns]"
      ]
     },
     "execution_count": 127,
     "metadata": {},
     "output_type": "execute_result"
    },
    {
     "data": {
      "application/javascript": [
       "\n",
       "            setTimeout(function() {\n",
       "                var nbb_cell_id = 127;\n",
       "                var nbb_unformatted_code = \"trace_m1_df = trace_m1.to_dataframe()\\ntrace_m1_df.head()\";\n",
       "                var nbb_formatted_code = \"trace_m1_df = trace_m1.to_dataframe()\\ntrace_m1_df.head()\";\n",
       "                var nbb_cells = Jupyter.notebook.get_cells();\n",
       "                for (var i = 0; i < nbb_cells.length; ++i) {\n",
       "                    if (nbb_cells[i].input_prompt_number == nbb_cell_id) {\n",
       "                        if (nbb_cells[i].get_text() == nbb_unformatted_code) {\n",
       "                             nbb_cells[i].set_text(nbb_formatted_code);\n",
       "                        }\n",
       "                        break;\n",
       "                    }\n",
       "                }\n",
       "            }, 500);\n",
       "            "
      ],
      "text/plain": [
       "<IPython.core.display.Javascript object>"
      ]
     },
     "metadata": {},
     "output_type": "display_data"
    }
   ],
   "source": [
    "trace_m1_df = trace_m1.to_dataframe()\n",
    "trace_m1_df.head()"
   ]
  },
  {
   "cell_type": "code",
   "execution_count": 128,
   "id": "79d515ee",
   "metadata": {
    "ExecuteTime": {
     "end_time": "2021-08-05T05:54:20.831368Z",
     "start_time": "2021-08-05T05:54:20.824975Z"
    }
   },
   "outputs": [
    {
     "data": {
      "application/javascript": [
       "\n",
       "            setTimeout(function() {\n",
       "                var nbb_cell_id = 128;\n",
       "                var nbb_unformatted_code = \"post_diff = (\\n    trace_m1_df[(\\\"posterior\\\", \\\"g[0]\\\", 0)] - trace_m1_df[(\\\"posterior\\\", \\\"g[1]\\\", 1)]\\n)\";\n",
       "                var nbb_formatted_code = \"post_diff = (\\n    trace_m1_df[(\\\"posterior\\\", \\\"g[0]\\\", 0)] - trace_m1_df[(\\\"posterior\\\", \\\"g[1]\\\", 1)]\\n)\";\n",
       "                var nbb_cells = Jupyter.notebook.get_cells();\n",
       "                for (var i = 0; i < nbb_cells.length; ++i) {\n",
       "                    if (nbb_cells[i].input_prompt_number == nbb_cell_id) {\n",
       "                        if (nbb_cells[i].get_text() == nbb_unformatted_code) {\n",
       "                             nbb_cells[i].set_text(nbb_formatted_code);\n",
       "                        }\n",
       "                        break;\n",
       "                    }\n",
       "                }\n",
       "            }, 500);\n",
       "            "
      ],
      "text/plain": [
       "<IPython.core.display.Javascript object>"
      ]
     },
     "metadata": {},
     "output_type": "display_data"
    }
   ],
   "source": [
    "post_diff = (\n",
    "    trace_m1_df[(\"posterior\", \"g[0]\", 0)] - trace_m1_df[(\"posterior\", \"g[1]\", 1)]\n",
    ")"
   ]
  },
  {
   "cell_type": "code",
   "execution_count": 129,
   "id": "b693e007",
   "metadata": {
    "ExecuteTime": {
     "end_time": "2021-08-05T05:54:21.156776Z",
     "start_time": "2021-08-05T05:54:21.150738Z"
    }
   },
   "outputs": [
    {
     "data": {
      "text/plain": [
       "-0.4223415186249017"
      ]
     },
     "execution_count": 129,
     "metadata": {},
     "output_type": "execute_result"
    },
    {
     "data": {
      "application/javascript": [
       "\n",
       "            setTimeout(function() {\n",
       "                var nbb_cell_id = 129;\n",
       "                var nbb_unformatted_code = \"post_diff.mean()\";\n",
       "                var nbb_formatted_code = \"post_diff.mean()\";\n",
       "                var nbb_cells = Jupyter.notebook.get_cells();\n",
       "                for (var i = 0; i < nbb_cells.length; ++i) {\n",
       "                    if (nbb_cells[i].input_prompt_number == nbb_cell_id) {\n",
       "                        if (nbb_cells[i].get_text() == nbb_unformatted_code) {\n",
       "                             nbb_cells[i].set_text(nbb_formatted_code);\n",
       "                        }\n",
       "                        break;\n",
       "                    }\n",
       "                }\n",
       "            }, 500);\n",
       "            "
      ],
      "text/plain": [
       "<IPython.core.display.Javascript object>"
      ]
     },
     "metadata": {},
     "output_type": "display_data"
    }
   ],
   "source": [
    "post_diff.mean()"
   ]
  },
  {
   "cell_type": "code",
   "execution_count": 130,
   "id": "f6646fdf",
   "metadata": {
    "ExecuteTime": {
     "end_time": "2021-08-05T05:54:21.953862Z",
     "start_time": "2021-08-05T05:54:21.947635Z"
    }
   },
   "outputs": [
    {
     "data": {
      "text/plain": [
       "0.5166181274773156"
      ]
     },
     "execution_count": 130,
     "metadata": {},
     "output_type": "execute_result"
    },
    {
     "data": {
      "application/javascript": [
       "\n",
       "            setTimeout(function() {\n",
       "                var nbb_cell_id = 130;\n",
       "                var nbb_unformatted_code = \"post_diff.std()\";\n",
       "                var nbb_formatted_code = \"post_diff.std()\";\n",
       "                var nbb_cells = Jupyter.notebook.get_cells();\n",
       "                for (var i = 0; i < nbb_cells.length; ++i) {\n",
       "                    if (nbb_cells[i].input_prompt_number == nbb_cell_id) {\n",
       "                        if (nbb_cells[i].get_text() == nbb_unformatted_code) {\n",
       "                             nbb_cells[i].set_text(nbb_formatted_code);\n",
       "                        }\n",
       "                        break;\n",
       "                    }\n",
       "                }\n",
       "            }, 500);\n",
       "            "
      ],
      "text/plain": [
       "<IPython.core.display.Javascript object>"
      ]
     },
     "metadata": {},
     "output_type": "display_data"
    }
   ],
   "source": [
    "post_diff.std()"
   ]
  },
  {
   "cell_type": "markdown",
   "id": "7972068b",
   "metadata": {},
   "source": [
    "**Not sure if I set this up right and even if I did, I'm not sure what to do next.**"
   ]
  },
  {
   "cell_type": "markdown",
   "id": "fa2a5b57",
   "metadata": {},
   "source": [
    "## Multi-level model\n",
    "\n",
    "**Is this model right? I'm confused for what to put for the top line sigma for example**"
   ]
  },
  {
   "cell_type": "markdown",
   "id": "7737a017",
   "metadata": {},
   "source": [
    "$$\\text{score}_i \\text{ ~ Normal}(\\mu_i, \\sigma) $$\n",
    "$$\\mu_i = \\alpha_{\\text{SUBJECT}} + \\gamma_{\\text{TIME}} $$\n",
    "$$\\alpha_j \\text{ ∼ Normal}(\\bar{\\alpha}, \\sigma_\\alpha) \\tag{adaptive prior for subject j = 1..4}$$\n",
    "$$\\gamma_j \\text{ ∼ Normal}(0, \\sigma_\\gamma) \\tag{adaptive prior for time j = 1, 2}$$\n",
    "$$\\bar{\\alpha} \\text{ ∼ Normal}(0, 1.5) \\tag{prior for average person}$$\n",
    "$$\\sigma_\\alpha \\text{ ~ Exp}(1) \\tag{sigma for alpha}$$\n",
    "$$\\sigma_\\gamma \\text{ ~ Exp}(1) \\tag{sigma for gamma}$$"
   ]
  },
  {
   "cell_type": "code",
   "execution_count": 134,
   "id": "49d172ae",
   "metadata": {
    "ExecuteTime": {
     "end_time": "2021-08-05T06:09:06.734116Z",
     "start_time": "2021-08-05T06:08:42.289421Z"
    }
   },
   "outputs": [
    {
     "name": "stderr",
     "output_type": "stream",
     "text": [
      "Auto-assigning NUTS sampler...\n",
      "Initializing NUTS using jitter+adapt_diag...\n",
      "Multiprocess sampling (4 chains in 4 jobs)\n",
      "NUTS: [g, a, sigma_g, sigma_a, a_bar, sigma]\n",
      "Sampling 4 chains for 1_000 tune and 1_000 draw iterations (4_000 + 4_000 draws total) took 16 seconds.\n",
      "There were 54 divergences after tuning. Increase `target_accept` or reparameterize.\n",
      "There were 636 divergences after tuning. Increase `target_accept` or reparameterize.\n",
      "The acceptance probability does not match the target. It is 0.17202140484289688, but should be close to 0.8. Try to increase the number of tuning steps.\n",
      "There were 64 divergences after tuning. Increase `target_accept` or reparameterize.\n",
      "There were 99 divergences after tuning. Increase `target_accept` or reparameterize.\n",
      "The acceptance probability does not match the target. It is 0.632080573851144, but should be close to 0.8. Try to increase the number of tuning steps.\n",
      "The rhat statistic is larger than 1.2 for some parameters.\n",
      "The estimated number of effective samples is smaller than 200 for some parameters.\n"
     ]
    },
    {
     "data": {
      "application/javascript": [
       "\n",
       "            setTimeout(function() {\n",
       "                var nbb_cell_id = 134;\n",
       "                var nbb_unformatted_code = \"with pm.Model() as m2:\\n    # Top line sigma (not sure if this is right)\\n    sigma = pm.Exponential(\\\"sigma\\\", 1.0)\\n    \\n    # prior for average person and timepoint\\n    a_bar = pm.Normal(\\\"a_bar\\\", 0.0, 1.5)\\n\\n    # prior for SD of testers and time\\n    sigma_a = pm.Exponential(\\\"sigma_a\\\", 1.0)\\n    sigma_g = pm.Exponential(\\\"sigma_g\\\", 1.0)\\n\\n    # adaptive priors?\\n    a = pm.Normal(\\\"a\\\", a_bar, sigma_a, shape=4)      # 4 unique subjects\\n    g = pm.Normal(\\\"g\\\", 0, sigma_g, shape=2)          # 2 time points\\n\\n    # mu is deterministic, equivalent to alpha indexed by time\\n    mu = a[df_tests2[\\\"Name_code\\\"]] + g[df_tests2[\\\"Time_code\\\"]]\\n\\n    # likelihood\\n    score = pm.Normal(\\\"score\\\", mu=mu, sd=sigma, observed=df_tests2[\\\"Score_std\\\"])\\n\\n    trace_m2 = pm.sample(\\n        draws=1000, random_seed=19, return_inferencedata=True, progressbar=False\\n    )\";\n",
       "                var nbb_formatted_code = \"with pm.Model() as m2:\\n    # Top line sigma (not sure if this is right)\\n    sigma = pm.Exponential(\\\"sigma\\\", 1.0)\\n\\n    # prior for average person and timepoint\\n    a_bar = pm.Normal(\\\"a_bar\\\", 0.0, 1.5)\\n\\n    # prior for SD of testers and time\\n    sigma_a = pm.Exponential(\\\"sigma_a\\\", 1.0)\\n    sigma_g = pm.Exponential(\\\"sigma_g\\\", 1.0)\\n\\n    # adaptive priors?\\n    a = pm.Normal(\\\"a\\\", a_bar, sigma_a, shape=4)  # 4 unique subjects\\n    g = pm.Normal(\\\"g\\\", 0, sigma_g, shape=2)  # 2 time points\\n\\n    # mu is deterministic, equivalent to alpha indexed by time\\n    mu = a[df_tests2[\\\"Name_code\\\"]] + g[df_tests2[\\\"Time_code\\\"]]\\n\\n    # likelihood\\n    score = pm.Normal(\\\"score\\\", mu=mu, sd=sigma, observed=df_tests2[\\\"Score_std\\\"])\\n\\n    trace_m2 = pm.sample(\\n        draws=1000, random_seed=19, return_inferencedata=True, progressbar=False\\n    )\";\n",
       "                var nbb_cells = Jupyter.notebook.get_cells();\n",
       "                for (var i = 0; i < nbb_cells.length; ++i) {\n",
       "                    if (nbb_cells[i].input_prompt_number == nbb_cell_id) {\n",
       "                        if (nbb_cells[i].get_text() == nbb_unformatted_code) {\n",
       "                             nbb_cells[i].set_text(nbb_formatted_code);\n",
       "                        }\n",
       "                        break;\n",
       "                    }\n",
       "                }\n",
       "            }, 500);\n",
       "            "
      ],
      "text/plain": [
       "<IPython.core.display.Javascript object>"
      ]
     },
     "metadata": {},
     "output_type": "display_data"
    }
   ],
   "source": [
    "with pm.Model() as m2:\n",
    "    # Top line sigma (not sure if this is right)\n",
    "    sigma = pm.Exponential(\"sigma\", 1.0)\n",
    "\n",
    "    # prior for average person and timepoint\n",
    "    a_bar = pm.Normal(\"a_bar\", 0.0, 1.5)\n",
    "\n",
    "    # prior for SD of testers and time\n",
    "    sigma_a = pm.Exponential(\"sigma_a\", 1.0)\n",
    "    sigma_g = pm.Exponential(\"sigma_g\", 1.0)\n",
    "\n",
    "    # adaptive priors?\n",
    "    a = pm.Normal(\"a\", a_bar, sigma_a, shape=4)  # 4 unique subjects\n",
    "    g = pm.Normal(\"g\", 0, sigma_g, shape=2)  # 2 time points\n",
    "\n",
    "    # mu is deterministic, equivalent to alpha indexed by time\n",
    "    mu = a[df_tests2[\"Name_code\"]] + g[df_tests2[\"Time_code\"]]\n",
    "\n",
    "    # likelihood\n",
    "    score = pm.Normal(\"score\", mu=mu, sd=sigma, observed=df_tests2[\"Score_std\"])\n",
    "\n",
    "    trace_m2 = pm.sample(\n",
    "        draws=1000, random_seed=19, return_inferencedata=True, progressbar=False\n",
    "    )"
   ]
  },
  {
   "cell_type": "code",
   "execution_count": 136,
   "id": "a15055b2",
   "metadata": {
    "ExecuteTime": {
     "end_time": "2021-08-05T06:09:46.776981Z",
     "start_time": "2021-08-05T06:09:46.537458Z"
    }
   },
   "outputs": [
    {
     "data": {
      "text/html": [
       "<div>\n",
       "<style scoped>\n",
       "    .dataframe tbody tr th:only-of-type {\n",
       "        vertical-align: middle;\n",
       "    }\n",
       "\n",
       "    .dataframe tbody tr th {\n",
       "        vertical-align: top;\n",
       "    }\n",
       "\n",
       "    .dataframe thead th {\n",
       "        text-align: right;\n",
       "    }\n",
       "</style>\n",
       "<table border=\"1\" class=\"dataframe\">\n",
       "  <thead>\n",
       "    <tr style=\"text-align: right;\">\n",
       "      <th></th>\n",
       "      <th>mean</th>\n",
       "      <th>sd</th>\n",
       "      <th>hdi_5.5%</th>\n",
       "      <th>hdi_94.5%</th>\n",
       "      <th>mcse_mean</th>\n",
       "      <th>mcse_sd</th>\n",
       "      <th>ess_mean</th>\n",
       "      <th>ess_sd</th>\n",
       "      <th>ess_bulk</th>\n",
       "      <th>ess_tail</th>\n",
       "      <th>r_hat</th>\n",
       "    </tr>\n",
       "  </thead>\n",
       "  <tbody>\n",
       "    <tr>\n",
       "      <th>a_bar</th>\n",
       "      <td>-0.042</td>\n",
       "      <td>0.618</td>\n",
       "      <td>-0.997</td>\n",
       "      <td>0.882</td>\n",
       "      <td>0.046</td>\n",
       "      <td>0.033</td>\n",
       "      <td>177.0</td>\n",
       "      <td>177.0</td>\n",
       "      <td>122.0</td>\n",
       "      <td>738.0</td>\n",
       "      <td>1.04</td>\n",
       "    </tr>\n",
       "    <tr>\n",
       "      <th>a[0]</th>\n",
       "      <td>-0.537</td>\n",
       "      <td>0.654</td>\n",
       "      <td>-1.590</td>\n",
       "      <td>0.357</td>\n",
       "      <td>0.048</td>\n",
       "      <td>0.050</td>\n",
       "      <td>187.0</td>\n",
       "      <td>85.0</td>\n",
       "      <td>115.0</td>\n",
       "      <td>409.0</td>\n",
       "      <td>1.07</td>\n",
       "    </tr>\n",
       "    <tr>\n",
       "      <th>a[1]</th>\n",
       "      <td>0.474</td>\n",
       "      <td>0.714</td>\n",
       "      <td>-0.535</td>\n",
       "      <td>1.463</td>\n",
       "      <td>0.159</td>\n",
       "      <td>0.114</td>\n",
       "      <td>20.0</td>\n",
       "      <td>20.0</td>\n",
       "      <td>21.0</td>\n",
       "      <td>289.0</td>\n",
       "      <td>1.14</td>\n",
       "    </tr>\n",
       "    <tr>\n",
       "      <th>a[2]</th>\n",
       "      <td>-0.471</td>\n",
       "      <td>0.632</td>\n",
       "      <td>-1.395</td>\n",
       "      <td>0.473</td>\n",
       "      <td>0.038</td>\n",
       "      <td>0.036</td>\n",
       "      <td>281.0</td>\n",
       "      <td>152.0</td>\n",
       "      <td>236.0</td>\n",
       "      <td>500.0</td>\n",
       "      <td>1.30</td>\n",
       "    </tr>\n",
       "    <tr>\n",
       "      <th>a[3]</th>\n",
       "      <td>0.366</td>\n",
       "      <td>0.708</td>\n",
       "      <td>-0.567</td>\n",
       "      <td>1.341</td>\n",
       "      <td>0.173</td>\n",
       "      <td>0.125</td>\n",
       "      <td>17.0</td>\n",
       "      <td>17.0</td>\n",
       "      <td>18.0</td>\n",
       "      <td>640.0</td>\n",
       "      <td>1.16</td>\n",
       "    </tr>\n",
       "    <tr>\n",
       "      <th>g[0]</th>\n",
       "      <td>-0.063</td>\n",
       "      <td>0.517</td>\n",
       "      <td>-0.701</td>\n",
       "      <td>0.660</td>\n",
       "      <td>0.074</td>\n",
       "      <td>0.053</td>\n",
       "      <td>49.0</td>\n",
       "      <td>49.0</td>\n",
       "      <td>26.0</td>\n",
       "      <td>332.0</td>\n",
       "      <td>1.11</td>\n",
       "    </tr>\n",
       "    <tr>\n",
       "      <th>g[1]</th>\n",
       "      <td>-0.010</td>\n",
       "      <td>0.561</td>\n",
       "      <td>-0.644</td>\n",
       "      <td>0.797</td>\n",
       "      <td>0.124</td>\n",
       "      <td>0.089</td>\n",
       "      <td>20.0</td>\n",
       "      <td>20.0</td>\n",
       "      <td>17.0</td>\n",
       "      <td>6.0</td>\n",
       "      <td>1.18</td>\n",
       "    </tr>\n",
       "    <tr>\n",
       "      <th>sigma</th>\n",
       "      <td>0.951</td>\n",
       "      <td>0.439</td>\n",
       "      <td>0.445</td>\n",
       "      <td>1.594</td>\n",
       "      <td>0.139</td>\n",
       "      <td>0.101</td>\n",
       "      <td>10.0</td>\n",
       "      <td>10.0</td>\n",
       "      <td>13.0</td>\n",
       "      <td>134.0</td>\n",
       "      <td>1.24</td>\n",
       "    </tr>\n",
       "    <tr>\n",
       "      <th>sigma_a</th>\n",
       "      <td>0.758</td>\n",
       "      <td>0.570</td>\n",
       "      <td>0.097</td>\n",
       "      <td>1.426</td>\n",
       "      <td>0.155</td>\n",
       "      <td>0.112</td>\n",
       "      <td>14.0</td>\n",
       "      <td>14.0</td>\n",
       "      <td>9.0</td>\n",
       "      <td>4.0</td>\n",
       "      <td>1.39</td>\n",
       "    </tr>\n",
       "    <tr>\n",
       "      <th>sigma_g</th>\n",
       "      <td>0.566</td>\n",
       "      <td>0.497</td>\n",
       "      <td>0.036</td>\n",
       "      <td>1.082</td>\n",
       "      <td>0.024</td>\n",
       "      <td>0.017</td>\n",
       "      <td>424.0</td>\n",
       "      <td>424.0</td>\n",
       "      <td>164.0</td>\n",
       "      <td>71.0</td>\n",
       "      <td>1.26</td>\n",
       "    </tr>\n",
       "  </tbody>\n",
       "</table>\n",
       "</div>"
      ],
      "text/plain": [
       "          mean     sd  hdi_5.5%  hdi_94.5%  mcse_mean  mcse_sd  ess_mean  \\\n",
       "a_bar   -0.042  0.618    -0.997      0.882      0.046    0.033     177.0   \n",
       "a[0]    -0.537  0.654    -1.590      0.357      0.048    0.050     187.0   \n",
       "a[1]     0.474  0.714    -0.535      1.463      0.159    0.114      20.0   \n",
       "a[2]    -0.471  0.632    -1.395      0.473      0.038    0.036     281.0   \n",
       "a[3]     0.366  0.708    -0.567      1.341      0.173    0.125      17.0   \n",
       "g[0]    -0.063  0.517    -0.701      0.660      0.074    0.053      49.0   \n",
       "g[1]    -0.010  0.561    -0.644      0.797      0.124    0.089      20.0   \n",
       "sigma    0.951  0.439     0.445      1.594      0.139    0.101      10.0   \n",
       "sigma_a  0.758  0.570     0.097      1.426      0.155    0.112      14.0   \n",
       "sigma_g  0.566  0.497     0.036      1.082      0.024    0.017     424.0   \n",
       "\n",
       "         ess_sd  ess_bulk  ess_tail  r_hat  \n",
       "a_bar     177.0     122.0     738.0   1.04  \n",
       "a[0]       85.0     115.0     409.0   1.07  \n",
       "a[1]       20.0      21.0     289.0   1.14  \n",
       "a[2]      152.0     236.0     500.0   1.30  \n",
       "a[3]       17.0      18.0     640.0   1.16  \n",
       "g[0]       49.0      26.0     332.0   1.11  \n",
       "g[1]       20.0      17.0       6.0   1.18  \n",
       "sigma      10.0      13.0     134.0   1.24  \n",
       "sigma_a    14.0       9.0       4.0   1.39  \n",
       "sigma_g   424.0     164.0      71.0   1.26  "
      ]
     },
     "execution_count": 136,
     "metadata": {},
     "output_type": "execute_result"
    },
    {
     "data": {
      "application/javascript": [
       "\n",
       "            setTimeout(function() {\n",
       "                var nbb_cell_id = 136;\n",
       "                var nbb_unformatted_code = \"az.summary(trace_m2)\";\n",
       "                var nbb_formatted_code = \"az.summary(trace_m2)\";\n",
       "                var nbb_cells = Jupyter.notebook.get_cells();\n",
       "                for (var i = 0; i < nbb_cells.length; ++i) {\n",
       "                    if (nbb_cells[i].input_prompt_number == nbb_cell_id) {\n",
       "                        if (nbb_cells[i].get_text() == nbb_unformatted_code) {\n",
       "                             nbb_cells[i].set_text(nbb_formatted_code);\n",
       "                        }\n",
       "                        break;\n",
       "                    }\n",
       "                }\n",
       "            }, 500);\n",
       "            "
      ],
      "text/plain": [
       "<IPython.core.display.Javascript object>"
      ]
     },
     "metadata": {},
     "output_type": "display_data"
    }
   ],
   "source": [
    "az.summary(trace_m2)"
   ]
  },
  {
   "cell_type": "code",
   "execution_count": null,
   "id": "135a39fc",
   "metadata": {},
   "outputs": [],
   "source": []
  },
  {
   "cell_type": "code",
   "execution_count": null,
   "id": "e0656cae",
   "metadata": {},
   "outputs": [],
   "source": []
  },
  {
   "cell_type": "markdown",
   "id": "seeing-overall",
   "metadata": {},
   "source": [
    "Appendix: Environment and system parameters"
   ]
  },
  {
   "cell_type": "code",
   "execution_count": 123,
   "id": "ethical-template",
   "metadata": {
    "ExecuteTime": {
     "end_time": "2021-08-05T05:48:32.098364Z",
     "start_time": "2021-08-05T05:48:32.070597Z"
    },
    "scrolled": true
   },
   "outputs": [
    {
     "name": "stdout",
     "output_type": "stream",
     "text": [
      "Last updated: Wed Aug 04 2021\n",
      "\n",
      "Python implementation: CPython\n",
      "Python version       : 3.8.6\n",
      "IPython version      : 7.20.0\n",
      "\n",
      "seaborn   : 0.11.1\n",
      "scipy     : 1.6.0\n",
      "matplotlib: 3.3.4\n",
      "arviz     : 0.11.1\n",
      "daft      : 0.1.0\n",
      "pandas    : 1.2.1\n",
      "pymc3     : 3.11.0\n",
      "json      : 2.0.9\n",
      "numpy     : 1.20.1\n",
      "\n",
      "Watermark: 2.1.0\n",
      "\n"
     ]
    },
    {
     "data": {
      "application/javascript": [
       "\n",
       "            setTimeout(function() {\n",
       "                var nbb_cell_id = 123;\n",
       "                var nbb_unformatted_code = \"%watermark -n -u -v -iv -w\";\n",
       "                var nbb_formatted_code = \"%watermark -n -u -v -iv -w\";\n",
       "                var nbb_cells = Jupyter.notebook.get_cells();\n",
       "                for (var i = 0; i < nbb_cells.length; ++i) {\n",
       "                    if (nbb_cells[i].input_prompt_number == nbb_cell_id) {\n",
       "                        if (nbb_cells[i].get_text() == nbb_unformatted_code) {\n",
       "                             nbb_cells[i].set_text(nbb_formatted_code);\n",
       "                        }\n",
       "                        break;\n",
       "                    }\n",
       "                }\n",
       "            }, 500);\n",
       "            "
      ],
      "text/plain": [
       "<IPython.core.display.Javascript object>"
      ]
     },
     "metadata": {},
     "output_type": "display_data"
    }
   ],
   "source": [
    "%watermark -n -u -v -iv -w"
   ]
  }
 ],
 "metadata": {
  "kernelspec": {
   "display_name": "Python 3",
   "language": "python",
   "name": "python3"
  },
  "language_info": {
   "codemirror_mode": {
    "name": "ipython",
    "version": 3
   },
   "file_extension": ".py",
   "mimetype": "text/x-python",
   "name": "python",
   "nbconvert_exporter": "python",
   "pygments_lexer": "ipython3",
   "version": "3.8.6"
  },
  "latex_envs": {
   "LaTeX_envs_menu_present": true,
   "autoclose": false,
   "autocomplete": true,
   "bibliofile": "biblio.bib",
   "cite_by": "apalike",
   "current_citInitial": 1,
   "eqLabelWithNumbers": true,
   "eqNumInitial": 1,
   "hotkeys": {
    "equation": "Ctrl-E",
    "itemize": "Ctrl-I"
   },
   "labels_anchors": false,
   "latex_user_defs": false,
   "report_style_numbering": false,
   "user_envs_cfg": false
  },
  "toc": {
   "base_numbering": 1,
   "nav_menu": {},
   "number_sections": true,
   "sideBar": true,
   "skip_h1_title": false,
   "title_cell": "Table of Contents",
   "title_sidebar": "Contents",
   "toc_cell": false,
   "toc_position": {
    "height": "calc(100% - 180px)",
    "left": "10px",
    "top": "150px",
    "width": "248px"
   },
   "toc_section_display": true,
   "toc_window_display": true
  },
  "varInspector": {
   "cols": {
    "lenName": 16,
    "lenType": 16,
    "lenVar": 40
   },
   "kernels_config": {
    "python": {
     "delete_cmd_postfix": "",
     "delete_cmd_prefix": "del ",
     "library": "var_list.py",
     "varRefreshCmd": "print(var_dic_list())"
    },
    "r": {
     "delete_cmd_postfix": ") ",
     "delete_cmd_prefix": "rm(",
     "library": "var_list.r",
     "varRefreshCmd": "cat(var_dic_list()) "
    }
   },
   "types_to_exclude": [
    "module",
    "function",
    "builtin_function_or_method",
    "instance",
    "_Feature"
   ],
   "window_display": false
  }
 },
 "nbformat": 4,
 "nbformat_minor": 5
}
