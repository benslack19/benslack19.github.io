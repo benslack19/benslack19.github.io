{
 "cells": [
  {
   "cell_type": "markdown",
   "metadata": {},
   "source": [
    "---\n",
    "title: \"Vectorization with `np.dot` and broadcasting\"\n",
    "mathjax: true\n",
    "toc: true\n",
    "toc_sticky: true\n",
    "categories: [coding, linear algebra]\n",
    "---\n",
    "\n",
    "Vectorization and broadcasting are tricks I have used sparingly and absent-mindedly if at all. However, it is a critical skill for algorithmic code to run efficiently, particularly for deep learning networks. While the use of coding libraries have already implemented vectorization and broadcasting, it's good to know how this works. This post was inspired by a lesson in [Andrew Ng's deep learning course](https://www.coursera.org/learn/neural-networks-deep-learning/home/welcome)."
   ]
  },
  {
   "cell_type": "code",
   "execution_count": 1,
   "metadata": {
    "ExecuteTime": {
     "end_time": "2021-05-31T16:08:36.427416Z",
     "start_time": "2021-05-31T16:08:35.894191Z"
    }
   },
   "outputs": [],
   "source": [
    "import numpy as np"
   ]
  },
  {
   "cell_type": "markdown",
   "metadata": {},
   "source": [
    "# Multiplication of two vectors"
   ]
  },
  {
   "cell_type": "markdown",
   "metadata": {},
   "source": [
    "We don't need neural network equations to understand the usefulness of vectorization and broadcasting. We'll just use some synthetic examples that mimic some of the calculation steps in neural network and logistic regression gradient descent. One step may require element-wise multiplication of two vectors and then summing as illustrated in this equation.\n",
    "\n",
    "$$k = \\sum_{i=1}^{m}y^{(i)}a^{(i)}$$\n",
    "\n",
    "Both $y$ is a vector and $a$ are vectors of equal length and $m$ represents the length of either vector. Let's create some values to make some computations a little more concrete. The output $k$ will take some scalar value (a real number) as you will see. (Note that in the `np.random.randint` call, I'm stating a `size` parameter of 3 so that the vectors have three values each, but there is a wrinkle about this which I'll discuss in the broadcasting section.)"
   ]
  },
  {
   "cell_type": "code",
   "execution_count": 2,
   "metadata": {
    "ExecuteTime": {
     "end_time": "2021-05-31T16:08:36.460239Z",
     "start_time": "2021-05-31T16:08:36.440396Z"
    }
   },
   "outputs": [
    {
     "name": "stdout",
     "output_type": "stream",
     "text": [
      "y:  [0 4 3]\n",
      "a:  [0 3 4]\n",
      "m:  3\n"
     ]
    }
   ],
   "source": [
    "y = np.random.randint(low=0, high=5, size=3)\n",
    "a = np.random.randint(low=0, high=5, size=3)\n",
    "m = len(a)   # this can also be len(y)\n",
    "print(\"y: \", y)\n",
    "print(\"a: \", a)\n",
    "print(\"m: \", m)"
   ]
  },
  {
   "cell_type": "markdown",
   "metadata": {},
   "source": [
    "A naive approach to calculating $k$ would be to run a for-loop like this. I'll show the element-wise multiplication at the different positions to make the step-by-step calculation clear."
   ]
  },
  {
   "cell_type": "code",
   "execution_count": 3,
   "metadata": {
    "ExecuteTime": {
     "end_time": "2021-05-31T16:08:36.490199Z",
     "start_time": "2021-05-31T16:08:36.478468Z"
    }
   },
   "outputs": [
    {
     "name": "stdout",
     "output_type": "stream",
     "text": [
      "Element-wise multiplication at position 0:  0\n",
      "Element-wise multiplication at position 1:  12\n",
      "Element-wise multiplication at position 2:  12\n",
      "k (using a for-loop):  24\n"
     ]
    }
   ],
   "source": [
    "k = 0\n",
    "for i in range(len(y)):\n",
    "    print(\"Element-wise multiplication at position \" + str(i) + \": \", y[i] * a[i])\n",
    "    k += y[i] * a[i]\n",
    "\n",
    "print(\"k (using a for-loop): \", k)    "
   ]
  },
  {
   "cell_type": "markdown",
   "metadata": {},
   "source": [
    "Now let's look at the vectorized implementation, which does not use an explicit for-loop. Instead we can use the [dot product](https://mathinsight.org/dot_product_examples) of the two vectors as a substitute for the for-loop. You can see what I mean by this by passing the two vectors into [numpy's dot product function](https://numpy.org/doc/stable/reference/generated/numpy.dot.html)."
   ]
  },
  {
   "cell_type": "code",
   "execution_count": 4,
   "metadata": {
    "ExecuteTime": {
     "end_time": "2021-05-31T16:08:36.511673Z",
     "start_time": "2021-05-31T16:08:36.499642Z"
    }
   },
   "outputs": [
    {
     "name": "stdout",
     "output_type": "stream",
     "text": [
      "k (using dot product):  24\n"
     ]
    }
   ],
   "source": [
    "print(\"k (using dot product): \", np.dot(y, a))"
   ]
  },
  {
   "cell_type": "markdown",
   "metadata": {},
   "source": [
    "With `np.dot` we get the same answer, and of course, it is much easier to code."
   ]
  },
  {
   "cell_type": "markdown",
   "metadata": {},
   "source": [
    "# Broadcasting\n",
    "\n",
    "Numpy's [broadcasting](https://numpy.org/doc/stable/user/basics.broadcasting.html) capabilities also allow for simpler coding. It essentially allows a variable to expand into the dimensions of another variable when a calculation is performed. Here is an example where we instantiate $b$ a scalar value and add that to $y$, the vector we created above."
   ]
  },
  {
   "cell_type": "code",
   "execution_count": 5,
   "metadata": {
    "ExecuteTime": {
     "end_time": "2021-05-31T16:08:36.529804Z",
     "start_time": "2021-05-31T16:08:36.517117Z"
    }
   },
   "outputs": [],
   "source": [
    "b_scalar = 3"
   ]
  },
  {
   "cell_type": "code",
   "execution_count": 6,
   "metadata": {
    "ExecuteTime": {
     "end_time": "2021-05-31T16:08:36.556511Z",
     "start_time": "2021-05-31T16:08:36.542041Z"
    }
   },
   "outputs": [
    {
     "name": "stdout",
     "output_type": "stream",
     "text": [
      "y.shape:  (3,)\n"
     ]
    }
   ],
   "source": [
    "print(\"y.shape: \", y.shape)"
   ]
  },
  {
   "cell_type": "code",
   "execution_count": 7,
   "metadata": {
    "ExecuteTime": {
     "end_time": "2021-05-31T16:08:36.593210Z",
     "start_time": "2021-05-31T16:08:36.565316Z"
    }
   },
   "outputs": [
    {
     "data": {
      "text/plain": [
       "array([3, 7, 6])"
      ]
     },
     "execution_count": 7,
     "metadata": {},
     "output_type": "execute_result"
    }
   ],
   "source": [
    "y + b_scalar"
   ]
  },
  {
   "cell_type": "markdown",
   "metadata": {},
   "source": [
    "The addition automatically expands `b_scalar` into a vector without us having to explicitly write this out. It is automatically performing this:"
   ]
  },
  {
   "cell_type": "code",
   "execution_count": 8,
   "metadata": {
    "ExecuteTime": {
     "end_time": "2021-05-31T16:08:36.624199Z",
     "start_time": "2021-05-31T16:08:36.596608Z"
    }
   },
   "outputs": [
    {
     "data": {
      "text/plain": [
       "array([3, 7, 6])"
      ]
     },
     "execution_count": 8,
     "metadata": {},
     "output_type": "execute_result"
    }
   ],
   "source": [
    "b_vector = np.array([3,3,3])\n",
    "y + b_vector"
   ]
  },
  {
   "cell_type": "markdown",
   "metadata": {},
   "source": [
    "The broadcasting property provide convenience in coding, but it can lead to some unexpected consequences if we are not careful as we will see later below. First, let's go back to the original problem with our two vectors."
   ]
  },
  {
   "cell_type": "markdown",
   "metadata": {},
   "source": [
    "# Respecting the dimensions of the vectors\n",
    "\n",
    "I mentioned the `size` parameter of the `np.random.randint` call when I instantiated the $y$ and $a$ vectors. If we check the `shape` of the vector, we see that it's shown this way:"
   ]
  },
  {
   "cell_type": "code",
   "execution_count": 9,
   "metadata": {
    "ExecuteTime": {
     "end_time": "2021-05-31T16:08:36.655557Z",
     "start_time": "2021-05-31T16:08:36.630176Z"
    }
   },
   "outputs": [
    {
     "name": "stdout",
     "output_type": "stream",
     "text": [
      "y.shape:  (3,)\n",
      "a.shape:  (3,)\n"
     ]
    }
   ],
   "source": [
    "print(\"y.shape: \", y.shape)\n",
    "print(\"a.shape: \", a.shape)"
   ]
  },
  {
   "cell_type": "markdown",
   "metadata": {},
   "source": [
    "But in a mathematical sense, the calculation of the dot product, requires that the vectors be in such a way that the number of columns in the first vector is equal to the number of rows in the second vector. It would be written out in equation form like this."
   ]
  },
  {
   "cell_type": "markdown",
   "metadata": {},
   "source": [
    "$$ k = (y_1\\ y_2\\ y_3)\\left( \\begin{array}{cc}\n",
    "a_1 \\\\ a_2 \\\\ a_3 \\end{array} \\right)$$"
   ]
  },
  {
   "cell_type": "markdown",
   "metadata": {},
   "source": [
    "However, when the `shape` of a vector is ambiguous (for example as shown as `(3,)`), `np.dot` is smart enough to understand the calculation. You can see that the call \"breaks\" when we explicitly state the wrong dimensions of the vector using `.reshape`."
   ]
  },
  {
   "cell_type": "code",
   "execution_count": 10,
   "metadata": {
    "ExecuteTime": {
     "end_time": "2021-05-31T16:08:36.809021Z",
     "start_time": "2021-05-31T16:08:36.664306Z"
    }
   },
   "outputs": [
    {
     "ename": "ValueError",
     "evalue": "shapes (1,3) and (1,3) not aligned: 3 (dim 1) != 1 (dim 0)",
     "output_type": "error",
     "traceback": [
      "\u001b[0;31m---------------------------------------------------------------------------\u001b[0m",
      "\u001b[0;31mValueError\u001b[0m                                Traceback (most recent call last)",
      "\u001b[0;32m<ipython-input-10-bfc5d7be5bc9>\u001b[0m in \u001b[0;36m<module>\u001b[0;34m()\u001b[0m\n\u001b[0;32m----> 1\u001b[0;31m \u001b[0mprint\u001b[0m\u001b[0;34m(\u001b[0m\u001b[0;34m\"Both vectors as a single row: \"\u001b[0m\u001b[0;34m,\u001b[0m \u001b[0mnp\u001b[0m\u001b[0;34m.\u001b[0m\u001b[0mdot\u001b[0m\u001b[0;34m(\u001b[0m\u001b[0my\u001b[0m\u001b[0;34m.\u001b[0m\u001b[0mreshape\u001b[0m\u001b[0;34m(\u001b[0m\u001b[0;36m1\u001b[0m\u001b[0;34m,\u001b[0m \u001b[0;36m3\u001b[0m\u001b[0;34m)\u001b[0m\u001b[0;34m,\u001b[0m \u001b[0ma\u001b[0m\u001b[0;34m.\u001b[0m\u001b[0mreshape\u001b[0m\u001b[0;34m(\u001b[0m\u001b[0;36m1\u001b[0m\u001b[0;34m,\u001b[0m \u001b[0;36m3\u001b[0m\u001b[0;34m)\u001b[0m\u001b[0;34m)\u001b[0m\u001b[0;34m)\u001b[0m\u001b[0;34m\u001b[0m\u001b[0m\n\u001b[0m",
      "\u001b[0;31mValueError\u001b[0m: shapes (1,3) and (1,3) not aligned: 3 (dim 1) != 1 (dim 0)"
     ]
    }
   ],
   "source": [
    "print(\"Both vectors as a single row: \", np.dot(y.reshape(1, 3), a.reshape(1, 3)))"
   ]
  },
  {
   "cell_type": "markdown",
   "metadata": {},
   "source": [
    "It is good practice to use `.reshape` to state the desired dimensions of the vectors. (Even better, one can use the `size` parameter during instantiation of the vector.)"
   ]
  },
  {
   "cell_type": "code",
   "execution_count": 11,
   "metadata": {
    "ExecuteTime": {
     "end_time": "2021-05-31T16:08:38.772005Z",
     "start_time": "2021-05-31T16:08:38.761714Z"
    }
   },
   "outputs": [
    {
     "name": "stdout",
     "output_type": "stream",
     "text": [
      "Correct dimensions:  [[24]]\n"
     ]
    }
   ],
   "source": [
    "print(\"Correct dimensions: \", np.dot(y.reshape(1, 3), a.reshape(3, 1)))"
   ]
  },
  {
   "cell_type": "markdown",
   "metadata": {},
   "source": [
    "It is not enough to rely on the lack of error message to ensure that we are writing our code correctly. Because of broadcasting, one can write the first vector as a column and the second as a row. Because the number of columns of the first vector matches the number of rows of the second (both are 1), `np.dot` sees this as a legitimate calculation and a matrix is the output."
   ]
  },
  {
   "cell_type": "code",
   "execution_count": 12,
   "metadata": {
    "ExecuteTime": {
     "end_time": "2021-05-31T16:08:40.959713Z",
     "start_time": "2021-05-31T16:08:40.950006Z"
    }
   },
   "outputs": [
    {
     "name": "stdout",
     "output_type": "stream",
     "text": [
      "First vector as a column, second vector as a row: \n",
      " [[ 0  0  0]\n",
      " [ 0 12 16]\n",
      " [ 0  9 12]]\n"
     ]
    }
   ],
   "source": [
    "print(\"First vector as a column, second vector as a row: \\n\", np.dot(y.reshape(3, 1), a.reshape(1, 3)))"
   ]
  },
  {
   "cell_type": "markdown",
   "metadata": {},
   "source": [
    "Of course, there *are* cases where you may want to take advantage of broadcasting this way, such as in other calculations of logistic regression or neural network algorithms."
   ]
  },
  {
   "cell_type": "markdown",
   "metadata": {},
   "source": [
    "# Summary"
   ]
  },
  {
   "cell_type": "markdown",
   "metadata": {},
   "source": [
    "Here, I've shown the usefulness of vectorization, as illustrated by `np.dot`, as well as the advantages and potential pitfalls of broadcasting. Paying attention to vector and matrix dimensions can go a long way towards resolving bugs and avoiding unintended results. These tricks can be used to optimize code and have it run efficiently in machine learning algorithms."
   ]
  }
 ],
 "metadata": {
  "kernelspec": {
   "display_name": "Python 3",
   "language": "python",
   "name": "python3"
  },
  "language_info": {
   "codemirror_mode": {
    "name": "ipython",
    "version": 3
   },
   "file_extension": ".py",
   "mimetype": "text/x-python",
   "name": "python",
   "nbconvert_exporter": "python",
   "pygments_lexer": "ipython3",
   "version": "3.5.6"
  },
  "latex_envs": {
   "LaTeX_envs_menu_present": true,
   "autoclose": false,
   "autocomplete": true,
   "bibliofile": "biblio.bib",
   "cite_by": "apalike",
   "current_citInitial": 1,
   "eqLabelWithNumbers": true,
   "eqNumInitial": 1,
   "hotkeys": {
    "equation": "Ctrl-E",
    "itemize": "Ctrl-I"
   },
   "labels_anchors": false,
   "latex_user_defs": false,
   "report_style_numbering": false,
   "user_envs_cfg": false
  },
  "toc": {
   "nav_menu": {},
   "number_sections": true,
   "sideBar": true,
   "skip_h1_title": false,
   "toc_cell": false,
   "toc_position": {
    "height": "516.867px",
    "left": "0px",
    "right": "963px",
    "top": "111.133px",
    "width": "170px"
   },
   "toc_section_display": true,
   "toc_window_display": true
  },
  "varInspector": {
   "cols": {
    "lenName": 16,
    "lenType": 16,
    "lenVar": 40
   },
   "kernels_config": {
    "python": {
     "delete_cmd_postfix": "",
     "delete_cmd_prefix": "del ",
     "library": "var_list.py",
     "varRefreshCmd": "print(var_dic_list())"
    },
    "r": {
     "delete_cmd_postfix": ") ",
     "delete_cmd_prefix": "rm(",
     "library": "var_list.r",
     "varRefreshCmd": "cat(var_dic_list()) "
    }
   },
   "types_to_exclude": [
    "module",
    "function",
    "builtin_function_or_method",
    "instance",
    "_Feature"
   ],
   "window_display": false
  }
 },
 "nbformat": 4,
 "nbformat_minor": 5
}
