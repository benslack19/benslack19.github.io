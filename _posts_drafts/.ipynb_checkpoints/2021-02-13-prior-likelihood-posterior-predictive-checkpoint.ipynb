{
 "cells": [
  {
   "cell_type": "markdown",
   "metadata": {},
   "source": [
    "---\n",
    "title: Rethinking Bayes\n",
    "toc: true\n",
    "toc_sticky: true\n",
    "---"
   ]
  },
  {
   "cell_type": "markdown",
   "metadata": {},
   "source": [
    "A few weeks ago, I learned about the wonderful [Statistical Rethinking](https://xcelab.net/rm/statistical-rethinking/) lecture series and book by Richard McElreath. It's made me think about some of the Bayesian statistics I've learned a little bit more (which is a nicer way of acknowledging I was more ignorant than I realized). For example, I had to think a bit about the difference between a prior distribution and a prior predictive distribution. Fortunately, someone had already asked this in a nice [StackExchange post](https://stats.stackexchange.com/questions/394648/differences-between-prior-distribution-and-prior-predictive-distribution). I could have stopped after the first few sentences of the accepted answer: \"Predictive here means predictive for observations. The prior distribution is a distribution for the parameters whereas the prior predictive distribution is a distribution for the observations.\"\n",
    "\n",
    "The answer went on to explain in more detail. However, [this](https://media.giphy.com/media/3oEduNEbTtAHABX0dy/giphy.gif) tends to be my reaction when looking only at equations. In this post, I'll show differences in distributions for prior, prior predictive, likelihood, posterior, and posterior predictive with a concrete example. We'll use McElreath's globe tossing example from his [first two lectures](https://www.youtube.com/playlist?list=PLDcUM9US4XdNM4Edgs7weiyIguLSToZRI).\n",
    "\n",
    "He tosses an inflatable globe to a student and when they catch it, he asks whether their right index finger is touching land or water. The objective is to determine what proportion of the globe is covered by water. Like the lecture, we'll do nine tosses of the globe with a little bit of [a lemon twist](https://www.youtube.com/watch?v=YJqkciXqhOM): I'll simply focus on the first six tosses, divided up into two datasets of three tosses each."
   ]
  },
  {
   "cell_type": "code",
   "execution_count": 1,
   "metadata": {
    "ExecuteTime": {
     "end_time": "2021-03-08T18:35:12.781673Z",
     "start_time": "2021-03-08T18:35:01.939566Z"
    }
   },
   "outputs": [
    {
     "data": {
      "application/javascript": [
       "\n",
       "            setTimeout(function() {\n",
       "                var nbb_cell_id = 1;\n",
       "                var nbb_unformatted_code = \"import matplotlib.pyplot as plt\\nimport numpy as np\\nimport os\\nimport pandas as pd\\nimport scipy.stats as stats\\nimport seaborn as sns\\n\\n%load_ext nb_black\";\n",
       "                var nbb_formatted_code = \"import matplotlib.pyplot as plt\\nimport numpy as np\\nimport os\\nimport pandas as pd\\nimport scipy.stats as stats\\nimport seaborn as sns\\n\\n%load_ext nb_black\";\n",
       "                var nbb_cells = Jupyter.notebook.get_cells();\n",
       "                for (var i = 0; i < nbb_cells.length; ++i) {\n",
       "                    if (nbb_cells[i].input_prompt_number == nbb_cell_id) {\n",
       "                        if (nbb_cells[i].get_text() == nbb_unformatted_code) {\n",
       "                             nbb_cells[i].set_text(nbb_formatted_code);\n",
       "                        }\n",
       "                        break;\n",
       "                    }\n",
       "                }\n",
       "            }, 500);\n",
       "            "
      ],
      "text/plain": [
       "<IPython.core.display.Javascript object>"
      ]
     },
     "metadata": {},
     "output_type": "display_data"
    }
   ],
   "source": [
    "import matplotlib.pyplot as plt\n",
    "import numpy as np\n",
    "import os\n",
    "import pandas as pd\n",
    "import scipy.stats as stats\n",
    "import seaborn as sns\n",
    "\n",
    "%load_ext nb_black"
   ]
  },
  {
   "cell_type": "code",
   "execution_count": 2,
   "metadata": {
    "ExecuteTime": {
     "end_time": "2021-03-08T18:35:12.809158Z",
     "start_time": "2021-03-08T18:35:12.785270Z"
    }
   },
   "outputs": [
    {
     "data": {
      "application/javascript": [
       "\n",
       "            setTimeout(function() {\n",
       "                var nbb_cell_id = 2;\n",
       "                var nbb_unformatted_code = \"def plot_beta(a_val, b_val, label_val, style, color, ax):\\n    \\\"\\\"\\\"\\n    Analytical analysis to compare with sampling from grid approximation.\\n    \\\"\\\"\\\"\\n    # Expected value of parameter\\n    mu = a_val / (a_val + b_val)\\n\\n    # Lower, upper bounds of interval\\n    lower, upper = stats.beta.ppf([0.025, 0.975], a_val, b_val)\\n\\n    # Main plot\\n    x_val = np.arange(0, 1, 0.01)\\n    ax.plot(\\n        x_val,\\n        stats.beta.pdf(x_val, a_val, b_val),\\n        color=color,\\n        lw=1,\\n        linestyle=style,\\n        label=label_val,\\n    )\";\n",
       "                var nbb_formatted_code = \"def plot_beta(a_val, b_val, label_val, style, color, ax):\\n    \\\"\\\"\\\"\\n    Analytical analysis to compare with sampling from grid approximation.\\n    \\\"\\\"\\\"\\n    # Expected value of parameter\\n    mu = a_val / (a_val + b_val)\\n\\n    # Lower, upper bounds of interval\\n    lower, upper = stats.beta.ppf([0.025, 0.975], a_val, b_val)\\n\\n    # Main plot\\n    x_val = np.arange(0, 1, 0.01)\\n    ax.plot(\\n        x_val,\\n        stats.beta.pdf(x_val, a_val, b_val),\\n        color=color,\\n        lw=1,\\n        linestyle=style,\\n        label=label_val,\\n    )\";\n",
       "                var nbb_cells = Jupyter.notebook.get_cells();\n",
       "                for (var i = 0; i < nbb_cells.length; ++i) {\n",
       "                    if (nbb_cells[i].input_prompt_number == nbb_cell_id) {\n",
       "                        if (nbb_cells[i].get_text() == nbb_unformatted_code) {\n",
       "                             nbb_cells[i].set_text(nbb_formatted_code);\n",
       "                        }\n",
       "                        break;\n",
       "                    }\n",
       "                }\n",
       "            }, 500);\n",
       "            "
      ],
      "text/plain": [
       "<IPython.core.display.Javascript object>"
      ]
     },
     "metadata": {},
     "output_type": "display_data"
    }
   ],
   "source": [
    "def plot_beta(a_val, b_val, label_val, style, color, ax):\n",
    "    \"\"\"\n",
    "    Analytical analysis to compare with sampling from grid approximation.\n",
    "    \"\"\"\n",
    "    # Expected value of parameter\n",
    "    mu = a_val / (a_val + b_val)\n",
    "\n",
    "    # Lower, upper bounds of interval\n",
    "    lower, upper = stats.beta.ppf([0.025, 0.975], a_val, b_val)\n",
    "\n",
    "    # Main plot\n",
    "    x_val = np.arange(0, 1, 0.01)\n",
    "    ax.plot(\n",
    "        x_val,\n",
    "        stats.beta.pdf(x_val, a_val, b_val),\n",
    "        color=color,\n",
    "        lw=1,\n",
    "        linestyle=style,\n",
    "        label=label_val,\n",
    "    )"
   ]
  },
  {
   "cell_type": "markdown",
   "metadata": {},
   "source": [
    "# Prior\n",
    "\n",
    "Before doing any tosses, we have not seen *any* data. Therefore, it's reasonable to have a uniform prior for the proportion of water covering the globe. In other words, we are saying that all values between 0 and 1 are plausible. (Yes, I know this example is contrived.)\n",
    "\n",
    "There are two ways we can represent the uniform *prior distribution* in this particular case. Use of the beta distribution is an example for the analytical case as shown on the left below. But using grid approximation will set us up for later scenarios where we use samples. That is what is shown on the right."
   ]
  },
  {
   "cell_type": "code",
   "execution_count": 3,
   "metadata": {
    "ExecuteTime": {
     "end_time": "2021-03-08T18:35:13.329095Z",
     "start_time": "2021-03-08T18:35:12.813043Z"
    }
   },
   "outputs": [
    {
     "data": {
      "image/png": "[encoded data removed]",
      "text/plain": [
       "<Figure size 864x288 with 2 Axes>"
      ]
     },
     "metadata": {
      "needs_background": "light"
     },
     "output_type": "display_data"
    },
    {
     "data": {
      "application/javascript": [
       "\n",
       "            setTimeout(function() {\n",
       "                var nbb_cell_id = 3;\n",
       "                var nbb_unformatted_code = \"# Use a0 and b0 for our prior\\n# mu = 0.175\\n# total_ab = 100\\na0, b0 = 1, 1\\n# print(\\\"a0, b0 values: \\\", a0, b0)\\n\\nf, (ax1, ax2) = plt.subplots(1, 2, figsize=(12, 4))\\n\\n# Analytical method, beta distribution (continuous)\\nplot_beta(a0, b0, \\\"prior\\\", \\\"dashed\\\", \\\"black\\\", ax1)\\nax1.set_xlim([0, 1])\\nax1.set_xlabel(\\\"proportion of water, p\\\")\\nax1.set_ylabel(\\\"PDF\\\")\\nax1.set_title(\\n    f\\\"continuous prior distribution\\\\nbeta distribution with alpha={a0}, beta={b0}\\\"\\n)\\n\\n# Grid approximation distribution (discrete)\\nn_gridpoints = 100\\np_wat = np.linspace(0, 1, n_gridpoints)\\nprior0_vals = np.repeat(1 / n_gridpoints, n_gridpoints)  # specific to this question\\nax2.vlines(p_wat, 0, prior0_vals)\\nax2.set_ylabel(\\\"PMF\\\")\\nax2.set_xlabel(\\\"proportion of water, p\\\")\\nax2.set_title(f\\\"discrete prior distribution\\\\n {n_gridpoints} gridpoints\\\")\\n\\nplt.tight_layout()\";\n",
       "                var nbb_formatted_code = \"# Use a0 and b0 for our prior\\n# mu = 0.175\\n# total_ab = 100\\na0, b0 = 1, 1\\n# print(\\\"a0, b0 values: \\\", a0, b0)\\n\\nf, (ax1, ax2) = plt.subplots(1, 2, figsize=(12, 4))\\n\\n# Analytical method, beta distribution (continuous)\\nplot_beta(a0, b0, \\\"prior\\\", \\\"dashed\\\", \\\"black\\\", ax1)\\nax1.set_xlim([0, 1])\\nax1.set_xlabel(\\\"proportion of water, p\\\")\\nax1.set_ylabel(\\\"PDF\\\")\\nax1.set_title(\\n    f\\\"continuous prior distribution\\\\nbeta distribution with alpha={a0}, beta={b0}\\\"\\n)\\n\\n# Grid approximation distribution (discrete)\\nn_gridpoints = 100\\np_wat = np.linspace(0, 1, n_gridpoints)\\nprior0_vals = np.repeat(1 / n_gridpoints, n_gridpoints)  # specific to this question\\nax2.vlines(p_wat, 0, prior0_vals)\\nax2.set_ylabel(\\\"PMF\\\")\\nax2.set_xlabel(\\\"proportion of water, p\\\")\\nax2.set_title(f\\\"discrete prior distribution\\\\n {n_gridpoints} gridpoints\\\")\\n\\nplt.tight_layout()\";\n",
       "                var nbb_cells = Jupyter.notebook.get_cells();\n",
       "                for (var i = 0; i < nbb_cells.length; ++i) {\n",
       "                    if (nbb_cells[i].input_prompt_number == nbb_cell_id) {\n",
       "                        if (nbb_cells[i].get_text() == nbb_unformatted_code) {\n",
       "                             nbb_cells[i].set_text(nbb_formatted_code);\n",
       "                        }\n",
       "                        break;\n",
       "                    }\n",
       "                }\n",
       "            }, 500);\n",
       "            "
      ],
      "text/plain": [
       "<IPython.core.display.Javascript object>"
      ]
     },
     "metadata": {},
     "output_type": "display_data"
    }
   ],
   "source": [
    "# Use a0 and b0 for our prior\n",
    "# mu = 0.175\n",
    "# total_ab = 100\n",
    "a0, b0 = 1, 1\n",
    "# print(\"a0, b0 values: \", a0, b0)\n",
    "\n",
    "f, (ax1, ax2) = plt.subplots(1, 2, figsize=(12, 4))\n",
    "\n",
    "# Analytical method, beta distribution (continuous)\n",
    "plot_beta(a0, b0, \"prior\", \"dashed\", \"black\", ax1)\n",
    "ax1.set_xlim([0, 1])\n",
    "ax1.set_xlabel(\"proportion of water, p\")\n",
    "ax1.set_ylabel(\"PDF\")\n",
    "ax1.set_title(\n",
    "    f\"continuous prior distribution\\nbeta distribution with alpha={a0}, beta={b0}\"\n",
    ")\n",
    "\n",
    "# Grid approximation distribution (discrete)\n",
    "n_gridpoints = 100\n",
    "p_wat = np.linspace(0, 1, n_gridpoints)\n",
    "prior0_vals = np.repeat(1 / n_gridpoints, n_gridpoints)  # specific to this question\n",
    "ax2.vlines(p_wat, 0, prior0_vals)\n",
    "ax2.set_ylabel(\"PMF\")\n",
    "ax2.set_xlabel(\"proportion of water, p\")\n",
    "ax2.set_title(f\"discrete prior distribution\\n {n_gridpoints} gridpoints\")\n",
    "\n",
    "plt.tight_layout()"
   ]
  },
  {
   "cell_type": "markdown",
   "metadata": {
    "ExecuteTime": {
     "end_time": "2021-02-14T02:30:31.082143Z",
     "start_time": "2021-02-14T02:30:31.071136Z"
    }
   },
   "source": [
    "The graphs look quite different because the left shows a continuous distribution while the right shows a discrete distribution. The point is that the total distribution in each case sums to 1 and that the values are flat across the possible values for the proportion of water. The key here is noting that the x-axis is a distribution of the *parameter* (in this case it is designated by *p*, but in other contexts it may be shown as $\\theta$.)\n",
    "\n",
    "**Sampling the parameter values is a paradigm shift for me.** The advantage of the grid approximation approach is that we can think of it as having a bag of numbers. In this scenario, I arbitrarily chose to have 100 gridpoints and each of those gridpoints is represented equally. It's like having a marble for each in a bag. We pick one out, note the number on the marble, put it back, and repeat many times. "
   ]
  },
  {
   "cell_type": "code",
   "execution_count": 4,
   "metadata": {
    "ExecuteTime": {
     "end_time": "2021-03-08T18:35:13.358050Z",
     "start_time": "2021-03-08T18:35:13.333723Z"
    }
   },
   "outputs": [
    {
     "data": {
      "text/plain": [
       "array([0.4040404 , 0.64646465, 0.56565657, 0.83838384, 0.35353535,\n",
       "       0.87878788, 0.02020202, 1.        , 0.78787879, 0.4040404 ,\n",
       "       0.55555556, 0.02020202, 0.41414141, 0.32323232, 0.39393939,\n",
       "       0.97979798, 0.05050505, 0.81818182, 0.31313131, 0.36363636])"
      ]
     },
     "execution_count": 4,
     "metadata": {},
     "output_type": "execute_result"
    },
    {
     "data": {
      "application/javascript": [
       "\n",
       "            setTimeout(function() {\n",
       "                var nbb_cell_id = 4;\n",
       "                var nbb_unformatted_code = \"# Pulling a marble out of the bag 10,000 times\\nsamples0 = np.random.choice(p_wat, p=prior0_vals, size=10 ** 4, replace=True)\\n\\n# Take a look at the first 20 sampled parameter values\\nsamples0[0:20]\";\n",
       "                var nbb_formatted_code = \"# Pulling a marble out of the bag 10,000 times\\nsamples0 = np.random.choice(p_wat, p=prior0_vals, size=10 ** 4, replace=True)\\n\\n# Take a look at the first 20 sampled parameter values\\nsamples0[0:20]\";\n",
       "                var nbb_cells = Jupyter.notebook.get_cells();\n",
       "                for (var i = 0; i < nbb_cells.length; ++i) {\n",
       "                    if (nbb_cells[i].input_prompt_number == nbb_cell_id) {\n",
       "                        if (nbb_cells[i].get_text() == nbb_unformatted_code) {\n",
       "                             nbb_cells[i].set_text(nbb_formatted_code);\n",
       "                        }\n",
       "                        break;\n",
       "                    }\n",
       "                }\n",
       "            }, 500);\n",
       "            "
      ],
      "text/plain": [
       "<IPython.core.display.Javascript object>"
      ]
     },
     "metadata": {},
     "output_type": "display_data"
    }
   ],
   "source": [
    "# Pulling a marble out of the bag 10,000 times\n",
    "samples0 = np.random.choice(p_wat, p=prior0_vals, size=10 ** 4, replace=True)\n",
    "\n",
    "# Take a look at the first 20 sampled parameter values\n",
    "samples0[0:20]"
   ]
  },
  {
   "cell_type": "markdown",
   "metadata": {
    "ExecuteTime": {
     "end_time": "2021-02-17T16:43:30.729356Z",
     "start_time": "2021-02-17T16:43:30.720636Z"
    }
   },
   "source": [
    "# Prior Predictive"
   ]
  },
  {
   "cell_type": "markdown",
   "metadata": {},
   "source": [
    "Now let's look at the *prior predictive* distribution. This will be a distribution of count data: the number of water observations (designated by *W*). As a reminder, we are doing three tosses for each dataset, including this first one. Therefore, W can be 0, 1, 2, or 3."
   ]
  },
  {
   "cell_type": "code",
   "execution_count": 5,
   "metadata": {
    "ExecuteTime": {
     "end_time": "2021-03-08T18:35:13.378887Z",
     "start_time": "2021-03-08T18:35:13.361585Z"
    }
   },
   "outputs": [
    {
     "data": {
      "text/plain": [
       "array([0, 1, 2, 3, 1, 3, 0, 3, 1, 1, 2, 0, 1, 0, 0, 3, 0, 3, 1, 1])"
      ]
     },
     "execution_count": 5,
     "metadata": {},
     "output_type": "execute_result"
    },
    {
     "data": {
      "application/javascript": [
       "\n",
       "            setTimeout(function() {\n",
       "                var nbb_cell_id = 5;\n",
       "                var nbb_unformatted_code = \"# Use each sampled parameter for a binomial likelihood with n of 3\\nprior_pred = stats.binom.rvs(3, samples0, loc=0, size=10000, random_state=19)\\n\\n# Take a look at the first 20 resulting W values\\nprior_pred[0:20]\";\n",
       "                var nbb_formatted_code = \"# Use each sampled parameter for a binomial likelihood with n of 3\\nprior_pred = stats.binom.rvs(3, samples0, loc=0, size=10000, random_state=19)\\n\\n# Take a look at the first 20 resulting W values\\nprior_pred[0:20]\";\n",
       "                var nbb_cells = Jupyter.notebook.get_cells();\n",
       "                for (var i = 0; i < nbb_cells.length; ++i) {\n",
       "                    if (nbb_cells[i].input_prompt_number == nbb_cell_id) {\n",
       "                        if (nbb_cells[i].get_text() == nbb_unformatted_code) {\n",
       "                             nbb_cells[i].set_text(nbb_formatted_code);\n",
       "                        }\n",
       "                        break;\n",
       "                    }\n",
       "                }\n",
       "            }, 500);\n",
       "            "
      ],
      "text/plain": [
       "<IPython.core.display.Javascript object>"
      ]
     },
     "metadata": {},
     "output_type": "display_data"
    }
   ],
   "source": [
    "# Use each sampled parameter for a binomial likelihood with n of 3\n",
    "prior_pred = stats.binom.rvs(3, samples0, loc=0, size=10000, random_state=19)\n",
    "\n",
    "# Take a look at the first 20 resulting W values\n",
    "prior_pred[0:20]"
   ]
  },
  {
   "cell_type": "code",
   "execution_count": 6,
   "metadata": {
    "ExecuteTime": {
     "end_time": "2021-03-08T18:35:13.623327Z",
     "start_time": "2021-03-08T18:35:13.381620Z"
    }
   },
   "outputs": [
    {
     "data": {
      "text/plain": [
       "Text(0.5, 1.0, 'Prior predictive distribution with dataset 1')"
      ]
     },
     "execution_count": 6,
     "metadata": {},
     "output_type": "execute_result"
    },
    {
     "data": {
      "image/png": "[encoded data removed]",
      "text/plain": [
       "<Figure size 576x432 with 1 Axes>"
      ]
     },
     "metadata": {
      "needs_background": "light"
     },
     "output_type": "display_data"
    },
    {
     "data": {
      "application/javascript": [
       "\n",
       "            setTimeout(function() {\n",
       "                var nbb_cell_id = 6;\n",
       "                var nbb_unformatted_code = \"f, ax1 = plt.subplots(1, 1, figsize=(8, 6))\\n\\nax1.hist(prior_pred, color=\\\"gray\\\")\\nax1.set_xlabel(\\\"W (number of observed water counts)\\\")\\nax1.set_ylabel(\\\"Frequency\\\")\\nax1.set_title(\\\"Prior predictive distribution with dataset 1\\\")\";\n",
       "                var nbb_formatted_code = \"f, ax1 = plt.subplots(1, 1, figsize=(8, 6))\\n\\nax1.hist(prior_pred, color=\\\"gray\\\")\\nax1.set_xlabel(\\\"W (number of observed water counts)\\\")\\nax1.set_ylabel(\\\"Frequency\\\")\\nax1.set_title(\\\"Prior predictive distribution with dataset 1\\\")\";\n",
       "                var nbb_cells = Jupyter.notebook.get_cells();\n",
       "                for (var i = 0; i < nbb_cells.length; ++i) {\n",
       "                    if (nbb_cells[i].input_prompt_number == nbb_cell_id) {\n",
       "                        if (nbb_cells[i].get_text() == nbb_unformatted_code) {\n",
       "                             nbb_cells[i].set_text(nbb_formatted_code);\n",
       "                        }\n",
       "                        break;\n",
       "                    }\n",
       "                }\n",
       "            }, 500);\n",
       "            "
      ],
      "text/plain": [
       "<IPython.core.display.Javascript object>"
      ]
     },
     "metadata": {},
     "output_type": "display_data"
    }
   ],
   "source": [
    "f, ax1 = plt.subplots(1, 1, figsize=(8, 6))\n",
    "\n",
    "ax1.hist(prior_pred, color=\"gray\")\n",
    "ax1.set_xlabel(\"W (number of observed water counts)\")\n",
    "ax1.set_ylabel(\"Frequency\")\n",
    "ax1.set_title(\"Prior predictive distribution with dataset 1\")"
   ]
  },
  {
   "cell_type": "markdown",
   "metadata": {},
   "source": [
    "Given that the parameters we sampled from were uniformly distributed, we shouldn't be surprised that the  *prior predictive* distribution for the number of observed water counts is also uniform. Remember: this is only a check before we have seen any data."
   ]
  },
  {
   "cell_type": "markdown",
   "metadata": {},
   "source": [
    "# Likelihood\n",
    "\n",
    "Now let us consider the data. In the scenario from the lecture, there were two waters and one land in the first three tosses. Before seeing the posterior, let's plot the likelihood on its own. It was key to remember that the x-axis is also a plot of the parameter."
   ]
  },
  {
   "cell_type": "code",
   "execution_count": 7,
   "metadata": {
    "ExecuteTime": {
     "end_time": "2021-03-08T18:35:13.865017Z",
     "start_time": "2021-03-08T18:35:13.626238Z"
    }
   },
   "outputs": [
    {
     "data": {
      "text/plain": [
       "Text(0.5, 1.0, 'Likelihood function with 2W in 3 tosses')"
      ]
     },
     "execution_count": 7,
     "metadata": {},
     "output_type": "execute_result"
    },
    {
     "data": {
      "image/png": "[encoded data removed]",
      "text/plain": [
       "<Figure size 576x432 with 1 Axes>"
      ]
     },
     "metadata": {
      "needs_background": "light"
     },
     "output_type": "display_data"
    },
    {
     "data": {
      "application/javascript": [
       "\n",
       "            setTimeout(function() {\n",
       "                var nbb_cell_id = 7;\n",
       "                var nbb_unformatted_code = \"prob_data1 = stats.binom.pmf(k=2, n=3, p=p_wat)\\n\\nf, ax1 = plt.subplots(1, 1, figsize=(8, 6))\\nax1.plot(p_wat, prob_data1, color=\\\"gray\\\")\\nax1.set_xlabel(\\\"proportion of water, p\\\")\\nax1.set_ylabel(\\\"Likelihood\\\")\\nax1.set_title(\\\"Likelihood function with 2W in 3 tosses\\\")\";\n",
       "                var nbb_formatted_code = \"prob_data1 = stats.binom.pmf(k=2, n=3, p=p_wat)\\n\\nf, ax1 = plt.subplots(1, 1, figsize=(8, 6))\\nax1.plot(p_wat, prob_data1, color=\\\"gray\\\")\\nax1.set_xlabel(\\\"proportion of water, p\\\")\\nax1.set_ylabel(\\\"Likelihood\\\")\\nax1.set_title(\\\"Likelihood function with 2W in 3 tosses\\\")\";\n",
       "                var nbb_cells = Jupyter.notebook.get_cells();\n",
       "                for (var i = 0; i < nbb_cells.length; ++i) {\n",
       "                    if (nbb_cells[i].input_prompt_number == nbb_cell_id) {\n",
       "                        if (nbb_cells[i].get_text() == nbb_unformatted_code) {\n",
       "                             nbb_cells[i].set_text(nbb_formatted_code);\n",
       "                        }\n",
       "                        break;\n",
       "                    }\n",
       "                }\n",
       "            }, 500);\n",
       "            "
      ],
      "text/plain": [
       "<IPython.core.display.Javascript object>"
      ]
     },
     "metadata": {},
     "output_type": "display_data"
    }
   ],
   "source": [
    "prob_data1 = stats.binom.pmf(k=2, n=3, p=p_wat)\n",
    "\n",
    "f, ax1 = plt.subplots(1, 1, figsize=(8, 6))\n",
    "ax1.plot(p_wat, prob_data1, color=\"gray\")\n",
    "ax1.set_xlabel(\"proportion of water, p\")\n",
    "ax1.set_ylabel(\"Likelihood\")\n",
    "ax1.set_title(\"Likelihood function with 2W in 3 tosses\")"
   ]
  },
  {
   "cell_type": "markdown",
   "metadata": {
    "ExecuteTime": {
     "end_time": "2021-02-16T02:25:02.613890Z",
     "start_time": "2021-02-16T02:25:02.547377Z"
    }
   },
   "source": [
    "# Posterior\n",
    "\n",
    "Now let us use this new information to generate our posterior, generating a non-standardized and a standardized posterior in separate lines."
   ]
  },
  {
   "cell_type": "code",
   "execution_count": 8,
   "metadata": {
    "ExecuteTime": {
     "end_time": "2021-03-08T18:35:13.885691Z",
     "start_time": "2021-03-08T18:35:13.871095Z"
    }
   },
   "outputs": [
    {
     "data": {
      "application/javascript": [
       "\n",
       "            setTimeout(function() {\n",
       "                var nbb_cell_id = 8;\n",
       "                var nbb_unformatted_code = \"# Non-standardized posterior\\nposterior1_nonstd = prob_data1 * prior0_vals\\n\\n# Standardized posterior\\nposterior1_std = posterior1_nonstd / np.sum(posterior1_nonstd)\";\n",
       "                var nbb_formatted_code = \"# Non-standardized posterior\\nposterior1_nonstd = prob_data1 * prior0_vals\\n\\n# Standardized posterior\\nposterior1_std = posterior1_nonstd / np.sum(posterior1_nonstd)\";\n",
       "                var nbb_cells = Jupyter.notebook.get_cells();\n",
       "                for (var i = 0; i < nbb_cells.length; ++i) {\n",
       "                    if (nbb_cells[i].input_prompt_number == nbb_cell_id) {\n",
       "                        if (nbb_cells[i].get_text() == nbb_unformatted_code) {\n",
       "                             nbb_cells[i].set_text(nbb_formatted_code);\n",
       "                        }\n",
       "                        break;\n",
       "                    }\n",
       "                }\n",
       "            }, 500);\n",
       "            "
      ],
      "text/plain": [
       "<IPython.core.display.Javascript object>"
      ]
     },
     "metadata": {},
     "output_type": "display_data"
    }
   ],
   "source": [
    "# Non-standardized posterior\n",
    "posterior1_nonstd = prob_data1 * prior0_vals\n",
    "\n",
    "# Standardized posterior\n",
    "posterior1_std = posterior1_nonstd / np.sum(posterior1_nonstd)"
   ]
  },
  {
   "cell_type": "code",
   "execution_count": 9,
   "metadata": {
    "ExecuteTime": {
     "end_time": "2021-03-08T18:35:14.393913Z",
     "start_time": "2021-03-08T18:35:13.891867Z"
    }
   },
   "outputs": [
    {
     "data": {
      "image/png": "[encoded data removed]",
      "text/plain": [
       "<Figure size 864x288 with 2 Axes>"
      ]
     },
     "metadata": {
      "needs_background": "light"
     },
     "output_type": "display_data"
    },
    {
     "data": {
      "application/javascript": [
       "\n",
       "            setTimeout(function() {\n",
       "                var nbb_cell_id = 9;\n",
       "                var nbb_unformatted_code = \"f, (ax1, ax2) = plt.subplots(1, 2, figsize=(12, 4), sharey=True)\\n\\nax1.vlines(p_wat, 0, prior0_vals)\\nax1.set_ylabel(\\\"PMF\\\")\\nax1.set_xlabel(\\\"proportion of water, p\\\")\\nax1.set_title(f\\\"discrete prior distribution\\\\n {n_gridpoints} gridpoints\\\")\\n\\n\\nax2.vlines(p_wat, 0, posterior1_std, color=\\\"gray\\\")\\n# ax2.set_ylabel(\\\"PMF\\\")\\nax2.set_xlabel(\\\"proportion of water, p\\\")\\nax2.set_title(f\\\"discrete posterior distribution\\\\n {n_gridpoints} gridpoints\\\")\\n\\nplt.tight_layout()\";\n",
       "                var nbb_formatted_code = \"f, (ax1, ax2) = plt.subplots(1, 2, figsize=(12, 4), sharey=True)\\n\\nax1.vlines(p_wat, 0, prior0_vals)\\nax1.set_ylabel(\\\"PMF\\\")\\nax1.set_xlabel(\\\"proportion of water, p\\\")\\nax1.set_title(f\\\"discrete prior distribution\\\\n {n_gridpoints} gridpoints\\\")\\n\\n\\nax2.vlines(p_wat, 0, posterior1_std, color=\\\"gray\\\")\\n# ax2.set_ylabel(\\\"PMF\\\")\\nax2.set_xlabel(\\\"proportion of water, p\\\")\\nax2.set_title(f\\\"discrete posterior distribution\\\\n {n_gridpoints} gridpoints\\\")\\n\\nplt.tight_layout()\";\n",
       "                var nbb_cells = Jupyter.notebook.get_cells();\n",
       "                for (var i = 0; i < nbb_cells.length; ++i) {\n",
       "                    if (nbb_cells[i].input_prompt_number == nbb_cell_id) {\n",
       "                        if (nbb_cells[i].get_text() == nbb_unformatted_code) {\n",
       "                             nbb_cells[i].set_text(nbb_formatted_code);\n",
       "                        }\n",
       "                        break;\n",
       "                    }\n",
       "                }\n",
       "            }, 500);\n",
       "            "
      ],
      "text/plain": [
       "<IPython.core.display.Javascript object>"
      ]
     },
     "metadata": {},
     "output_type": "display_data"
    }
   ],
   "source": [
    "f, (ax1, ax2) = plt.subplots(1, 2, figsize=(12, 4), sharey=True)\n",
    "\n",
    "ax1.vlines(p_wat, 0, prior0_vals)\n",
    "ax1.set_ylabel(\"PMF\")\n",
    "ax1.set_xlabel(\"proportion of water, p\")\n",
    "ax1.set_title(f\"discrete prior distribution\\n {n_gridpoints} gridpoints\")\n",
    "\n",
    "\n",
    "ax2.vlines(p_wat, 0, posterior1_std, color=\"gray\")\n",
    "# ax2.set_ylabel(\"PMF\")\n",
    "ax2.set_xlabel(\"proportion of water, p\")\n",
    "ax2.set_title(f\"discrete posterior distribution\\n {n_gridpoints} gridpoints\")\n",
    "\n",
    "plt.tight_layout()"
   ]
  },
  {
   "cell_type": "markdown",
   "metadata": {},
   "source": [
    "Now let's create the *posterior predictive distribution*."
   ]
  },
  {
   "cell_type": "code",
   "execution_count": 10,
   "metadata": {
    "ExecuteTime": {
     "end_time": "2021-03-08T18:35:14.508274Z",
     "start_time": "2021-03-08T18:35:14.410530Z"
    }
   },
   "outputs": [
    {
     "data": {
      "text/plain": [
       "array([0.65656566, 0.2020202 , 0.53535354, 0.55555556, 0.85858586,\n",
       "       0.53535354, 0.48484848, 0.61616162, 0.42424242, 0.50505051,\n",
       "       0.57575758, 0.41414141, 0.55555556, 0.39393939, 0.83838384,\n",
       "       0.62626263, 0.44444444, 0.56565657, 0.68686869, 0.92929293])"
      ]
     },
     "execution_count": 10,
     "metadata": {},
     "output_type": "execute_result"
    },
    {
     "data": {
      "application/javascript": [
       "\n",
       "            setTimeout(function() {\n",
       "                var nbb_cell_id = 10;\n",
       "                var nbb_unformatted_code = \"# Pulling a marble out of the bag 10,000 times\\nsamples1 = np.random.choice(p_wat, p=posterior1_std, size=10 ** 4, replace=True)\\n\\n# Take a look at the first 20 sampled parameter values\\nsamples1[0:20]\";\n",
       "                var nbb_formatted_code = \"# Pulling a marble out of the bag 10,000 times\\nsamples1 = np.random.choice(p_wat, p=posterior1_std, size=10 ** 4, replace=True)\\n\\n# Take a look at the first 20 sampled parameter values\\nsamples1[0:20]\";\n",
       "                var nbb_cells = Jupyter.notebook.get_cells();\n",
       "                for (var i = 0; i < nbb_cells.length; ++i) {\n",
       "                    if (nbb_cells[i].input_prompt_number == nbb_cell_id) {\n",
       "                        if (nbb_cells[i].get_text() == nbb_unformatted_code) {\n",
       "                             nbb_cells[i].set_text(nbb_formatted_code);\n",
       "                        }\n",
       "                        break;\n",
       "                    }\n",
       "                }\n",
       "            }, 500);\n",
       "            "
      ],
      "text/plain": [
       "<IPython.core.display.Javascript object>"
      ]
     },
     "metadata": {},
     "output_type": "display_data"
    }
   ],
   "source": [
    "# Pulling a marble out of the bag 10,000 times\n",
    "samples1 = np.random.choice(p_wat, p=posterior1_std, size=10 ** 4, replace=True)\n",
    "\n",
    "# Take a look at the first 20 sampled parameter values\n",
    "samples1[0:20]"
   ]
  },
  {
   "cell_type": "markdown",
   "metadata": {},
   "source": [
    "This is about having now parameter samples that are now differentially represented."
   ]
  },
  {
   "cell_type": "markdown",
   "metadata": {},
   "source": [
    "# Posterior predictive\n",
    "\n",
    "Now let's look at the *posterior predictive* distribution. This will be a distribution of count data: the number of water observations (designated by *W*). As a reminder, we are doing three tosses for the *next* dataset. Therefore, W remains as 0, 1, 2, or 3."
   ]
  },
  {
   "cell_type": "code",
   "execution_count": 11,
   "metadata": {
    "ExecuteTime": {
     "end_time": "2021-03-08T18:35:14.542282Z",
     "start_time": "2021-03-08T18:35:14.516106Z"
    }
   },
   "outputs": [
    {
     "data": {
      "text/plain": [
       "array([3, 1, 2, 3, 3, 3, 2, 1, 3, 1, 2, 1, 2, 1, 3, 2, 0, 2, 2, 3])"
      ]
     },
     "execution_count": 11,
     "metadata": {},
     "output_type": "execute_result"
    },
    {
     "data": {
      "application/javascript": [
       "\n",
       "            setTimeout(function() {\n",
       "                var nbb_cell_id = 11;\n",
       "                var nbb_unformatted_code = \"# Use each sampled parameter for a binomial likelihood with n of 3\\nposterior_pred = stats.binom.rvs(3, samples1, loc=0, size=10000, random_state=19)\\n\\n# Take a look at the first 20 resulting W values\\nposterior_pred[0:20]\";\n",
       "                var nbb_formatted_code = \"# Use each sampled parameter for a binomial likelihood with n of 3\\nposterior_pred = stats.binom.rvs(3, samples1, loc=0, size=10000, random_state=19)\\n\\n# Take a look at the first 20 resulting W values\\nposterior_pred[0:20]\";\n",
       "                var nbb_cells = Jupyter.notebook.get_cells();\n",
       "                for (var i = 0; i < nbb_cells.length; ++i) {\n",
       "                    if (nbb_cells[i].input_prompt_number == nbb_cell_id) {\n",
       "                        if (nbb_cells[i].get_text() == nbb_unformatted_code) {\n",
       "                             nbb_cells[i].set_text(nbb_formatted_code);\n",
       "                        }\n",
       "                        break;\n",
       "                    }\n",
       "                }\n",
       "            }, 500);\n",
       "            "
      ],
      "text/plain": [
       "<IPython.core.display.Javascript object>"
      ]
     },
     "metadata": {},
     "output_type": "display_data"
    }
   ],
   "source": [
    "# Use each sampled parameter for a binomial likelihood with n of 3\n",
    "posterior_pred = stats.binom.rvs(3, samples1, loc=0, size=10000, random_state=19)\n",
    "\n",
    "# Take a look at the first 20 resulting W values\n",
    "posterior_pred[0:20]"
   ]
  },
  {
   "cell_type": "code",
   "execution_count": 12,
   "metadata": {
    "ExecuteTime": {
     "end_time": "2021-03-08T18:35:14.826017Z",
     "start_time": "2021-03-08T18:35:14.545526Z"
    }
   },
   "outputs": [
    {
     "data": {
      "text/plain": [
       "Text(0.5, 1.0, 'Posterior predictive distribution after dataset 1')"
      ]
     },
     "execution_count": 12,
     "metadata": {},
     "output_type": "execute_result"
    },
    {
     "data": {
      "image/png": "[encoded data removed]",
      "text/plain": [
       "<Figure size 576x432 with 1 Axes>"
      ]
     },
     "metadata": {
      "needs_background": "light"
     },
     "output_type": "display_data"
    },
    {
     "data": {
      "application/javascript": [
       "\n",
       "            setTimeout(function() {\n",
       "                var nbb_cell_id = 12;\n",
       "                var nbb_unformatted_code = \"f, ax1 = plt.subplots(1, 1, figsize=(8, 6))\\n\\nax1.hist(posterior_pred, color=\\\"gray\\\")\\nax1.set_xlabel(\\\"W (number of observed water counts)\\\")\\nax1.set_ylabel(\\\"Frequency\\\")\\nax1.set_title(\\\"Posterior predictive distribution after dataset 1\\\")\";\n",
       "                var nbb_formatted_code = \"f, ax1 = plt.subplots(1, 1, figsize=(8, 6))\\n\\nax1.hist(posterior_pred, color=\\\"gray\\\")\\nax1.set_xlabel(\\\"W (number of observed water counts)\\\")\\nax1.set_ylabel(\\\"Frequency\\\")\\nax1.set_title(\\\"Posterior predictive distribution after dataset 1\\\")\";\n",
       "                var nbb_cells = Jupyter.notebook.get_cells();\n",
       "                for (var i = 0; i < nbb_cells.length; ++i) {\n",
       "                    if (nbb_cells[i].input_prompt_number == nbb_cell_id) {\n",
       "                        if (nbb_cells[i].get_text() == nbb_unformatted_code) {\n",
       "                             nbb_cells[i].set_text(nbb_formatted_code);\n",
       "                        }\n",
       "                        break;\n",
       "                    }\n",
       "                }\n",
       "            }, 500);\n",
       "            "
      ],
      "text/plain": [
       "<IPython.core.display.Javascript object>"
      ]
     },
     "metadata": {},
     "output_type": "display_data"
    }
   ],
   "source": [
    "f, ax1 = plt.subplots(1, 1, figsize=(8, 6))\n",
    "\n",
    "ax1.hist(posterior_pred, color=\"gray\")\n",
    "ax1.set_xlabel(\"W (number of observed water counts)\")\n",
    "ax1.set_ylabel(\"Frequency\")\n",
    "ax1.set_title(\"Posterior predictive distribution after dataset 1\")"
   ]
  },
  {
   "cell_type": "markdown",
   "metadata": {},
   "source": [
    "# Summary\n",
    "\n",
    "In summary, I re-visited some Bayesian analysis concepts in the context of the Statistical Rethinking lessons. Specifically, I started with thinking about the differences between the \"prior\" and \"prior predictive\" terms and then extended that to \"likelihood\", \"posterior\", and \"posterior predictive\". I think it should also be clear how the \"posterior\" and \"posterior predictive\" data here can serve as \"prior\" and \"prior predictive\" for a subsequent dataset if I chose to do another experiment.\n",
    "\n",
    "Some keys for me in grasping these concepts was understanding what is being plotted on the x- and y-axes and also realizing how one can draw samples from simulated as an alternative to the analytical approach. These concepts are foundational to future lessons including hierarchical modeling applications."
   ]
  }
 ],
 "metadata": {
  "kernelspec": {
   "display_name": "Python 3",
   "language": "python",
   "name": "python3"
  },
  "language_info": {
   "codemirror_mode": {
    "name": "ipython",
    "version": 3
   },
   "file_extension": ".py",
   "mimetype": "text/x-python",
   "name": "python",
   "nbconvert_exporter": "python",
   "pygments_lexer": "ipython3",
   "version": "3.6.9"
  },
  "toc": {
   "base_numbering": 1,
   "nav_menu": {},
   "number_sections": true,
   "sideBar": true,
   "skip_h1_title": false,
   "title_cell": "Table of Contents",
   "title_sidebar": "Contents",
   "toc_cell": false,
   "toc_position": {
    "height": "calc(100% - 180px)",
    "left": "10px",
    "top": "150px",
    "width": "165px"
   },
   "toc_section_display": true,
   "toc_window_display": true
  },
  "varInspector": {
   "cols": {
    "lenName": 16,
    "lenType": 16,
    "lenVar": 40
   },
   "kernels_config": {
    "python": {
     "delete_cmd_postfix": "",
     "delete_cmd_prefix": "del ",
     "library": "var_list.py",
     "varRefreshCmd": "print(var_dic_list())"
    },
    "r": {
     "delete_cmd_postfix": ") ",
     "delete_cmd_prefix": "rm(",
     "library": "var_list.r",
     "varRefreshCmd": "cat(var_dic_list()) "
    }
   },
   "types_to_exclude": [
    "module",
    "function",
    "builtin_function_or_method",
    "instance",
    "_Feature"
   ],
   "window_display": false
  }
 },
 "nbformat": 4,
 "nbformat_minor": 2
}
