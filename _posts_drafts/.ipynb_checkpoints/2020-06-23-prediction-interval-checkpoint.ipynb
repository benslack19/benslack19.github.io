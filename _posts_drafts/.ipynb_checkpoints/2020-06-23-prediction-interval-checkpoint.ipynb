{
 "cells": [
  {
   "cell_type": "markdown",
   "metadata": {},
   "source": [
    "---\n",
    "title: Prediction intervals\n",
    "toc: true\n",
    "toc_sticky: true\n",
    "---"
   ]
  },
  {
   "cell_type": "markdown",
   "metadata": {},
   "source": [
    "[Bayes' theorem](https://en.wikipedia.org/wiki/Bayes%27_theorem) is one of the most useful applications in statistics. But sometimes it is not always easy to recognize when and how to apply it. I was doing some statistics problems with my Insight cohort when applying conditional probability in one, simpler problem helped me connect it with a slightly harder, baseball-related problem.\n",
    "\n",
    "In this post, I'll go over a couple of applications of Bayes!"
   ]
  },
  {
   "cell_type": "code",
   "execution_count": 67,
   "metadata": {
    "ExecuteTime": {
     "end_time": "2020-06-13T17:02:35.228154Z",
     "start_time": "2020-06-13T17:02:35.193621Z"
    }
   },
   "outputs": [],
   "source": [
    "# Load packages for coding examples\n",
    "import pandas as pd\n",
    "import numpy as np\n",
    "from scipy.stats import binom\n",
    "import matplotlib.pyplot as plt\n",
    "import seaborn as sns\n",
    "from scipy.stats import beta\n",
    "from scipy.stats import binom\n",
    "from scipy.stats import norm"
   ]
  },
  {
   "cell_type": "markdown",
   "metadata": {},
   "source": [
    "Let's imagine that there are only two types of hitters in MLB, those with a true talent 10% hit rate and those with a true talent 25% hit rate. We also know that 60% of MLB hitters are in the 10% hit rate group and the remaining 40% are in the 25% hit rate group. Suppose we have observed a hitter, Bobby Aguila, over 100 plate appearances and he has hit at an 18% rate. What is the probability that Aguila has a true talent level of 10% hit rate?"
   ]
  },
  {
   "cell_type": "markdown",
   "metadata": {},
   "source": [
    "Bayes' theorem can be applied here but it may take a little more digging to see it. Let's create some notations before we get started.\n",
    "\n",
    "T10 = true talent 10% hit group\n",
    "<br>\n",
    "T25 = true talent 25% hit group\n",
    "<br>\n",
    "18H = 18 hits in 100 at-bats\n",
    "\n",
    "The original question could be phrased as \"What is the probability that Aguila has a true talent level of 10% hit rate, given that he has 18 hits in 100 at-bats?\"\n",
    "\n",
    "In Bayes' theorem, we can therefore structure our equation like this:\n",
    "\n",
    "$\\text{P}(\\text{T10} | \\text{18H}) = \\frac{\\text{P}(\\text{18H} | \\text{T10})\\text{P}(\\text{T10})}{\\text{P}(\\text{18H})}$\n"
   ]
  },
  {
   "cell_type": "markdown",
   "metadata": {},
   "source": [
    "But what if we weren't asking for a single probability if Aguila was in the 10% hit rate group versus the 25% hit group? With just two groups, we have a pretty simple prior distribution. Essentially, the prior in that example was a Bernoulli distribution since the probability of being in one group *p* is *(1-p)* of being in the other group. More specifically, we were only interested in one of those groups (the 10% group) of the Bernoulli. A more realistic question would be to use a prior distribution that encapsulates a *range* of talent levels and then ask where would we expect Aguila's batting average (hitting rate) be within that range. This also exposes us to the concept of a credible interval."
   ]
  },
  {
   "cell_type": "markdown",
   "metadata": {},
   "source": [
    "By the way, there is a [superb and much better post](http://varianceexplained.org/r/credible_intervals_baseball/) on credible intervals. That post also happens to use baseball statistics. My post is building on my previous example."
   ]
  },
  {
   "cell_type": "markdown",
   "metadata": {},
   "source": [
    "Let's take these steps in a couple of iterations. First, let's take the original Bernoulli distribution example and show how the prior distribution gets updated with data to produce the posterior distribution."
   ]
  },
  {
   "cell_type": "markdown",
   "metadata": {},
   "source": [
    "# Showing the posterior distribution results from the prior and the data"
   ]
  },
  {
   "cell_type": "code",
   "execution_count": 41,
   "metadata": {},
   "outputs": [
    {
     "data": {
      "image/png": "[encoded data removed]",
      "text/plain": [
       "<Figure size 432x288 with 1 Axes>"
      ]
     },
     "metadata": {
      "needs_background": "light"
     },
     "output_type": "display_data"
    }
   ],
   "source": [
    "f, ax1 = plt.subplots()\n",
    "\n",
    "ax1.bar([0, 1], [0.6, 0.4], color='k', alpha=0.5)\n",
    "ax1.set_xticks([0,1])\n",
    "ax1.set_xticklabels(['T10', 'T25'])\n",
    "ax1.set_ylabel('probability')\n",
    "ax1.set_title('prior distribution');"
   ]
  },
  {
   "cell_type": "markdown",
   "metadata": {},
   "source": [
    "Now let's add in the data of 18 hits in 100 at-bats."
   ]
  },
  {
   "cell_type": "code",
   "execution_count": 42,
   "metadata": {},
   "outputs": [],
   "source": [
    "# T10 group\n",
    "n, p10 = 100, 0.1\n",
    "rv10 = binom(n, p10)\n",
    "\n",
    "# T25 group\n",
    "n, p25 = 100, 0.25\n",
    "rv25 = binom(n, p25)"
   ]
  },
  {
   "cell_type": "code",
   "execution_count": 43,
   "metadata": {},
   "outputs": [
    {
     "name": "stdout",
     "output_type": "stream",
     "text": [
      "Posterior probability for T10 group: 0.2428\n",
      "Posterior probability for T25 group: 0.7572\n"
     ]
    }
   ],
   "source": [
    "posterior_p10 = (rv10.pmf(18) * 0.6) / ((rv10.pmf(18) * 0.6) + (rv25.pmf(18) * 0.4))\n",
    "posterior_p25 = (rv25.pmf(18) * 0.4) / ((rv10.pmf(18) * 0.6) + (rv25.pmf(18) * 0.4))\n",
    "print(\"Posterior probability for T10 group: {0:0.4f}\".format(posterior_p10))\n",
    "print(\"Posterior probability for T25 group: {0:0.4f}\".format(posterior_p25))"
   ]
  },
  {
   "cell_type": "code",
   "execution_count": 44,
   "metadata": {},
   "outputs": [
    {
     "data": {
      "image/png": "[encoded data removed]",
      "text/plain": [
       "<Figure size 432x288 with 1 Axes>"
      ]
     },
     "metadata": {
      "needs_background": "light"
     },
     "output_type": "display_data"
    }
   ],
   "source": [
    "f, ax1 = plt.subplots()\n",
    "ax1.bar([0, 1], [0.6, 0.4], width=0.5, color='k', alpha=0.5, label='prior')\n",
    "ax1.bar([0.25, 1.25], [posterior_p10, posterior_p25], width=0.5, color='r', alpha=0.5, label='posterior')\n",
    "ax1.set_xticks([0,1])\n",
    "ax1.set_xticklabels(['T10', 'T25'])\n",
    "ax1.set_ylabel('probability')\n",
    "ax1.set_title('prior and posterior distributions')\n",
    "ax1.legend();"
   ]
  },
  {
   "cell_type": "markdown",
   "metadata": {},
   "source": [
    "Note how even though we calculated the posterior values for both, we could have easily just taken 1 - the probability of the T25 group."
   ]
  },
  {
   "cell_type": "markdown",
   "metadata": {},
   "source": [
    "# Using a more realistic prior distribution"
   ]
  },
  {
   "cell_type": "markdown",
   "metadata": {},
   "source": [
    "## Gaussian (and why it doesn't apply here)"
   ]
  },
  {
   "cell_type": "markdown",
   "metadata": {},
   "source": [
    "Instead of saying that a 10% hit rate and a 25% hit rate are the only values that we can work with, let's say that we have a Gaussian distribution where those two values mark the bottom and top 5%, respectively."
   ]
  },
  {
   "cell_type": "code",
   "execution_count": 50,
   "metadata": {},
   "outputs": [],
   "source": [
    "mu = (.25-0.1)/2 + 0.1   # midpoint between the two\n",
    "sd = (.25-mu)/1.96       # standard deviation based on .10 and .25 being at bottom and top 5% respectively\n",
    "\n",
    "dist = norm(mu, sd)"
   ]
  },
  {
   "cell_type": "code",
   "execution_count": 73,
   "metadata": {},
   "outputs": [
    {
     "data": {
      "text/plain": [
       "0.175"
      ]
     },
     "execution_count": 73,
     "metadata": {},
     "output_type": "execute_result"
    }
   ],
   "source": [
    "mu"
   ]
  },
  {
   "cell_type": "code",
   "execution_count": 66,
   "metadata": {},
   "outputs": [
    {
     "data": {
      "text/plain": [
       "Text(0.5, 1.0, 'prior')"
      ]
     },
     "execution_count": 66,
     "metadata": {},
     "output_type": "execute_result"
    },
    {
     "data": {
      "image/png": "[encoded data removed]",
      "text/plain": [
       "<Figure size 432x288 with 1 Axes>"
      ]
     },
     "metadata": {
      "needs_background": "light"
     },
     "output_type": "display_data"
    }
   ],
   "source": [
    "x = np.linspace(0, 0.4, 1000)\n",
    "y = dist.pdf(x)\n",
    " \n",
    "f, ax1 = plt.subplots()\n",
    "ax1.plot(x, dist.pdf(x), 'k-', lw=2, label='frozen pdf')\n",
    "ax1.set_title('prior')"
   ]
  },
  {
   "cell_type": "markdown",
   "metadata": {},
   "source": [
    "## Beta distribution"
   ]
  },
  {
   "cell_type": "code",
   "execution_count": 117,
   "metadata": {},
   "outputs": [
    {
     "name": "stdout",
     "output_type": "stream",
     "text": [
      "a, b values:  13 62\n"
     ]
    }
   ],
   "source": [
    "total_ab = 75\n",
    "a = round(mu*total_ab)\n",
    "b = total_ab-a\n",
    "print(\"a, b values: \", a, b)"
   ]
  },
  {
   "cell_type": "code",
   "execution_count": 122,
   "metadata": {},
   "outputs": [
    {
     "data": {
      "image/png": "[encoded data removed]",
      "text/plain": [
       "<Figure size 432x288 with 1 Axes>"
      ]
     },
     "metadata": {
      "needs_background": "light"
     },
     "output_type": "display_data"
    }
   ],
   "source": [
    "f, ax1 = plt.subplots()\n",
    "\n",
    "x = np.linspace(beta.ppf(0.01, a, b),\n",
    "                beta.ppf(0.99, a, b), 100)\n",
    "\n",
    "ax1.plot(x, beta.pdf(x, a, b),\n",
    "         'k-', lw=1, alpha=0.6, label='beta pdf')\n",
    "ax1.set_title('beta distribution');"
   ]
  },
  {
   "cell_type": "code",
   "execution_count": 121,
   "metadata": {},
   "outputs": [
    {
     "name": "stdout",
     "output_type": "stream",
     "text": [
      "posterior a, b values:  31 144\n"
     ]
    }
   ],
   "source": [
    "a_post = a + 18 \n",
    "b_post = b + (100-18)\n",
    "print(\"posterior a, b values: \", a_post, b_post)"
   ]
  },
  {
   "cell_type": "code",
   "execution_count": 140,
   "metadata": {},
   "outputs": [
    {
     "data": {
      "text/plain": [
       "array([0.13198161, 0.22650857])"
      ]
     },
     "execution_count": 140,
     "metadata": {},
     "output_type": "execute_result"
    }
   ],
   "source": [
    "# Get credible interval\n",
    "beta.ppf([0.05, 0.95], a_post, b_post)"
   ]
  },
  {
   "cell_type": "code",
   "execution_count": null,
   "metadata": {},
   "outputs": [],
   "source": [
    "#beta.pdf(x_post, a_post, b_post)"
   ]
  },
  {
   "cell_type": "code",
   "execution_count": 158,
   "metadata": {},
   "outputs": [
    {
     "data": {
      "image/png": "[encoded data removed]",
      "text/plain": [
       "<Figure size 432x288 with 1 Axes>"
      ]
     },
     "metadata": {
      "needs_background": "light"
     },
     "output_type": "display_data"
    }
   ],
   "source": [
    "f, ax1 = plt.subplots()\n",
    "\n",
    "ax1.plot(x, beta.pdf(x, a, b),\n",
    "         'k-', lw=1, alpha=0.6, label='prior pdf')\n",
    "\n",
    "x_post = np.linspace(beta.ppf(0.01, a_post, b_post),\n",
    "                beta.ppf(0.99, a_post, b_post), 100)\n",
    "ax1.plot(x_post, beta.pdf(x_post, a_post, b_post),\n",
    "         'r-', lw=1, alpha=0.6, label='posterior pdf')\n",
    "ax1.axvline(0.13198161, ymax=0.3, color='blue', linestyle='dashed', lw=1, label='5% posterior')\n",
    "ax1.axvline(0.22650857, ymax=0.3, color='blue', linestyle='dashed', lw=1, label='95% posterior')\n",
    "\n",
    "ax1.legend()\n",
    "ax1.set_title('Probability of hit rate');"
   ]
  },
  {
   "cell_type": "code",
   "execution_count": 130,
   "metadata": {},
   "outputs": [
    {
     "data": {
      "text/plain": [
       "array([ 1.1732068 ,  1.33433235,  1.51108392,  1.70406715,  1.91379533,\n",
       "        2.1406754 ,  2.3849944 ,  2.64690691,  2.92642349,  3.22340062,\n",
       "        3.53753215,  3.8683427 ,  4.21518305,  4.5772277 ,  4.95347479,\n",
       "        5.34274843,  5.74370337,  6.15483225,  6.57447509,  7.00083114,\n",
       "        7.43197289,  7.86586196,  8.30036687,  8.73328224,  9.16234924,\n",
       "        9.58527706,  9.99976489, 10.40352438, 10.79430195, 11.16990088,\n",
       "       11.52820274, 11.86718788, 12.18495473, 12.47973761, 12.74992294,\n",
       "       12.99406344, 13.21089042, 13.39932379, 13.55847995, 13.68767721,\n",
       "       13.78643908, 13.85449504, 13.8917793 , 13.8984272 , 13.87476969,\n",
       "       13.82132586, 13.7387937 , 13.62803934, 13.49008492, 13.32609523,\n",
       "       13.13736348, 12.92529626, 12.69139804, 12.43725531, 12.1645206 ,\n",
       "       11.87489662, 11.57012067, 11.2519494 , 10.92214427, 10.58245764,\n",
       "       10.23461974,  9.88032651,  9.52122859,  9.1589212 ,  8.79493528,\n",
       "        8.43072974,  8.06768481,  7.70709657,  7.35017264,  6.99802893,\n",
       "        6.65168742,  6.31207497,  5.98002307,  5.65626842,  5.34145432,\n",
       "        5.03613282,  4.74076743,  4.45573642,  4.18133664,  3.91778766,\n",
       "        3.66523631,  3.42376141,  3.19337868,  2.97404583,  2.76566762,\n",
       "        2.56810096,  2.38115998,  2.20462092,  2.03822697,  1.8816929 ,\n",
       "        1.7347095 ,  1.59694777,  1.46806289,  1.34769797,  1.23548746,\n",
       "        1.13106031,  1.03404294,  0.9440618 ,  0.86074575,  0.78372821])"
      ]
     },
     "execution_count": 130,
     "metadata": {},
     "output_type": "execute_result"
    }
   ],
   "source": [
    "beta.pdf(x_post, a_post, b_post)"
   ]
  },
  {
   "cell_type": "code",
   "execution_count": null,
   "metadata": {},
   "outputs": [],
   "source": []
  },
  {
   "cell_type": "code",
   "execution_count": null,
   "metadata": {},
   "outputs": [],
   "source": []
  },
  {
   "cell_type": "code",
   "execution_count": null,
   "metadata": {},
   "outputs": [],
   "source": []
  },
  {
   "cell_type": "markdown",
   "metadata": {
    "ExecuteTime": {
     "end_time": "2020-06-14T02:35:19.413401Z",
     "start_time": "2020-06-14T02:35:19.390846Z"
    }
   },
   "source": [
    "## Connecting with Bertrand's box paradox"
   ]
  },
  {
   "cell_type": "markdown",
   "metadata": {
    "jupyter": {
     "source_hidden": true
    }
   },
   "source": [
    "The easiest parameters to plug in is the probability that the hitter, in the absence of any condition (without knowing anything else), is from the T10 group. We were given that explicitly in the problem:\n",
    "\n",
    "$\\text{P}(\\text{T10})$ = 0.60\n",
    "\n",
    "Note that this is analogous to $\\text{P}(\\text{box A})$ in Bertrand's box problem. In that problem, we knew the value implicitly ($\\frac{1}{3}$) since the drawer was chosen at random."
   ]
  },
  {
   "cell_type": "markdown",
   "metadata": {
    "ExecuteTime": {
     "end_time": "2020-06-13T21:15:38.890708Z",
     "start_time": "2020-06-13T21:15:38.814633Z"
    }
   },
   "source": [
    "The other parameters of the baseball question are less obvious to determine, but we can get some clues after  translating back to words. Let's start with $\\text{P}(\\text{18H})$. This is equivalent to ${\\text{P}(\\text{gold coin})}$ in Bertrand's box paradox. In the box problem, we broke this down by summing up the probabilities for a gold coin for each drawer. Here, we would sum up the probabilities of a hitter getting 18 hits in 100 at-bats if he is in the T10 group and in the T25 group.\n",
    "\n",
    "${\\text{P}(\\text{18H})}$ = $\\text{P}(\\text{18H} | \\text{T10})$ + $\\text{P}(\\text{18H} | \\text{T25})$\n",
    "\n",
    "$\\text{P}(\\text{18H} | \\text{T10})$ is asking \"What is the probability of getting 18 hits in 100 at-bats, given that they have a true talent level of 10% hit rate?\" $\\text{P}(\\text{18H} | \\text{T25})$ is basically the same question but for the T25 group. Here is where we need to recognize that this is an application of the [binomial distribution](https://www.khanacademy.org/math/ap-statistics/random-variables-ap/binomial-random-variable/a/binomial-probability-basic). Let's digress briefly."
   ]
  },
  {
   "cell_type": "markdown",
   "metadata": {},
   "source": [
    "## Application of the binomial distribution"
   ]
  },
  {
   "cell_type": "markdown",
   "metadata": {},
   "source": [
    "This problem fits the binomial assumptions:\n",
    "1. **Two outcomes**: For each plate appearance, we care that he is getting a hit (1) or no hit (0).\n",
    "2. **Constant p**: The probability *p* getting a success has the same value, for each trial. This would be 0.10 for the group that has a 10% hit rate true talent level and 0.25 for the T25 group.\n",
    "3. **Independence**: This is the one assumption that may be potentially violated since a hitter's confidence may fluctuate based on recent performance. However, in this situation I think it is okay to assume at-bats are largely independent of each other."
   ]
  },
  {
   "cell_type": "markdown",
   "metadata": {},
   "source": [
    "The probability mass function is:\n",
    "$\\text{P}(X = k) = \\binom n k p^k(1-p)^{n-k}$\n",
    "\n",
    "where:\n",
    "$\\binom n k = \\frac{n!}{(n-k)!k!}$ (the binomial coefficient)."
   ]
  },
  {
   "cell_type": "markdown",
   "metadata": {},
   "source": [
    "In this problem, k = 18 and n = 100. And as mentioned above, the T10 group has p = 0.10 while T25 has p of 0.25. We can start plugging values in. However, this visual may also help see what is going on."
   ]
  },
  {
   "cell_type": "code",
   "execution_count": 10,
   "metadata": {
    "ExecuteTime": {
     "end_time": "2020-06-14T02:21:46.756382Z",
     "start_time": "2020-06-14T02:21:46.503685Z"
    }
   },
   "outputs": [
    {
     "data": {
      "image/png": "[encoded data removed]",
      "text/plain": [
       "<Figure size 864x432 with 1 Axes>"
      ]
     },
     "metadata": {
      "needs_background": "light"
     },
     "output_type": "display_data"
    }
   ],
   "source": [
    "from scipy.stats import binom\n",
    "\n",
    "# T10 group\n",
    "n, p = 100, 0.1\n",
    "fig, ax = plt.subplots(1, 1, figsize=(12, 6))\n",
    "rv = binom(n, p)\n",
    "x = np.arange(0, 45)\n",
    "ax.vlines(x, 0, rv.pmf(x), colors=\"k\", linestyles=\"-\", lw=2, label=\"T10\")\n",
    "\n",
    "# T25 group\n",
    "n25, p25 = 100, 0.25\n",
    "rv25 = binom(n25, p25)\n",
    "x25 = np.arange(0, 45)\n",
    "ax.vlines(x25 + 0.2, 0, rv25.pmf(x25), colors=\"r\", linestyles=\"-\", lw=2, label=\"T25\")\n",
    "\n",
    "# Formatting\n",
    "ax.set_ylabel(\"probability\")\n",
    "ax.set_xlabel(\"number of hits\")\n",
    "ax.set_title(\"Probability distribution after 100 plate appearances\")\n",
    "\n",
    "# Box around 18 hits\n",
    "ax.text(16.5, 0.04, '18 hits', color='b', fontsize=12);\n",
    "ax.vlines(17.6, -0.0025, 0.035, colors=\"blue\", linestyles=\"-\", lw=1)\n",
    "ax.vlines(18.6, -0.0025, 0.035, colors=\"blue\", linestyles=\"-\", lw=1)\n",
    "ax.hlines(0.035, 17.6, 18.6, colors=\"blue\", linestyles=\"-\", lw=1)\n",
    "ax.hlines(-0.0025, 17.6, 18.6, colors=\"blue\", linestyles=\"-\", lw=1)\n",
    "ax.legend();"
   ]
  },
  {
   "cell_type": "code",
   "execution_count": 15,
   "metadata": {},
   "outputs": [
    {
     "data": {
      "text/plain": [
       "18"
      ]
     },
     "execution_count": 15,
     "metadata": {},
     "output_type": "execute_result"
    }
   ],
   "source": [
    "x[18]"
   ]
  },
  {
   "cell_type": "code",
   "execution_count": 19,
   "metadata": {},
   "outputs": [
    {
     "data": {
      "text/plain": [
       "0.2427979687828124"
      ]
     },
     "execution_count": 19,
     "metadata": {},
     "output_type": "execute_result"
    }
   ],
   "source": []
  },
  {
   "cell_type": "code",
   "execution_count": null,
   "metadata": {},
   "outputs": [],
   "source": [
    "p"
   ]
  },
  {
   "cell_type": "code",
   "execution_count": null,
   "metadata": {},
   "outputs": [],
   "source": []
  },
  {
   "cell_type": "markdown",
   "metadata": {},
   "source": [
    "We can see that each true talent level group has its own probability distribution for different hits a hitter would get in 100 at-bats. Not surprisingly, the number of hits containing the highest probability for the respective groups are its true talent hit rate for 100 at-bats. In other words, we see 10 hits as being most probable in the T10 group and 25 hits as most probable in the T25 group.\n",
    "\n",
    "Another observation you might make is that the T10 group has a tighter variance than the T25 group. This is a property of the binomial distribution, where variance is equal to $np \\times (1-p)$. You can see that proportions that are closer to 0 or closer to 1, will have less variance than a proportion closer to the middle. (The Bernoulli distribution, which is just one trial of a binomial distribution, shows a similar property, something I wrote about in a [previous post](\n",
    "https://benslack19.github.io/The-Bernoulli-distribution/#understanding-the-relationship-between-probability-and-variance).)"
   ]
  },
  {
   "cell_type": "markdown",
   "metadata": {},
   "source": [
    "The height of the black and red lines at 18 hits should add up to 1, but weighted by what we know about the two groups of baseball hitters (our \"priors\"). If we were to use the graph above, the probability of getting 18 hits in 100 at-bats, given that they have a true talent level of 10% hit rate would be:\n",
    "<br>\n",
    "\n",
    "$\\text{P}(\\text{T10} | \\text{18H}) = \\frac{\\text{height of black line at 18 hits} \\times 0.6}{\\text{height of black line at 18 hits} \\times 0.6 + \\text{height of red line at 18 hits} \\times 0.4}$"
   ]
  },
  {
   "cell_type": "markdown",
   "metadata": {},
   "source": [
    "## Putting it all together"
   ]
  },
  {
   "cell_type": "markdown",
   "metadata": {},
   "source": [
    "Let's return to the parameters of the Bayes' theorem equation and start bringing the pieces together.\n",
    "\n",
    "${\\text{P}(\\text{18H})}$ = $\\text{P}(\\text{18H} | \\text{T10})$ + $\\text{P}(\\text{18H} | \\text{T25})$\n",
    "\n",
    "We can apply the probability mass function starting first with the T10 group. (Note that we can ignore calculation of the binomial coefficient since this will cancel out in the final equation. I'll use the term $\\propto$ to represent \"in proportion to.\" in the equations below.)\n",
    "\n",
    "$\\text{P}(\\text{18H} | \\text{T10}) \\propto (0.1^{18} \\times 0.9^{82}) $\n",
    "\n",
    "$\\text{P}(\\text{18H} | \\text{T25}) \\propto (0.25^{18} \\times 0.75^{82}) $\n",
    "\n",
    "We now have everything we need to plug into our equation.\n",
    "\n",
    "\n",
    "$\\text{P}(\\text{T10} | \\text{18H}) = \\frac{\\text{P}(\\text{18H} | \\text{T10})\\text{P}(\\text{T10})}{\\text{P}(\\text{18H})}$\n",
    "\n",
    "$\\text{P}(\\text{T10} | \\text{18H}) = \\frac{(0.1^{18} \\times 0.9^{82}) \\times 0.6}{(0.1^{18} \\times 0.9^{82}) \\times 0.6 + (0.25^{18} \\times 0.75^{82}) \\times 0.4} $\n",
    "\n",
    "\n",
    "After all that math, we have (drumroll) $\\text{P}(\\text{T10} | \\text{18H}) = 0.243$.\n",
    "\n",
    "Therefore, there is 24.3% probability that Aguila has a true talent level of a 10% hit rate.\n"
   ]
  },
  {
   "cell_type": "markdown",
   "metadata": {},
   "source": [
    "The baseball example is also the diachronic interpretation** of Bayes' theorem, which is a fancy way of saying that the hypothesis can be updated with time (in this case, after 100 plate appearances)."
   ]
  }
 ],
 "metadata": {
  "kernelspec": {
   "display_name": "Python 3",
   "language": "python",
   "name": "python3"
  },
  "language_info": {
   "codemirror_mode": {
    "name": "ipython",
    "version": 3
   },
   "file_extension": ".py",
   "mimetype": "text/x-python",
   "name": "python",
   "nbconvert_exporter": "python",
   "pygments_lexer": "ipython3",
   "version": "3.6.9"
  },
  "toc": {
   "base_numbering": 1,
   "nav_menu": {},
   "number_sections": true,
   "sideBar": true,
   "skip_h1_title": false,
   "title_cell": "Table of Contents",
   "title_sidebar": "Contents",
   "toc_cell": false,
   "toc_position": {
    "height": "calc(100% - 180px)",
    "left": "10px",
    "top": "150px",
    "width": "204.4px"
   },
   "toc_section_display": "block",
   "toc_window_display": true
  },
  "varInspector": {
   "cols": {
    "lenName": 16,
    "lenType": 16,
    "lenVar": 40
   },
   "kernels_config": {
    "python": {
     "delete_cmd_postfix": "",
     "delete_cmd_prefix": "del ",
     "library": "var_list.py",
     "varRefreshCmd": "print(var_dic_list())"
    },
    "r": {
     "delete_cmd_postfix": ") ",
     "delete_cmd_prefix": "rm(",
     "library": "var_list.r",
     "varRefreshCmd": "cat(var_dic_list()) "
    }
   },
   "types_to_exclude": [
    "module",
    "function",
    "builtin_function_or_method",
    "instance",
    "_Feature"
   ],
   "window_display": false
  }
 },
 "nbformat": 4,
 "nbformat_minor": 4
}
