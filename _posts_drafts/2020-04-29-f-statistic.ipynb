{
 "cells": [
  {
   "cell_type": "markdown",
   "metadata": {},
   "source": [
    "---\n",
    "title: 'F-in' statistic\n",
    "---"
   ]
  },
  {
   "cell_type": "markdown",
   "metadata": {},
   "source": [
    "I recently read this passage in the section on multiple linear regression from the fantastic book [Introduction to Statistical Learning](https://link.springer.com/chapter/10.1007/978-1-4614-7138-7_3#Sec7):\n",
    "\n",
    ">The hypothesis test is performed by computing the *F-statistic*,\n",
    "\n",
    "$$ F = \\frac{(TSS - RSS)/p}{(RSS)/(n-p-1)} $$\n",
    "\n",
    ">where, as with simple linear regression, TSS = $\\Sigma(y_i - \\bar{y_i})^2$ and RSS = $\\Sigma(y_i - \\hat{y_i})^2$. ... When there's no relationship between the response and predictors, one would expect the F-statistic to take on a value close to 1.\n",
    "\n",
    "I then thought to myself, \"Wait, why is the F-statistic appearing here? I came across the F-statistic in the [Khan Academy lesson on ANOVA](https://www.khanacademy.org/math/statistics-probability/analysis-of-variance-anova-library).\"\n",
    "\n",
    "In a span of 5 seconds, my mind made zipped around to a few places including to a conversation I had with Insight fellows and re-thinking the F-statistic calculation statistic on ANOVA and then I had a [whoa](https://media.giphy.com/media/uPnKU86sFa2fm/giphy.gif) moment: the F-statistic in multiple linear regression and in ANOVA are the same thing.\n",
    "\n",
    "Let's investigate!"
   ]
  },
  {
   "cell_type": "markdown",
   "metadata": {},
   "source": [
    "## Evaluate using a small dataset\n",
    "\n",
    "The f-statistic is used most often when testing for differences in means for more than two groups, but let's start simple with two groups with four datapoints in each group to better comprehend what's going on."
   ]
  },
  {
   "cell_type": "code",
   "execution_count": 130,
   "metadata": {
    "ExecuteTime": {
     "end_time": "2020-04-29T15:49:29.969190Z",
     "start_time": "2020-04-29T15:49:28.988023Z"
    }
   },
   "outputs": [],
   "source": [
    "import pandas as pd\n",
    "import numpy as np\n",
    "import matplotlib.pyplot as plt\n",
    "import seaborn as sns\n",
    "from mpl_toolkits.mplot3d import Axes3D\n",
    "import statsmodels.api as sm"
   ]
  },
  {
   "cell_type": "code",
   "execution_count": 131,
   "metadata": {},
   "outputs": [
    {
     "data": {
      "text/html": [
       "<div>\n",
       "<style scoped>\n",
       "    .dataframe tbody tr th:only-of-type {\n",
       "        vertical-align: middle;\n",
       "    }\n",
       "\n",
       "    .dataframe tbody tr th {\n",
       "        vertical-align: top;\n",
       "    }\n",
       "\n",
       "    .dataframe thead th {\n",
       "        text-align: right;\n",
       "    }\n",
       "</style>\n",
       "<table border=\"1\" class=\"dataframe\">\n",
       "  <thead>\n",
       "    <tr style=\"text-align: right;\">\n",
       "      <th></th>\n",
       "      <th>A</th>\n",
       "      <th>B</th>\n",
       "    </tr>\n",
       "  </thead>\n",
       "  <tbody>\n",
       "    <tr>\n",
       "      <th>0</th>\n",
       "      <td>2</td>\n",
       "      <td>5</td>\n",
       "    </tr>\n",
       "    <tr>\n",
       "      <th>1</th>\n",
       "      <td>1</td>\n",
       "      <td>3</td>\n",
       "    </tr>\n",
       "    <tr>\n",
       "      <th>2</th>\n",
       "      <td>3</td>\n",
       "      <td>4</td>\n",
       "    </tr>\n",
       "    <tr>\n",
       "      <th>3</th>\n",
       "      <td>0</td>\n",
       "      <td>6</td>\n",
       "    </tr>\n",
       "  </tbody>\n",
       "</table>\n",
       "</div>"
      ],
      "text/plain": [
       "   A  B\n",
       "0  2  5\n",
       "1  1  3\n",
       "2  3  4\n",
       "3  0  6"
      ]
     },
     "execution_count": 131,
     "metadata": {},
     "output_type": "execute_result"
    }
   ],
   "source": [
    "df_2f = pd.DataFrame()\n",
    "df_2f['A'] = [2,1,3,0]\n",
    "df_2f['B'] = [5,3,4,6]\n",
    "df_2f"
   ]
  },
  {
   "cell_type": "markdown",
   "metadata": {},
   "source": [
    "### Using one-way ANOVA to calculate the F-statistic"
   ]
  },
  {
   "cell_type": "markdown",
   "metadata": {},
   "source": [
    "Let's apply the traditional one-way ANOVA formulas towards get the F-statistic. \n",
    "\n",
    "$$ F = \\frac{(SSB)/(m-1)}{(SSW)/(m*(n-1)} = \\frac{(SST-SSW)/(m-1)}{(SSW)/(m*(n-1)} $$\n",
    "\n",
    "where SSB = sum of squares between groups and SSW is sum of squares within groups. SST = sum of squares total and is simply the sum of SSB and SSW hence the substitution in the right-most equation. \n",
    "The number of groups is represented by *m* (2 in this example) and *n* is the number of samples in each group (4). The formula will be further defined and below.\n",
    "\n",
    "First, we need to start out by finding the means for each group."
   ]
  },
  {
   "cell_type": "code",
   "execution_count": 51,
   "metadata": {},
   "outputs": [
    {
     "name": "stdout",
     "output_type": "stream",
     "text": [
      "n: 4 and m: 2\n"
     ]
    }
   ],
   "source": [
    "n = df_2f.shape[0]\n",
    "m = df_2f.shape[1]\n",
    "print('n:', n, 'and', 'm:', m)"
   ]
  },
  {
   "cell_type": "code",
   "execution_count": 52,
   "metadata": {},
   "outputs": [
    {
     "name": "stdout",
     "output_type": "stream",
     "text": [
      "Means of each group: \n",
      "A    1.5\n",
      "B    4.5\n",
      "dtype: float64\n"
     ]
    }
   ],
   "source": [
    "print('Means of each group: ')\n",
    "print(df_2f.mean())"
   ]
  },
  {
   "cell_type": "markdown",
   "metadata": {},
   "source": [
    "We also need to calculate the `grand mean` also known as the mean across all samples regardless of group."
   ]
  },
  {
   "cell_type": "code",
   "execution_count": 27,
   "metadata": {},
   "outputs": [
    {
     "name": "stdout",
     "output_type": "stream",
     "text": [
      "3.0\n"
     ]
    }
   ],
   "source": [
    "grand_mean = df_2f.mean().mean()\n",
    "print(grand_mean)"
   ]
  },
  {
   "cell_type": "markdown",
   "metadata": {},
   "source": [
    "Now we have the components to get SSW and SSB in just a few lines but I will point out parts of the calculations that are important. Here is how we can get SSW."
   ]
  },
  {
   "cell_type": "code",
   "execution_count": 28,
   "metadata": {},
   "outputs": [
    {
     "data": {
      "text/plain": [
       "10.0"
      ]
     },
     "execution_count": 28,
     "metadata": {},
     "output_type": "execute_result"
    }
   ],
   "source": [
    "ssw = ((df_2f - df_2f.mean())**2).sum().sum()\n",
    "ssw"
   ]
  },
  {
   "cell_type": "markdown",
   "metadata": {},
   "source": [
    "This snippet is getting the difference of each value from it's *own group's mean*. That is why it is called \"sum of squares within.\""
   ]
  },
  {
   "cell_type": "code",
   "execution_count": 32,
   "metadata": {},
   "outputs": [
    {
     "data": {
      "text/html": [
       "<div>\n",
       "<style scoped>\n",
       "    .dataframe tbody tr th:only-of-type {\n",
       "        vertical-align: middle;\n",
       "    }\n",
       "\n",
       "    .dataframe tbody tr th {\n",
       "        vertical-align: top;\n",
       "    }\n",
       "\n",
       "    .dataframe thead th {\n",
       "        text-align: right;\n",
       "    }\n",
       "</style>\n",
       "<table border=\"1\" class=\"dataframe\">\n",
       "  <thead>\n",
       "    <tr style=\"text-align: right;\">\n",
       "      <th></th>\n",
       "      <th>A</th>\n",
       "      <th>B</th>\n",
       "    </tr>\n",
       "  </thead>\n",
       "  <tbody>\n",
       "    <tr>\n",
       "      <th>0</th>\n",
       "      <td>0.5</td>\n",
       "      <td>0.5</td>\n",
       "    </tr>\n",
       "    <tr>\n",
       "      <th>1</th>\n",
       "      <td>-0.5</td>\n",
       "      <td>-1.5</td>\n",
       "    </tr>\n",
       "    <tr>\n",
       "      <th>2</th>\n",
       "      <td>1.5</td>\n",
       "      <td>-0.5</td>\n",
       "    </tr>\n",
       "    <tr>\n",
       "      <th>3</th>\n",
       "      <td>-1.5</td>\n",
       "      <td>1.5</td>\n",
       "    </tr>\n",
       "  </tbody>\n",
       "</table>\n",
       "</div>"
      ],
      "text/plain": [
       "     A    B\n",
       "0  0.5  0.5\n",
       "1 -0.5 -1.5\n",
       "2  1.5 -0.5\n",
       "3 -1.5  1.5"
      ]
     },
     "execution_count": 32,
     "metadata": {},
     "output_type": "execute_result"
    }
   ],
   "source": [
    "(df_2f - df_2f.mean())"
   ]
  },
  {
   "cell_type": "markdown",
   "metadata": {},
   "source": [
    "Here is how we can get SST."
   ]
  },
  {
   "cell_type": "code",
   "execution_count": 35,
   "metadata": {},
   "outputs": [
    {
     "name": "stdout",
     "output_type": "stream",
     "text": [
      "28.0\n"
     ]
    }
   ],
   "source": [
    "sst = ((df_2f - grand_mean)**2).sum().sum()\n",
    "print(sst)"
   ]
  },
  {
   "cell_type": "markdown",
   "metadata": {},
   "source": [
    "This snippet is getting the difference of each value from the *grand mean*. The resulting value of SST is entirely group independent and is representative of the total variation of the data, hence the \"sum of squares total\"."
   ]
  },
  {
   "cell_type": "code",
   "execution_count": 34,
   "metadata": {},
   "outputs": [
    {
     "data": {
      "text/html": [
       "<div>\n",
       "<style scoped>\n",
       "    .dataframe tbody tr th:only-of-type {\n",
       "        vertical-align: middle;\n",
       "    }\n",
       "\n",
       "    .dataframe tbody tr th {\n",
       "        vertical-align: top;\n",
       "    }\n",
       "\n",
       "    .dataframe thead th {\n",
       "        text-align: right;\n",
       "    }\n",
       "</style>\n",
       "<table border=\"1\" class=\"dataframe\">\n",
       "  <thead>\n",
       "    <tr style=\"text-align: right;\">\n",
       "      <th></th>\n",
       "      <th>A</th>\n",
       "      <th>B</th>\n",
       "    </tr>\n",
       "  </thead>\n",
       "  <tbody>\n",
       "    <tr>\n",
       "      <th>0</th>\n",
       "      <td>-1.0</td>\n",
       "      <td>2.0</td>\n",
       "    </tr>\n",
       "    <tr>\n",
       "      <th>1</th>\n",
       "      <td>-2.0</td>\n",
       "      <td>0.0</td>\n",
       "    </tr>\n",
       "    <tr>\n",
       "      <th>2</th>\n",
       "      <td>0.0</td>\n",
       "      <td>1.0</td>\n",
       "    </tr>\n",
       "    <tr>\n",
       "      <th>3</th>\n",
       "      <td>-3.0</td>\n",
       "      <td>3.0</td>\n",
       "    </tr>\n",
       "  </tbody>\n",
       "</table>\n",
       "</div>"
      ],
      "text/plain": [
       "     A    B\n",
       "0 -1.0  2.0\n",
       "1 -2.0  0.0\n",
       "2  0.0  1.0\n",
       "3 -3.0  3.0"
      ]
     },
     "execution_count": 34,
     "metadata": {},
     "output_type": "execute_result"
    }
   ],
   "source": [
    "(df_2f - grand_mean)"
   ]
  },
  {
   "cell_type": "markdown",
   "metadata": {},
   "source": [
    "As noted above, SSB is the difference of SST and SSW."
   ]
  },
  {
   "cell_type": "code",
   "execution_count": 36,
   "metadata": {},
   "outputs": [
    {
     "name": "stdout",
     "output_type": "stream",
     "text": [
      "18.0\n"
     ]
    }
   ],
   "source": [
    "ssb = sst-ssw\n",
    "print(ssb)"
   ]
  },
  {
   "cell_type": "markdown",
   "metadata": {},
   "source": [
    "It is a little less intuitive to understand the variation it is capturing this way. The alternative calculation is to *substitute* each data point by its own group mean before taking the difference from the grand mean."
   ]
  },
  {
   "cell_type": "code",
   "execution_count": 56,
   "metadata": {},
   "outputs": [
    {
     "data": {
      "text/html": [
       "<div>\n",
       "<style scoped>\n",
       "    .dataframe tbody tr th:only-of-type {\n",
       "        vertical-align: middle;\n",
       "    }\n",
       "\n",
       "    .dataframe tbody tr th {\n",
       "        vertical-align: top;\n",
       "    }\n",
       "\n",
       "    .dataframe thead th {\n",
       "        text-align: right;\n",
       "    }\n",
       "</style>\n",
       "<table border=\"1\" class=\"dataframe\">\n",
       "  <thead>\n",
       "    <tr style=\"text-align: right;\">\n",
       "      <th></th>\n",
       "      <th>A</th>\n",
       "      <th>B</th>\n",
       "    </tr>\n",
       "  </thead>\n",
       "  <tbody>\n",
       "    <tr>\n",
       "      <th>0</th>\n",
       "      <td>1.5</td>\n",
       "      <td>4.5</td>\n",
       "    </tr>\n",
       "    <tr>\n",
       "      <th>1</th>\n",
       "      <td>1.5</td>\n",
       "      <td>4.5</td>\n",
       "    </tr>\n",
       "    <tr>\n",
       "      <th>2</th>\n",
       "      <td>1.5</td>\n",
       "      <td>4.5</td>\n",
       "    </tr>\n",
       "    <tr>\n",
       "      <th>3</th>\n",
       "      <td>1.5</td>\n",
       "      <td>4.5</td>\n",
       "    </tr>\n",
       "  </tbody>\n",
       "</table>\n",
       "</div>"
      ],
      "text/plain": [
       "     A    B\n",
       "0  1.5  4.5\n",
       "1  1.5  4.5\n",
       "2  1.5  4.5\n",
       "3  1.5  4.5"
      ]
     },
     "execution_count": 56,
     "metadata": {},
     "output_type": "execute_result"
    }
   ],
   "source": [
    "df_2f_grpmean = pd.concat([df_2f.mean()]*n, axis=1).T\n",
    "df_2f_grpmean"
   ]
  },
  {
   "cell_type": "markdown",
   "metadata": {},
   "source": [
    "You can see that we get the same value for SSB when calculating this way."
   ]
  },
  {
   "cell_type": "code",
   "execution_count": 58,
   "metadata": {},
   "outputs": [
    {
     "data": {
      "text/plain": [
       "18.0"
      ]
     },
     "execution_count": 58,
     "metadata": {},
     "output_type": "execute_result"
    }
   ],
   "source": [
    "ssb_alt = ((df_2f_grpmean - grand_mean)**2).sum().sum()\n",
    "ssb_alt"
   ]
  },
  {
   "cell_type": "markdown",
   "metadata": {},
   "source": [
    "Now we can just plug in the values from the formula to get the F-statistic."
   ]
  },
  {
   "cell_type": "code",
   "execution_count": 177,
   "metadata": {},
   "outputs": [
    {
     "name": "stdout",
     "output_type": "stream",
     "text": [
      "F-statistic from ANOVA: 10.8000\n"
     ]
    }
   ],
   "source": [
    "f_stat_anova = (ssb/(m-1)) / (ssw/(m*(n-1)))\n",
    "print('F-statistic from ANOVA: {0:0.4f}'.format(f_stat_anova))"
   ]
  },
  {
   "cell_type": "markdown",
   "metadata": {},
   "source": [
    "Exciting! We have an answer. Now let's move on to the regression setting. Will we get the same answer? Read on!"
   ]
  },
  {
   "cell_type": "markdown",
   "metadata": {},
   "source": [
    "## Using regression to get the f-statistic\n",
    "\n",
    "As noted in the intro, the context where the f-statistic shows up in ISLR is in the section on linear regression, specifically multiple linear regression. The null hypothesis is that all $\\beta$ coefficients are equal to zero. This means we have to do some finagling with our dataset to address the question. We're going to set the dataset in our values as our target and address group membership through dummy features like this. "
   ]
  },
  {
   "cell_type": "code",
   "execution_count": 129,
   "metadata": {},
   "outputs": [
    {
     "data": {
      "text/html": [
       "<div>\n",
       "<style scoped>\n",
       "    .dataframe tbody tr th:only-of-type {\n",
       "        vertical-align: middle;\n",
       "    }\n",
       "\n",
       "    .dataframe tbody tr th {\n",
       "        vertical-align: top;\n",
       "    }\n",
       "\n",
       "    .dataframe thead th {\n",
       "        text-align: right;\n",
       "    }\n",
       "</style>\n",
       "<table border=\"1\" class=\"dataframe\">\n",
       "  <thead>\n",
       "    <tr style=\"text-align: right;\">\n",
       "      <th></th>\n",
       "      <th>y</th>\n",
       "      <th>dummyA</th>\n",
       "      <th>dummyB</th>\n",
       "    </tr>\n",
       "  </thead>\n",
       "  <tbody>\n",
       "    <tr>\n",
       "      <th>0</th>\n",
       "      <td>2</td>\n",
       "      <td>1</td>\n",
       "      <td>0</td>\n",
       "    </tr>\n",
       "    <tr>\n",
       "      <th>1</th>\n",
       "      <td>1</td>\n",
       "      <td>1</td>\n",
       "      <td>0</td>\n",
       "    </tr>\n",
       "    <tr>\n",
       "      <th>2</th>\n",
       "      <td>3</td>\n",
       "      <td>1</td>\n",
       "      <td>0</td>\n",
       "    </tr>\n",
       "    <tr>\n",
       "      <th>3</th>\n",
       "      <td>0</td>\n",
       "      <td>1</td>\n",
       "      <td>0</td>\n",
       "    </tr>\n",
       "    <tr>\n",
       "      <th>4</th>\n",
       "      <td>5</td>\n",
       "      <td>0</td>\n",
       "      <td>1</td>\n",
       "    </tr>\n",
       "    <tr>\n",
       "      <th>5</th>\n",
       "      <td>3</td>\n",
       "      <td>0</td>\n",
       "      <td>1</td>\n",
       "    </tr>\n",
       "    <tr>\n",
       "      <th>6</th>\n",
       "      <td>4</td>\n",
       "      <td>0</td>\n",
       "      <td>1</td>\n",
       "    </tr>\n",
       "    <tr>\n",
       "      <th>7</th>\n",
       "      <td>6</td>\n",
       "      <td>0</td>\n",
       "      <td>1</td>\n",
       "    </tr>\n",
       "  </tbody>\n",
       "</table>\n",
       "</div>"
      ],
      "text/plain": [
       "   y  dummyA  dummyB\n",
       "0  2       1       0\n",
       "1  1       1       0\n",
       "2  3       1       0\n",
       "3  0       1       0\n",
       "4  5       0       1\n",
       "5  3       0       1\n",
       "6  4       0       1\n",
       "7  6       0       1"
      ]
     },
     "execution_count": 129,
     "metadata": {},
     "output_type": "execute_result"
    }
   ],
   "source": [
    "df_2f_reg = pd.DataFrame()\n",
    "df_2f_reg['y'] = np.array(df_2f.T.values).flatten()\n",
    "df_2f_reg['dummyA'] = [1,1,1,1,0,0,0,0]\n",
    "df_2f_reg['dummyB'] = [0,0,0,0,1,1,1,1]\n",
    "df_2f_reg"
   ]
  },
  {
   "cell_type": "markdown",
   "metadata": {},
   "source": [
    "What is going on here? It might help to look at the equations that each line represents. Let's just look at the first four rows, which all contain a 1 for the dummyA value and 0 for the dummyB value.\n",
    "\n",
    "$ 2 = \\beta_0 + \\beta_1 \\times 1 + \\beta_2 \\times 0 $\n",
    "<br>\n",
    "$ 1 = \\beta_0 + \\beta_1 \\times 1 + \\beta_2 \\times 0 $\n",
    "<br>\n",
    "$ 3 = \\beta_0 + \\beta_1 \\times 1 + \\beta_2 \\times 0 $\n",
    "<br>\n",
    "$ 0 = \\beta_0 + \\beta_1 \\times 1 + \\beta_2 \\times 0 $\n",
    "\n",
    "This can be simplified to:\n",
    "<br>\n",
    "$ 2 = \\beta_0 + \\beta_1$\n",
    "<br>\n",
    "$ 1 = \\beta_0 + \\beta_1$\n",
    "<br>\n",
    "$ 3 = \\beta_0 + \\beta_1$\n",
    "<br>\n",
    "$ 0 = \\beta_0 + \\beta_1$\n",
    "\n",
    "And if you were to solve for this equation, check out what the left-side simplifies to:\n",
    "<br>\n",
    "$ 1.5 = \\beta_0 + \\beta_1 $\n",
    "\n",
    "The left-hand side of the equation is the mean of the group A in the ANOVA case!\n",
    "\n",
    "We can apply the same logic to the set of equations where a 1 is assigned for the dummyA value and 0 for the dummyB value.\n",
    "<br>\n",
    "$ 5 = \\beta_0 + \\beta_2$\n",
    "<br>\n",
    "$ 3 = \\beta_0 + \\beta_2$\n",
    "<br>\n",
    "$ 4 = \\beta_0 + \\beta_2$\n",
    "<br>\n",
    "$ 6 = \\beta_0 + \\beta_2$\n",
    "\n",
    "We are left with:\n",
    "<br>\n",
    "$ 4.5 = \\beta_0 + \\beta_2 $\n",
    "\n",
    "4.5 is the mean of the group B in the ANOVA case! [Don't act like you're not impressed!](https://makeameme.org/meme/dont-act-like-5dx76t) "
   ]
  },
  {
   "cell_type": "markdown",
   "metadata": {},
   "source": [
    "OK let's geek out a little bit more and see if we can tie that back into the formula that uses total sum of squares (TSS) and residual sum of squares (RSS). From above, we have:\n",
    "\n",
    "$$ F = \\frac{(TSS - RSS)/p}{(RSS)/(n-p-1)} $$\n",
    "\n",
    "and $ TSS = \\Sigma(y_i - \\bar{y_i})^2$ and $ RSS = \\Sigma(y_i - \\hat{y_i})^2$. Note that the right-side of these equations almost look the same but one contains \"y bar\" (the average of all y values) and the other contains \"y hat\" (the value predicted by the model). Let's start with TSS!"
   ]
  },
  {
   "cell_type": "markdown",
   "metadata": {},
   "source": [
    "TSS is the sum of the squared difference of the values from $\\bar{y}$. To be clear, $\\bar{y}$ is the average of all values regardless of its associated dummy variable group. If you read the ANOVA section, this sounds a lot like the grand mean! And it doesn't take a neurosurgeon to figure out that SST (sum of squares total) and TSS (total sum of squares) are basically the same thing just in different contexts."
   ]
  },
  {
   "cell_type": "code",
   "execution_count": 133,
   "metadata": {},
   "outputs": [
    {
     "name": "stdout",
     "output_type": "stream",
     "text": [
      "TSS:  28.0\n"
     ]
    }
   ],
   "source": [
    "y_bar = df_2f_reg['y'].mean()\n",
    "tss = 0\n",
    "for i in range(len(df_2f_reg['y'])):\n",
    "    tss += (df_2f_reg['y'][i]-y_bar)**2\n",
    "print('TSS: ', tss)    "
   ]
  },
  {
   "cell_type": "markdown",
   "metadata": {},
   "source": [
    "Tying the residual sum of squares (RSS) to the traditional ANOVA calculation is a little less obvious. RSS is the sum of the squared difference of the values from $\\hat{y}$ and for this we need the coefficient values. Let's use `statsmodels` to get this."
   ]
  },
  {
   "cell_type": "code",
   "execution_count": 164,
   "metadata": {},
   "outputs": [
    {
     "data": {
      "text/plain": [
       "const    2.0\n",
       "x1      -0.5\n",
       "x2       2.5\n",
       "dtype: float64"
      ]
     },
     "execution_count": 164,
     "metadata": {},
     "output_type": "execute_result"
    }
   ],
   "source": [
    "# Setup the dataframe\n",
    "X = df_2f_reg[[\"dummyA\", \"dummyB\"]]\n",
    "y = df_2f_reg[\"y\"]\n",
    "X1 = sm.add_constant(X.values)  # Vector of 1s is needed for the beta0 coefficient\n",
    "# Fit the model and get the coefficients\n",
    "mod = sm.OLS(endog=y, exog=X1)\n",
    "res = mod.fit()\n",
    "res.params"
   ]
  },
  {
   "cell_type": "markdown",
   "metadata": {},
   "source": [
    "Great! Also notice how summing `const` and `x1` (representing the $\\beta_0$ and $\\beta_1$ coefficients, respectively) give 1.5 as we had calculated above. The sum of `const` and `x2` give 4.5 as we predicted. To calculate RSS, here's a function of how to do this using some linear algebra to simplify the coding a little bit."
   ]
  },
  {
   "cell_type": "code",
   "execution_count": 165,
   "metadata": {},
   "outputs": [],
   "source": [
    "def get_rss(betas, X_vals, y_vals):\n",
    "    beta_x_matrix = betas*X_vals     # Vector x matrix to give the prediction\n",
    "    res_vector = y_vals - np.sum(beta_x_matrix, axis=1)\n",
    "    rss = np.sum(res_vector**2)\n",
    "    return rss"
   ]
  },
  {
   "cell_type": "code",
   "execution_count": 174,
   "metadata": {},
   "outputs": [
    {
     "name": "stdout",
     "output_type": "stream",
     "text": [
      "RSS:  10.0\n"
     ]
    }
   ],
   "source": [
    "rss = get_rss(np.array(res.params), X1, y)\n",
    "print('RSS: ', rss)  "
   ]
  },
  {
   "cell_type": "markdown",
   "metadata": {},
   "source": [
    "This gives us the same value as the SSW in ANOVA! How can we think about TSS and RSS? Let's show a figure to help illustrate this."
   ]
  },
  {
   "cell_type": "code",
   "execution_count": 176,
   "metadata": {},
   "outputs": [
    {
     "data": {
      "image/png": "[encoded data removed]",
      "text/plain": [
       "<Figure size 432x432 with 1 Axes>"
      ]
     },
     "metadata": {
      "needs_background": "light"
     },
     "output_type": "display_data"
    }
   ],
   "source": [
    "# xx and yy are input values I'm using for the model surface\n",
    "xx = np.linspace(0,1,10)\n",
    "yy = np.linspace(0,1,10)\n",
    "X,Y = np.meshgrid(xx,yy)\n",
    "Z = res.params[0] + res.params[1]*X + res.params[2]*Y    # Here's where the model is generating predicted values\n",
    "Z_mean = np.array([[y_bar]*len(X)]*len(Y))               # Z_mean is just the average of df_2f['y']\n",
    "\n",
    "fig = plt.figure(figsize=(6,6))\n",
    "ax = fig.gca(projection='3d')\n",
    "ax.plot_surface(X, Y, Z, color='gray', alpha=1)          # This is plotting the model\n",
    "ax.plot_surface(X, Y, Z_mean, color='red', alpha=0.3)    # This is plotting the target average (model independent)\n",
    "ax.scatter(df_2f_reg['dummyA'], df_2f_reg['dummyB'], df_2f_reg['y'], marker='o')\n",
    "ax.view_init(elev=10., azim=45)\n",
    "ax.set_xlabel('dummyA')\n",
    "ax.set_ylabel('dummyB')\n",
    "ax.set_zlabel('y');"
   ]
  },
  {
   "cell_type": "markdown",
   "metadata": {},
   "source": [
    "TSS is the squared sum of the distance of all datapoints to the red plane, which is the average of all values for the target. RSS is the squared sum of the distance of all values to the gray plane representing the model prediction. But since each dummy variable is essentially used to group, the model predictions are 1.5 for the datapoints encoded for group A and 4.5 for those in group B (opposite ends in the gray plane).\n",
    "\n",
    "Okay now we're ready to get the f-statistic from the regression setting.\n",
    "\n",
    "The ISLR formula uses \"p\" for the number of features. (I have to admit that I had to make an adjustment by subtracting two here to get the right answer. I believe it has to do with the degrees of freedom but I am not 100% sure. Sorry I'm not 100% confident explaining this!)"
   ]
  },
  {
   "cell_type": "code",
   "execution_count": 202,
   "metadata": {},
   "outputs": [],
   "source": [
    "p = df_2f_reg.shape[1]-2   # no. of features - 2 \n",
    "n = df_2f_reg.shape[0]     # no. of samples"
   ]
  },
  {
   "cell_type": "code",
   "execution_count": 203,
   "metadata": {},
   "outputs": [
    {
     "name": "stdout",
     "output_type": "stream",
     "text": [
      "F-statistic from regression: 10.8000\n"
     ]
    }
   ],
   "source": [
    "f_stat_reg = ((tss-rss)/(p)) / (rss/(n-p-1))\n",
    "print('F-statistic from regression: {0:0.4f}'.format(f_stat_reg))"
   ]
  },
  {
   "cell_type": "markdown",
   "metadata": {},
   "source": [
    "Let's see what happens if we run this through statsmodels regression model."
   ]
  },
  {
   "cell_type": "code",
   "execution_count": 204,
   "metadata": {},
   "outputs": [
    {
     "name": "stdout",
     "output_type": "stream",
     "text": [
      "Statsmodels f-statistic value: 10.8000\n"
     ]
    }
   ],
   "source": [
    "print('Statsmodels f-statistic value: {0:0.4f}'.format(res.fvalue))"
   ]
  },
  {
   "cell_type": "markdown",
   "metadata": {},
   "source": [
    "Well it's satisfying that the software package gives us the same f-statistic value as what we calculated in the ANOVA case."
   ]
  },
  {
   "cell_type": "markdown",
   "metadata": {},
   "source": [
    "## Conclusion"
   ]
  },
  {
   "cell_type": "markdown",
   "metadata": {},
   "source": [
    "I went down this rabbit hole because I think it's great to connect theory across different settings. Doing things manually allows you to see connections about where some statistics are applicable. In addition, this can provide additional context to what numbers software packages like statsmodels can provide. Hope you learned something, because I know I have!"
   ]
  },
  {
   "cell_type": "code",
   "execution_count": null,
   "metadata": {},
   "outputs": [],
   "source": []
  },
  {
   "cell_type": "code",
   "execution_count": null,
   "metadata": {},
   "outputs": [],
   "source": []
  },
  {
   "cell_type": "code",
   "execution_count": null,
   "metadata": {},
   "outputs": [],
   "source": []
  }
 ],
 "metadata": {
  "kernelspec": {
   "display_name": "Python 3",
   "language": "python",
   "name": "python3"
  },
  "language_info": {
   "codemirror_mode": {
    "name": "ipython",
    "version": 3
   },
   "file_extension": ".py",
   "mimetype": "text/x-python",
   "name": "python",
   "nbconvert_exporter": "python",
   "pygments_lexer": "ipython3",
   "version": "3.6.9"
  },
  "toc": {
   "base_numbering": 1,
   "nav_menu": {},
   "number_sections": true,
   "sideBar": true,
   "skip_h1_title": false,
   "title_cell": "Table of Contents",
   "title_sidebar": "Contents",
   "toc_cell": false,
   "toc_position": {},
   "toc_section_display": true,
   "toc_window_display": false
  },
  "toc-autonumbering": false,
  "varInspector": {
   "cols": {
    "lenName": 16,
    "lenType": 16,
    "lenVar": 40
   },
   "kernels_config": {
    "python": {
     "delete_cmd_postfix": "",
     "delete_cmd_prefix": "del ",
     "library": "var_list.py",
     "varRefreshCmd": "print(var_dic_list())"
    },
    "r": {
     "delete_cmd_postfix": ") ",
     "delete_cmd_prefix": "rm(",
     "library": "var_list.r",
     "varRefreshCmd": "cat(var_dic_list()) "
    }
   },
   "types_to_exclude": [
    "module",
    "function",
    "builtin_function_or_method",
    "instance",
    "_Feature"
   ],
   "window_display": false
  }
 },
 "nbformat": 4,
 "nbformat_minor": 4
}
