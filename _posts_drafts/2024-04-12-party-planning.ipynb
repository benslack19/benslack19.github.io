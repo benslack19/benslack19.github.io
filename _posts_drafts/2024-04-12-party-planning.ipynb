{
 "cells": [
  {
   "cell_type": "markdown",
   "metadata": {},
   "source": [
    "\n",
    "---\n",
    "title: \"Generating a predictive distribution for the number of people attending your party\"\n",
    "mathjax: true\n",
    "toc: true\n",
    "toc_sticky: true\n",
    "categories: [data science, statistics]\n",
    "---\n",
    "\n",
    "A few years back when I started writing on this blog, I wrote a piece called [The probability of making your Friday night party](https://benslack19.github.io/data%20science/statistics/social_schedule/). Well the opportunity has now presented itself for predicting the number of people attending *our* party. This question came up between my wife and I since we're trying to plan party logistics.\n",
    "\n",
    "You might be asking yourself, \"Ben, why don't you just request RSVPs and get a more definitive number?\" There are several reasons for this:\n",
    "1. The number of people in attendance is not only a key factor in party planning, but a factor that both affects and is *affected by* logistics. If you build the party, they will come. Therefore, it would be helpful to get a probability distribution for the number of attendees even before sending an Evite or request RSVPs.\n",
    "1. Friends and family have increasingly busy schedules and sometimes RSVPs aren't reliable. We know they'd love to attend but have other barriers with complicated dependencies. Think caregiving for older parents, kids, or pets; travel preferences; already reserved tickets to sporting events; hair salon appointments (hey sometimes they're hard to get).\n",
    "1. In a post-pandemic world, it's more acceptable to be a no-show if you're experiencing any health symptoms.\n",
    "1. I'm a geek and thought of the fun way this can be answered with probability and statistics!\n",
    "\n",
    "Here are the fun, geeky aspects of the problem.\n",
    "- Estimating the total number of people might come means considering that the probabilities of coming vary across individuals. You can imagine that a grandmother will very likely come (probability of 0.9) while a co-worker with young kids is more of a toss-up (probability of 0.5). That's why an initial, naive approach for using the binomial distribution for the entire guest list would not be optimal; the binomial distribution would assumes constant probability across the individuals. However, one can apply binomial distribution to a group of friends or a family unit. Maybe one parent goes, and that parent can take 1 or 2 kids.\n",
    "- Determining the expected value is relatively easy. Understanding the uncertainty is harder.\n",
    "\n",
    "The core analytical aspect of this problem was addressed by a [1993](https://media.giphy.com/media/v1.Y2lkPTc5MGI3NjExZWQ1eDd1dnI4YnBieHRoZTdoNzJycXNhYTFmeXl3dWE4YWlpZTA5NCZlcD12MV9pbnRlcm5hbF9naWZfYnlfaWQmY3Q9Zw/6DTyIDQ1VfQnC/giphy.gif) paper by Ken Butler and Michael Stephens called [The Distribution of a Sum of Binomial Random Variables ](https://www.semanticscholar.org/paper/The-Distribution-of-a-Sum-of-Binomial-Random-Butler-Stephens/a85017f8ef59cefc315aec62c06fb8bb645b720d). However, we can re-derive some of the work through reasoning through just a few fundamental probability rules such as:\n",
    "- Identifying the probabilities of jointly events which are otherwise independent means multiplying the probabilities of the individual events (\"and\" statements)\n",
    "- Identifying the total probability of several events occurring means adding the probabilities of the individual events (\"or\" statements)\n",
    "- The sum of the probabilities of all possible events must add to 1.\n",
    "\n",
    "Let's get started!"
   ]
  },
  {
   "cell_type": "code",
   "execution_count": 20,
   "metadata": {},
   "outputs": [],
   "source": [
    "import itertools\n",
    "import matplotlib.pyplot as plt\n",
    "import numpy as np\n",
    "import pandas as pd\n",
    "import seaborn as sns\n",
    "from scipy.stats import binom\n",
    "from scipy.stats._distn_infrastructure import rv_discrete_frozen"
   ]
  },
  {
   "cell_type": "markdown",
   "metadata": {},
   "source": [
    "# Probability distributions for each group\n",
    "Here is a visualization of the problem. We can have probability distributions for different groups on an invite list. For explanation purposes,  let's imagine that we're considering inviting three groups: a set of grandparents, neighbors, and a busy co-worker with their family with probability of attending as 90%, 75% for neighbors, and 50%, respectively. These groups would have binomial distributions that look like this."
   ]
  },
  {
   "cell_type": "code",
   "execution_count": 21,
   "metadata": {},
   "outputs": [
    {
     "data": {
      "text/html": [
       "<div>\n",
       "<style scoped>\n",
       "    .dataframe tbody tr th:only-of-type {\n",
       "        vertical-align: middle;\n",
       "    }\n",
       "\n",
       "    .dataframe tbody tr th {\n",
       "        vertical-align: top;\n",
       "    }\n",
       "\n",
       "    .dataframe thead th {\n",
       "        text-align: right;\n",
       "    }\n",
       "</style>\n",
       "<table border=\"1\" class=\"dataframe\">\n",
       "  <thead>\n",
       "    <tr style=\"text-align: right;\">\n",
       "      <th></th>\n",
       "      <th>group</th>\n",
       "      <th>n</th>\n",
       "      <th>p</th>\n",
       "    </tr>\n",
       "  </thead>\n",
       "  <tbody>\n",
       "    <tr>\n",
       "      <th>0</th>\n",
       "      <td>Grandparents</td>\n",
       "      <td>2</td>\n",
       "      <td>0.9</td>\n",
       "    </tr>\n",
       "    <tr>\n",
       "      <th>1</th>\n",
       "      <td>Neighbors</td>\n",
       "      <td>4</td>\n",
       "      <td>0.5</td>\n",
       "    </tr>\n",
       "    <tr>\n",
       "      <th>2</th>\n",
       "      <td>Co-worker's family</td>\n",
       "      <td>5</td>\n",
       "      <td>0.2</td>\n",
       "    </tr>\n",
       "  </tbody>\n",
       "</table>\n",
       "</div>"
      ],
      "text/plain": [
       "                group  n    p\n",
       "0        Grandparents  2  0.9\n",
       "1           Neighbors  4  0.5\n",
       "2  Co-worker's family  5  0.2"
      ]
     },
     "execution_count": 21,
     "metadata": {},
     "output_type": "execute_result"
    }
   ],
   "source": [
    "# create a dataframe that holds the number and probability for each group\n",
    "df_data = pd.DataFrame(\n",
    "    {\n",
    "        \"group\": [\"Grandparents\", \"Neighbors\", \"Co-worker's family\"],\n",
    "        \"n\": [2, 4, 5],\n",
    "        \"p\": [0.9, 0.5, 0.2]\n",
    "    }\n",
    ")\n",
    "df_data"
   ]
  },
  {
   "cell_type": "code",
   "execution_count": 22,
   "metadata": {},
   "outputs": [
    {
     "data": {
      "image/png": "[encoded data removed]",
      "text/plain": [
       "<Figure size 1600x400 with 3 Axes>"
      ]
     },
     "metadata": {},
     "output_type": "display_data"
    }
   ],
   "source": [
    "# Visualize the probability distribution for each grouop\n",
    "fig, axes = plt.subplots(1, 3, figsize=(16, 4), sharey=True)\n",
    "for (i, row), ax  in zip(df_data.iterrows(), axes.flat):\n",
    "    rv = binom(row['n'], row['p'])\n",
    "    x = np.arange(row['n']+1)\n",
    "    ax.bar(x, rv.pmf(x))\n",
    "    ax.set(\n",
    "        title = row['group'],\n",
    "        ylim = (0, 1),\n",
    "        xticks = x,\n",
    "        xlabel = \"Number attending\",\n",
    "        ylabel = \"Probability\"\n",
    "        )\n"
   ]
  },
  {
   "cell_type": "markdown",
   "metadata": {},
   "source": [
    "# Deriving the algorithm for the distribution of summed discrete random variables\n",
    "As you can see, it's fairly straighforward to get a distribution for the individual groups for attendance. But how do we get a distribution for the *total* number of people attending?\n",
    "\n",
    "We can look at the Butler and Stephens paper and see that they approached this with an algorithm for the exact distribution while also examining approximations. For our purposes, we'll focus on the exact distribution, especially since there was this line from their paper \"With modern computing facilities, it is possible to calculate the exact distribution of S.\" Remember this was written in 1993 when computers looked like [this](https://giphy.com/gifs/90s-computer-dV3GXudtLAbTi). Nevertheless, when you see the calculations carried out, you can appreciate why a statement was warranted and why they explored approximations, especially as the number of samples (possible attendees in this case) scales.\n",
    "\n",
    "The heart of the algorithm is the following equation.\n",
    "\n",
    "$$ P(Y + Z=j) = \\sum_{i=0}^{j} P(Y=i) P(Z = j-i) $$\n",
    "\n",
    "$Y$ and $Z$ are two discrete random variables (e.g. integers) which makes sense since we don't want a fraction of a person attending (maybe if it was Halloween?). (While they described $Y$ and $Z$ as variables with a binomial distribution, we can see later why this isn't strictly necessary.) They talk about focusing on only two groups at a time, then once that has been calculated, adding in an additional group recursively until all have been accounted for. \n",
    "\n",
    "We can reason through the above formula with our putative invites. We'll go back to the dataframe that produced the above figure where each row contains a group, the number of people (n), and the probability of attendance (p) but limit it to the first two rows where the `Grandparents` group is the $Y$ variable and the `Neighbors` group is the $Z$ variable."
   ]
  },
  {
   "cell_type": "code",
   "execution_count": 23,
   "metadata": {},
   "outputs": [
    {
     "data": {
      "text/html": [
       "<div>\n",
       "<style scoped>\n",
       "    .dataframe tbody tr th:only-of-type {\n",
       "        vertical-align: middle;\n",
       "    }\n",
       "\n",
       "    .dataframe tbody tr th {\n",
       "        vertical-align: top;\n",
       "    }\n",
       "\n",
       "    .dataframe thead th {\n",
       "        text-align: right;\n",
       "    }\n",
       "</style>\n",
       "<table border=\"1\" class=\"dataframe\">\n",
       "  <thead>\n",
       "    <tr style=\"text-align: right;\">\n",
       "      <th></th>\n",
       "      <th>group</th>\n",
       "      <th>n</th>\n",
       "      <th>p</th>\n",
       "    </tr>\n",
       "  </thead>\n",
       "  <tbody>\n",
       "    <tr>\n",
       "      <th>0</th>\n",
       "      <td>Grandparents</td>\n",
       "      <td>2</td>\n",
       "      <td>0.9</td>\n",
       "    </tr>\n",
       "    <tr>\n",
       "      <th>1</th>\n",
       "      <td>Neighbors</td>\n",
       "      <td>4</td>\n",
       "      <td>0.5</td>\n",
       "    </tr>\n",
       "  </tbody>\n",
       "</table>\n",
       "</div>"
      ],
      "text/plain": [
       "          group  n    p\n",
       "0  Grandparents  2  0.9\n",
       "1     Neighbors  4  0.5"
      ]
     },
     "execution_count": 23,
     "metadata": {},
     "output_type": "execute_result"
    }
   ],
   "source": [
    "df_data.head(2)"
   ]
  },
  {
   "cell_type": "markdown",
   "metadata": {},
   "source": [
    "And let's look at each group's probability distribution in table form."
   ]
  },
  {
   "cell_type": "code",
   "execution_count": 24,
   "metadata": {},
   "outputs": [
    {
     "data": {
      "text/html": [
       "<div>\n",
       "<style scoped>\n",
       "    .dataframe tbody tr th:only-of-type {\n",
       "        vertical-align: middle;\n",
       "    }\n",
       "\n",
       "    .dataframe tbody tr th {\n",
       "        vertical-align: top;\n",
       "    }\n",
       "\n",
       "    .dataframe thead th {\n",
       "        text-align: right;\n",
       "    }\n",
       "</style>\n",
       "<table border=\"1\" class=\"dataframe\">\n",
       "  <thead>\n",
       "    <tr style=\"text-align: right;\">\n",
       "      <th></th>\n",
       "      <th>x</th>\n",
       "      <th>probability</th>\n",
       "    </tr>\n",
       "  </thead>\n",
       "  <tbody>\n",
       "    <tr>\n",
       "      <th>0</th>\n",
       "      <td>0</td>\n",
       "      <td>0.01</td>\n",
       "    </tr>\n",
       "    <tr>\n",
       "      <th>1</th>\n",
       "      <td>1</td>\n",
       "      <td>0.18</td>\n",
       "    </tr>\n",
       "    <tr>\n",
       "      <th>2</th>\n",
       "      <td>2</td>\n",
       "      <td>0.81</td>\n",
       "    </tr>\n",
       "  </tbody>\n",
       "</table>\n",
       "</div>"
      ],
      "text/plain": [
       "   x  probability\n",
       "0  0         0.01\n",
       "1  1         0.18\n",
       "2  2         0.81"
      ]
     },
     "execution_count": 24,
     "metadata": {},
     "output_type": "execute_result"
    }
   ],
   "source": [
    "# grandparents\n",
    "i_vals_gp = range(df_data.loc[0, \"n\"] + 1)\n",
    "Y = binom(df_data.loc[0, \"n\"], df_data.loc[0, \"p\"])\n",
    "df_Y = pd.DataFrame({'x':i_vals_gp, 'probability':Y.pmf(i_vals_gp)})\n",
    "df_Y"
   ]
  },
  {
   "cell_type": "code",
   "execution_count": 25,
   "metadata": {},
   "outputs": [
    {
     "data": {
      "text/html": [
       "<div>\n",
       "<style scoped>\n",
       "    .dataframe tbody tr th:only-of-type {\n",
       "        vertical-align: middle;\n",
       "    }\n",
       "\n",
       "    .dataframe tbody tr th {\n",
       "        vertical-align: top;\n",
       "    }\n",
       "\n",
       "    .dataframe thead th {\n",
       "        text-align: right;\n",
       "    }\n",
       "</style>\n",
       "<table border=\"1\" class=\"dataframe\">\n",
       "  <thead>\n",
       "    <tr style=\"text-align: right;\">\n",
       "      <th></th>\n",
       "      <th>x</th>\n",
       "      <th>probability</th>\n",
       "    </tr>\n",
       "  </thead>\n",
       "  <tbody>\n",
       "    <tr>\n",
       "      <th>0</th>\n",
       "      <td>0</td>\n",
       "      <td>0.0625</td>\n",
       "    </tr>\n",
       "    <tr>\n",
       "      <th>1</th>\n",
       "      <td>1</td>\n",
       "      <td>0.2500</td>\n",
       "    </tr>\n",
       "    <tr>\n",
       "      <th>2</th>\n",
       "      <td>2</td>\n",
       "      <td>0.3750</td>\n",
       "    </tr>\n",
       "    <tr>\n",
       "      <th>3</th>\n",
       "      <td>3</td>\n",
       "      <td>0.2500</td>\n",
       "    </tr>\n",
       "    <tr>\n",
       "      <th>4</th>\n",
       "      <td>4</td>\n",
       "      <td>0.0625</td>\n",
       "    </tr>\n",
       "  </tbody>\n",
       "</table>\n",
       "</div>"
      ],
      "text/plain": [
       "   x  probability\n",
       "0  0       0.0625\n",
       "1  1       0.2500\n",
       "2  2       0.3750\n",
       "3  3       0.2500\n",
       "4  4       0.0625"
      ]
     },
     "execution_count": 25,
     "metadata": {},
     "output_type": "execute_result"
    }
   ],
   "source": [
    "# neighbors\n",
    "i_vals_nb = range(df_data.loc[1, \"n\"] + 1)\n",
    "Z = binom(df_data.loc[1, \"n\"], df_data.loc[1, \"p\"])\n",
    "df_Z = pd.DataFrame({'x':i_vals_nb, 'probability':Z.pmf(i_vals_nb)})\n",
    "df_Z"
   ]
  },
  {
   "cell_type": "markdown",
   "metadata": {},
   "source": [
    "We can then think now about the probabilities for each possibility of total attendance which we'll designate with the variable $j$. That means, $j$ is bounded by 0 (no one comes, wah wah) to 6 (everyone shows up). Let's reason this out. I'm italicizing some keywords below since we can link *and* statements to multiplying probabilities and *or* statements to adding probabilities.\n",
    "\n",
    "- 0 total attendees ($j=0$): That means 0 grandparents show up *and* 0 neighbors show up. The probability of both happening means multiplying the probabilities ($0.01 \\times 0.003906$).\n",
    "- 1 total attendee ($j=1$): That means *either* 1 grandparent shows up *and* 0 neighbors show up ($0.18 \\times 0.003906$) *or* 0 grandparents show up *and* 1 neighbor shows up ($0.01 \\times 0.046875$). This means adding the two possibilities ($0.18 \\times 0.003906 + 0.01 \\times 0.046875$)\n",
    "- 2 total attendees ($j=2$): Here's where it starts get more complicated. That means *either* 2 grandparents show up *and* 0 neighbors show up ($0.81 \\times 0.003906$) *or* 1 grandparent shows up *and* 1 neighbor shows up ($0.18 \\times 0.046875$) *or* 0 grandparents show up *and* 2 neighbors show up ($0.01 \\times 0.210938$). This means adding these three possibilities ($0.81 \\times 0.003906 + 0.18 \\times 0.046875 + 0.01 \\times 0.210938$).\n",
    "\n",
    "Hopefully you start to see the pattern and can figure out the logic for the remaining values of $j$ and now see how this leads to the above equation. Let's flesh this out with code."
   ]
  },
  {
   "cell_type": "code",
   "execution_count": 26,
   "metadata": {},
   "outputs": [],
   "source": [
    "def convert_binom_pmf(rv: rv_discrete_frozen) -> dict:\n",
    "    \"\"\"Convert a random variable's binomial distribution PMF to a dictionary.\n",
    "\n",
    "    Parameters\n",
    "    ----------\n",
    "    rv\n",
    "        Random variable Y representing discrete values\n",
    "        \n",
    "    Returns\n",
    "    -------\n",
    "    :\n",
    "        Dictionary of probabilities for each j\n",
    "    \n",
    "    \"\"\"\n",
    "    j = rv.support()[1]\n",
    "    return {x:rv.pmf(x) for x in range(j+1)}\n",
    "\n",
    "\n",
    "def probability_for_j_total_people(\n",
    "    j: int, rv_Y_prob: dict, rv_Z_prob: dict\n",
    ") -> float:\n",
    "    \"\"\"Determine the probability of j people attending, given two random variables.\n",
    "\n",
    "    Parameters\n",
    "    ----------\n",
    "    j\n",
    "        The number of total attendees.\n",
    "    rv_Y_prob\n",
    "        Probability distribution of random variable Y as a dictionary\n",
    "    rv_Z_prob\n",
    "        Probability distribution of random variable Y as a dictionary\n",
    "        \n",
    "    Returns\n",
    "    -------\n",
    "    :\n",
    "        Total probability of j\n",
    "    \"\"\"\n",
    "    combinations = itertools.product(range(j + 1), repeat=2)\n",
    "    total_j_combinations = [(y, z) for y, z in combinations if y + z == j]  # gives all y+z combinations that add up to j\n",
    "    prob = 0\n",
    "    x = range(j + 1)\n",
    "    for combo in total_j_combinations:\n",
    "        if (combo[0] in rv_Y_prob) and (combo[1] in rv_Z_prob):\n",
    "            prob_combo = rv_Y_prob[combo[0]] * rv_Z_prob[combo[1]]\n",
    "            prob += prob_combo\n",
    "    return prob"
   ]
  },
  {
   "cell_type": "code",
   "execution_count": 27,
   "metadata": {},
   "outputs": [
    {
     "name": "stdout",
     "output_type": "stream",
     "text": [
      "Probability for 0 total people: 0.00062\n",
      "Probability for 1 total people: 0.01375\n",
      "Probability for 2 total people: 0.09938\n",
      "Probability for 3 total people: 0.27250\n",
      "Probability for 4 total people: 0.34937\n",
      "Probability for 5 total people: 0.21375\n",
      "Probability for 6 total people: 0.05063\n",
      "\n",
      "Total probability after accounting for all cases: 1.0000\n"
     ]
    }
   ],
   "source": [
    "total_prob = 0   # sanity check that the total probability adds up to 1\n",
    "j_prob = dict()  # cache the probabilities in a dictionary\n",
    "max_attendees = df_data.head(2)['n'].sum()\n",
    "for j in range(max_attendees + 1):\n",
    "    rv_Y_prob = convert_binom_pmf(Y)\n",
    "    rv_Z_prob = convert_binom_pmf(Z)\n",
    "    prob = probability_for_j_total_people(j, rv_Y_prob, rv_Z_prob)\n",
    "    print(f\"Probability for {j} total people: {prob:0.5f}\")\n",
    "    j_prob[j] = prob\n",
    "    total_prob += prob\n",
    "    \n",
    "print(f\"\\nTotal probability after accounting for all cases: {total_prob:0.4f}\")"
   ]
  },
  {
   "cell_type": "markdown",
   "metadata": {},
   "source": [
    "Awesome! It looks like we've successfully carried out the equation. But remember we've only done the first two groups. The next step is to add in the remaining group (co-worker's family) using the same process. But the probability distribution of our new $Y$ variable is what we just calculated, which is now stored in  a dictionary `j_prob`. As I indicated above, there's really no requirement that the distribution be binomial, it just has to be discrete."
   ]
  },
  {
   "cell_type": "code",
   "execution_count": 28,
   "metadata": {},
   "outputs": [
    {
     "data": {
      "text/html": [
       "<div>\n",
       "<style scoped>\n",
       "    .dataframe tbody tr th:only-of-type {\n",
       "        vertical-align: middle;\n",
       "    }\n",
       "\n",
       "    .dataframe tbody tr th {\n",
       "        vertical-align: top;\n",
       "    }\n",
       "\n",
       "    .dataframe thead th {\n",
       "        text-align: right;\n",
       "    }\n",
       "</style>\n",
       "<table border=\"1\" class=\"dataframe\">\n",
       "  <thead>\n",
       "    <tr style=\"text-align: right;\">\n",
       "      <th></th>\n",
       "      <th>group</th>\n",
       "      <th>n</th>\n",
       "      <th>p</th>\n",
       "    </tr>\n",
       "  </thead>\n",
       "  <tbody>\n",
       "    <tr>\n",
       "      <th>2</th>\n",
       "      <td>Co-worker's family</td>\n",
       "      <td>5</td>\n",
       "      <td>0.2</td>\n",
       "    </tr>\n",
       "  </tbody>\n",
       "</table>\n",
       "</div>"
      ],
      "text/plain": [
       "                group  n    p\n",
       "2  Co-worker's family  5  0.2"
      ]
     },
     "execution_count": 28,
     "metadata": {},
     "output_type": "execute_result"
    }
   ],
   "source": [
    "# Let's recall the n and p of the remaining group\n",
    "df_data.tail(1)"
   ]
  },
  {
   "cell_type": "markdown",
   "metadata": {},
   "source": [
    "We can carry out the same steps."
   ]
  },
  {
   "cell_type": "code",
   "execution_count": 29,
   "metadata": {},
   "outputs": [
    {
     "data": {
      "text/plain": [
       "{0: 0.3276799999999998,\n",
       " 1: 0.4095999999999999,\n",
       " 2: 0.20479999999999987,\n",
       " 3: 0.051200000000000016,\n",
       " 4: 0.0064,\n",
       " 5: 0.0003200000000000001}"
      ]
     },
     "execution_count": 29,
     "metadata": {},
     "output_type": "execute_result"
    }
   ],
   "source": [
    "# coworkers\n",
    "i_vals_cw = range(df_data.loc[2, \"n\"] + 1)\n",
    "new_Z = binom(df_data.loc[2, \"n\"], df_data.loc[2, \"p\"])\n",
    "rv_new_Z_prob = convert_binom_pmf(new_Z)  # put in dictionary form for our function\n",
    "rv_new_Z_prob"
   ]
  },
  {
   "cell_type": "code",
   "execution_count": 30,
   "metadata": {},
   "outputs": [
    {
     "data": {
      "text/html": [
       "<div>\n",
       "<style scoped>\n",
       "    .dataframe tbody tr th:only-of-type {\n",
       "        vertical-align: middle;\n",
       "    }\n",
       "\n",
       "    .dataframe tbody tr th {\n",
       "        vertical-align: top;\n",
       "    }\n",
       "\n",
       "    .dataframe thead th {\n",
       "        text-align: right;\n",
       "    }\n",
       "</style>\n",
       "<table border=\"1\" class=\"dataframe\">\n",
       "  <thead>\n",
       "    <tr style=\"text-align: right;\">\n",
       "      <th></th>\n",
       "      <th>group</th>\n",
       "      <th>n</th>\n",
       "      <th>p</th>\n",
       "    </tr>\n",
       "  </thead>\n",
       "  <tbody>\n",
       "    <tr>\n",
       "      <th>0</th>\n",
       "      <td>Grandparents</td>\n",
       "      <td>2</td>\n",
       "      <td>0.9</td>\n",
       "    </tr>\n",
       "    <tr>\n",
       "      <th>1</th>\n",
       "      <td>Neighbors</td>\n",
       "      <td>4</td>\n",
       "      <td>0.5</td>\n",
       "    </tr>\n",
       "    <tr>\n",
       "      <th>2</th>\n",
       "      <td>Co-worker's family</td>\n",
       "      <td>5</td>\n",
       "      <td>0.2</td>\n",
       "    </tr>\n",
       "  </tbody>\n",
       "</table>\n",
       "</div>"
      ],
      "text/plain": [
       "                group  n    p\n",
       "0        Grandparents  2  0.9\n",
       "1           Neighbors  4  0.5\n",
       "2  Co-worker's family  5  0.2"
      ]
     },
     "execution_count": 30,
     "metadata": {},
     "output_type": "execute_result"
    }
   ],
   "source": [
    "df_data"
   ]
  },
  {
   "cell_type": "markdown",
   "metadata": {},
   "source": [
    "Recall that the putative total invite list was 11 people. Therefore, our probability distribution should give probabilities between 0 and 11."
   ]
  },
  {
   "cell_type": "code",
   "execution_count": 31,
   "metadata": {},
   "outputs": [
    {
     "data": {
      "image/png": "[encoded data removed]",
      "text/plain": [
       "<Figure size 800x500 with 1 Axes>"
      ]
     },
     "metadata": {},
     "output_type": "display_data"
    }
   ],
   "source": [
    "j_prob_new = dict()  # cache the probabilities in a dictionary\n",
    "for j in range(df_data[\"n\"].sum() + 1):\n",
    "    prob = probability_for_j_total_people(\n",
    "        j, j_prob, rv_new_Z_prob\n",
    "    )  # j_prob is what we calculated for the first two groups\n",
    "    j_prob_new[j] = prob\n",
    "\n",
    "f, ax = plt.subplots(figsize=(8, 5))\n",
    "\n",
    "ax.bar(j_prob_new.keys(), j_prob_new.values())\n",
    "ax.set(\n",
    "    title=\"Probability distribution of total attendance\",\n",
    "    xticks=list(j_prob_new.keys()),\n",
    "    xlabel=\"Number attending\",\n",
    "    ylabel=\"Probability\",\n",
    ");"
   ]
  },
  {
   "cell_type": "markdown",
   "metadata": {},
   "source": [
    "# A user-friendly function\n",
    "OK! So it now looks like we have our final, exact distribution for the sum of all variables, what Butler and Stephens called $S$. We can make the production of this distribution much more user friendly with another couple of functions. Let's produce this by passing in our dataframe."
   ]
  },
  {
   "cell_type": "code",
   "execution_count": 32,
   "metadata": {},
   "outputs": [
    {
     "data": {
      "text/html": [
       "<div>\n",
       "<style scoped>\n",
       "    .dataframe tbody tr th:only-of-type {\n",
       "        vertical-align: middle;\n",
       "    }\n",
       "\n",
       "    .dataframe tbody tr th {\n",
       "        vertical-align: top;\n",
       "    }\n",
       "\n",
       "    .dataframe thead th {\n",
       "        text-align: right;\n",
       "    }\n",
       "</style>\n",
       "<table border=\"1\" class=\"dataframe\">\n",
       "  <thead>\n",
       "    <tr style=\"text-align: right;\">\n",
       "      <th></th>\n",
       "      <th>group</th>\n",
       "      <th>n</th>\n",
       "      <th>p</th>\n",
       "    </tr>\n",
       "  </thead>\n",
       "  <tbody>\n",
       "    <tr>\n",
       "      <th>0</th>\n",
       "      <td>Grandparents</td>\n",
       "      <td>2</td>\n",
       "      <td>0.9</td>\n",
       "    </tr>\n",
       "    <tr>\n",
       "      <th>1</th>\n",
       "      <td>Neighbors</td>\n",
       "      <td>4</td>\n",
       "      <td>0.5</td>\n",
       "    </tr>\n",
       "    <tr>\n",
       "      <th>2</th>\n",
       "      <td>Co-worker's family</td>\n",
       "      <td>5</td>\n",
       "      <td>0.2</td>\n",
       "    </tr>\n",
       "  </tbody>\n",
       "</table>\n",
       "</div>"
      ],
      "text/plain": [
       "                group  n    p\n",
       "0        Grandparents  2  0.9\n",
       "1           Neighbors  4  0.5\n",
       "2  Co-worker's family  5  0.2"
      ]
     },
     "execution_count": 32,
     "metadata": {},
     "output_type": "execute_result"
    }
   ],
   "source": [
    "df_data"
   ]
  },
  {
   "cell_type": "code",
   "execution_count": 33,
   "metadata": {},
   "outputs": [],
   "source": [
    "def sum_of_discrete_rvs_exact_calculation(pmf_list: list) -> pd.Series:\n",
    "    \"\"\"Determine the probability distribution using recursion.\n",
    "\n",
    "    Perform the exact calculation on the first two rows (e.g. random variables). \n",
    "    If more than two rows exist, treat the resulting probability distribution as \n",
    "    a random variable and add the third row. Repeat until all rows have been\n",
    "    accounted for.\n",
    "\n",
    "    Parameters\n",
    "    ----------\n",
    "    pmf_list\n",
    "        A list of dictionaries containing the probability mass functions of\n",
    "        different groups attending.\n",
    "    \n",
    "    Returns\n",
    "    -------\n",
    "    :\n",
    "        Final probability distribution as a pandas Series\n",
    "    \"\"\"\n",
    "    pmf_list = pmf_list.copy() # prevent the original list from being altered\n",
    "    \n",
    "    s_prob = dict()\n",
    "    max_attendees = max(list(pmf_list[0].keys())) + max(list(pmf_list[1].keys()))\n",
    "    for j in range(max_attendees + 1):\n",
    "        prob = probability_for_j_total_people(\n",
    "                j, pmf_list[0], pmf_list[1]\n",
    "        )\n",
    "        s_prob[j] = prob\n",
    "    \n",
    "    # base case\n",
    "    if len(pmf_list) == 2:\n",
    "        return s_prob\n",
    "    \n",
    "    # apply recursion\n",
    "    else:\n",
    "        # remove the first element and then replace the remaining first element with the new dictionary\n",
    "        pmf_list.pop(0)\n",
    "        pmf_list[0] = s_prob\n",
    "        return sum_of_discrete_rvs_exact_calculation(pmf_list)\n",
    "\n"
   ]
  },
  {
   "cell_type": "code",
   "execution_count": 34,
   "metadata": {},
   "outputs": [],
   "source": [
    "# put each group in a probability distribution\n",
    "pmf_list_party = [convert_binom_pmf(binom(df_data.loc[i, \"n\"], df_data.loc[i, \"p\"])) for i in df_data.index]\n",
    "assert j_prob_new == sum_of_discrete_rvs_exact_calculation(pmf_list_party)"
   ]
  },
  {
   "cell_type": "code",
   "execution_count": 35,
   "metadata": {},
   "outputs": [
    {
     "name": "stdout",
     "output_type": "stream",
     "text": [
      "The watermark extension is already loaded. To reload it, use:\n",
      "  %reload_ext watermark\n",
      "Last updated: Fri Apr 12 2024\n",
      "\n",
      "Python implementation: CPython\n",
      "Python version       : 3.11.7\n",
      "IPython version      : 8.21.0\n",
      "\n",
      "numpy     : 1.25.2\n",
      "seaborn   : 0.13.2\n",
      "matplotlib: 3.8.2\n",
      "pandas    : 2.2.0\n",
      "\n",
      "Watermark: 2.4.3\n",
      "\n"
     ]
    }
   ],
   "source": [
    "%load_ext watermark\n",
    "%watermark -n -u -v -iv -w"
   ]
  }
 ],
 "metadata": {
  "kernelspec": {
   "display_name": "Python 3 (ipykernel)",
   "language": "python",
   "name": "python3"
  },
  "language_info": {
   "codemirror_mode": {
    "name": "ipython",
    "version": 3
   },
   "file_extension": ".py",
   "mimetype": "text/x-python",
   "name": "python",
   "nbconvert_exporter": "python",
   "pygments_lexer": "ipython3",
   "version": "3.11.7"
  }
 },
 "nbformat": 4,
 "nbformat_minor": 4
}
