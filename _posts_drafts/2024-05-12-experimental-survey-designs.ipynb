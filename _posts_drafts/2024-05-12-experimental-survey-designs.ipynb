{
 "cells": [
  {
   "cell_type": "markdown",
   "metadata": {},
   "source": [
    "\n",
    "---\n",
    "title: \"Experimental Survey Designs\"\n",
    "mathjax: true\n",
    "toc: true\n",
    "toc_sticky: true\n",
    "categories: [data science, statistics]\n",
    "---\n",
    "\n",
    "Notes for Chapter 2 of [Causal Inference with Survey Data](https://www.linkedin.com/learning/causal-inference-with-survey-data/observables-vs-unobservables-causes?u=185169545) on LinkedIn Learning, given by Franz Buscha."
   ]
  },
  {
   "cell_type": "markdown",
   "metadata": {},
   "source": [
    "# Experimental survey designs\n",
    "\n",
    "- Randomized controlled trials are the gold standard for causal inference.\n",
    "- Key steps in setting up an RCT:\n",
    "    - Starting with your study sample, randomize assignment to control and treatment arms. The treatment group receives the intervention then the outcome of both control and treatment are studied. Randomization helps account for confounds.\n",
    "    - The conrol group does not receive the intervention, but you can have multiple treatment groups, each with different interventions. In practice, though, most RCTs have only one treatment group.\n",
    "\n",
    "<p style=\"text-align: center;font-weight:bold;\">Randomization Methods</p>\n",
    "\n",
    "| Method | Description | Key Points | \n",
    "| ----- | ------- | ------- |\n",
    "| Simple randomization  | Assigns equal probability to treatment and control groups |<ul><li>Easy to implement</li><li>Can lead to unequal group sizes in small trials</li> |\n",
    "| Block randomization  | Get similar group sizes by dividing subjects into predetermined number of subjects (often a multiple of the number of groups, like 4, 8, etc. for two groups). Within each block, participants are then randomly assigned to treatment groups.  |<ul><li>Requires choosing the total number of subjects in each block </li><li>Can often avoid imbalance in small trials seen with simple randomization</li> |\n",
    "| Stratified randomization  | Balance based on characteristics/covariates (like age, sex, etc.) before randomizing within these strata |<ul><li>Ensures balance in important covariates between groups  |\n",
    "| Cluster randomization  | Randomizes entire groups (like schools or hospitals) |<ul><li>Suitable for group-level interventions or when individual assignment is impractical   |\n",
    "| Covariate adaptive randomization  | Increases the probability of being assigned to a group to address a deficit of a particular characteristic   within the group |<ul><li>Effective in trials with small sample sizes or multiple important covariates |\n",
    "\n",
    "- Before randomization, the number of observations is typically calculated ahead of time based on a specific effect size (power analysis). You need to consider measure of variability (standard deviation), significance level, and power.\n",
    "- You can make a graph of sample size on y-axis and effect size on x-axis to see the relationship.\n",
    "\n",
    "With this approach, causality can be assessed.\n"
   ]
  },
  {
   "cell_type": "markdown",
   "metadata": {},
   "source": [
    "# Analyzing a randomized controlled trial\n",
    "\n",
    "## Inside an RCT dataset\n",
    "- Participant ID.\n",
    "- **Demographic variables**. Age, sex, ethnicity, etc. Helps check that randomization occurred successfully.\n",
    "- Baseline characteristics. Information collected at the beginning of the trial, before any intervention, including health status.\n",
    "- **Group assignment**, e.g. control/treatment and sometimes randomization details.\n",
    "- Intervention details. Specifics such as frequency, dosage, duration.\n",
    "- **Outcome measures**. Primary and secondary outcomes throughout and at the end of the trial.\n",
    "- **Time points**. Time points collected during the trial, for example baseline, midpoint, end of treatment, etc.\n",
    "- Adverse events.\n",
    "- Compliance data. How well participants adhered to the intervention protocol.\n",
    "- Covariates. Variables that might be used to adjust theoutcomes.\n",
    "\n",
    "Most critical data in bold.\n",
    "\n",
    "## RCT analysis: descriptive\n",
    "- Check descriptive statistics and examine effectiveness of randomization, e.g. checking demographic data. Look for imbalances.\n",
    "- If there's an imbalance, then consider a covariate balancing method like regression.\n",
    "\n",
    "## RCT analysis: comparison\n",
    "\n",
    "| Analysis Type | Description |\n",
    "| ----- | ------- | \n",
    "| Intention-to-Treat (ITT)  | Analyze groups as they were assigned, regardless of whether they completed the intervention. Maintains the benefits of randomization |\n",
    "| Per-Protocol  | Includes only participants who completed the study. Useful in medical trials but may introduce bias due to loss of randomization (e.g. treatment failure may not be random).  |\n",
    "| As-Treated  | Analyzed according to treatment they actualy received, regardless of original assignment. This can happen when there can be emerging issues for someone in a control group. |\n",
    "\n",
    "## RCT analysis: statistics\n",
    "\n",
    "| Analysis Type | Applicability | Statistical test/technique |\n",
    "| ----- | ------- | ------- | \n",
    "| Continuous outcomes  | For normally distributed continuous outcomes | T-tests or ANOVA; linear regression if adjustment is needed |\n",
    "| Non-normally distributed outcomes  | Non-normal or ordinal outcomes | Wilcoxon rank-sum, Mann-Whitney |\n",
    "| Categorical outcomes  | Compare proportions between groups | Chi-square test; logistic regression if adjustment is needed |\n",
    "| Time-to-event  | Time until event occurs | Kaplan-Meier curves, log-rank tests; Cox proportional hazard if adjustment is needed |\n",
    "\n",
    "Regression techniques can be used when randomization doesn't go as expected."
   ]
  },
  {
   "cell_type": "code",
   "execution_count": 1,
   "metadata": {},
   "outputs": [
    {
     "name": "stdout",
     "output_type": "stream",
     "text": [
      "Last updated: Fri May 17 2024\n",
      "\n",
      "Python implementation: CPython\n",
      "Python version       : 3.11.7\n",
      "IPython version      : 8.21.0\n",
      "\n",
      "Watermark: 2.4.3\n",
      "\n"
     ]
    }
   ],
   "source": [
    "%load_ext watermark\n",
    "%watermark -n -u -v -iv -w"
   ]
  }
 ],
 "metadata": {
  "kernelspec": {
   "display_name": "Python 3 (ipykernel)",
   "language": "python",
   "name": "python3"
  },
  "language_info": {
   "codemirror_mode": {
    "name": "ipython",
    "version": 3
   },
   "file_extension": ".py",
   "mimetype": "text/x-python",
   "name": "python",
   "nbconvert_exporter": "python",
   "pygments_lexer": "ipython3",
   "version": "3.11.7"
  }
 },
 "nbformat": 4,
 "nbformat_minor": 4
}
