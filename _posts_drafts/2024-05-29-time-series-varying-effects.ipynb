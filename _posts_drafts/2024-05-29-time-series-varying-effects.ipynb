{
 "cells": [
  {
   "cell_type": "markdown",
   "metadata": {},
   "source": [
    "\n",
    "---\n",
    "title: \"Time series with varying slopes\"\n",
    "mathjax: true\n",
    "toc: true\n",
    "toc_sticky: true\n",
    "categories: [data science, statistics]\n",
    "---\n",
    "\n",
    "Here, I am continuing a series of posts related to time-series data. The context, generated dataset, and varying intercepts approach is described in [this post](https://benslack19.github.io/data%20science/statistics/time-series-varying-intercepts/). I'll use that same generated data to see how partial pooling can apply to varying slopes. As before, I'll start with a Bayesian approach using pymc, followed by an example with statsmodels.\n",
    "\n",
    "Goal\n",
    "- run varying slopes with treatment\n",
    "- run varying slopes with time\n",
    "- with pymc and statsmodels\n",
    "-  "
   ]
  },
  {
   "cell_type": "code",
   "execution_count": 1,
   "metadata": {},
   "outputs": [],
   "source": [
    "import arviz as az\n",
    "import matplotlib.pyplot as plt\n",
    "import numpy as np\n",
    "import pandas as pd\n",
    "import pymc as pm\n",
    "import seaborn as sns\n",
    "import statsmodels.api as sm\n",
    "import statsmodels.formula.api as smf\n",
    "from scipy import stats"
   ]
  },
  {
   "cell_type": "code",
   "execution_count": 2,
   "metadata": {},
   "outputs": [],
   "source": [
    "sns.set_context(\"talk\")\n",
    "sns.set_palette(\"colorblind\")"
   ]
  },
  {
   "cell_type": "code",
   "execution_count": 81,
   "metadata": {},
   "outputs": [],
   "source": [
    "%load_ext autoreload\n",
    "%autoreload 2"
   ]
  },
  {
   "cell_type": "code",
   "execution_count": 82,
   "metadata": {},
   "outputs": [],
   "source": [
    "from utils import draw_causal_graph, plot_comparison, standardize"
   ]
  },
  {
   "cell_type": "code",
   "execution_count": 3,
   "metadata": {},
   "outputs": [],
   "source": [
    "def draw_causal_graph(\n",
    "    edge_list, node_props=None, edge_props=None, graph_direction=\"UD\"\n",
    "):\n",
    "    \"\"\"Utility to draw a causal (directed) graph\n",
    "    Taken from: https://github.com/dustinstansbury/statistical-rethinking-2023/blob/a0f4f2d15a06b33355cf3065597dcb43ef829991/utils.py#L52-L66\n",
    "\n",
    "    \"\"\"\n",
    "    g = gr.Digraph(graph_attr={\"rankdir\": graph_direction})\n",
    "\n",
    "    edge_props = {} if edge_props is None else edge_props\n",
    "    for e in edge_list:\n",
    "        props = edge_props[e] if e in edge_props else {}\n",
    "        g.edge(e[0], e[1], **props)\n",
    "\n",
    "    if node_props is not None:\n",
    "        for name, props in node_props.items():\n",
    "            g.node(name=name, **props)\n",
    "    return g\n",
    "\n",
    "\n",
    "def standardize(x):\n",
    "    x = (x - np.mean(x)) / np.std(x)\n",
    "    return x"
   ]
  },
  {
   "cell_type": "code",
   "execution_count": 21,
   "metadata": {},
   "outputs": [],
   "source": [
    "def plot_comparison(trace0, trace1, var, xlabel, ylabel, title=None):\n",
    "    f, (ax0, ax1) = plt.subplots(1, 2, figsize=(12, 5))\n",
    "    # means\n",
    "    ax0.scatter(\n",
    "        az.summary(trace0, var_names=[var])[\"mean\"],\n",
    "        az.summary(trace1, var_names=[var])[\"mean\"],\n",
    "        facecolors=\"none\",\n",
    "        edgecolors=\"k\",\n",
    "    )\n",
    "    ax0.plot([0, 1], [0, 1], transform=ax0.transAxes, linestyle=\"dashed\", color=\"gray\")\n",
    "    ax0.set(\n",
    "        xlabel=xlabel,\n",
    "        ylabel=ylabel,\n",
    "        title=f\"{title}\\n(mean)\",\n",
    "    )\n",
    "\n",
    "    # SD\n",
    "    ax1.scatter(\n",
    "        az.summary(trace0, var_names=[var])[\"sd\"],\n",
    "        az.summary(trace1, var_names=[var])[\"sd\"],\n",
    "        facecolors=\"none\",\n",
    "        edgecolors=\"k\",\n",
    "    )\n",
    "    ax1.plot([0, 1], [0, 1], transform=ax0.transAxes, linestyle=\"dashed\", color=\"gray\")\n",
    "    ax1.set(\n",
    "        xlabel=xlabel,\n",
    "        ylabel=ylabel,\n",
    "        title=f\"{title}\\n(standard deviation)\",\n",
    "    )\n",
    "    ax1.plot([0, 1], [0, 1], transform=ax1.transAxes, linestyle=\"dashed\", color=\"gray\")\n",
    "\n",
    "    # Calculate the minimum and maximum of both x and y data\n",
    "    data_min = min(\n",
    "        min(az.summary(trace_m0, var_names=[\"a\"])[\"sd\"]),\n",
    "        min(az.summary(trace_m1, var_names=[\"a\"])[\"sd\"]),\n",
    "    )\n",
    "    data_max = max(\n",
    "        max(az.summary(trace_m0, var_names=[\"a\"])[\"sd\"]),\n",
    "        max(az.summary(trace_m1, var_names=[\"a\"])[\"sd\"]),\n",
    "    )\n",
    "\n",
    "    # Set the limits to be the same for both axes\n",
    "    ax1.set_xlim(data_min * 0.95, data_max * 1.05)\n",
    "    ax1.set_ylim(data_min * 0.95, data_max * 1.05)\n",
    "\n",
    "    f.tight_layout()"
   ]
  },
  {
   "cell_type": "markdown",
   "metadata": {},
   "source": [
    "# Data generation and transformation\n",
    "\n",
    "I'll skip the explanation here since it's in the previous post and run this code."
   ]
  },
  {
   "cell_type": "code",
   "execution_count": 5,
   "metadata": {},
   "outputs": [
    {
     "data": {
      "text/html": [
       "<div>\n",
       "<style scoped>\n",
       "    .dataframe tbody tr th:only-of-type {\n",
       "        vertical-align: middle;\n",
       "    }\n",
       "\n",
       "    .dataframe tbody tr th {\n",
       "        vertical-align: top;\n",
       "    }\n",
       "\n",
       "    .dataframe thead th {\n",
       "        text-align: right;\n",
       "    }\n",
       "</style>\n",
       "<table border=\"1\" class=\"dataframe\">\n",
       "  <thead>\n",
       "    <tr style=\"text-align: right;\">\n",
       "      <th></th>\n",
       "      <th>patient_id</th>\n",
       "      <th>time</th>\n",
       "      <th>age</th>\n",
       "      <th>treatment</th>\n",
       "      <th>tumor_size</th>\n",
       "      <th>tumor_size_std</th>\n",
       "    </tr>\n",
       "  </thead>\n",
       "  <tbody>\n",
       "    <tr>\n",
       "      <th>0</th>\n",
       "      <td>0</td>\n",
       "      <td>0</td>\n",
       "      <td>56</td>\n",
       "      <td>1</td>\n",
       "      <td>57.169997</td>\n",
       "      <td>-1.330882</td>\n",
       "    </tr>\n",
       "    <tr>\n",
       "      <th>1</th>\n",
       "      <td>0</td>\n",
       "      <td>1</td>\n",
       "      <td>56</td>\n",
       "      <td>1</td>\n",
       "      <td>57.757602</td>\n",
       "      <td>-1.182186</td>\n",
       "    </tr>\n",
       "    <tr>\n",
       "      <th>2</th>\n",
       "      <td>0</td>\n",
       "      <td>2</td>\n",
       "      <td>56</td>\n",
       "      <td>1</td>\n",
       "      <td>60.805338</td>\n",
       "      <td>-0.410946</td>\n",
       "    </tr>\n",
       "    <tr>\n",
       "      <th>3</th>\n",
       "      <td>0</td>\n",
       "      <td>3</td>\n",
       "      <td>56</td>\n",
       "      <td>1</td>\n",
       "      <td>59.342597</td>\n",
       "      <td>-0.781097</td>\n",
       "    </tr>\n",
       "    <tr>\n",
       "      <th>4</th>\n",
       "      <td>0</td>\n",
       "      <td>4</td>\n",
       "      <td>56</td>\n",
       "      <td>1</td>\n",
       "      <td>61.302079</td>\n",
       "      <td>-0.285244</td>\n",
       "    </tr>\n",
       "  </tbody>\n",
       "</table>\n",
       "</div>"
      ],
      "text/plain": [
       "   patient_id  time  age  treatment  tumor_size  tumor_size_std\n",
       "0           0     0   56          1   57.169997       -1.330882\n",
       "1           0     1   56          1   57.757602       -1.182186\n",
       "2           0     2   56          1   60.805338       -0.410946\n",
       "3           0     3   56          1   59.342597       -0.781097\n",
       "4           0     4   56          1   61.302079       -0.285244"
      ]
     },
     "execution_count": 5,
     "metadata": {},
     "output_type": "execute_result"
    }
   ],
   "source": [
    "# Generate synthetic data\n",
    "n_patients = 30\n",
    "n_timepoints = 5\n",
    "\n",
    "# Create patient IDs\n",
    "patient_ids = np.repeat(np.arange(n_patients), n_timepoints)\n",
    "\n",
    "# Create time points\n",
    "time = np.tile(np.arange(n_timepoints), n_patients)\n",
    "\n",
    "# Create patient-specific attributes (age and treatment)\n",
    "age = np.random.randint(40, 70, n_patients)\n",
    "treatment = np.random.binomial(1, 0.5, n_patients)\n",
    "\n",
    "# Repeat age and treatment to match the longitudinal measurements\n",
    "age_repeated = np.repeat(age, n_timepoints)\n",
    "treatment_repeated = np.repeat(treatment, n_timepoints)\n",
    "\n",
    "# Combine into a DataFrame\n",
    "df_data = pd.DataFrame(\n",
    "    {\n",
    "        \"patient_id\": patient_ids,\n",
    "        \"time\": time,\n",
    "        \"age\": age_repeated,\n",
    "        \"treatment\": treatment_repeated,\n",
    "    }\n",
    ")\n",
    "\n",
    "# Use a generative model to create tumor size with some randomness\n",
    "alpha_tumor_size = 50  # intercept term\n",
    "bT = 1  # positive association for time\n",
    "bA = 0.25  # positive association for age\n",
    "bR = -5  # negative association for treatment\n",
    "\n",
    "mu_tumor_size = (\n",
    "    alpha_tumor_size\n",
    "    + bT * df_data[\"time\"]\n",
    "    + bA * df_data[\"age\"]\n",
    "    + bR * df_data[\"treatment\"]\n",
    ")\n",
    "\n",
    "sigma_tumor_size = 2\n",
    "\n",
    "df_data[\"tumor_size\"] = np.random.normal(mu_tumor_size, sigma_tumor_size)\n",
    "df_data[\"tumor_size_std\"] = standardize(df_data[\"tumor_size\"])\n",
    "\n",
    "df_data.head()"
   ]
  },
  {
   "cell_type": "markdown",
   "metadata": {},
   "source": [
    "# Varying slopes using pymc\n",
    "\n",
    "Let's define the equation. We're going to assume the tumor size is Gaussian distributed. We know from the data generation process that tumor size is a linear combination of independent variables for time, age, and treatment, and that we can think of `patient_id` as a cluster variable with repeated measures. We used varying intercepts in the last post. Now let's think about adding a predictor. Let's just focus on treatment for now. I'll refer to $\\beta_r$ as the coefficient for treatment. We'll keep our varying intercepts term. \n",
    "\n",
    "This will allow us to pool information about treatments across patients."
   ]
  },
  {
   "cell_type": "markdown",
   "metadata": {},
   "source": [
    "## Model 0: Varying intercepts and unpooled slopes\n",
    "\n",
    "In this first model, we'll have unpooled slopes so we have a contrast to see how partial pooling helps.\n",
    "\n",
    "$$ s_i \\sim \\text{Normal}(\\mu_i, \\sigma) $$\n",
    "$$ \\mu_i = \\alpha_{\\text{pt[i]}} + \\beta_{R, \\text{pt[i]}}R_i $$\n",
    "$$ \\alpha_j \\sim \\text{Normal}(\\bar{\\alpha}, \\sigma_{\\text{pt}}) $$\n",
    "$$ \\bar{\\alpha} \\sim \\text{Normal}(0, 1) $$\n",
    "$$ \\beta_{R,j} \\sim \\text{Normal}(0, 1) $$\n",
    "$$ \\sigma_{\\text{pt}} \\sim \\text{Exponential}(1) $$\n",
    "$$ \\sigma \\sim \\text{Exponential}(1) $$\n"
   ]
  },
  {
   "cell_type": "code",
   "execution_count": 7,
   "metadata": {},
   "outputs": [
    {
     "data": {
      "text/html": [
       "<div>\n",
       "<style scoped>\n",
       "    .dataframe tbody tr th:only-of-type {\n",
       "        vertical-align: middle;\n",
       "    }\n",
       "\n",
       "    .dataframe tbody tr th {\n",
       "        vertical-align: top;\n",
       "    }\n",
       "\n",
       "    .dataframe thead th {\n",
       "        text-align: right;\n",
       "    }\n",
       "</style>\n",
       "<table border=\"1\" class=\"dataframe\">\n",
       "  <thead>\n",
       "    <tr style=\"text-align: right;\">\n",
       "      <th></th>\n",
       "      <th>patient_id</th>\n",
       "      <th>time</th>\n",
       "      <th>age</th>\n",
       "      <th>treatment</th>\n",
       "      <th>tumor_size</th>\n",
       "      <th>tumor_size_std</th>\n",
       "    </tr>\n",
       "  </thead>\n",
       "  <tbody>\n",
       "    <tr>\n",
       "      <th>0</th>\n",
       "      <td>0</td>\n",
       "      <td>0</td>\n",
       "      <td>56</td>\n",
       "      <td>1</td>\n",
       "      <td>57.169997</td>\n",
       "      <td>-1.330882</td>\n",
       "    </tr>\n",
       "    <tr>\n",
       "      <th>1</th>\n",
       "      <td>0</td>\n",
       "      <td>1</td>\n",
       "      <td>56</td>\n",
       "      <td>1</td>\n",
       "      <td>57.757602</td>\n",
       "      <td>-1.182186</td>\n",
       "    </tr>\n",
       "    <tr>\n",
       "      <th>2</th>\n",
       "      <td>0</td>\n",
       "      <td>2</td>\n",
       "      <td>56</td>\n",
       "      <td>1</td>\n",
       "      <td>60.805338</td>\n",
       "      <td>-0.410946</td>\n",
       "    </tr>\n",
       "    <tr>\n",
       "      <th>3</th>\n",
       "      <td>0</td>\n",
       "      <td>3</td>\n",
       "      <td>56</td>\n",
       "      <td>1</td>\n",
       "      <td>59.342597</td>\n",
       "      <td>-0.781097</td>\n",
       "    </tr>\n",
       "    <tr>\n",
       "      <th>4</th>\n",
       "      <td>0</td>\n",
       "      <td>4</td>\n",
       "      <td>56</td>\n",
       "      <td>1</td>\n",
       "      <td>61.302079</td>\n",
       "      <td>-0.285244</td>\n",
       "    </tr>\n",
       "  </tbody>\n",
       "</table>\n",
       "</div>"
      ],
      "text/plain": [
       "   patient_id  time  age  treatment  tumor_size  tumor_size_std\n",
       "0           0     0   56          1   57.169997       -1.330882\n",
       "1           0     1   56          1   57.757602       -1.182186\n",
       "2           0     2   56          1   60.805338       -0.410946\n",
       "3           0     3   56          1   59.342597       -0.781097\n",
       "4           0     4   56          1   61.302079       -0.285244"
      ]
     },
     "execution_count": 7,
     "metadata": {},
     "output_type": "execute_result"
    }
   ],
   "source": [
    "df_data.head()"
   ]
  },
  {
   "cell_type": "code",
   "execution_count": 12,
   "metadata": {},
   "outputs": [
    {
     "name": "stderr",
     "output_type": "stream",
     "text": [
      "Auto-assigning NUTS sampler...\n",
      "Initializing NUTS using jitter+adapt_diag...\n",
      "Multiprocess sampling (4 chains in 4 jobs)\n",
      "NUTS: [a_bar, sigma_pt, sigma, a, bR]\n"
     ]
    },
    {
     "data": {
      "application/vnd.jupyter.widget-view+json": {
       "model_id": "6dc718299bf84e6193b3b3c7af89fe34",
       "version_major": 2,
       "version_minor": 0
      },
      "text/plain": [
       "Output()"
      ]
     },
     "metadata": {},
     "output_type": "display_data"
    },
    {
     "name": "stderr",
     "output_type": "stream",
     "text": [
      "IOPub message rate exceeded.\n",
      "The Jupyter server will temporarily stop sending output\n",
      "to the client in order to avoid crashing it.\n",
      "To change this limit, set the config variable\n",
      "`--ServerApp.iopub_msg_rate_limit`.\n",
      "\n",
      "Current values:\n",
      "ServerApp.iopub_msg_rate_limit=1000.0 (msgs/sec)\n",
      "ServerApp.rate_limit_window=3.0 (secs)\n",
      "\n",
      "IOPub message rate exceeded.\n",
      "The Jupyter server will temporarily stop sending output\n",
      "to the client in order to avoid crashing it.\n",
      "To change this limit, set the config variable\n",
      "`--ServerApp.iopub_msg_rate_limit`.\n",
      "\n",
      "Current values:\n",
      "ServerApp.iopub_msg_rate_limit=1000.0 (msgs/sec)\n",
      "ServerApp.rate_limit_window=3.0 (secs)\n",
      "\n",
      "IOPub message rate exceeded.\n",
      "The Jupyter server will temporarily stop sending output\n",
      "to the client in order to avoid crashing it.\n",
      "To change this limit, set the config variable\n",
      "`--ServerApp.iopub_msg_rate_limit`.\n",
      "\n",
      "Current values:\n",
      "ServerApp.iopub_msg_rate_limit=1000.0 (msgs/sec)\n",
      "ServerApp.rate_limit_window=3.0 (secs)\n",
      "\n"
     ]
    },
    {
     "data": {
      "text/html": [
       "<pre style=\"white-space:pre;overflow-x:auto;line-height:normal;font-family:Menlo,'DejaVu Sans Mono',consolas,'Courier New',monospace\"></pre>\n"
      ],
      "text/plain": []
     },
     "metadata": {},
     "output_type": "display_data"
    },
    {
     "data": {
      "text/html": [
       "<pre style=\"white-space:pre;overflow-x:auto;line-height:normal;font-family:Menlo,'DejaVu Sans Mono',consolas,'Courier New',monospace\">\n",
       "</pre>\n"
      ],
      "text/plain": [
       "\n"
      ]
     },
     "metadata": {},
     "output_type": "display_data"
    },
    {
     "name": "stderr",
     "output_type": "stream",
     "text": [
      "Sampling 4 chains for 1_000 tune and 1_000 draw iterations (4_000 + 4_000 draws total) took 68 seconds.\n"
     ]
    }
   ],
   "source": [
    "# multilevel model, random intercepts and unpooled slopes\n",
    "with pm.Model() as m0:\n",
    "\n",
    "    # prior for average patient\n",
    "    a_bar = pm.Normal(\"a_bar\", 0.0, 1)\n",
    "    sigma_pt = pm.Exponential(\"sigma_pt\", 1.0)\n",
    "\n",
    "    # prior for SD of tumor size\n",
    "    sigma = pm.Exponential(\"sigma\", 1.0)\n",
    "\n",
    "    # alpha, beta priors for each patient\n",
    "    a = pm.Normal(\"a\", a_bar, sigma_pt, shape=len(df_data[\"patient_id\"].unique()))\n",
    "    bR = pm.Normal(\"bR\", 0, 1, shape=len(df_data[\"patient_id\"].unique()))\n",
    "\n",
    "    # linear model\n",
    "    mu = a[df_data[\"patient_id\"]] + bR[df_data[\"patient_id\"]] * df_data[\"treatment\"]\n",
    "\n",
    "    # likelihood\n",
    "    s = pm.Normal(\"s\", mu=mu, sigma=sigma, observed=df_data[\"tumor_size_std\"])\n",
    "\n",
    "    trace_m0 = pm.sample(\n",
    "        draws=1000, random_seed=19, return_inferencedata=True, progressbar=True\n",
    "    )"
   ]
  },
  {
   "cell_type": "code",
   "execution_count": 13,
   "metadata": {},
   "outputs": [
    {
     "data": {
      "text/html": [
       "<div>\n",
       "<style scoped>\n",
       "    .dataframe tbody tr th:only-of-type {\n",
       "        vertical-align: middle;\n",
       "    }\n",
       "\n",
       "    .dataframe tbody tr th {\n",
       "        vertical-align: top;\n",
       "    }\n",
       "\n",
       "    .dataframe thead th {\n",
       "        text-align: right;\n",
       "    }\n",
       "</style>\n",
       "<table border=\"1\" class=\"dataframe\">\n",
       "  <thead>\n",
       "    <tr style=\"text-align: right;\">\n",
       "      <th></th>\n",
       "      <th>mean</th>\n",
       "      <th>sd</th>\n",
       "      <th>hdi_3%</th>\n",
       "      <th>hdi_97%</th>\n",
       "      <th>mcse_mean</th>\n",
       "      <th>mcse_sd</th>\n",
       "      <th>ess_bulk</th>\n",
       "      <th>ess_tail</th>\n",
       "      <th>r_hat</th>\n",
       "    </tr>\n",
       "  </thead>\n",
       "  <tbody>\n",
       "    <tr>\n",
       "      <th>a[0]</th>\n",
       "      <td>0.126</td>\n",
       "      <td>0.493</td>\n",
       "      <td>-0.824</td>\n",
       "      <td>1.002</td>\n",
       "      <td>0.009</td>\n",
       "      <td>0.008</td>\n",
       "      <td>3355.0</td>\n",
       "      <td>2358.0</td>\n",
       "      <td>1.0</td>\n",
       "    </tr>\n",
       "    <tr>\n",
       "      <th>a[1]</th>\n",
       "      <td>0.542</td>\n",
       "      <td>0.266</td>\n",
       "      <td>0.036</td>\n",
       "      <td>1.026</td>\n",
       "      <td>0.003</td>\n",
       "      <td>0.003</td>\n",
       "      <td>7629.0</td>\n",
       "      <td>2535.0</td>\n",
       "      <td>1.0</td>\n",
       "    </tr>\n",
       "    <tr>\n",
       "      <th>a[2]</th>\n",
       "      <td>0.089</td>\n",
       "      <td>0.485</td>\n",
       "      <td>-0.822</td>\n",
       "      <td>0.993</td>\n",
       "      <td>0.009</td>\n",
       "      <td>0.007</td>\n",
       "      <td>2932.0</td>\n",
       "      <td>2353.0</td>\n",
       "      <td>1.0</td>\n",
       "    </tr>\n",
       "    <tr>\n",
       "      <th>a[3]</th>\n",
       "      <td>0.304</td>\n",
       "      <td>0.470</td>\n",
       "      <td>-0.568</td>\n",
       "      <td>1.218</td>\n",
       "      <td>0.008</td>\n",
       "      <td>0.006</td>\n",
       "      <td>3891.0</td>\n",
       "      <td>3206.0</td>\n",
       "      <td>1.0</td>\n",
       "    </tr>\n",
       "    <tr>\n",
       "      <th>a[4]</th>\n",
       "      <td>0.613</td>\n",
       "      <td>0.267</td>\n",
       "      <td>0.116</td>\n",
       "      <td>1.110</td>\n",
       "      <td>0.003</td>\n",
       "      <td>0.002</td>\n",
       "      <td>8500.0</td>\n",
       "      <td>2739.0</td>\n",
       "      <td>1.0</td>\n",
       "    </tr>\n",
       "    <tr>\n",
       "      <th>...</th>\n",
       "      <td>...</td>\n",
       "      <td>...</td>\n",
       "      <td>...</td>\n",
       "      <td>...</td>\n",
       "      <td>...</td>\n",
       "      <td>...</td>\n",
       "      <td>...</td>\n",
       "      <td>...</td>\n",
       "      <td>...</td>\n",
       "    </tr>\n",
       "    <tr>\n",
       "      <th>bR[27]</th>\n",
       "      <td>-0.417</td>\n",
       "      <td>0.526</td>\n",
       "      <td>-1.415</td>\n",
       "      <td>0.552</td>\n",
       "      <td>0.008</td>\n",
       "      <td>0.006</td>\n",
       "      <td>4167.0</td>\n",
       "      <td>2657.0</td>\n",
       "      <td>1.0</td>\n",
       "    </tr>\n",
       "    <tr>\n",
       "      <th>bR[28]</th>\n",
       "      <td>-1.246</td>\n",
       "      <td>0.536</td>\n",
       "      <td>-2.224</td>\n",
       "      <td>-0.227</td>\n",
       "      <td>0.009</td>\n",
       "      <td>0.006</td>\n",
       "      <td>3752.0</td>\n",
       "      <td>2852.0</td>\n",
       "      <td>1.0</td>\n",
       "    </tr>\n",
       "    <tr>\n",
       "      <th>bR[29]</th>\n",
       "      <td>-0.005</td>\n",
       "      <td>1.037</td>\n",
       "      <td>-1.945</td>\n",
       "      <td>2.003</td>\n",
       "      <td>0.011</td>\n",
       "      <td>0.022</td>\n",
       "      <td>9722.0</td>\n",
       "      <td>2474.0</td>\n",
       "      <td>1.0</td>\n",
       "    </tr>\n",
       "    <tr>\n",
       "      <th>sigma</th>\n",
       "      <td>0.707</td>\n",
       "      <td>0.047</td>\n",
       "      <td>0.617</td>\n",
       "      <td>0.795</td>\n",
       "      <td>0.001</td>\n",
       "      <td>0.000</td>\n",
       "      <td>4850.0</td>\n",
       "      <td>2704.0</td>\n",
       "      <td>1.0</td>\n",
       "    </tr>\n",
       "    <tr>\n",
       "      <th>sigma_pt</th>\n",
       "      <td>0.504</td>\n",
       "      <td>0.137</td>\n",
       "      <td>0.254</td>\n",
       "      <td>0.751</td>\n",
       "      <td>0.004</td>\n",
       "      <td>0.003</td>\n",
       "      <td>956.0</td>\n",
       "      <td>1433.0</td>\n",
       "      <td>1.0</td>\n",
       "    </tr>\n",
       "  </tbody>\n",
       "</table>\n",
       "<p>63 rows × 9 columns</p>\n",
       "</div>"
      ],
      "text/plain": [
       "           mean     sd  hdi_3%  hdi_97%  mcse_mean  mcse_sd  ess_bulk  \\\n",
       "a[0]      0.126  0.493  -0.824    1.002      0.009    0.008    3355.0   \n",
       "a[1]      0.542  0.266   0.036    1.026      0.003    0.003    7629.0   \n",
       "a[2]      0.089  0.485  -0.822    0.993      0.009    0.007    2932.0   \n",
       "a[3]      0.304  0.470  -0.568    1.218      0.008    0.006    3891.0   \n",
       "a[4]      0.613  0.267   0.116    1.110      0.003    0.002    8500.0   \n",
       "...         ...    ...     ...      ...        ...      ...       ...   \n",
       "bR[27]   -0.417  0.526  -1.415    0.552      0.008    0.006    4167.0   \n",
       "bR[28]   -1.246  0.536  -2.224   -0.227      0.009    0.006    3752.0   \n",
       "bR[29]   -0.005  1.037  -1.945    2.003      0.011    0.022    9722.0   \n",
       "sigma     0.707  0.047   0.617    0.795      0.001    0.000    4850.0   \n",
       "sigma_pt  0.504  0.137   0.254    0.751      0.004    0.003     956.0   \n",
       "\n",
       "          ess_tail  r_hat  \n",
       "a[0]        2358.0    1.0  \n",
       "a[1]        2535.0    1.0  \n",
       "a[2]        2353.0    1.0  \n",
       "a[3]        3206.0    1.0  \n",
       "a[4]        2739.0    1.0  \n",
       "...            ...    ...  \n",
       "bR[27]      2657.0    1.0  \n",
       "bR[28]      2852.0    1.0  \n",
       "bR[29]      2474.0    1.0  \n",
       "sigma       2704.0    1.0  \n",
       "sigma_pt    1433.0    1.0  \n",
       "\n",
       "[63 rows x 9 columns]"
      ]
     },
     "execution_count": 13,
     "metadata": {},
     "output_type": "execute_result"
    }
   ],
   "source": [
    "az.summary(trace_m0)"
   ]
  },
  {
   "cell_type": "markdown",
   "metadata": {},
   "source": [
    "## Model 1: Varying intercepts and varying slopes\n",
    "\n",
    "$$ s_i \\sim \\text{Normal}(\\mu_i, \\sigma) $$\n",
    "$$ \\mu_i = \\alpha_{\\text{pt[i]}} + \\beta_{\\text{pt[i]}}R_i $$\n",
    "$$ \\alpha_j \\sim \\text{Normal}(\\bar{\\alpha}, \\sigma_{\\alpha, \\text{pt}}) $$\n",
    "$$ \\bar{\\alpha} \\sim \\text{Normal}(0, 1) $$\n",
    "$$ \\beta_j \\sim \\text{Normal}(\\bar{\\beta}, \\sigma_{\\beta, \\text{pt}}) $$\n",
    "$$ \\bar{\\beta} \\sim \\text{Normal}(0,1) $$\n",
    "$$ \\sigma \\sim \\text{Exponential}(1) $$\n",
    "$$ \\sigma_{\\alpha, \\text{pt}} \\sim \\text{Exponential}(1) $$\n",
    "$$ \\sigma_{\\beta, \\text{pt}} \\sim \\text{Exponential}(1) $$\n"
   ]
  },
  {
   "cell_type": "code",
   "execution_count": 14,
   "metadata": {},
   "outputs": [
    {
     "name": "stderr",
     "output_type": "stream",
     "text": [
      "Auto-assigning NUTS sampler...\n",
      "Initializing NUTS using jitter+adapt_diag...\n",
      "Multiprocess sampling (4 chains in 4 jobs)\n",
      "NUTS: [a_bar, sigma_a, b_bar, sigma_b, sigma_pt, a, bR]\n"
     ]
    },
    {
     "data": {
      "application/vnd.jupyter.widget-view+json": {
       "model_id": "b33a56f29e774d34a3f26b2af0cb11a3",
       "version_major": 2,
       "version_minor": 0
      },
      "text/plain": [
       "Output()"
      ]
     },
     "metadata": {},
     "output_type": "display_data"
    },
    {
     "data": {
      "text/html": [
       "<pre style=\"white-space:pre;overflow-x:auto;line-height:normal;font-family:Menlo,'DejaVu Sans Mono',consolas,'Courier New',monospace\"></pre>\n"
      ],
      "text/plain": []
     },
     "metadata": {},
     "output_type": "display_data"
    },
    {
     "data": {
      "text/html": [
       "<pre style=\"white-space:pre;overflow-x:auto;line-height:normal;font-family:Menlo,'DejaVu Sans Mono',consolas,'Courier New',monospace\">\n",
       "</pre>\n"
      ],
      "text/plain": [
       "\n"
      ]
     },
     "metadata": {},
     "output_type": "display_data"
    },
    {
     "name": "stderr",
     "output_type": "stream",
     "text": [
      "Sampling 4 chains for 1_000 tune and 1_000 draw iterations (4_000 + 4_000 draws total) took 108 seconds.\n",
      "There were 396 divergences after tuning. Increase `target_accept` or reparameterize.\n",
      "The rhat statistic is larger than 1.01 for some parameters. This indicates problems during sampling. See https://arxiv.org/abs/1903.08008 for details\n",
      "The effective sample size per chain is smaller than 100 for some parameters.  A higher number is needed for reliable rhat and ess computation. See https://arxiv.org/abs/1903.08008 for details\n"
     ]
    }
   ],
   "source": [
    "# multilevel model, random intercepts and random slopes\n",
    "with pm.Model() as m1:\n",
    "\n",
    "    # hyperpriors for average patient\n",
    "    a_bar = pm.Normal(\"a_bar\", 0.0, 1)\n",
    "    sigma_a = pm.Exponential(\"sigma_a\", 1.0)\n",
    "    b_bar = pm.Normal(\"b_bar\", 0.0, 1)\n",
    "    sigma_b = pm.Exponential(\"sigma_b\", 1.0)\n",
    "\n",
    "    # prior for SD of tumor size\n",
    "    sigma = pm.Exponential(\"sigma_pt\", 1.0)\n",
    "\n",
    "    # alpha, beta priors for each patient\n",
    "    a = pm.Normal(\"a\", a_bar, sigma_a, shape=len(df_data[\"patient_id\"].unique()))\n",
    "    bR = pm.Normal(\"bR\", b_bar, sigma_b, shape=len(df_data[\"patient_id\"].unique()))\n",
    "\n",
    "    # linear model\n",
    "    mu = a[df_data[\"patient_id\"]] + bR[df_data[\"patient_id\"]] * df_data[\"treatment\"]\n",
    "\n",
    "    # likelihood\n",
    "    s = pm.Normal(\"s\", mu=mu, sigma=sigma, observed=df_data[\"tumor_size_std\"])\n",
    "\n",
    "    trace_m1 = pm.sample(\n",
    "        draws=1000, random_seed=19, return_inferencedata=True, progressbar=True\n",
    "    )"
   ]
  },
  {
   "cell_type": "code",
   "execution_count": 15,
   "metadata": {},
   "outputs": [
    {
     "data": {
      "text/html": [
       "<div>\n",
       "<style scoped>\n",
       "    .dataframe tbody tr th:only-of-type {\n",
       "        vertical-align: middle;\n",
       "    }\n",
       "\n",
       "    .dataframe tbody tr th {\n",
       "        vertical-align: top;\n",
       "    }\n",
       "\n",
       "    .dataframe thead th {\n",
       "        text-align: right;\n",
       "    }\n",
       "</style>\n",
       "<table border=\"1\" class=\"dataframe\">\n",
       "  <thead>\n",
       "    <tr style=\"text-align: right;\">\n",
       "      <th></th>\n",
       "      <th>mean</th>\n",
       "      <th>sd</th>\n",
       "      <th>hdi_3%</th>\n",
       "      <th>hdi_97%</th>\n",
       "      <th>mcse_mean</th>\n",
       "      <th>mcse_sd</th>\n",
       "      <th>ess_bulk</th>\n",
       "      <th>ess_tail</th>\n",
       "      <th>r_hat</th>\n",
       "    </tr>\n",
       "  </thead>\n",
       "  <tbody>\n",
       "    <tr>\n",
       "      <th>a[0]</th>\n",
       "      <td>0.465</td>\n",
       "      <td>0.309</td>\n",
       "      <td>-0.131</td>\n",
       "      <td>1.014</td>\n",
       "      <td>0.012</td>\n",
       "      <td>0.008</td>\n",
       "      <td>659.0</td>\n",
       "      <td>1537.0</td>\n",
       "      <td>1.02</td>\n",
       "    </tr>\n",
       "    <tr>\n",
       "      <th>a[1]</th>\n",
       "      <td>0.593</td>\n",
       "      <td>0.250</td>\n",
       "      <td>0.107</td>\n",
       "      <td>1.074</td>\n",
       "      <td>0.014</td>\n",
       "      <td>0.013</td>\n",
       "      <td>326.0</td>\n",
       "      <td>169.0</td>\n",
       "      <td>1.01</td>\n",
       "    </tr>\n",
       "    <tr>\n",
       "      <th>a[2]</th>\n",
       "      <td>0.370</td>\n",
       "      <td>0.306</td>\n",
       "      <td>-0.244</td>\n",
       "      <td>0.932</td>\n",
       "      <td>0.011</td>\n",
       "      <td>0.008</td>\n",
       "      <td>818.0</td>\n",
       "      <td>2200.0</td>\n",
       "      <td>1.01</td>\n",
       "    </tr>\n",
       "    <tr>\n",
       "      <th>a[3]</th>\n",
       "      <td>0.905</td>\n",
       "      <td>0.333</td>\n",
       "      <td>0.269</td>\n",
       "      <td>1.510</td>\n",
       "      <td>0.017</td>\n",
       "      <td>0.013</td>\n",
       "      <td>389.0</td>\n",
       "      <td>998.0</td>\n",
       "      <td>1.02</td>\n",
       "    </tr>\n",
       "    <tr>\n",
       "      <th>a[4]</th>\n",
       "      <td>0.649</td>\n",
       "      <td>0.238</td>\n",
       "      <td>0.189</td>\n",
       "      <td>1.088</td>\n",
       "      <td>0.006</td>\n",
       "      <td>0.004</td>\n",
       "      <td>1476.0</td>\n",
       "      <td>2320.0</td>\n",
       "      <td>1.01</td>\n",
       "    </tr>\n",
       "    <tr>\n",
       "      <th>...</th>\n",
       "      <td>...</td>\n",
       "      <td>...</td>\n",
       "      <td>...</td>\n",
       "      <td>...</td>\n",
       "      <td>...</td>\n",
       "      <td>...</td>\n",
       "      <td>...</td>\n",
       "      <td>...</td>\n",
       "      <td>...</td>\n",
       "    </tr>\n",
       "    <tr>\n",
       "      <th>bR[29]</th>\n",
       "      <td>-1.165</td>\n",
       "      <td>0.336</td>\n",
       "      <td>-1.795</td>\n",
       "      <td>-0.504</td>\n",
       "      <td>0.013</td>\n",
       "      <td>0.009</td>\n",
       "      <td>510.0</td>\n",
       "      <td>1247.0</td>\n",
       "      <td>1.01</td>\n",
       "    </tr>\n",
       "    <tr>\n",
       "      <th>b_bar</th>\n",
       "      <td>-1.164</td>\n",
       "      <td>0.194</td>\n",
       "      <td>-1.504</td>\n",
       "      <td>-0.787</td>\n",
       "      <td>0.013</td>\n",
       "      <td>0.009</td>\n",
       "      <td>233.0</td>\n",
       "      <td>550.0</td>\n",
       "      <td>1.04</td>\n",
       "    </tr>\n",
       "    <tr>\n",
       "      <th>sigma_a</th>\n",
       "      <td>0.394</td>\n",
       "      <td>0.097</td>\n",
       "      <td>0.213</td>\n",
       "      <td>0.570</td>\n",
       "      <td>0.005</td>\n",
       "      <td>0.003</td>\n",
       "      <td>428.0</td>\n",
       "      <td>920.0</td>\n",
       "      <td>1.03</td>\n",
       "    </tr>\n",
       "    <tr>\n",
       "      <th>sigma_b</th>\n",
       "      <td>0.232</td>\n",
       "      <td>0.144</td>\n",
       "      <td>0.046</td>\n",
       "      <td>0.493</td>\n",
       "      <td>0.016</td>\n",
       "      <td>0.011</td>\n",
       "      <td>53.0</td>\n",
       "      <td>32.0</td>\n",
       "      <td>1.06</td>\n",
       "    </tr>\n",
       "    <tr>\n",
       "      <th>sigma_pt</th>\n",
       "      <td>0.712</td>\n",
       "      <td>0.047</td>\n",
       "      <td>0.628</td>\n",
       "      <td>0.804</td>\n",
       "      <td>0.002</td>\n",
       "      <td>0.001</td>\n",
       "      <td>715.0</td>\n",
       "      <td>604.0</td>\n",
       "      <td>1.01</td>\n",
       "    </tr>\n",
       "  </tbody>\n",
       "</table>\n",
       "<p>65 rows × 9 columns</p>\n",
       "</div>"
      ],
      "text/plain": [
       "           mean     sd  hdi_3%  hdi_97%  mcse_mean  mcse_sd  ess_bulk  \\\n",
       "a[0]      0.465  0.309  -0.131    1.014      0.012    0.008     659.0   \n",
       "a[1]      0.593  0.250   0.107    1.074      0.014    0.013     326.0   \n",
       "a[2]      0.370  0.306  -0.244    0.932      0.011    0.008     818.0   \n",
       "a[3]      0.905  0.333   0.269    1.510      0.017    0.013     389.0   \n",
       "a[4]      0.649  0.238   0.189    1.088      0.006    0.004    1476.0   \n",
       "...         ...    ...     ...      ...        ...      ...       ...   \n",
       "bR[29]   -1.165  0.336  -1.795   -0.504      0.013    0.009     510.0   \n",
       "b_bar    -1.164  0.194  -1.504   -0.787      0.013    0.009     233.0   \n",
       "sigma_a   0.394  0.097   0.213    0.570      0.005    0.003     428.0   \n",
       "sigma_b   0.232  0.144   0.046    0.493      0.016    0.011      53.0   \n",
       "sigma_pt  0.712  0.047   0.628    0.804      0.002    0.001     715.0   \n",
       "\n",
       "          ess_tail  r_hat  \n",
       "a[0]        1537.0   1.02  \n",
       "a[1]         169.0   1.01  \n",
       "a[2]        2200.0   1.01  \n",
       "a[3]         998.0   1.02  \n",
       "a[4]        2320.0   1.01  \n",
       "...            ...    ...  \n",
       "bR[29]      1247.0   1.01  \n",
       "b_bar        550.0   1.04  \n",
       "sigma_a      920.0   1.03  \n",
       "sigma_b       32.0   1.06  \n",
       "sigma_pt     604.0   1.01  \n",
       "\n",
       "[65 rows x 9 columns]"
      ]
     },
     "execution_count": 15,
     "metadata": {},
     "output_type": "execute_result"
    }
   ],
   "source": [
    "az.summary(trace_m1)"
   ]
  },
  {
   "cell_type": "markdown",
   "metadata": {},
   "source": [
    "## Comparison of estimates with no pooling, partial pooling\n"
   ]
  },
  {
   "cell_type": "markdown",
   "metadata": {},
   "source": [
    "We'll now be able to look at how the two models outputted estimates for varying intercepts and varying slopes. Let's start with varying intercepts. Remember"
   ]
  },
  {
   "cell_type": "code",
   "execution_count": 110,
   "metadata": {},
   "outputs": [
    {
     "name": "stderr",
     "output_type": "stream",
     "text": [
      "/Users/benlacar/benslack19.github.io/_posts_drafts/utils.py:115: SyntaxWarning: invalid escape sequence '\\c'\n",
      "  )\n",
      "/Users/benlacar/benslack19.github.io/_posts_drafts/utils.py:116: SyntaxWarning: invalid escape sequence '\\c'\n",
      "  \n"
     ]
    },
    {
     "data": {
      "image/png": "[encoded data removed]",
      "text/plain": [
       "<Figure size 1200x500 with 2 Axes>"
      ]
     },
     "metadata": {},
     "output_type": "display_data"
    }
   ],
   "source": [
    "plot_comparison(\n",
    "    trace_m0,\n",
    "    trace_m1,\n",
    "    var_name=\"a\",\n",
    "    meta_df=df_data,\n",
    "    cluster_col=\"patient_id\",\n",
    "    hue=\"treatment\",\n",
    "    xlabel=\"no pooling of slopes\",\n",
    "    ylabel=\"partial pooling of slopes\",\n",
    "    title_prefix=\"Varying intercepts with and without\\npartial pooling of slopes\",\n",
    ")"
   ]
  },
  {
   "cell_type": "code",
   "execution_count": null,
   "metadata": {},
   "outputs": [],
   "source": []
  },
  {
   "cell_type": "code",
   "execution_count": null,
   "metadata": {},
   "outputs": [],
   "source": []
  },
  {
   "cell_type": "code",
   "execution_count": 16,
   "metadata": {},
   "outputs": [
    {
     "data": {
      "image/png": "[encoded data removed]",
      "text/plain": [
       "<Figure size 1200x500 with 2 Axes>"
      ]
     },
     "metadata": {},
     "output_type": "display_data"
    }
   ],
   "source": [
    "f, (ax0, ax1) = plt.subplots(1, 2, figsize=(12, 5))\n",
    "\n",
    "# means\n",
    "ax0.scatter(\n",
    "    az.summary(trace_m0, var_names=[\"bR\"])[\"mean\"],\n",
    "    az.summary(trace_m1, var_names=[\"bR\"])[\"mean\"],\n",
    "    facecolors=\"none\",\n",
    "    edgecolors=\"k\",\n",
    ")\n",
    "ax0.plot([0, 1], [0, 1], transform=ax0.transAxes, linestyle=\"dashed\", color=\"gray\")\n",
    "ax0.set(\n",
    "    xlabel=\"no pooling\",\n",
    "    ylabel=\"partial pooling\",\n",
    "    title=\"Slopes\\n(mean)\",\n",
    ")\n",
    "\n",
    "# SD\n",
    "ax1.scatter(\n",
    "    az.summary(trace_m0, var_names=[\"bR\"])[\"sd\"],\n",
    "    az.summary(trace_m1, var_names=[\"bR\"])[\"sd\"],\n",
    "    facecolors=\"none\",\n",
    "    edgecolors=\"k\",\n",
    ")\n",
    "ax1.plot([0, 1], [0, 1], transform=ax0.transAxes, linestyle=\"dashed\", color=\"gray\")\n",
    "ax1.set(\n",
    "    xlabel=\"no pooling\",\n",
    "    ylabel=\"partial pooling\",\n",
    "    title=\"Slopes\\n(standard deviation)\",\n",
    ")\n",
    "ax1.plot([0, 1], [0, 1], transform=ax1.transAxes, linestyle=\"dashed\", color=\"gray\")\n",
    "\n",
    "# Calculate the minimum and maximum of both x and y data\n",
    "data_min = min(\n",
    "    min(az.summary(trace_m0, var_names=[\"a\"])[\"sd\"]),\n",
    "    min(az.summary(trace_m1, var_names=[\"a\"])[\"sd\"]),\n",
    ")\n",
    "data_max = max(\n",
    "    max(az.summary(trace_m0, var_names=[\"a\"])[\"sd\"]),\n",
    "    max(az.summary(trace_m1, var_names=[\"a\"])[\"sd\"]),\n",
    ")\n",
    "\n",
    "# Set the limits to be the same for both axes\n",
    "ax1.set_xlim(data_min * 0.95, data_max * 1.05)\n",
    "ax1.set_ylim(data_min * 0.95, data_max * 1.05)\n",
    "\n",
    "f.tight_layout()"
   ]
  },
  {
   "cell_type": "markdown",
   "metadata": {},
   "source": [
    "You can see that partial pooling decreases the standard error of the intercept parameter in most cases, even though the mean estimate does not really change. Let's see how to implement this in statsmodels."
   ]
  },
  {
   "cell_type": "markdown",
   "metadata": {},
   "source": [
    "# Using statsmodels\n",
    "\n",
    "Using probabilistic programming provides a nice framework to get the random intercepts with probability distributions. But it may not scale as well. Let's explore varying intercepts using statsmodels."
   ]
  },
  {
   "cell_type": "markdown",
   "metadata": {},
   "source": [
    "## Varying intercept model"
   ]
  },
  {
   "cell_type": "code",
   "execution_count": 26,
   "metadata": {},
   "outputs": [
    {
     "name": "stdout",
     "output_type": "stream",
     "text": [
      "           Mixed Linear Model Regression Results\n",
      "============================================================\n",
      "Model:            MixedLM Dependent Variable: tumor_size_std\n",
      "No. Observations: 150     Method:             REML          \n",
      "No. Groups:       30      Scale:              0.4754        \n",
      "Min. group size:  5       Log-Likelihood:     -186.1971     \n",
      "Max. group size:  5       Converged:          Yes           \n",
      "Mean group size:  5.0                                       \n",
      "-------------------------------------------------------------\n",
      "              Coef.   Std.Err.    z     P>|z|  [0.025  0.975]\n",
      "-------------------------------------------------------------\n",
      "Intercept     -0.000     0.146  -0.000  1.000  -0.287   0.287\n",
      "Group Var      0.546     0.272                               \n",
      "============================================================\n",
      "\n"
     ]
    }
   ],
   "source": [
    "# Define the mixed-effects model formula with only varying intercepts\n",
    "model = smf.mixedlm(\"tumor_size_std ~ 1\", df_data, groups=df_data[\"patient_id\"])\n",
    "\n",
    "# Fit the model\n",
    "result = model.fit()\n",
    "\n",
    "# Print the summary of the model\n",
    "print(result.summary())"
   ]
  },
  {
   "cell_type": "markdown",
   "metadata": {},
   "source": [
    "The main thing we want to look at is the bottom of the table. `Intercept` refers to the population's average ($\\bar{\\alpha}$ while `Group Var` refers to the variance of the random intercepts associated with the grouping variable (`patient_id`) which is `sigma_pt` in the `pymc` model. We can see that these are largely in alignment with the `pymc` results even if `Group Var`/`sigma_pt` differ in their means."
   ]
  },
  {
   "cell_type": "code",
   "execution_count": 54,
   "metadata": {},
   "outputs": [
    {
     "data": {
      "text/html": [
       "<div>\n",
       "<style scoped>\n",
       "    .dataframe tbody tr th:only-of-type {\n",
       "        vertical-align: middle;\n",
       "    }\n",
       "\n",
       "    .dataframe tbody tr th {\n",
       "        vertical-align: top;\n",
       "    }\n",
       "\n",
       "    .dataframe thead th {\n",
       "        text-align: right;\n",
       "    }\n",
       "</style>\n",
       "<table border=\"1\" class=\"dataframe\">\n",
       "  <thead>\n",
       "    <tr style=\"text-align: right;\">\n",
       "      <th></th>\n",
       "      <th>mean</th>\n",
       "      <th>sd</th>\n",
       "      <th>hdi_3%</th>\n",
       "      <th>hdi_97%</th>\n",
       "      <th>mcse_mean</th>\n",
       "      <th>mcse_sd</th>\n",
       "      <th>ess_bulk</th>\n",
       "      <th>ess_tail</th>\n",
       "      <th>r_hat</th>\n",
       "    </tr>\n",
       "  </thead>\n",
       "  <tbody>\n",
       "    <tr>\n",
       "      <th>a_bar</th>\n",
       "      <td>0.003</td>\n",
       "      <td>0.150</td>\n",
       "      <td>-0.286</td>\n",
       "      <td>0.284</td>\n",
       "      <td>0.002</td>\n",
       "      <td>0.002</td>\n",
       "      <td>6844.0</td>\n",
       "      <td>3590.0</td>\n",
       "      <td>1.0</td>\n",
       "    </tr>\n",
       "    <tr>\n",
       "      <th>sigma_pt</th>\n",
       "      <td>0.759</td>\n",
       "      <td>0.121</td>\n",
       "      <td>0.538</td>\n",
       "      <td>0.981</td>\n",
       "      <td>0.002</td>\n",
       "      <td>0.001</td>\n",
       "      <td>5584.0</td>\n",
       "      <td>3368.0</td>\n",
       "      <td>1.0</td>\n",
       "    </tr>\n",
       "  </tbody>\n",
       "</table>\n",
       "</div>"
      ],
      "text/plain": [
       "           mean     sd  hdi_3%  hdi_97%  mcse_mean  mcse_sd  ess_bulk  \\\n",
       "a_bar     0.003  0.150  -0.286    0.284      0.002    0.002    6844.0   \n",
       "sigma_pt  0.759  0.121   0.538    0.981      0.002    0.001    5584.0   \n",
       "\n",
       "          ess_tail  r_hat  \n",
       "a_bar       3590.0    1.0  \n",
       "sigma_pt    3368.0    1.0  "
      ]
     },
     "execution_count": 54,
     "metadata": {},
     "output_type": "execute_result"
    }
   ],
   "source": [
    "az.summary(trace_m2, var_names=[\"a_bar\", \"sigma_pt\"])"
   ]
  },
  {
   "cell_type": "markdown",
   "metadata": {},
   "source": [
    "# Comparing `pymc` and `statsmodels` output"
   ]
  },
  {
   "cell_type": "markdown",
   "metadata": {},
   "source": [
    "Now let's see how each individual patient's estimates look between `pymc` and `statsmodels`. Statsmodels doesn't provide the SD directly. It may be derived by bootstrapping but we'll ignore this for now."
   ]
  },
  {
   "cell_type": "code",
   "execution_count": 42,
   "metadata": {
    "scrolled": true
   },
   "outputs": [
    {
     "data": {
      "text/html": [
       "<div>\n",
       "<style scoped>\n",
       "    .dataframe tbody tr th:only-of-type {\n",
       "        vertical-align: middle;\n",
       "    }\n",
       "\n",
       "    .dataframe tbody tr th {\n",
       "        vertical-align: top;\n",
       "    }\n",
       "\n",
       "    .dataframe thead th {\n",
       "        text-align: right;\n",
       "    }\n",
       "</style>\n",
       "<table border=\"1\" class=\"dataframe\">\n",
       "  <thead>\n",
       "    <tr style=\"text-align: right;\">\n",
       "      <th></th>\n",
       "      <th>Patient</th>\n",
       "      <th>random_effect_mean</th>\n",
       "    </tr>\n",
       "  </thead>\n",
       "  <tbody>\n",
       "    <tr>\n",
       "      <th>0</th>\n",
       "      <td>0</td>\n",
       "      <td>0.237706</td>\n",
       "    </tr>\n",
       "    <tr>\n",
       "      <th>1</th>\n",
       "      <td>1</td>\n",
       "      <td>-0.603279</td>\n",
       "    </tr>\n",
       "    <tr>\n",
       "      <th>2</th>\n",
       "      <td>2</td>\n",
       "      <td>0.358260</td>\n",
       "    </tr>\n",
       "    <tr>\n",
       "      <th>3</th>\n",
       "      <td>3</td>\n",
       "      <td>0.775414</td>\n",
       "    </tr>\n",
       "    <tr>\n",
       "      <th>4</th>\n",
       "      <td>4</td>\n",
       "      <td>0.398535</td>\n",
       "    </tr>\n",
       "  </tbody>\n",
       "</table>\n",
       "</div>"
      ],
      "text/plain": [
       "   Patient  random_effect_mean\n",
       "0        0            0.237706\n",
       "1        1           -0.603279\n",
       "2        2            0.358260\n",
       "3        3            0.775414\n",
       "4        4            0.398535"
      ]
     },
     "execution_count": 42,
     "metadata": {},
     "output_type": "execute_result"
    }
   ],
   "source": [
    "# Extract the random effects\n",
    "df_smf_random_effects = (\n",
    "    pd.DataFrame(result.random_effects)\n",
    "    .T.reset_index()\n",
    "    .rename(columns={\"index\": \"Patient\", \"Group\": \"random_effect_mean\"})\n",
    ")\n",
    "\n",
    "df_smf_random_effects.head()"
   ]
  },
  {
   "cell_type": "code",
   "execution_count": 55,
   "metadata": {},
   "outputs": [
    {
     "data": {
      "image/png": "[encoded data removed]",
      "text/plain": [
       "<Figure size 1200x500 with 1 Axes>"
      ]
     },
     "metadata": {},
     "output_type": "display_data"
    }
   ],
   "source": [
    "f = plt.figure(figsize=(12, 5))\n",
    "ax = f.add_subplot(1, 2, 1)\n",
    "\n",
    "ax.scatter(\n",
    "    az.summary(trace_m2, var_names=[\"a\"])[\"mean\"],\n",
    "    df_smf_random_effects[\"random_effect_mean\"],\n",
    "    facecolors=\"none\",\n",
    "    edgecolors=\"k\",\n",
    ")\n",
    "ax.plot([0, 1], [0, 1], transform=ax.transAxes, linestyle=\"dashed\", color=\"gray\")\n",
    "ax.set(\n",
    "    xlabel=\"pymc\",\n",
    "    ylabel=\"statsmodels\",\n",
    "    title=\"Varying intercepts estimate\\nby package\",\n",
    ");"
   ]
  },
  {
   "cell_type": "markdown",
   "metadata": {},
   "source": [
    "As we can see, the two packages give essentially the same results for varying intercepts."
   ]
  },
  {
   "cell_type": "code",
   "execution_count": 21,
   "metadata": {},
   "outputs": [
    {
     "name": "stdout",
     "output_type": "stream",
     "text": [
      "Last updated: Tue May 28 2024\n",
      "\n",
      "Python implementation: CPython\n",
      "Python version       : 3.12.3\n",
      "IPython version      : 8.24.0\n",
      "\n",
      "pymc       : 5.15.0\n",
      "graphviz   : 0.20.3\n",
      "seaborn    : 0.13.2\n",
      "matplotlib : 3.8.4\n",
      "statsmodels: 0.14.2\n",
      "scipy      : 1.13.0\n",
      "numpy      : 1.26.4\n",
      "pandas     : 2.2.2\n",
      "arviz      : 0.18.0\n",
      "\n",
      "Watermark: 2.4.3\n",
      "\n"
     ]
    }
   ],
   "source": [
    "%load_ext watermark\n",
    "%watermark -n -u -v -iv -w"
   ]
  }
 ],
 "metadata": {
  "kernelspec": {
   "display_name": "Python 3 (ipykernel)",
   "language": "python",
   "name": "python3"
  },
  "language_info": {
   "codemirror_mode": {
    "name": "ipython",
    "version": 3
   },
   "file_extension": ".py",
   "mimetype": "text/x-python",
   "name": "python",
   "nbconvert_exporter": "python",
   "pygments_lexer": "ipython3",
   "version": "3.12.3"
  }
 },
 "nbformat": 4,
 "nbformat_minor": 4
}
