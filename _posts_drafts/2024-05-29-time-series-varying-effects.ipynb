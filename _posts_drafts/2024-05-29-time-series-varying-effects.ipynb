{
 "cells": [
  {
   "cell_type": "markdown",
   "metadata": {},
   "source": [
    "\n",
    "---\n",
    "title: \"Time series with varying effects\"\n",
    "mathjax: true\n",
    "toc: true\n",
    "toc_sticky: true\n",
    "categories: [data science, statistics]\n",
    "---\n",
    "\n",
    "Here, I am continuing a series of posts related to time-series data. The context, generated dataset, and varying intercepts approach is described in [this post](https://benslack19.github.io/data%20science/statistics/time-series-varying-intercepts/). I'll use that same generated data to see how partial pooling can apply to varying slopes. As before, I'll start with a Bayesian approach using pymc, followed by an example with statsmodels."
   ]
  },
  {
   "cell_type": "code",
   "execution_count": 1,
   "metadata": {},
   "outputs": [],
   "source": [
    "import arviz as az\n",
    "import graphviz as gr\n",
    "import matplotlib.pyplot as plt\n",
    "import numpy as np\n",
    "import pandas as pd\n",
    "import pymc as pm\n",
    "import seaborn as sns\n",
    "import statsmodels.api as sm\n",
    "import statsmodels.formula.api as smf\n",
    "from scipy import stats"
   ]
  },
  {
   "cell_type": "code",
   "execution_count": 2,
   "metadata": {},
   "outputs": [],
   "source": [
    "sns.set_context(\"talk\")\n",
    "sns.set_palette(\"colorblind\")"
   ]
  },
  {
   "cell_type": "code",
   "execution_count": 3,
   "metadata": {},
   "outputs": [],
   "source": [
    "def draw_causal_graph(\n",
    "    edge_list, node_props=None, edge_props=None, graph_direction=\"UD\"\n",
    "):\n",
    "    \"\"\"Utility to draw a causal (directed) graph\n",
    "    Taken from: https://github.com/dustinstansbury/statistical-rethinking-2023/blob/a0f4f2d15a06b33355cf3065597dcb43ef829991/utils.py#L52-L66\n",
    "\n",
    "    \"\"\"\n",
    "    g = gr.Digraph(graph_attr={\"rankdir\": graph_direction})\n",
    "\n",
    "    edge_props = {} if edge_props is None else edge_props\n",
    "    for e in edge_list:\n",
    "        props = edge_props[e] if e in edge_props else {}\n",
    "        g.edge(e[0], e[1], **props)\n",
    "\n",
    "    if node_props is not None:\n",
    "        for name, props in node_props.items():\n",
    "            g.node(name=name, **props)\n",
    "    return g\n",
    "\n",
    "\n",
    "def standardize(x):\n",
    "    x = (x - np.mean(x)) / np.std(x)\n",
    "    return x"
   ]
  },
  {
   "cell_type": "markdown",
   "metadata": {},
   "source": [
    "# Data generation and transformation\n",
    "\n",
    "I'll skip the explanation here since it's in the previous post and run this code."
   ]
  },
  {
   "cell_type": "code",
   "execution_count": 5,
   "metadata": {},
   "outputs": [
    {
     "data": {
      "text/html": [
       "<div>\n",
       "<style scoped>\n",
       "    .dataframe tbody tr th:only-of-type {\n",
       "        vertical-align: middle;\n",
       "    }\n",
       "\n",
       "    .dataframe tbody tr th {\n",
       "        vertical-align: top;\n",
       "    }\n",
       "\n",
       "    .dataframe thead th {\n",
       "        text-align: right;\n",
       "    }\n",
       "</style>\n",
       "<table border=\"1\" class=\"dataframe\">\n",
       "  <thead>\n",
       "    <tr style=\"text-align: right;\">\n",
       "      <th></th>\n",
       "      <th>patient_id</th>\n",
       "      <th>time</th>\n",
       "      <th>age</th>\n",
       "      <th>treatment</th>\n",
       "      <th>tumor_size</th>\n",
       "      <th>tumor_size_std</th>\n",
       "    </tr>\n",
       "  </thead>\n",
       "  <tbody>\n",
       "    <tr>\n",
       "      <th>0</th>\n",
       "      <td>0</td>\n",
       "      <td>0</td>\n",
       "      <td>56</td>\n",
       "      <td>1</td>\n",
       "      <td>57.169997</td>\n",
       "      <td>-1.330882</td>\n",
       "    </tr>\n",
       "    <tr>\n",
       "      <th>1</th>\n",
       "      <td>0</td>\n",
       "      <td>1</td>\n",
       "      <td>56</td>\n",
       "      <td>1</td>\n",
       "      <td>57.757602</td>\n",
       "      <td>-1.182186</td>\n",
       "    </tr>\n",
       "    <tr>\n",
       "      <th>2</th>\n",
       "      <td>0</td>\n",
       "      <td>2</td>\n",
       "      <td>56</td>\n",
       "      <td>1</td>\n",
       "      <td>60.805338</td>\n",
       "      <td>-0.410946</td>\n",
       "    </tr>\n",
       "    <tr>\n",
       "      <th>3</th>\n",
       "      <td>0</td>\n",
       "      <td>3</td>\n",
       "      <td>56</td>\n",
       "      <td>1</td>\n",
       "      <td>59.342597</td>\n",
       "      <td>-0.781097</td>\n",
       "    </tr>\n",
       "    <tr>\n",
       "      <th>4</th>\n",
       "      <td>0</td>\n",
       "      <td>4</td>\n",
       "      <td>56</td>\n",
       "      <td>1</td>\n",
       "      <td>61.302079</td>\n",
       "      <td>-0.285244</td>\n",
       "    </tr>\n",
       "  </tbody>\n",
       "</table>\n",
       "</div>"
      ],
      "text/plain": [
       "   patient_id  time  age  treatment  tumor_size  tumor_size_std\n",
       "0           0     0   56          1   57.169997       -1.330882\n",
       "1           0     1   56          1   57.757602       -1.182186\n",
       "2           0     2   56          1   60.805338       -0.410946\n",
       "3           0     3   56          1   59.342597       -0.781097\n",
       "4           0     4   56          1   61.302079       -0.285244"
      ]
     },
     "execution_count": 5,
     "metadata": {},
     "output_type": "execute_result"
    }
   ],
   "source": [
    "# Generate synthetic data\n",
    "n_patients = 30\n",
    "n_timepoints = 5\n",
    "\n",
    "# Create patient IDs\n",
    "patient_ids = np.repeat(np.arange(n_patients), n_timepoints)\n",
    "\n",
    "# Create time points\n",
    "time = np.tile(np.arange(n_timepoints), n_patients)\n",
    "\n",
    "# Create patient-specific attributes (age and treatment)\n",
    "age = np.random.randint(40, 70, n_patients)\n",
    "treatment = np.random.binomial(1, 0.5, n_patients)\n",
    "\n",
    "# Repeat age and treatment to match the longitudinal measurements\n",
    "age_repeated = np.repeat(age, n_timepoints)\n",
    "treatment_repeated = np.repeat(treatment, n_timepoints)\n",
    "\n",
    "# Combine into a DataFrame\n",
    "df_data = pd.DataFrame(\n",
    "    {\n",
    "        \"patient_id\": patient_ids,\n",
    "        \"time\": time,\n",
    "        \"age\": age_repeated,\n",
    "        \"treatment\": treatment_repeated,\n",
    "    }\n",
    ")\n",
    "\n",
    "# Use a generative model to create tumor size with some randomness\n",
    "\n",
    "alpha_tumor_size = 50  # intercept term\n",
    "bT = 1  # positive association for time\n",
    "bA = 0.25  # positive association for age\n",
    "bR = -5  # negative association for treatment\n",
    "\n",
    "mu_tumor_size = (\n",
    "    alpha_tumor_size\n",
    "    + bT * df_data[\"time\"]\n",
    "    + bA * df_data[\"age\"]\n",
    "    + bR * df_data[\"treatment\"]\n",
    ")\n",
    "\n",
    "sigma_tumor_size = 2\n",
    "\n",
    "df_data[\"tumor_size\"] = np.random.normal(mu_tumor_size, sigma_tumor_size)\n",
    "df_data[\"tumor_size_std\"] = standardize(df_data[\"tumor_size\"])\n",
    "\n",
    "df_data.head()"
   ]
  },
  {
   "cell_type": "markdown",
   "metadata": {},
   "source": [
    "# Varying slopes using pymc\n",
    "\n",
    "Let's define the equation. We're going to assume the tumor size is Gaussian distributed. We know from the data generation process that tumor size is a linear combination of independent variables for time, age, and treatment, and that we can think of `patient_id` as a cluster variable with repeated measures. We used varying intercepts in the last post. Now let's think about adding a predictor. Let's just focus on treatment for now. I'll refer to $\\beta_r$ as the coefficient for treatment.\n",
    "\n",
    "There will be a term for average tumor size and the patient-specific tumor size will be the \"random effect\".\n",
    "\n",
    "```\n",
    "s = tumor size\n",
    "t = time\n",
    "a = age\n",
    "r = treatment\n",
    "```\n",
    "\n",
    "After reading McElreath, for now, I will ignore time, age, and treatment and just think of patient as a cluster and just do varying intercepts.\n",
    "\n",
    "$$ \\mu_i = \\alpha_{\\text{pt[i]}} $$\n",
    "\n",
    "\n",
    "Let's do this step-by-step and work our way from the most naive, simplest models to more complex and informative.\n",
    "\n",
    "0. **Complete pooling, intercepts only.** Ignore patients as clusters.\n",
    "1. **No pooling, intercepts only**. Keep intercepts separate for each patient. Ignore information across patients.\n",
    "2. **Partial pooling, intercepts only.** Share information across patients."
   ]
  },
  {
   "cell_type": "markdown",
   "metadata": {},
   "source": [
    "## Model 0: complete pooling\n",
    "\n",
    "$$ s_i \\sim \\text{Normal}(\\mu_i, \\sigma) $$\n",
    "\n",
    "$$ \\mu_i = \\alpha  $$\n",
    "\n",
    "$$ \\alpha \\sim \\text{Normal}(0, 1) $$\n",
    "\n",
    "$$ \\sigma \\sim \\text{Exponential}(1) $$\n",
    "\n",
    "The `patient_id` variable is completely ignored. A subscript to denote the patient is not relevant here?"
   ]
  },
  {
   "cell_type": "code",
   "execution_count": 11,
   "metadata": {},
   "outputs": [
    {
     "data": {
      "text/html": [
       "<pre style=\"white-space:pre;overflow-x:auto;line-height:normal;font-family:Menlo,'DejaVu Sans Mono',consolas,'Courier New',monospace\">Sampling 4 chains, 0 divergences <span style=\"color: #1764f4; text-decoration-color: #1764f4\">━━━━━━━━━━━━━━━━━━━━━━━━━━━━━━━━━━━━</span><span style=\"color: #3a3a3a; text-decoration-color: #3a3a3a\">╺━━━</span> <span style=\"color: #800080; text-decoration-color: #800080\"> 90%</span> <span style=\"color: #008080; text-decoration-color: #008080\">0:00:02</span> / <span style=\"color: #808000; text-decoration-color: #808000\">0:00:09</span>\n",
       "</pre>\n"
      ],
      "text/plain": [
       "Sampling 4 chains, 0 divergences \u001b[38;2;23;100;244m━━━━━━━━━━━━━━━━━━━━━━━━━━━━━━━━━━━━\u001b[0m\u001b[38;5;237m╺\u001b[0m\u001b[38;5;237m━━━\u001b[0m \u001b[35m 90%\u001b[0m \u001b[36m0:00:02\u001b[0m / \u001b[33m0:00:09\u001b[0m\n"
      ]
     },
     "metadata": {},
     "output_type": "display_data"
    }
   ],
   "source": [
    "# complete pooling, intercepts only\n",
    "with pm.Model() as m0:\n",
    "\n",
    "    # priors\n",
    "    a = pm.Normal(\"a_bar\", 0.0, 1)\n",
    "    sigma = pm.Exponential(\"sigma\", 1.0)\n",
    "\n",
    "    # linear model\n",
    "    mu = a\n",
    "\n",
    "    # likelihood\n",
    "    s = pm.Normal(\"s\", mu=mu, sigma=sigma, observed=df_data[\"tumor_size_std\"])\n",
    "\n",
    "    trace_m0 = pm.sample(\n",
    "        draws=1000, random_seed=19, return_inferencedata=True, progressbar=True\n",
    "    )"
   ]
  },
  {
   "cell_type": "code",
   "execution_count": 12,
   "metadata": {},
   "outputs": [
    {
     "data": {
      "text/html": [
       "<div>\n",
       "<style scoped>\n",
       "    .dataframe tbody tr th:only-of-type {\n",
       "        vertical-align: middle;\n",
       "    }\n",
       "\n",
       "    .dataframe tbody tr th {\n",
       "        vertical-align: top;\n",
       "    }\n",
       "\n",
       "    .dataframe thead th {\n",
       "        text-align: right;\n",
       "    }\n",
       "</style>\n",
       "<table border=\"1\" class=\"dataframe\">\n",
       "  <thead>\n",
       "    <tr style=\"text-align: right;\">\n",
       "      <th></th>\n",
       "      <th>mean</th>\n",
       "      <th>sd</th>\n",
       "      <th>hdi_3%</th>\n",
       "      <th>hdi_97%</th>\n",
       "      <th>mcse_mean</th>\n",
       "      <th>mcse_sd</th>\n",
       "      <th>ess_bulk</th>\n",
       "      <th>ess_tail</th>\n",
       "      <th>r_hat</th>\n",
       "    </tr>\n",
       "  </thead>\n",
       "  <tbody>\n",
       "    <tr>\n",
       "      <th>a_bar</th>\n",
       "      <td>-0.002</td>\n",
       "      <td>0.081</td>\n",
       "      <td>-0.161</td>\n",
       "      <td>0.141</td>\n",
       "      <td>0.001</td>\n",
       "      <td>0.001</td>\n",
       "      <td>4201.0</td>\n",
       "      <td>2889.0</td>\n",
       "      <td>1.0</td>\n",
       "    </tr>\n",
       "    <tr>\n",
       "      <th>sigma</th>\n",
       "      <td>1.009</td>\n",
       "      <td>0.059</td>\n",
       "      <td>0.892</td>\n",
       "      <td>1.114</td>\n",
       "      <td>0.001</td>\n",
       "      <td>0.001</td>\n",
       "      <td>4028.0</td>\n",
       "      <td>2539.0</td>\n",
       "      <td>1.0</td>\n",
       "    </tr>\n",
       "  </tbody>\n",
       "</table>\n",
       "</div>"
      ],
      "text/plain": [
       "        mean     sd  hdi_3%  hdi_97%  mcse_mean  mcse_sd  ess_bulk  ess_tail  \\\n",
       "a_bar -0.002  0.081  -0.161    0.141      0.001    0.001    4201.0    2889.0   \n",
       "sigma  1.009  0.059   0.892    1.114      0.001    0.001    4028.0    2539.0   \n",
       "\n",
       "       r_hat  \n",
       "a_bar    1.0  \n",
       "sigma    1.0  "
      ]
     },
     "execution_count": 12,
     "metadata": {},
     "output_type": "execute_result"
    }
   ],
   "source": [
    "az.summary(trace_m0)"
   ]
  },
  {
   "cell_type": "code",
   "execution_count": 13,
   "metadata": {},
   "outputs": [
    {
     "data": {
      "text/plain": [
       "<Axes: >"
      ]
     },
     "execution_count": 13,
     "metadata": {},
     "output_type": "execute_result"
    },
    {
     "data": {
      "image/png": "[encoded data removed]",
      "text/plain": [
       "<Figure size 1200x500 with 2 Axes>"
      ]
     },
     "metadata": {},
     "output_type": "display_data"
    }
   ],
   "source": [
    "f, (ax0, ax1) = plt.subplots(1, 2, figsize=(12, 5))  # do add subplots\n",
    "df_data[\"tumor_size\"].hist(ax=ax0)\n",
    "df_data[\"tumor_size_std\"].hist(ax=ax1)"
   ]
  },
  {
   "cell_type": "markdown",
   "metadata": {},
   "source": [
    "## Model 1: no pooling\n",
    "Acknowledge that there are patient clusters but do not share any information across them. In other words have a prior but no adaptive regularization.\n",
    "\n",
    "$$ s_i \\sim \\text{Normal}(\\mu_i, \\sigma) $$\n",
    "\n",
    "$$ \\mu_i = \\alpha_{\\text{pt[i]}}  $$\n",
    "\n",
    "$$ \\alpha_j \\sim \\text{Normal}(0, 1) $$\n",
    "\n",
    "$$ \\sigma \\sim \\text{Exponential}(1) $$"
   ]
  },
  {
   "cell_type": "code",
   "execution_count": 14,
   "metadata": {},
   "outputs": [
    {
     "name": "stderr",
     "output_type": "stream",
     "text": [
      "Auto-assigning NUTS sampler...\n",
      "Initializing NUTS using jitter+adapt_diag...\n",
      "Multiprocess sampling (4 chains in 4 jobs)\n",
      "NUTS: [a, sigma]\n"
     ]
    },
    {
     "data": {
      "application/vnd.jupyter.widget-view+json": {
       "model_id": "b8fd3c22cd52482d940a5e020638335e",
       "version_major": 2,
       "version_minor": 0
      },
      "text/plain": [
       "Output()"
      ]
     },
     "metadata": {},
     "output_type": "display_data"
    },
    {
     "name": "stderr",
     "output_type": "stream",
     "text": [
      "IOPub message rate exceeded.\n",
      "The Jupyter server will temporarily stop sending output\n",
      "to the client in order to avoid crashing it.\n",
      "To change this limit, set the config variable\n",
      "`--ServerApp.iopub_msg_rate_limit`.\n",
      "\n",
      "Current values:\n",
      "ServerApp.iopub_msg_rate_limit=1000.0 (msgs/sec)\n",
      "ServerApp.rate_limit_window=3.0 (secs)\n",
      "\n"
     ]
    },
    {
     "data": {
      "text/html": [
       "<pre style=\"white-space:pre;overflow-x:auto;line-height:normal;font-family:Menlo,'DejaVu Sans Mono',consolas,'Courier New',monospace\">Sampling 4 chains, 0 divergences <span style=\"color: #1764f4; text-decoration-color: #1764f4\">━━━━━━━━━━━━━━━━━━━━━━━╸</span><span style=\"color: #3a3a3a; text-decoration-color: #3a3a3a\">━━━━━━━━━━━━━━━━</span> <span style=\"color: #800080; text-decoration-color: #800080\"> 60%</span> <span style=\"color: #008080; text-decoration-color: #008080\">0:00:05</span> / <span style=\"color: #808000; text-decoration-color: #808000\">0:00:06</span>\n",
       "</pre>\n"
      ],
      "text/plain": [
       "Sampling 4 chains, 0 divergences \u001b[38;2;23;100;244m━━━━━━━━━━━━━━━━━━━━━━━\u001b[0m\u001b[38;2;23;100;244m╸\u001b[0m\u001b[38;5;237m━━━━━━━━━━━━━━━━\u001b[0m \u001b[35m 60%\u001b[0m \u001b[36m0:00:05\u001b[0m / \u001b[33m0:00:06\u001b[0m\n"
      ]
     },
     "metadata": {},
     "output_type": "display_data"
    },
    {
     "name": "stderr",
     "output_type": "stream",
     "text": [
      "IOPub message rate exceeded.\n",
      "The Jupyter server will temporarily stop sending output\n",
      "to the client in order to avoid crashing it.\n",
      "To change this limit, set the config variable\n",
      "`--ServerApp.iopub_msg_rate_limit`.\n",
      "\n",
      "Current values:\n",
      "ServerApp.iopub_msg_rate_limit=1000.0 (msgs/sec)\n",
      "ServerApp.rate_limit_window=3.0 (secs)\n",
      "\n"
     ]
    }
   ],
   "source": [
    "# no pooling, intercepts only\n",
    "with pm.Model() as m1:\n",
    "\n",
    "    # priors\n",
    "    a = pm.Normal(\"a\", 0.0, 1, shape=df_data[\"patient_id\"].nunique())\n",
    "    sigma = pm.Exponential(\"sigma\", 1.0)\n",
    "\n",
    "    # linear model... # initialize with pymc data?... represent patient as its own cluster\n",
    "    mu = a[df_data[\"patient_id\"]]\n",
    "\n",
    "    # likelihood\n",
    "    s = pm.Normal(\"s\", mu=mu, sigma=sigma, observed=df_data[\"tumor_size_std\"])\n",
    "\n",
    "    trace_m1 = pm.sample(\n",
    "        draws=1000, random_seed=19, return_inferencedata=True, progressbar=True\n",
    "    )"
   ]
  },
  {
   "cell_type": "code",
   "execution_count": 15,
   "metadata": {},
   "outputs": [
    {
     "data": {
      "text/html": [
       "<div>\n",
       "<style scoped>\n",
       "    .dataframe tbody tr th:only-of-type {\n",
       "        vertical-align: middle;\n",
       "    }\n",
       "\n",
       "    .dataframe tbody tr th {\n",
       "        vertical-align: top;\n",
       "    }\n",
       "\n",
       "    .dataframe thead th {\n",
       "        text-align: right;\n",
       "    }\n",
       "</style>\n",
       "<table border=\"1\" class=\"dataframe\">\n",
       "  <thead>\n",
       "    <tr style=\"text-align: right;\">\n",
       "      <th></th>\n",
       "      <th>mean</th>\n",
       "      <th>sd</th>\n",
       "      <th>hdi_3%</th>\n",
       "      <th>hdi_97%</th>\n",
       "      <th>mcse_mean</th>\n",
       "      <th>mcse_sd</th>\n",
       "      <th>ess_bulk</th>\n",
       "      <th>ess_tail</th>\n",
       "      <th>r_hat</th>\n",
       "    </tr>\n",
       "  </thead>\n",
       "  <tbody>\n",
       "    <tr>\n",
       "      <th>a[0]</th>\n",
       "      <td>0.249</td>\n",
       "      <td>0.296</td>\n",
       "      <td>-0.324</td>\n",
       "      <td>0.794</td>\n",
       "      <td>0.003</td>\n",
       "      <td>0.004</td>\n",
       "      <td>7399.0</td>\n",
       "      <td>2915.0</td>\n",
       "      <td>1.0</td>\n",
       "    </tr>\n",
       "    <tr>\n",
       "      <th>a[1]</th>\n",
       "      <td>-0.644</td>\n",
       "      <td>0.296</td>\n",
       "      <td>-1.198</td>\n",
       "      <td>-0.087</td>\n",
       "      <td>0.003</td>\n",
       "      <td>0.003</td>\n",
       "      <td>8740.0</td>\n",
       "      <td>3331.0</td>\n",
       "      <td>1.0</td>\n",
       "    </tr>\n",
       "    <tr>\n",
       "      <th>a[2]</th>\n",
       "      <td>0.381</td>\n",
       "      <td>0.300</td>\n",
       "      <td>-0.178</td>\n",
       "      <td>0.942</td>\n",
       "      <td>0.003</td>\n",
       "      <td>0.003</td>\n",
       "      <td>9641.0</td>\n",
       "      <td>2892.0</td>\n",
       "      <td>1.0</td>\n",
       "    </tr>\n",
       "    <tr>\n",
       "      <th>a[3]</th>\n",
       "      <td>0.831</td>\n",
       "      <td>0.297</td>\n",
       "      <td>0.259</td>\n",
       "      <td>1.383</td>\n",
       "      <td>0.003</td>\n",
       "      <td>0.003</td>\n",
       "      <td>7541.0</td>\n",
       "      <td>2610.0</td>\n",
       "      <td>1.0</td>\n",
       "    </tr>\n",
       "    <tr>\n",
       "      <th>a[4]</th>\n",
       "      <td>0.426</td>\n",
       "      <td>0.295</td>\n",
       "      <td>-0.128</td>\n",
       "      <td>0.968</td>\n",
       "      <td>0.003</td>\n",
       "      <td>0.003</td>\n",
       "      <td>9279.0</td>\n",
       "      <td>2689.0</td>\n",
       "      <td>1.0</td>\n",
       "    </tr>\n",
       "  </tbody>\n",
       "</table>\n",
       "</div>"
      ],
      "text/plain": [
       "       mean     sd  hdi_3%  hdi_97%  mcse_mean  mcse_sd  ess_bulk  ess_tail  \\\n",
       "a[0]  0.249  0.296  -0.324    0.794      0.003    0.004    7399.0    2915.0   \n",
       "a[1] -0.644  0.296  -1.198   -0.087      0.003    0.003    8740.0    3331.0   \n",
       "a[2]  0.381  0.300  -0.178    0.942      0.003    0.003    9641.0    2892.0   \n",
       "a[3]  0.831  0.297   0.259    1.383      0.003    0.003    7541.0    2610.0   \n",
       "a[4]  0.426  0.295  -0.128    0.968      0.003    0.003    9279.0    2689.0   \n",
       "\n",
       "      r_hat  \n",
       "a[0]    1.0  \n",
       "a[1]    1.0  \n",
       "a[2]    1.0  \n",
       "a[3]    1.0  \n",
       "a[4]    1.0  "
      ]
     },
     "execution_count": 15,
     "metadata": {},
     "output_type": "execute_result"
    }
   ],
   "source": [
    "az.summary(trace_m1).head()"
   ]
  },
  {
   "cell_type": "code",
   "execution_count": 16,
   "metadata": {},
   "outputs": [
    {
     "data": {
      "image/png": "[encoded data removed]",
      "text/plain": [
       "<Figure size 640x480 with 1 Axes>"
      ]
     },
     "metadata": {},
     "output_type": "display_data"
    }
   ],
   "source": [
    "f, ax = plt.subplots()\n",
    "ax.scatter(\n",
    "    az.summary(trace_m1, var_names=[\"a\"])[\"mean\"],\n",
    "    standardize(df_data.groupby(\"patient_id\")[\"tumor_size\"].mean()),\n",
    ")\n",
    "ax.plot([0, 1], [0, 1], transform=ax.transAxes, linestyle=\"dashed\", color=\"gray\")\n",
    "ax.set(xlabel=\"raw data\", ylabel=\"model parameter of intercepts\");"
   ]
  },
  {
   "cell_type": "markdown",
   "metadata": {},
   "source": [
    "## Model 2: partial pooling (varying intercepts)\n",
    "\n",
    "$$ s_i \\sim \\text{Normal}(\\mu_i, \\sigma) $$\n",
    "\n",
    "$$ \\mu_i = \\alpha_{\\text{pt[i]}}  $$\n",
    "\n",
    "$$ \\alpha_j \\sim \\text{Normal}(\\bar{\\alpha}, \\sigma_{\\text{pt}}) $$\n",
    "\n",
    "$$ \\bar{\\alpha} \\sim \\text{Normal}(0, 1) $$\n",
    "\n",
    "\n",
    "\n",
    "$$ \\sigma_{\\text{pt}} \\sim \\text{Exponential}(1) $$\n",
    "\n",
    "$$ \\sigma \\sim \\text{Exponential}(1) $$\n",
    "\n",
    "**Question**\n",
    "- can sigma parameter be partially pooled?"
   ]
  },
  {
   "cell_type": "code",
   "execution_count": 17,
   "metadata": {},
   "outputs": [
    {
     "name": "stderr",
     "output_type": "stream",
     "text": [
      "Auto-assigning NUTS sampler...\n",
      "Initializing NUTS using jitter+adapt_diag...\n",
      "Multiprocess sampling (4 chains in 4 jobs)\n",
      "NUTS: [a_bar, sigma, sigma_pt, a]\n"
     ]
    },
    {
     "data": {
      "application/vnd.jupyter.widget-view+json": {
       "model_id": "0de7d047f4b341a1b1648b639c9ce405",
       "version_major": 2,
       "version_minor": 0
      },
      "text/plain": [
       "Output()"
      ]
     },
     "metadata": {},
     "output_type": "display_data"
    }
   ],
   "source": [
    "# multilevel model, random intercepts\n",
    "with pm.Model() as m2:\n",
    "\n",
    "    # prior for average patient\n",
    "    a_bar = pm.Normal(\"a_bar\", 0.0, 1)\n",
    "    sigma = pm.Exponential(\"sigma\", 1.0)\n",
    "\n",
    "    # prior for SD of patients\n",
    "    sigma_pt = pm.Exponential(\"sigma_pt\", 1.0)\n",
    "\n",
    "    # alpha priors for each patient\n",
    "    a = pm.Normal(\"a\", a_bar, sigma_pt, shape=len(df_data[\"patient_id\"].unique()))\n",
    "\n",
    "    # linear model\n",
    "    mu = a[df_data[\"patient_id\"]]\n",
    "\n",
    "    # likelihood\n",
    "    s = pm.Normal(\"s\", mu=mu, sigma=sigma, observed=df_data[\"tumor_size_std\"])\n",
    "\n",
    "    trace_m2 = pm.sample(\n",
    "        draws=1000, random_seed=19, return_inferencedata=True, progressbar=True\n",
    "    )"
   ]
  },
  {
   "cell_type": "code",
   "execution_count": 18,
   "metadata": {},
   "outputs": [
    {
     "data": {
      "text/html": [
       "<div>\n",
       "<style scoped>\n",
       "    .dataframe tbody tr th:only-of-type {\n",
       "        vertical-align: middle;\n",
       "    }\n",
       "\n",
       "    .dataframe tbody tr th {\n",
       "        vertical-align: top;\n",
       "    }\n",
       "\n",
       "    .dataframe thead th {\n",
       "        text-align: right;\n",
       "    }\n",
       "</style>\n",
       "<table border=\"1\" class=\"dataframe\">\n",
       "  <thead>\n",
       "    <tr style=\"text-align: right;\">\n",
       "      <th></th>\n",
       "      <th>mean</th>\n",
       "      <th>sd</th>\n",
       "      <th>hdi_3%</th>\n",
       "      <th>hdi_97%</th>\n",
       "      <th>mcse_mean</th>\n",
       "      <th>mcse_sd</th>\n",
       "      <th>ess_bulk</th>\n",
       "      <th>ess_tail</th>\n",
       "      <th>r_hat</th>\n",
       "    </tr>\n",
       "  </thead>\n",
       "  <tbody>\n",
       "    <tr>\n",
       "      <th>a[0]</th>\n",
       "      <td>0.236</td>\n",
       "      <td>0.287</td>\n",
       "      <td>-0.290</td>\n",
       "      <td>0.773</td>\n",
       "      <td>0.003</td>\n",
       "      <td>0.004</td>\n",
       "      <td>9775.0</td>\n",
       "      <td>3129.0</td>\n",
       "      <td>1.0</td>\n",
       "    </tr>\n",
       "    <tr>\n",
       "      <th>a[1]</th>\n",
       "      <td>-0.603</td>\n",
       "      <td>0.293</td>\n",
       "      <td>-1.152</td>\n",
       "      <td>-0.035</td>\n",
       "      <td>0.003</td>\n",
       "      <td>0.003</td>\n",
       "      <td>10061.0</td>\n",
       "      <td>3014.0</td>\n",
       "      <td>1.0</td>\n",
       "    </tr>\n",
       "    <tr>\n",
       "      <th>a[2]</th>\n",
       "      <td>0.359</td>\n",
       "      <td>0.287</td>\n",
       "      <td>-0.179</td>\n",
       "      <td>0.897</td>\n",
       "      <td>0.003</td>\n",
       "      <td>0.003</td>\n",
       "      <td>7390.0</td>\n",
       "      <td>2768.0</td>\n",
       "      <td>1.0</td>\n",
       "    </tr>\n",
       "    <tr>\n",
       "      <th>a[3]</th>\n",
       "      <td>0.773</td>\n",
       "      <td>0.288</td>\n",
       "      <td>0.254</td>\n",
       "      <td>1.322</td>\n",
       "      <td>0.003</td>\n",
       "      <td>0.003</td>\n",
       "      <td>8147.0</td>\n",
       "      <td>2850.0</td>\n",
       "      <td>1.0</td>\n",
       "    </tr>\n",
       "    <tr>\n",
       "      <th>a[4]</th>\n",
       "      <td>0.398</td>\n",
       "      <td>0.292</td>\n",
       "      <td>-0.171</td>\n",
       "      <td>0.928</td>\n",
       "      <td>0.003</td>\n",
       "      <td>0.003</td>\n",
       "      <td>8075.0</td>\n",
       "      <td>2811.0</td>\n",
       "      <td>1.0</td>\n",
       "    </tr>\n",
       "  </tbody>\n",
       "</table>\n",
       "</div>"
      ],
      "text/plain": [
       "       mean     sd  hdi_3%  hdi_97%  mcse_mean  mcse_sd  ess_bulk  ess_tail  \\\n",
       "a[0]  0.236  0.287  -0.290    0.773      0.003    0.004    9775.0    3129.0   \n",
       "a[1] -0.603  0.293  -1.152   -0.035      0.003    0.003   10061.0    3014.0   \n",
       "a[2]  0.359  0.287  -0.179    0.897      0.003    0.003    7390.0    2768.0   \n",
       "a[3]  0.773  0.288   0.254    1.322      0.003    0.003    8147.0    2850.0   \n",
       "a[4]  0.398  0.292  -0.171    0.928      0.003    0.003    8075.0    2811.0   \n",
       "\n",
       "      r_hat  \n",
       "a[0]    1.0  \n",
       "a[1]    1.0  \n",
       "a[2]    1.0  \n",
       "a[3]    1.0  \n",
       "a[4]    1.0  "
      ]
     },
     "execution_count": 18,
     "metadata": {},
     "output_type": "execute_result"
    }
   ],
   "source": [
    "az.summary(trace_m2, var_names=[\"a\"]).head()"
   ]
  },
  {
   "cell_type": "code",
   "execution_count": 19,
   "metadata": {},
   "outputs": [
    {
     "data": {
      "text/html": [
       "<div>\n",
       "<style scoped>\n",
       "    .dataframe tbody tr th:only-of-type {\n",
       "        vertical-align: middle;\n",
       "    }\n",
       "\n",
       "    .dataframe tbody tr th {\n",
       "        vertical-align: top;\n",
       "    }\n",
       "\n",
       "    .dataframe thead th {\n",
       "        text-align: right;\n",
       "    }\n",
       "</style>\n",
       "<table border=\"1\" class=\"dataframe\">\n",
       "  <thead>\n",
       "    <tr style=\"text-align: right;\">\n",
       "      <th></th>\n",
       "      <th>mean</th>\n",
       "      <th>sd</th>\n",
       "      <th>hdi_3%</th>\n",
       "      <th>hdi_97%</th>\n",
       "      <th>mcse_mean</th>\n",
       "      <th>mcse_sd</th>\n",
       "      <th>ess_bulk</th>\n",
       "      <th>ess_tail</th>\n",
       "      <th>r_hat</th>\n",
       "    </tr>\n",
       "  </thead>\n",
       "  <tbody>\n",
       "    <tr>\n",
       "      <th>a_bar</th>\n",
       "      <td>0.003</td>\n",
       "      <td>0.150</td>\n",
       "      <td>-0.286</td>\n",
       "      <td>0.284</td>\n",
       "      <td>0.002</td>\n",
       "      <td>0.002</td>\n",
       "      <td>6844.0</td>\n",
       "      <td>3590.0</td>\n",
       "      <td>1.0</td>\n",
       "    </tr>\n",
       "    <tr>\n",
       "      <th>sigma</th>\n",
       "      <td>0.695</td>\n",
       "      <td>0.045</td>\n",
       "      <td>0.611</td>\n",
       "      <td>0.778</td>\n",
       "      <td>0.001</td>\n",
       "      <td>0.000</td>\n",
       "      <td>4631.0</td>\n",
       "      <td>2655.0</td>\n",
       "      <td>1.0</td>\n",
       "    </tr>\n",
       "  </tbody>\n",
       "</table>\n",
       "</div>"
      ],
      "text/plain": [
       "        mean     sd  hdi_3%  hdi_97%  mcse_mean  mcse_sd  ess_bulk  ess_tail  \\\n",
       "a_bar  0.003  0.150  -0.286    0.284      0.002    0.002    6844.0    3590.0   \n",
       "sigma  0.695  0.045   0.611    0.778      0.001    0.000    4631.0    2655.0   \n",
       "\n",
       "       r_hat  \n",
       "a_bar    1.0  \n",
       "sigma    1.0  "
      ]
     },
     "execution_count": 19,
     "metadata": {},
     "output_type": "execute_result"
    }
   ],
   "source": [
    "az.summary(trace_m2, var_names=[\"a_bar\", \"sigma\"]).head()"
   ]
  },
  {
   "cell_type": "markdown",
   "metadata": {},
   "source": [
    "## Comparison of estimates with no pooling, partial pooling\n"
   ]
  },
  {
   "cell_type": "markdown",
   "metadata": {},
   "source": [
    "While there isn't an appreciable difference, the multilevel model has a lower standard deviation for each cluster. This is the partial pooling effect."
   ]
  },
  {
   "cell_type": "code",
   "execution_count": 20,
   "metadata": {},
   "outputs": [
    {
     "data": {
      "image/png": "[encoded data removed]",
      "text/plain": [
       "<Figure size 1200x500 with 2 Axes>"
      ]
     },
     "metadata": {},
     "output_type": "display_data"
    }
   ],
   "source": [
    "f, (ax0, ax1) = plt.subplots(1, 2, figsize=(12, 5))\n",
    "\n",
    "# means\n",
    "ax0.scatter(\n",
    "    az.summary(trace_m1, var_names=[\"a\"])[\"mean\"],\n",
    "    az.summary(trace_m2, var_names=[\"a\"])[\"mean\"],\n",
    "    facecolors=\"none\",\n",
    "    edgecolors=\"k\",\n",
    ")\n",
    "ax0.plot([0, 1], [0, 1], transform=ax0.transAxes, linestyle=\"dashed\", color=\"gray\")\n",
    "ax0.set(\n",
    "    xlabel=\"no pooling\",\n",
    "    ylabel=\"partial pooling\",\n",
    "    title=\"Intercepts\\n(mean)\",\n",
    ")\n",
    "\n",
    "# SD\n",
    "ax1.scatter(\n",
    "    az.summary(trace_m1, var_names=[\"a\"])[\"sd\"],\n",
    "    az.summary(trace_m2, var_names=[\"a\"])[\"sd\"],\n",
    "    facecolors=\"none\",\n",
    "    edgecolors=\"k\",\n",
    ")\n",
    "ax1.plot([0, 1], [0, 1], transform=ax0.transAxes, linestyle=\"dashed\", color=\"gray\")\n",
    "ax1.set(\n",
    "    xlabel=\"no pooling\",\n",
    "    ylabel=\"partial pooling\",\n",
    "    title=\"intercepts\\n(standard deviation)\",\n",
    ")\n",
    "ax1.plot([0, 1], [0, 1], transform=ax1.transAxes, linestyle=\"dashed\", color=\"gray\")\n",
    "\n",
    "# Calculate the minimum and maximum of both x and y data\n",
    "data_min = min(\n",
    "    min(az.summary(trace_m1, var_names=[\"a\"])[\"sd\"]),\n",
    "    min(az.summary(trace_m2, var_names=[\"a\"])[\"sd\"]),\n",
    ")\n",
    "data_max = max(\n",
    "    max(az.summary(trace_m1, var_names=[\"a\"])[\"sd\"]),\n",
    "    max(az.summary(trace_m2, var_names=[\"a\"])[\"sd\"]),\n",
    ")\n",
    "\n",
    "# Set the limits to be the same for both axes\n",
    "ax1.set_xlim(data_min * 0.95, data_max * 1.05)\n",
    "ax1.set_ylim(data_min * 0.95, data_max * 1.05)\n",
    "\n",
    "f.tight_layout()"
   ]
  },
  {
   "cell_type": "markdown",
   "metadata": {},
   "source": [
    "You can see that partial pooling decreases the standard error of the intercept parameter in most cases, even though the mean estimate does not really change. Let's see how to implement this in statsmodels."
   ]
  },
  {
   "cell_type": "markdown",
   "metadata": {},
   "source": [
    "# Using statsmodels\n",
    "\n",
    "Using probabilistic programming provides a nice framework to get the random intercepts with probability distributions. But it may not scale as well. Let's explore varying intercepts using statsmodels."
   ]
  },
  {
   "cell_type": "markdown",
   "metadata": {},
   "source": [
    "## Varying intercept model"
   ]
  },
  {
   "cell_type": "code",
   "execution_count": 26,
   "metadata": {},
   "outputs": [
    {
     "name": "stdout",
     "output_type": "stream",
     "text": [
      "           Mixed Linear Model Regression Results\n",
      "============================================================\n",
      "Model:            MixedLM Dependent Variable: tumor_size_std\n",
      "No. Observations: 150     Method:             REML          \n",
      "No. Groups:       30      Scale:              0.4754        \n",
      "Min. group size:  5       Log-Likelihood:     -186.1971     \n",
      "Max. group size:  5       Converged:          Yes           \n",
      "Mean group size:  5.0                                       \n",
      "-------------------------------------------------------------\n",
      "              Coef.   Std.Err.    z     P>|z|  [0.025  0.975]\n",
      "-------------------------------------------------------------\n",
      "Intercept     -0.000     0.146  -0.000  1.000  -0.287   0.287\n",
      "Group Var      0.546     0.272                               \n",
      "============================================================\n",
      "\n"
     ]
    }
   ],
   "source": [
    "# Define the mixed-effects model formula with only varying intercepts\n",
    "model = smf.mixedlm(\"tumor_size_std ~ 1\", df_data, groups=df_data[\"patient_id\"])\n",
    "\n",
    "# Fit the model\n",
    "result = model.fit()\n",
    "\n",
    "# Print the summary of the model\n",
    "print(result.summary())"
   ]
  },
  {
   "cell_type": "markdown",
   "metadata": {},
   "source": [
    "The main thing we want to look at is the bottom of the table. `Intercept` refers to the population's average ($\\bar{\\alpha}$ while `Group Var` refers to the variance of the random intercepts associated with the grouping variable (`patient_id`) which is `sigma_pt` in the `pymc` model. We can see that these are largely in alignment with the `pymc` results even if `Group Var`/`sigma_pt` differ in their means."
   ]
  },
  {
   "cell_type": "code",
   "execution_count": 54,
   "metadata": {},
   "outputs": [
    {
     "data": {
      "text/html": [
       "<div>\n",
       "<style scoped>\n",
       "    .dataframe tbody tr th:only-of-type {\n",
       "        vertical-align: middle;\n",
       "    }\n",
       "\n",
       "    .dataframe tbody tr th {\n",
       "        vertical-align: top;\n",
       "    }\n",
       "\n",
       "    .dataframe thead th {\n",
       "        text-align: right;\n",
       "    }\n",
       "</style>\n",
       "<table border=\"1\" class=\"dataframe\">\n",
       "  <thead>\n",
       "    <tr style=\"text-align: right;\">\n",
       "      <th></th>\n",
       "      <th>mean</th>\n",
       "      <th>sd</th>\n",
       "      <th>hdi_3%</th>\n",
       "      <th>hdi_97%</th>\n",
       "      <th>mcse_mean</th>\n",
       "      <th>mcse_sd</th>\n",
       "      <th>ess_bulk</th>\n",
       "      <th>ess_tail</th>\n",
       "      <th>r_hat</th>\n",
       "    </tr>\n",
       "  </thead>\n",
       "  <tbody>\n",
       "    <tr>\n",
       "      <th>a_bar</th>\n",
       "      <td>0.003</td>\n",
       "      <td>0.150</td>\n",
       "      <td>-0.286</td>\n",
       "      <td>0.284</td>\n",
       "      <td>0.002</td>\n",
       "      <td>0.002</td>\n",
       "      <td>6844.0</td>\n",
       "      <td>3590.0</td>\n",
       "      <td>1.0</td>\n",
       "    </tr>\n",
       "    <tr>\n",
       "      <th>sigma_pt</th>\n",
       "      <td>0.759</td>\n",
       "      <td>0.121</td>\n",
       "      <td>0.538</td>\n",
       "      <td>0.981</td>\n",
       "      <td>0.002</td>\n",
       "      <td>0.001</td>\n",
       "      <td>5584.0</td>\n",
       "      <td>3368.0</td>\n",
       "      <td>1.0</td>\n",
       "    </tr>\n",
       "  </tbody>\n",
       "</table>\n",
       "</div>"
      ],
      "text/plain": [
       "           mean     sd  hdi_3%  hdi_97%  mcse_mean  mcse_sd  ess_bulk  \\\n",
       "a_bar     0.003  0.150  -0.286    0.284      0.002    0.002    6844.0   \n",
       "sigma_pt  0.759  0.121   0.538    0.981      0.002    0.001    5584.0   \n",
       "\n",
       "          ess_tail  r_hat  \n",
       "a_bar       3590.0    1.0  \n",
       "sigma_pt    3368.0    1.0  "
      ]
     },
     "execution_count": 54,
     "metadata": {},
     "output_type": "execute_result"
    }
   ],
   "source": [
    "az.summary(trace_m2, var_names=[\"a_bar\", \"sigma_pt\"])"
   ]
  },
  {
   "cell_type": "markdown",
   "metadata": {},
   "source": [
    "# Comparing `pymc` and `statsmodels` output"
   ]
  },
  {
   "cell_type": "markdown",
   "metadata": {},
   "source": [
    "Now let's see how each individual patient's estimates look between `pymc` and `statsmodels`. Statsmodels doesn't provide the SD directly. It may be derived by bootstrapping but we'll ignore this for now."
   ]
  },
  {
   "cell_type": "code",
   "execution_count": 42,
   "metadata": {
    "scrolled": true
   },
   "outputs": [
    {
     "data": {
      "text/html": [
       "<div>\n",
       "<style scoped>\n",
       "    .dataframe tbody tr th:only-of-type {\n",
       "        vertical-align: middle;\n",
       "    }\n",
       "\n",
       "    .dataframe tbody tr th {\n",
       "        vertical-align: top;\n",
       "    }\n",
       "\n",
       "    .dataframe thead th {\n",
       "        text-align: right;\n",
       "    }\n",
       "</style>\n",
       "<table border=\"1\" class=\"dataframe\">\n",
       "  <thead>\n",
       "    <tr style=\"text-align: right;\">\n",
       "      <th></th>\n",
       "      <th>Patient</th>\n",
       "      <th>random_effect_mean</th>\n",
       "    </tr>\n",
       "  </thead>\n",
       "  <tbody>\n",
       "    <tr>\n",
       "      <th>0</th>\n",
       "      <td>0</td>\n",
       "      <td>0.237706</td>\n",
       "    </tr>\n",
       "    <tr>\n",
       "      <th>1</th>\n",
       "      <td>1</td>\n",
       "      <td>-0.603279</td>\n",
       "    </tr>\n",
       "    <tr>\n",
       "      <th>2</th>\n",
       "      <td>2</td>\n",
       "      <td>0.358260</td>\n",
       "    </tr>\n",
       "    <tr>\n",
       "      <th>3</th>\n",
       "      <td>3</td>\n",
       "      <td>0.775414</td>\n",
       "    </tr>\n",
       "    <tr>\n",
       "      <th>4</th>\n",
       "      <td>4</td>\n",
       "      <td>0.398535</td>\n",
       "    </tr>\n",
       "  </tbody>\n",
       "</table>\n",
       "</div>"
      ],
      "text/plain": [
       "   Patient  random_effect_mean\n",
       "0        0            0.237706\n",
       "1        1           -0.603279\n",
       "2        2            0.358260\n",
       "3        3            0.775414\n",
       "4        4            0.398535"
      ]
     },
     "execution_count": 42,
     "metadata": {},
     "output_type": "execute_result"
    }
   ],
   "source": [
    "# Extract the random effects\n",
    "df_smf_random_effects = (\n",
    "    pd.DataFrame(result.random_effects)\n",
    "    .T.reset_index()\n",
    "    .rename(columns={\"index\": \"Patient\", \"Group\": \"random_effect_mean\"})\n",
    ")\n",
    "\n",
    "df_smf_random_effects.head()"
   ]
  },
  {
   "cell_type": "code",
   "execution_count": 55,
   "metadata": {},
   "outputs": [
    {
     "data": {
      "image/png": "[encoded data removed]",
      "text/plain": [
       "<Figure size 1200x500 with 1 Axes>"
      ]
     },
     "metadata": {},
     "output_type": "display_data"
    }
   ],
   "source": [
    "f = plt.figure(figsize=(12, 5))\n",
    "ax = f.add_subplot(1, 2, 1)\n",
    "\n",
    "ax.scatter(\n",
    "    az.summary(trace_m2, var_names=[\"a\"])[\"mean\"],\n",
    "    df_smf_random_effects['random_effect_mean'],\n",
    "    facecolors=\"none\",\n",
    "    edgecolors=\"k\",\n",
    ")\n",
    "ax.plot([0, 1], [0, 1], transform=ax.transAxes, linestyle=\"dashed\", color=\"gray\");\n",
    "ax.set(\n",
    "    xlabel=\"pymc\",\n",
    "    ylabel=\"statsmodels\",\n",
    "    title=\"Varying intercepts estimate\\nby package\",\n",
    ");"
   ]
  },
  {
   "cell_type": "markdown",
   "metadata": {},
   "source": [
    "As we can see, the two packages give essentially the same results for varying intercepts."
   ]
  },
  {
   "cell_type": "code",
   "execution_count": 21,
   "metadata": {},
   "outputs": [
    {
     "name": "stdout",
     "output_type": "stream",
     "text": [
      "Last updated: Tue May 28 2024\n",
      "\n",
      "Python implementation: CPython\n",
      "Python version       : 3.12.3\n",
      "IPython version      : 8.24.0\n",
      "\n",
      "pymc       : 5.15.0\n",
      "graphviz   : 0.20.3\n",
      "seaborn    : 0.13.2\n",
      "matplotlib : 3.8.4\n",
      "statsmodels: 0.14.2\n",
      "scipy      : 1.13.0\n",
      "numpy      : 1.26.4\n",
      "pandas     : 2.2.2\n",
      "arviz      : 0.18.0\n",
      "\n",
      "Watermark: 2.4.3\n",
      "\n"
     ]
    }
   ],
   "source": [
    "%load_ext watermark\n",
    "%watermark -n -u -v -iv -w"
   ]
  }
 ],
 "metadata": {
  "kernelspec": {
   "display_name": "Python 3 (ipykernel)",
   "language": "python",
   "name": "python3"
  },
  "language_info": {
   "codemirror_mode": {
    "name": "ipython",
    "version": 3
   },
   "file_extension": ".py",
   "mimetype": "text/x-python",
   "name": "python",
   "nbconvert_exporter": "python",
   "pygments_lexer": "ipython3",
   "version": "3.12.3"
  }
 },
 "nbformat": 4,
 "nbformat_minor": 4
}
