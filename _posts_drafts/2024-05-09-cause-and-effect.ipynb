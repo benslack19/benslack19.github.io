{
 "cells": [
  {
   "cell_type": "markdown",
   "metadata": {},
   "source": [
    "\n",
    "---\n",
    "title: \"Cause and effect\"\n",
    "mathjax: true\n",
    "toc: true\n",
    "toc_sticky: true\n",
    "categories: [data science, statistics]\n",
    "---\n",
    "\n",
    "I'm basically a fan-boy of Richard McElreath's Statistical Rethinking. That's no secret. But I thought it would be prudent to learn more about causal inference and from other sources. I found [Causal Inference with Survey Data](https://www.linkedin.com/learning/causal-inference-with-survey-data/observables-vs-unobservables-causes?u=185169545) on LinkedIn Learning, given by Franz Buscha. I'm using this series of posts to take some notes. In addition, the lectures show some example code in another language (STATA, I believe) and so I thought coding them in Python could reinforce the learning lessons for me."
   ]
  },
  {
   "cell_type": "code",
   "execution_count": 24,
   "metadata": {},
   "outputs": [],
   "source": [
    "from scipy import stats\n",
    "import statsmodels.api as sm"
   ]
  },
  {
   "cell_type": "markdown",
   "metadata": {},
   "source": [
    "# Introduction of cause and effect\n",
    "- Causal inference matters because it helps distinguish variables that are associations from those that can be causal. It's very common to misunderstand data causality unfortunately.\n",
    "- Experiments are the gold standard because it can be used to control confounding. But experiments can be unethical or impractical in many cases. For example, researchers can't simply force smoking on groups of people. Establishing a link between smoking and lung cancer was done with survey data.- Survey data is often self-reported so it's ripe with biases. American Community Survey is one example of survey data. When using survey data, it's recommended to:\n",
    "    - use probability sampling when possible\n",
    "    - correct biases with weights\n",
    "    - apply techniques for missing data\n",
    "    - ensure survey's topical relevance\n",
    "    - invest time in understanding survey data complexity\n",
    "\n",
    "# Observables vs. unobservable causes\n",
    "- Variables can be observed in the data but some variables are unboserved, due to lack of measurement or the ability to measure. Personal motivation is something hard to measure for example. But unobserved variables can bias results so they're crucial in causal inference.\n",
    "- Endogeneity: occurs when an explanatory variable is correlated with the error term in a model. It can happen when a variable is left out of a regression model. Thinking about unobserved variables can guide researchers to using better causal techniques.\n",
    "- DAGs help one can better understand causal flow of models. We have to be careful about the presence of backdoor paths between the predictor of interest and the outcome variable.\n"
   ]
  },
  {
   "cell_type": "code",
   "execution_count": null,
   "metadata": {},
   "outputs": [],
   "source": [
    "# draw DAG with dustin's code"
   ]
  },
  {
   "cell_type": "code",
   "execution_count": 9,
   "metadata": {},
   "outputs": [],
   "source": [
    "# create a dataframe that holds the number and probability for each group\n",
    "n_obs = 200\n",
    "x2 = stats.norm.rvs(loc=0, scale=1, size=200)\n",
    "x1 = stats.norm.rvs(loc=0, scale=1, size=200) + x2\n",
    "y = x1 + x2\n",
    "\n",
    "model0 = sm.OLS(y, x1)\n",
    "model1 = sm.OLS(y, x1 + x2)\n",
    "\n",
    "results0 = model0.fit()\n",
    "results1 = model1.fit()"
   ]
  },
  {
   "cell_type": "code",
   "execution_count": 19,
   "metadata": {},
   "outputs": [
    {
     "data": {
      "text/plain": [
       "array([1.46420051])"
      ]
     },
     "execution_count": 19,
     "metadata": {},
     "output_type": "execute_result"
    }
   ],
   "source": [
    "# with x1 only gives a biased estimate\n",
    "results0.params"
   ]
  },
  {
   "cell_type": "code",
   "execution_count": 23,
   "metadata": {},
   "outputs": [
    {
     "data": {
      "text/plain": [
       "array([1.])"
      ]
     },
     "execution_count": 23,
     "metadata": {},
     "output_type": "execute_result"
    }
   ],
   "source": [
    "# including x2 recovers the right parameter given the data generating process\n",
    "results1.params"
   ]
  },
  {
   "cell_type": "markdown",
   "metadata": {},
   "source": [
    "But what if x2 is unobserved? Unfortunately the backdoor path cannot be closed. This is where basic regression analysis fails us. But this is where more advanced methods can help us in the case of unobserved confounds.\n",
    "\n",
    "<p style=\"text-align: center;font-weight:bold;\">DAGs and Methods</p>\n",
    "\n",
    "| Methodology | Controls for Unobserved Confounds | \n",
    "| ----- | ------- |\n",
    "| Regression analysis | No (controls for observed confounds only) | \n",
    "| Propensity score matching | No (controls for observed confounds only) | \n",
    "| Instrumental variables | Yes (if a valid instrument is used) | \n",
    "| Regression discontinuity designs | Partially (near the cutoff point) |\n",
    "| Regression with time effects  | Partially (for time-varying confounders) |\n",
    "| Fixed effects regression  | Yes (for time-invariant confounders within entities) |\n",
    "| Difference-in-Differences Models | Yes (if trends are parallel without  treatment) |\n",
    "| Synthetic control methods | Partially (for observed and unobserved pre-treatment confounders) |\n"
   ]
  },
  {
   "cell_type": "markdown",
   "metadata": {},
   "source": [
    "# What are treatment effects?\n",
    "\n",
    "- The causal literature has acronyms like ATE, ATT, LATE, CATE, etc.\n",
    "- They're called potential outcome notation\n",
    "- It can define the methodological approach and narrative of results\n",
    "- Essentially this is defining counterfactuals (parallel universes): a comparison between two states of the world.\n",
    "    - For example, imagine someone takes a pill and the outcome is measured. In a parallel world, they don't take it and the outcome is measured. The difference in outcomes is the treatment effect (the causal effect of the pill).\n",
    "- Of course, we can't have both states. But we can have different states of causality. This results in different kinds of treatment effects."
   ]
  },
  {
   "cell_type": "markdown",
   "metadata": {},
   "source": [
    "**Average Treatment Effect (ATE)**\n",
    "\n",
    "The average effect of the treatment across the entire population.\n",
    "$$ATE = E[Y^1_i - Y^0_i]$$\n",
    "where $Y^1$ is the outcome when treatment is given, $Y^0$ is the outcome when treatment is not given, $i$ is for individual, and $E$ is the expected, which means the effect is averaged out over all individuals.\n",
    "\n",
    "*Interpretation*: If you impose a treatment on everyone, then this is the change the average individual will see. But it literally means everyone and so if a drug is sex-specific, using the ATE wouldn't make sense."
   ]
  },
  {
   "cell_type": "markdown",
   "metadata": {},
   "source": [
    "**Average Treatment Effect on the Treated (ATT)**\n",
    "\n",
    "The average effect of the treatment for those treated.\n",
    "$$ ATT = E[Y^1_i - Y^0_i | \\text{Treated}=1 ] $$\n",
    "\n",
    "*Interpretation*: Shows effect of intervention only on those that received the intervention (treatment). ATT is usually different from ATE due to selection. (Unsure about $Y^0$ since by definition it shouldn't exist here?)\n",
    "\n",
    "Non-random treatment will likely lead to ATT and not ATE since people often self-select expecting benefits."
   ]
  },
  {
   "cell_type": "markdown",
   "metadata": {},
   "source": [
    "**Average Treatment Effect on the Untreated (ATU)**\n",
    "\n",
    "The average effect of the treatment for those in the control group.\n",
    "$$ ATU = E[Y^1_i - Y^0_i | \\text{Treated}=0 ] $$\n",
    "\n",
    "But this can't be estimated. It's still useful to think about what would have happened to those who were not reached by an intervention."
   ]
  },
  {
   "cell_type": "markdown",
   "metadata": {},
   "source": [
    "**Local Average Treatment Effect (LATE)**\n",
    "\n",
    "The average effect of the treatment for those who complied\n",
    "$$ LATE = E[Y^1_i - Y^0_i | \\text{Compliers}=1 ] $$\n",
    "Treatment conditions only received under certain conditons; conditions influenced by another \"instrumental variable\".\n",
    "Example: Study the impact of receiving a scholarship. The instrumental variable might be living in a particular region, LATE would measure the effect of the scholarship on just those students who received it due to their location. Many compliers means LATE approaches ATE. But few compliers limits external validity."
   ]
  },
  {
   "cell_type": "markdown",
   "metadata": {},
   "source": [
    "Conclusion\n",
    "- Understanding true effects in non-randomized settings (experiments approach ATE and ATT).\n",
    "- Advanced methods lead to different effects\n",
    "- Model selection matters!"
   ]
  },
  {
   "cell_type": "markdown",
   "metadata": {},
   "source": [
    "# An applied example: The Lalonde debate\n",
    "\n",
    "How different are nonexperimental methods compared to experimental methods? Focus of seminal study from Robert Lalonde in 1986.\n",
    "\n",
    "- National supported work program was temporary job training program in the mid-1970s.\n",
    "- It was designed to help people with temporary work experience.\n",
    "- But there was a randomized component! 50/50 chance of getting help or no help.\n",
    "\n",
    "Lalonde compared the randomzied experiment data with CPS and PSID surveys. The experimental data recovered the ATE. When looking at experimental data, there was a net positive in income suggesting the program worked. He got similar values using causal inference methods. However, survey data varied wildly. Depending on which one you choose can lead to very different policies.\n",
    "\n",
    "Conclusion\n",
    "- A wake-up call for economists!\n",
    "- Methods matter, and careful design must be given to causal studies.\n",
    "- This led to significant advances in methods and how to use surveys.\n",
    "\n"
   ]
  },
  {
   "cell_type": "code",
   "execution_count": 7,
   "metadata": {},
   "outputs": [
    {
     "name": "stdout",
     "output_type": "stream",
     "text": [
      "The watermark extension is already loaded. To reload it, use:\n",
      "  %reload_ext watermark\n",
      "Last updated: Thu May 09 2024\n",
      "\n",
      "Python implementation: CPython\n",
      "Python version       : 3.11.7\n",
      "IPython version      : 8.21.0\n",
      "\n",
      "seaborn    : 0.13.2\n",
      "statsmodels: 0.14.1\n",
      "scipy      : 1.12.0\n",
      "matplotlib : 3.8.2\n",
      "pandas     : 2.2.0\n",
      "numpy      : 1.25.2\n",
      "\n",
      "Watermark: 2.4.3\n",
      "\n"
     ]
    }
   ],
   "source": [
    "%load_ext watermark\n",
    "%watermark -n -u -v -iv -w"
   ]
  }
 ],
 "metadata": {
  "kernelspec": {
   "display_name": "Python 3 (ipykernel)",
   "language": "python",
   "name": "python3"
  },
  "language_info": {
   "codemirror_mode": {
    "name": "ipython",
    "version": 3
   },
   "file_extension": ".py",
   "mimetype": "text/x-python",
   "name": "python",
   "nbconvert_exporter": "python",
   "pygments_lexer": "ipython3",
   "version": "3.11.7"
  }
 },
 "nbformat": 4,
 "nbformat_minor": 4
}
