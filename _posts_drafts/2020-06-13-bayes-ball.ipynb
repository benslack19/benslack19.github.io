{
 "cells": [
  {
   "cell_type": "markdown",
   "metadata": {},
   "source": [
    "---\n",
    "title: Bayes-ball\n",
    "toc: true\n",
    "---"
   ]
  },
  {
   "cell_type": "markdown",
   "metadata": {},
   "source": [
    "[Bayes' theorem](https://en.wikipedia.org/wiki/Bayes%27_theorem) is one of the most useful applications in statistics. But sometimes it is not always easy to recognize when and how to apply it. I was doing some statistics problems with my Insight cohort when applying conditional probability in one, simpler problem helped me connect it with a slightly harder, baseball-related problem.\n",
    "\n",
    "In this post, I'll go over a couple of applications of Bayes!"
   ]
  },
  {
   "cell_type": "code",
   "execution_count": 56,
   "metadata": {
    "ExecuteTime": {
     "end_time": "2020-06-13T17:02:35.228154Z",
     "start_time": "2020-06-13T17:02:35.193621Z"
    }
   },
   "outputs": [],
   "source": [
    "# Load packages for coding examples\n",
    "import pandas as pd\n",
    "import numpy as np\n",
    "from scipy.stats import binom\n",
    "import matplotlib.pyplot as plt\n",
    "import seaborn as sns"
   ]
  },
  {
   "cell_type": "markdown",
   "metadata": {},
   "source": [
    "## Bertrand's box paradox"
   ]
  },
  {
   "cell_type": "markdown",
   "metadata": {},
   "source": [
    "The first problem came from my old [textbook](https://www.amazon.com/Chance-Encounters-Course-Analysis-Inference/dp/0471329363). The problem is [famous](https://media.giphy.com/media/l2SpKjO20hPyhr1fy/giphy.gif), but I'm apparently not with the in-crowd because I was not aware of it. It's called Bertrand's box paradox.\n",
    "\n",
    "A box contains three drawers: one containing two gold coins, one containing two silver coins, and one containing one gold and one silver coin. A drawer is chosen at random, and a coin is randomly selected from that drawer. If the selected coin turns out to be gold, what is the probability that the chosen drawer is the one with two gold coins?\n",
    "\n",
    "The drawers can be referred to like this:\n",
    "<br>\n",
    "Box A: G,G\n",
    "<br>\n",
    "Box B: S,S\n",
    "<br>\n",
    "Box C: G,S\n",
    "\n",
    "I'm going to show a few different approaches for the problems. One reason for this is that you can see how the answer can be confirmed. (Again, since this problem is well-known, you might find other explanations helpful, including on the [problem's entry in Wikipedia](https://en.wikipedia.org/wiki/Bertrand%27s_box_paradox).) But another reason is to point out some flaws in these other approaches, compared to how application of Bayes' theorem can be robust."
   ]
  },
  {
   "cell_type": "markdown",
   "metadata": {},
   "source": [
    "### \"Reasoning\" approach"
   ]
  },
  {
   "cell_type": "markdown",
   "metadata": {},
   "source": [
    "One way to approach this is to \"reason\" your way through the problem. Let's say that each of the boxes has two drawers. The problem can be re-framed as, \"If you randomly choose a box, and then find a gold coin in one of the drawers, what is the probability that the other will be a gold coin?\" You can eliminate box B (S,S). Many believe that since the coin must come from either box A or box C, there is a 50% chance that the gold coin must come from box A. However, this is not the correct answer (and also why it's referred to as a paradox). The right approach would be to consider that the selected gold coin is one of the following three gold coins:\n",
    "- gold coin 1 from box A\n",
    "- gold coin 2 from box A\n",
    "- gold coin 3 from box C\n",
    "<br>\n",
    "\n",
    "Therefore, it's a 2/3 probability that it comes from box A. While this approach may help you get an answer quickly, it relies on making the proper assumptions. But the correct suppositions are not always obvious without regular experience doing problems like this. Accordingly, the \"reasoning\" method must be applied with caution."
   ]
  },
  {
   "cell_type": "markdown",
   "metadata": {},
   "source": [
    "### Experimental simulation approach\n",
    "\n",
    "A second approach can be taking repeated trials through code and seeing where the answer converges. This would be an application of the [law of large numbers](https://en.wikipedia.org/wiki/Law_of_large_numbers). Here is some code where I first randomly choose one of the three boxes and then randomly choose one of the two coins in that box. (For box C, which contains a gold and silver coin, I assign drawer 1 as the gold coin and than randomly choose between drawers 1 and 2.)"
   ]
  },
  {
   "cell_type": "code",
   "execution_count": 66,
   "metadata": {
    "ExecuteTime": {
     "end_time": "2020-06-13T18:10:36.780434Z",
     "start_time": "2020-06-13T18:10:36.063065Z"
    }
   },
   "outputs": [],
   "source": [
    "# Code to run a lot of trials\n",
    "\n",
    "from collections import Counter\n",
    "import random\n",
    "\n",
    "boxes = [\"A\", \"B\", \"C\"]\n",
    "coin_side = [1, 2]  # Assume gold is on drawer 1 of Box C\n",
    "\n",
    "box_count = Counter()\n",
    "box_count_wgold = Counter()\n",
    "prob_A_list = list()\n",
    "\n",
    "for trial in range(10**5):\n",
    "    # Randomly pick a box\n",
    "    box = random.sample(boxes, 1)[0]\n",
    "    box_count[box] += 1\n",
    "\n",
    "    # Randomly pick coin after picking a box\n",
    "    if box == \"A\":\n",
    "        box_count_wgold[box] += 1  # we know it will always be gold for box A\n",
    "\n",
    "    elif box == \"C\":\n",
    "        side = random.sample(coin_side, 1)[0]  # assume gold is on drawer 1 of Box B\n",
    "        if side == 1:\n",
    "            box_count_wgold[box] += 1 \n",
    "            \n",
    "    # Ignore box B (silver, silver box)\n",
    "    \n",
    "    # This is calculating the probability after each trial, starting at trial 10\n",
    "    if trial > 10:\n",
    "        prob_A_list.append(box_count_wgold[\"A\"] / (box_count_wgold[\"A\"] + box_count_wgold[\"C\"]))"
   ]
  },
  {
   "cell_type": "code",
   "execution_count": 81,
   "metadata": {
    "ExecuteTime": {
     "end_time": "2020-06-14T02:14:35.728759Z",
     "start_time": "2020-06-14T02:14:34.707499Z"
    }
   },
   "outputs": [
    {
     "data": {
      "image/png": "[encoded data removed]",
      "text/plain": [
       "<Figure size 864x432 with 1 Axes>"
      ]
     },
     "metadata": {
      "needs_background": "light"
     },
     "output_type": "display_data"
    }
   ],
   "source": [
    "sns.set_context('talk')\n",
    "f, ax1 = plt.subplots(figsize=(12,6))\n",
    "ax1.plot(prob_A_list, color='gray')\n",
    "ax1.axhline(0.6667, color='r', linestyle='dashed', linewidth=1)\n",
    "ax1.set_xlabel('trial')\n",
    "ax1.set_ylabel('probability')\n",
    "ax1.set_title('Probability that gold is from box A \\n(updating after each trial)')\n",
    "ax1.text(35000, 0.675, 'red dashed line is at 0.667', color='r', fontsize=12);"
   ]
  },
  {
   "cell_type": "code",
   "execution_count": 68,
   "metadata": {
    "ExecuteTime": {
     "end_time": "2020-06-13T18:10:44.129498Z",
     "start_time": "2020-06-13T18:10:44.117511Z"
    }
   },
   "outputs": [
    {
     "name": "stdout",
     "output_type": "stream",
     "text": [
      "Probability after 100,000 trials: 0.6641\n"
     ]
    }
   ],
   "source": [
    "print(\"Probability after 100,000 trials: {0:0.4f}\".format((box_count_wgold[\"A\"] / (box_count_wgold[\"A\"] + box_count_wgold[\"C\"]))))"
   ]
  },
  {
   "cell_type": "markdown",
   "metadata": {},
   "source": [
    "One advantage of the simulation approach is that not many assumptions have to be made. One can simply use code to carry out the parameters of the problem repeatedly. However, as you can see, even after 100,000 trials, [we don't get 2/3 exactly](https://media.giphy.com/media/Fjr6v88OPk7U4/giphy.gif). Bayes to the rescue!"
   ]
  },
  {
   "cell_type": "markdown",
   "metadata": {},
   "source": [
    "### Bayesian approach"
   ]
  },
  {
   "cell_type": "markdown",
   "metadata": {},
   "source": [
    "Let's remind ourselves how Bayes' theorem uses conditional probability.\n",
    "\n",
    "$\\text{P}(A|B) = \\frac{\\text{P}(B|A)\\text{P}(A)}{\\text{P}(B)}$\n",
    "\n",
    "Huh? Let's translate the terms into words.\n",
    "\n",
    "$\\text{P}(A|B)$ = The probability of event A occurring given that B is true. The left side of the equation is what we are trying to find. \n",
    "\n",
    "The entire right side of the equation is information that we are given (although we have to make sure we put in the right numbers).\n",
    "\n",
    "$\\text{P}(B|A)$ = The probability of event B occurring given that A is true. This is *not* equivalent to the left side of the equation.\n",
    "<br>\n",
    "$\\text{P}(A)$ = The probability of event A occurring, regardless of conditions.\n",
    "<br>\n",
    "$\\text{P}(B)$ = The probability of event B occurring, regardless of conditions."
   ]
  },
  {
   "cell_type": "markdown",
   "metadata": {},
   "source": [
    "Another way of stating the problem is asking \"What is the probability that the box chosen is A, given that you have also selected a gold coin?\" Substituting the words in to Bayes' theorem would give us something like this:\n",
    "\n",
    "$\\text{P}(\\text{box A} | \\text{gold coin}) = \\frac{\\text{P}(\\text{gold coin} | \\text{box A})\\text{P}(\\text{box A})}{\\text{P}(\\text{gold coin})}$\n",
    "\n",
    "The entire right side of the equation is information that we are given. The parameters in the numerator are the easiest for which we can plug in numbers.\n",
    "\n",
    "We know that there is 100% probability of picking a gold coin if we choose box A.\n",
    "<br>\n",
    "$\\text{P}(\\text{gold coin} | \\text{box A})$ = 1\n",
    "\n",
    "We are choosing box A randomly out of the 3 boxes.\n",
    "<br>\n",
    "$\\text{P}(\\text{box A})$ = 1/3   "
   ]
  },
  {
   "cell_type": "markdown",
   "metadata": {},
   "source": [
    "The denominator ($\\text{P}(\\text{gold coin}$) might require a closer look. The probability of choosing a gold coin, independent of any other condition, is the sum of the probability of choosing a gold coin in the three boxes.\n",
    "\n",
    "$\\text{P}(\\text{gold coin})$ = $\\text{P}(\\text{gold coin} | \\text{box A})$ + $\\text{P}(\\text{gold coin} | \\text{box B})$ + $\\text{P}(\\text{gold coin} | \\text{box C})$\n",
    "\n",
    "$\\text{P}(\\text{gold coin})$ = $1 \\times \\frac{1}{3} + 0 \\times \\frac{1}{3} + \\frac{1}{2} \\times \\frac{1}{3}$\n",
    "\n",
    "$\\text{P}(\\text{gold coin})$ = $\\frac{1}{2}$"
   ]
  },
  {
   "cell_type": "markdown",
   "metadata": {
    "ExecuteTime": {
     "end_time": "2020-06-13T20:44:26.568918Z",
     "start_time": "2020-06-13T20:44:26.411702Z"
    }
   },
   "source": [
    "Therefore,\n",
    "\n",
    "$\\text{P}(\\text{box A} | \\text{gold coin}) = \\frac{1 \\times \\frac{1}{3}}{\\frac{1}{2}} = \\frac{2}{3} $"
   ]
  },
  {
   "cell_type": "markdown",
   "metadata": {},
   "source": [
    "Awesome. This is how we apply Bayesian statistics in this problem. Let's level up and try a problem that is a little more complicated, using a baseball scenario as an example."
   ]
  },
  {
   "cell_type": "markdown",
   "metadata": {},
   "source": [
    "## Bayes-ball"
   ]
  },
  {
   "cell_type": "markdown",
   "metadata": {},
   "source": [
    "Let's imagine that there are only two types of hitters in MLB, those with a true talent 10% hit rate and those with a true talent 25% hit rate. We also know that 60% of MLB hitters are in the 10% hit rate group and the remaining 40% are in the 25% hit rate group. Suppose we have observed a hitter, Bobby Aguila, over 100 plate appearances and he has hit at an 18% rate. What is the probability that Aguila has a true talent level of 10% hit rate?"
   ]
  },
  {
   "cell_type": "markdown",
   "metadata": {},
   "source": [
    "Bayes' theorem can be applied here but it may take a little more digging to see it. Let's create some notations before we get started.\n",
    "\n",
    "T10 = true talent 10% hit group\n",
    "<br>\n",
    "T25 = true talent 25% hit group\n",
    "<br>\n",
    "18H = 18 hits in 100 at-bats\n",
    "\n",
    "The original question could be phrased as \"What is the probability that Aguila has a true talent level of 10% hit rate, given that he has 18 hits in 100 at-bats?\"\n",
    "\n",
    "In Bayes' theorem, we can therefore structure our equation like this:\n",
    "\n",
    "$\\text{P}(\\text{T10} | \\text{18H}) = \\frac{\\text{P}(\\text{18H} | \\text{T10})\\text{P}(\\text{T10})}{\\text{P}(\\text{18H})}$\n"
   ]
  },
  {
   "cell_type": "markdown",
   "metadata": {
    "ExecuteTime": {
     "end_time": "2020-06-14T02:35:19.413401Z",
     "start_time": "2020-06-14T02:35:19.390846Z"
    }
   },
   "source": [
    "### Connecting with Bertrand's box paradox"
   ]
  },
  {
   "cell_type": "markdown",
   "metadata": {},
   "source": [
    "The easiest parameters to plug in is the probability that the hitter, in the absence of any condition (without knowing anything else), is from the T10 group. We were given that explicitly in the problem:\n",
    "\n",
    "$\\text{P}(\\text{T10})$ = 0.60\n",
    "\n",
    "Note that this is analogous to $\\text{P}(\\text{box A})$ in Bertrand's box problem. In that problem, we knew the value implicitly ($\\frac{1}{3}$) since the drawer was chosen at random."
   ]
  },
  {
   "cell_type": "markdown",
   "metadata": {
    "ExecuteTime": {
     "end_time": "2020-06-13T21:15:38.890708Z",
     "start_time": "2020-06-13T21:15:38.814633Z"
    }
   },
   "source": [
    "The other parameters of the baseball question are less obvious to determine, but we can get some clues after  translating back to words. Let's start with $\\text{P}(\\text{18H})$. This is equivalent to ${\\text{P}(\\text{gold coin})}$ in Bertrand's box paradox. In the box problem, we broke this down by summing up the probabilities for a gold coin for each drawer. Here, we would sum up the probabilities of a hitter getting 18 hits in 100 at-bats if he is in the T10 group and in the T25 group.\n",
    "\n",
    "${\\text{P}(\\text{18H})}$ = $\\text{P}(\\text{18H} | \\text{T10})$ + $\\text{P}(\\text{18H} | \\text{T25})$\n",
    "\n",
    "$\\text{P}(\\text{18H} | \\text{T10})$ is asking \"What is the probability of getting 18 hits in 100 at-bats, given that they have a true talent level of 10% hit rate?\" $\\text{P}(\\text{18H} | \\text{T25})$ is basically the same question but for the T25 group. Here is where we need to recognize that this is an application of the [binomial distribution](https://www.khanacademy.org/math/ap-statistics/random-variables-ap/binomial-random-variable/a/binomial-probability-basic). Let's digress briefly."
   ]
  },
  {
   "cell_type": "markdown",
   "metadata": {},
   "source": [
    "### Application of the binomial distribution"
   ]
  },
  {
   "cell_type": "markdown",
   "metadata": {},
   "source": [
    "This problem fits the binomial assumptions:\n",
    "1. **Two outcomes**: For each plate appearance, we care that he is getting a hit (1) or no hit (0).\n",
    "2. **Constant p**: The probability *p* getting a success has the same value, for each trial. This would be 0.10 for the group that has a 10% hit rate true talent level and 0.25 for the T25 group.\n",
    "3. **Independence**: This is the one assumption that may be potentially violated since a hitter's confidence may fluctuate based on recent performance. However, in this situation I think it is okay to assume at-bats are largely independent of each other."
   ]
  },
  {
   "cell_type": "markdown",
   "metadata": {},
   "source": [
    "The probability mass function is:\n",
    "$\\text{P}(X = k) = \\binom n k p^k(1-p)^{n-k}$\n",
    "\n",
    "where:\n",
    "$\\binom n k = \\frac{n!}{(n-k)!k!}$ (the binomial coefficient)."
   ]
  },
  {
   "cell_type": "markdown",
   "metadata": {},
   "source": [
    "In this problem, k = 18 and n = 100. And as mentioned above, the T10 group has p = 0.10 while T25 has p of 0.25. We can start plugging values in. However, this visual may also help see what is going on."
   ]
  },
  {
   "cell_type": "code",
   "execution_count": 105,
   "metadata": {
    "ExecuteTime": {
     "end_time": "2020-06-14T02:21:46.756382Z",
     "start_time": "2020-06-14T02:21:46.503685Z"
    }
   },
   "outputs": [
    {
     "data": {
      "image/png": "[encoded data removed]",
      "text/plain": [
       "<Figure size 864x432 with 1 Axes>"
      ]
     },
     "metadata": {
      "needs_background": "light"
     },
     "output_type": "display_data"
    }
   ],
   "source": [
    "from scipy.stats import binom\n",
    "\n",
    "# T10 group\n",
    "n, p = 100, 0.1\n",
    "fig, ax = plt.subplots(1, 1, figsize=(12, 6))\n",
    "rv = binom(n, p)\n",
    "x = np.arange(0, 45)\n",
    "ax.vlines(x, 0, rv.pmf(x), colors=\"k\", linestyles=\"-\", lw=2, label=\"T10\")\n",
    "\n",
    "# T25 group\n",
    "n25, p25 = 100, 0.25\n",
    "rv25 = binom(n25, p25)\n",
    "x25 = np.arange(0, 45)\n",
    "ax.vlines(x25 + 0.2, 0, rv25.pmf(x25), colors=\"r\", linestyles=\"-\", lw=2, label=\"T25\")\n",
    "\n",
    "# Formatting\n",
    "ax.set_ylabel(\"probability\")\n",
    "ax.set_xlabel(\"number of hits\")\n",
    "ax.set_title(\"Probability distribution after 100 plate appearances\")\n",
    "\n",
    "# Box around 18 hits\n",
    "ax.text(16.5, 0.04, '18 hits', color='b', fontsize=12);\n",
    "ax.vlines(17.6, -0.0025, 0.035, colors=\"blue\", linestyles=\"-\", lw=1)\n",
    "ax.vlines(18.6, -0.0025, 0.035, colors=\"blue\", linestyles=\"-\", lw=1)\n",
    "ax.hlines(0.035, 17.6, 18.6, colors=\"blue\", linestyles=\"-\", lw=1)\n",
    "ax.hlines(-0.0025, 17.6, 18.6, colors=\"blue\", linestyles=\"-\", lw=1)\n",
    "ax.legend();"
   ]
  },
  {
   "cell_type": "markdown",
   "metadata": {},
   "source": [
    "We can see that each true talent level group has its own probability distribution for different hits a hitter would get in 100 at-bats. Not surprisingly, the number of hits containing the highest probability for the respective groups are its true talent hit rate for 100 at-bats. In other words, we see 10 hits as being most probable in the T10 group and 25 hits as most probable in the T25 group.\n",
    "\n",
    "Another observation you might make is that the T10 group has a tighter variance than the T25 group. This is a property of the binomial distribution, where variance is equal to $np \\times (1-p)$. You can see that proportions that are closer to 0 or closer to 1, will have less variance than a proportion closer to the middle. (The Bernoulli distribution, which is just one trial of a binomial distribution, shows a similar property, something I wrote about in a [previous post](\n",
    "https://benslack19.github.io/The-Bernoulli-distribution/#understanding-the-relationship-between-probability-and-variance).)"
   ]
  },
  {
   "cell_type": "markdown",
   "metadata": {},
   "source": [
    "The height of the black and red lines at 18 hits should add up to 1, but weighted by what we know about the two groups of baseball hitters (our \"priors\"). If we were to use the graph above, the probability of getting 18 hits in 100 at-bats, given that they have a true talent level of 10% hit rate would be:\n",
    "<br>\n",
    "\n",
    "$\\text{P}(\\text{T10} | \\text{18H}) = \\frac{\\text{height of black line at 18 hits} \\times 0.6}{\\text{height of black line at 18 hits} \\times 0.6 + \\text{height of red line at 18 hits} \\times 0.4}$"
   ]
  },
  {
   "cell_type": "markdown",
   "metadata": {},
   "source": [
    "### Putting it all together"
   ]
  },
  {
   "cell_type": "markdown",
   "metadata": {},
   "source": [
    "Let's return to the parameters of the Bayes' theorem equation and start bringing the pieces together.\n",
    "\n",
    "${\\text{P}(\\text{18H})}$ = $\\text{P}(\\text{18H} | \\text{T10})$ + $\\text{P}(\\text{18H} | \\text{T25})$\n",
    "\n",
    "We can apply the probability mass function starting first with the T10 group. (Note that we can ignore calculation of the binomial coefficient since this will cancel out in the final equation. I'll use the term $\\propto$ to represent \"in proportion to.\" in the equations below.)\n",
    "\n",
    "$\\text{P}(\\text{18H} | \\text{T10}) \\propto (0.1^{18} \\times 0.9^{82}) $\n",
    "\n",
    "$\\text{P}(\\text{18H} | \\text{T25}) \\propto (0.25^{18} \\times 0.75^{82}) $\n",
    "\n",
    "We now have everything we need to plug into our equation.\n",
    "\n",
    "\n",
    "$\\text{P}(\\text{T10} | \\text{18H}) = \\frac{\\text{P}(\\text{18H} | \\text{T10})\\text{P}(\\text{T10})}{\\text{P}(\\text{18H})}$\n",
    "\n",
    "$\\text{P}(\\text{T10} | \\text{18H}) = \\frac{(0.1^{18} \\times 0.9^{82}) \\times 0.6}{(0.1^{18} \\times 0.9^{82}) \\times 0.6 + (0.25^{18} \\times 0.75^{82}) \\times 0.4} $\n",
    "\n",
    "\n",
    "After all that math, we have (drumroll) $\\text{P}(\\text{T10} | \\text{18H}) = 0.243$.\n",
    "\n",
    "Therefore, there is 24.3% probability that Aguila has a true talent level of a 10% hit rate.\n"
   ]
  },
  {
   "cell_type": "markdown",
   "metadata": {},
   "source": [
    "The baseball example is also the diachronic interpretation** of Bayes' theorem, which is a fancy way of saying that the hypothesis can be updated with time (in this case, after 100 plate appearances)."
   ]
  }
 ],
 "metadata": {
  "kernelspec": {
   "display_name": "Python 3",
   "language": "python",
   "name": "python3"
  },
  "language_info": {
   "codemirror_mode": {
    "name": "ipython",
    "version": 3
   },
   "file_extension": ".py",
   "mimetype": "text/x-python",
   "name": "python",
   "nbconvert_exporter": "python",
   "pygments_lexer": "ipython3",
   "version": "3.6.9"
  },
  "toc": {
   "base_numbering": 1,
   "nav_menu": {},
   "number_sections": true,
   "sideBar": true,
   "skip_h1_title": false,
   "title_cell": "Table of Contents",
   "title_sidebar": "Contents",
   "toc_cell": false,
   "toc_position": {
    "height": "calc(100% - 180px)",
    "left": "10px",
    "top": "150px",
    "width": "204.4px"
   },
   "toc_section_display": "block",
   "toc_window_display": true
  },
  "varInspector": {
   "cols": {
    "lenName": 16,
    "lenType": 16,
    "lenVar": 40
   },
   "kernels_config": {
    "python": {
     "delete_cmd_postfix": "",
     "delete_cmd_prefix": "del ",
     "library": "var_list.py",
     "varRefreshCmd": "print(var_dic_list())"
    },
    "r": {
     "delete_cmd_postfix": ") ",
     "delete_cmd_prefix": "rm(",
     "library": "var_list.r",
     "varRefreshCmd": "cat(var_dic_list()) "
    }
   },
   "types_to_exclude": [
    "module",
    "function",
    "builtin_function_or_method",
    "instance",
    "_Feature"
   ],
   "window_display": false
  }
 },
 "nbformat": 4,
 "nbformat_minor": 2
}
