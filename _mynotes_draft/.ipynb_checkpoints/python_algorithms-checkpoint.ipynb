{
 "cells": [
  {
   "cell_type": "markdown",
   "metadata": {},
   "source": [
    "**Python algorithms**\n",
    "\n",
    "Resources:\n",
    "\n",
    " - [MIT Introduction to Algorithms](https://ocw.mit.edu/courses/electrical-engineering-and-computer-science/6-046j-introduction-to-algorithms-sma-5503-fall-2005/)\n",
    " - [PDF notes from MIT class](https://ocw.mit.edu/courses/electrical-engineering-and-computer-science/6-046j-introduction-to-algorithms-sma-5503-fall-2005/video-lectures/lecture-1-administrivia-introduction-analysis-of-algorithms-insertion-sort-mergesort/lec1.pdf)\n",
    " - [Runestone course (notes below follow this course)](https://runestone.academy/runestone/books/published/pythonds/Introduction/GettingStartedwithData.html)\n",
    " \n",
    "- Objective is to cover this in 6 weeks (Nov 3 - Dec 22, account for Thanksgiving)\n",
    "- There are 112 subsections in sections 1-7:\n",
    "    - Cover 19 sections per week or about 4 per day (M-F)\n",
    "    - Move quickly through sections 1-2 (try to do 6 per day)\n",
    "    - Generally prioritize sections 3-7\n",
    "- Only included subsections where notes are needed\n",
    "\n",
    "Goals:\n",
    "- By week 1 (11/8): finish sections 1 and 2\n",
    "- By week 2 (11/15): finish section 3\n",
    "- By week 3 (11/22): finish half of section 4\n",
    "- By week 4 (11/29): finish section 4\n",
    "- By week 5 (12/6): finish section 5\n",
    "- By week 6 (12/13): finish section 6, start section 7\n",
    "- By week 7 (12/20): finish section 7\n",
    "\n",
    "Log:\n",
    "\n",
    "- 11/6/19: halfway through section 1.13\n"
   ]
  },
  {
   "cell_type": "markdown",
   "metadata": {},
   "source": [
    "# Introduction\n",
    "\n",
    "17 subsections (try to go quickly; come back to it if needed)\n"
   ]
  },
  {
   "cell_type": "markdown",
   "metadata": {},
   "source": [
    "**1.8. Getting Started with Data**\n",
    "\n",
    "Nice overview of methods for lists, dictionaries, sets\n",
    "https://runestone.academy/runestone/books/published/pythonds/Introduction/GettingStartedwithData.html"
   ]
  },
  {
   "cell_type": "markdown",
   "metadata": {},
   "source": [
    "**1.9. Input and Output**\n",
    "\n",
    "Helpful notes for string formatting (such as with % operator)\n",
    "https://runestone.academy/runestone/books/published/pythonds/Introduction/InputandOutput.html"
   ]
  },
  {
   "cell_type": "markdown",
   "metadata": {},
   "source": [
    "**1.13. Object-Oriented Programming in Python: Defining Classes**\n",
    "\n",
    "Helpful for me to go over\n",
    "https://runestone.academy/runestone/books/published/pythonds/Introduction/ObjectOrientedProgramminginPythonDefiningClasses.html\n",
    "\n",
    "\n",
    " - We use abstract data types to provide the logical description of what a data object looks like (its state) and what it can do (its methods).\n",
    " - An object is an instance of a class"
   ]
  },
  {
   "cell_type": "code",
   "execution_count": 5,
   "metadata": {},
   "outputs": [],
   "source": [
    "# Example of creating a class\n",
    "\n",
    "class Fraction:    \n",
    "    # Constructor method (all classes have this) - it defines the way in which data objects are created\n",
    "    # The self is always there, it references back to the object itself\n",
    "    def __init__(self,top,bottom):\n",
    "        # The numerator and denominator represent \"state\" data\n",
    "        # This provides the fraction object its starting value\n",
    "        self.num = top\n",
    "        self.den = bottom\n",
    "        "
   ]
  },
  {
   "cell_type": "code",
   "execution_count": 7,
   "metadata": {},
   "outputs": [
    {
     "data": {
      "text/plain": [
       "<__main__.Fraction at 0x10c8c5d30>"
      ]
     },
     "execution_count": 7,
     "metadata": {},
     "output_type": "execute_result"
    }
   ],
   "source": [
    "# Create an instance of the class\n",
    "myfraction = Fraction(3,5)\n",
    "myfraction"
   ]
  },
  {
   "cell_type": "code",
   "execution_count": 27,
   "metadata": {},
   "outputs": [],
   "source": [
    "# Example of creating a class and then adding a method to display it\n",
    "\n",
    "class Fraction:    \n",
    "    # Constructor method (all classes have this) - it defines the way in which data objects are created\n",
    "    # The self is always there, it references back to the object itself\n",
    "    def __init__(self,top,bottom):\n",
    "        # The numerator and denominator represent \"state\" data\n",
    "        # This provides the fraction object its starting value\n",
    "        self.num = top\n",
    "        self.den = bottom\n",
    "        \n",
    "    def show(self):\n",
    "        print(str(self.num) + '/' + str(self.den))"
   ]
  },
  {
   "cell_type": "code",
   "execution_count": null,
   "metadata": {},
   "outputs": [],
   "source": []
  },
  {
   "cell_type": "code",
   "execution_count": 45,
   "metadata": {},
   "outputs": [],
   "source": [
    "# note something is wrong below but above gives me a basic idea of what's going on"
   ]
  },
  {
   "cell_type": "code",
   "execution_count": 26,
   "metadata": {},
   "outputs": [
    {
     "name": "stdout",
     "output_type": "stream",
     "text": [
      "<__main__.Fraction object at 0x10c949080>\n",
      "3 / 5\n",
      "None\n"
     ]
    }
   ],
   "source": [
    "# Create an instance of the class\n",
    "myfraction = Fraction(3,5)\n",
    "print(myfraction)\n",
    "print(myfraction.show())"
   ]
  },
  {
   "cell_type": "code",
   "execution_count": 43,
   "metadata": {},
   "outputs": [],
   "source": [
    "# Including a multiplication of fractions function\n",
    "\n",
    "def gcd(m,n):\n",
    "    while m%n != 0:\n",
    "        oldm = m\n",
    "        oldn = n\n",
    "\n",
    "        m = oldn\n",
    "        n = oldm%oldn\n",
    "    return n\n",
    "\n",
    "class Fraction:    \n",
    "    # Constructor method (all classes have this) - it defines the way in which data objects are created\n",
    "    # The self is always there, it references back to the object itself\n",
    "    def __init__(self,top,bottom):\n",
    "        # The numerator and denominator represent \"state\" data\n",
    "        # This provides the fraction object its starting value\n",
    "        self.num = top\n",
    "        self.den = bottom\n",
    "        \n",
    "    def __str__(self):\n",
    "         return str(self.num)+\"/\"+str(self.den)\n",
    "\n",
    "    def show(self):\n",
    "         print(self.num,\"/\",self.den)\n",
    "\n",
    "    def __add__(self,otherfraction):\n",
    "        newnum = self.num*otherfraction.den + \\\n",
    "                      self.den*otherfraction.num\n",
    "        newden = self.den * otherfraction.den\n",
    "        common = gcd(newnum,newden)\n",
    "        # Note return line here\n",
    "        return Fraction(newnum//common,newden//common)\n"
   ]
  },
  {
   "cell_type": "code",
   "execution_count": 44,
   "metadata": {},
   "outputs": [
    {
     "ename": "TypeError",
     "evalue": "unsupported operand type(s) for *: 'Fraction' and 'Fraction'",
     "output_type": "error",
     "traceback": [
      "\u001b[0;31m---------------------------------------------------------------------------\u001b[0m",
      "\u001b[0;31mTypeError\u001b[0m                                 Traceback (most recent call last)",
      "\u001b[0;32m<ipython-input-44-4d5a8be470eb>\u001b[0m in \u001b[0;36m<module>\u001b[0;34m()\u001b[0m\n\u001b[1;32m      1\u001b[0m \u001b[0mf1\u001b[0m \u001b[0;34m=\u001b[0m \u001b[0mFraction\u001b[0m\u001b[0;34m(\u001b[0m\u001b[0;36m3\u001b[0m\u001b[0;34m,\u001b[0m\u001b[0;36m5\u001b[0m\u001b[0;34m)\u001b[0m\u001b[0;34m\u001b[0m\u001b[0m\n\u001b[1;32m      2\u001b[0m \u001b[0mf2\u001b[0m \u001b[0;34m=\u001b[0m \u001b[0mFraction\u001b[0m\u001b[0;34m(\u001b[0m\u001b[0;36m1\u001b[0m\u001b[0;34m,\u001b[0m\u001b[0;36m2\u001b[0m\u001b[0;34m)\u001b[0m\u001b[0;34m\u001b[0m\u001b[0m\n\u001b[0;32m----> 3\u001b[0;31m \u001b[0mf3\u001b[0m \u001b[0;34m=\u001b[0m \u001b[0mf1\u001b[0m\u001b[0;34m*\u001b[0m\u001b[0mf2\u001b[0m\u001b[0;34m\u001b[0m\u001b[0m\n\u001b[0m\u001b[1;32m      4\u001b[0m \u001b[0mprint\u001b[0m\u001b[0;34m(\u001b[0m\u001b[0mf3\u001b[0m\u001b[0;34m)\u001b[0m\u001b[0;34m\u001b[0m\u001b[0m\n",
      "\u001b[0;31mTypeError\u001b[0m: unsupported operand type(s) for *: 'Fraction' and 'Fraction'"
     ]
    }
   ],
   "source": [
    "f1 = Fraction(3,5)\n",
    "f2 = Fraction(1,2)\n",
    "f3 = f1*f2\n",
    "print(f3)"
   ]
  },
  {
   "cell_type": "markdown",
   "metadata": {},
   "source": [
    "# A Proper Class\n",
    "\n",
    "2 subsections"
   ]
  },
  {
   "cell_type": "code",
   "execution_count": null,
   "metadata": {},
   "outputs": [],
   "source": []
  },
  {
   "cell_type": "markdown",
   "metadata": {},
   "source": [
    "# Analysis\n",
    "\n",
    "11 subsections (goes over Big-O)"
   ]
  },
  {
   "cell_type": "code",
   "execution_count": null,
   "metadata": {},
   "outputs": [],
   "source": []
  },
  {
   "cell_type": "markdown",
   "metadata": {},
   "source": [
    "# Basic Data Structures\n",
    "\n",
    "27 subsections (goes over stacks)"
   ]
  },
  {
   "cell_type": "code",
   "execution_count": null,
   "metadata": {},
   "outputs": [],
   "source": []
  },
  {
   "cell_type": "markdown",
   "metadata": {},
   "source": [
    "# Recursion\n",
    "\n",
    "17 subsections"
   ]
  },
  {
   "cell_type": "code",
   "execution_count": null,
   "metadata": {},
   "outputs": [],
   "source": []
  },
  {
   "cell_type": "markdown",
   "metadata": {},
   "source": [
    "# Sorting and Searching\n",
    "\n",
    "16 subsections"
   ]
  },
  {
   "cell_type": "code",
   "execution_count": null,
   "metadata": {},
   "outputs": [],
   "source": []
  },
  {
   "cell_type": "markdown",
   "metadata": {},
   "source": [
    "# Trees and Tree Algorithms\n",
    "\n",
    "22 subsections"
   ]
  },
  {
   "cell_type": "code",
   "execution_count": null,
   "metadata": {},
   "outputs": [],
   "source": []
  },
  {
   "cell_type": "markdown",
   "metadata": {},
   "source": [
    "# Graphs and Graph Algorithms\n",
    "\n",
    "26 subsections (probably won't get to this)"
   ]
  },
  {
   "cell_type": "code",
   "execution_count": null,
   "metadata": {},
   "outputs": [],
   "source": []
  }
 ],
 "metadata": {
  "kernelspec": {
   "display_name": "Python 3",
   "language": "python",
   "name": "python3"
  },
  "language_info": {
   "codemirror_mode": {
    "name": "ipython",
    "version": 3
   },
   "file_extension": ".py",
   "mimetype": "text/x-python",
   "name": "python",
   "nbconvert_exporter": "python",
   "pygments_lexer": "ipython3",
   "version": "3.5.5"
  },
  "toc": {
   "nav_menu": {},
   "number_sections": true,
   "sideBar": true,
   "skip_h1_title": false,
   "toc_cell": false,
   "toc_position": {},
   "toc_section_display": "block",
   "toc_window_display": true
  },
  "varInspector": {
   "cols": {
    "lenName": 16,
    "lenType": 16,
    "lenVar": 40
   },
   "kernels_config": {
    "python": {
     "delete_cmd_postfix": "",
     "delete_cmd_prefix": "del ",
     "library": "var_list.py",
     "varRefreshCmd": "print(var_dic_list())"
    },
    "r": {
     "delete_cmd_postfix": ") ",
     "delete_cmd_prefix": "rm(",
     "library": "var_list.r",
     "varRefreshCmd": "cat(var_dic_list()) "
    }
   },
   "types_to_exclude": [
    "module",
    "function",
    "builtin_function_or_method",
    "instance",
    "_Feature"
   ],
   "window_display": false
  }
 },
 "nbformat": 4,
 "nbformat_minor": 2
}
